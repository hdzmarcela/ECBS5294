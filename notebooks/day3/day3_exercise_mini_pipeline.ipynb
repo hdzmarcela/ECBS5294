{
 "cells": [
  {
   "cell_type": "markdown",
   "id": "07633d55",
   "metadata": {},
   "source": [
    "# Day 3 In-Class Exercise: Mini-Pipeline\n",
    "\n",
    "**Time:** 15 minutes\n",
    "**Grading:** Completion-based (5% of course grade)\n",
    "**Goal:** Build a 3-stage pipeline with validations\n",
    "\n",
    "---\n",
    "\n",
    "## Your Mission\n",
    "\n",
    "Build a data pipeline using the mini Olist dataset:\n",
    "1. **Bronze:** Load raw CSV files\n",
    "2. **Silver:** Clean, validate (write 2 assertions)\n",
    "3. **Gold:** Create 2-3 summary metrics\n",
    "4. **Document:** Write a risk note (assumptions & limitations)\n",
    "\n",
    "**Dataset:** `../../data/day3/exercise/`\n",
    "- `mini_orders.csv` (500 orders)\n",
    "- `mini_customers.csv` (500 customers)\n",
    "- `mini_order_items.csv` (~540 items)\n",
    "\n",
    "---\n",
    "\n",
    "## Submission\n",
    "\n",
    "- Complete all TODOs\n",
    "- Ensure notebook runs end-to-end (Restart & Run All)\n",
    "- Submit on Moodle by end of class\n",
    "\n",
    "**Let's build!** 🚀\n",
    "\n",
    "---"
   ]
  },
  {
   "cell_type": "code",
   "execution_count": null,
   "id": "14757a7b",
   "metadata": {
    "execution": {
     "iopub.execute_input": "2025-10-20T16:45:27.284153Z",
     "iopub.status.busy": "2025-10-20T16:45:27.283790Z",
     "iopub.status.idle": "2025-10-20T16:45:27.541475Z",
     "shell.execute_reply": "2025-10-20T16:45:27.540938Z"
    }
   },
   "outputs": [],
   "source": [
    "# Setup (PROVIDED - don't modify)\n",
    "import pandas as pd\n",
    "import duckdb\n",
    "from IPython.display import display\n",
    "import warnings\n",
    "warnings.filterwarnings('ignore')\n",
    "\n",
    "con = duckdb.connect(':memory:')\n",
    "print(\"✅ Setup complete\")"
   ]
  },
  {
   "cell_type": "markdown",
   "id": "6a704544",
   "metadata": {},
   "source": [
    "---\n",
    "\n",
    "## Part 1: Bronze Layer (3 min)\n",
    "\n",
    "**TODO:** Load the three CSV files into bronze tables.\n",
    "\n",
    "**Requirements:**\n",
    "- Load exactly as-is (no transformations)\n",
    "- Name tables: `bronze_orders`, `bronze_customers`, `bronze_items`\n",
    "- Verify row counts match files"
   ]
  },
  {
   "cell_type": "code",
   "execution_count": null,
   "id": "2d3f3c2c",
   "metadata": {
    "execution": {
     "iopub.execute_input": "2025-10-20T16:45:27.543778Z",
     "iopub.status.busy": "2025-10-20T16:45:27.543569Z",
     "iopub.status.idle": "2025-10-20T16:45:27.546431Z",
     "shell.execute_reply": "2025-10-20T16:45:27.545697Z"
    }
   },
   "outputs": [],
   "source": [
    "# TODO: Load bronze layer\n",
    "\n",
    "# Load orders\n",
    "\n",
    "\n",
    "# Load customers\n",
    "\n",
    "\n",
    "# Load order items\n",
    "\n",
    "\n",
    "# Verify (print row counts)\n",
    "print(\"Bronze layer loaded:\")\n",
    "# TODO: Print counts"
   ]
  },
  {
   "cell_type": "markdown",
   "id": "538f4ddf",
   "metadata": {},
   "source": [
    "---\n",
    "\n",
    "## Part 2: Silver Layer - Cleaning (5 min)\n",
    "\n",
    "**TODO:** Create clean, typed silver tables.\n",
    "\n",
    "**Requirements:**\n",
    "- Fix date types (use TRY_CAST for timestamps)\n",
    "- Cast price/freight to DOUBLE\n",
    "- Remove rows with NULL in critical fields (order_id, customer_id)\n",
    "- Name tables: `silver_orders`, `silver_customers`, `silver_items`"
   ]
  },
  {
   "cell_type": "code",
   "execution_count": null,
   "id": "353fc5a3",
   "metadata": {
    "execution": {
     "iopub.execute_input": "2025-10-20T16:45:27.548294Z",
     "iopub.status.busy": "2025-10-20T16:45:27.548135Z",
     "iopub.status.idle": "2025-10-20T16:45:27.635588Z",
     "shell.execute_reply": "2025-10-20T16:45:27.635325Z"
    }
   },
   "outputs": [],
   "source": [
    "# TODO: Create silver tables\n",
    "\n",
    "# Clean orders\n",
    "con.execute(\"\"\"\n",
    "    CREATE TABLE silver_orders AS\n",
    "    SELECT\n",
    "        -- TODO: Select and cast columns\n",
    "        -- Hint: TRY_CAST(order_purchase_timestamp AS TIMESTAMP)\n",
    "    FROM bronze_orders\n",
    "    WHERE order_id IS NOT NULL\n",
    "\"\"\")\n",
    "\n",
    "# Clean customers\n",
    "con.execute(\"\"\"\n",
    "    CREATE TABLE silver_customers AS\n",
    "    SELECT\n",
    "        -- TODO: Select relevant columns\n",
    "    FROM bronze_customers\n",
    "    WHERE customer_id IS NOT NULL\n",
    "\"\"\")\n",
    "\n",
    "# Clean order items\n",
    "con.execute(\"\"\"\n",
    "    CREATE TABLE silver_items AS\n",
    "    SELECT\n",
    "        -- TODO: Select and cast columns\n",
    "        -- Hint: CAST(price AS DOUBLE)\n",
    "    FROM bronze_items\n",
    "    WHERE order_id IS NOT NULL\n",
    "\"\"\")\n",
    "\n",
    "print(\"Silver layer created\")"
   ]
  },
  {
   "cell_type": "markdown",
   "id": "9e6ae222",
   "metadata": {},
   "source": [
    "---\n",
    "\n",
    "## Part 3: Silver Layer - Validation (5 min)\n",
    "\n",
    "**TODO:** Write 2 assertions to validate data quality.\n",
    "\n",
    "**Requirements:**\n",
    "- Assertion 1: Check primary key uniqueness (order_id in silver_orders)\n",
    "- Assertion 2: Check foreign key integrity (all items have valid orders)\n",
    "\n",
    "**Remember:** Assertions should raise errors if validation fails!"
   ]
  },
  {
   "cell_type": "code",
   "execution_count": null,
   "id": "6eca7319",
   "metadata": {
    "execution": {
     "iopub.execute_input": "2025-10-20T16:45:27.636718Z",
     "iopub.status.busy": "2025-10-20T16:45:27.636653Z",
     "iopub.status.idle": "2025-10-20T16:45:27.638254Z",
     "shell.execute_reply": "2025-10-20T16:45:27.638031Z"
    }
   },
   "outputs": [],
   "source": [
    "# TODO: Write validations\n",
    "\n",
    "print(\"=== VALIDATIONS ===\\n\")\n",
    "\n",
    "# Validation 1: Primary key uniqueness\n",
    "# TODO: Check that order_id is unique in silver_orders\n",
    "# Hint: Compare COUNT(*) to COUNT(DISTINCT order_id)\n",
    "\n",
    "\n",
    "# Validation 2: Foreign key integrity\n",
    "# TODO: Check that all items in silver_items have matching orders\n",
    "# Hint: LEFT JOIN and check for NULLs\n",
    "\n",
    "\n",
    "print(\"✅ All validations passed!\")"
   ]
  },
  {
   "cell_type": "markdown",
   "id": "295ea092",
   "metadata": {},
   "source": [
    "---\n",
    "\n",
    "## Part 4: Gold Layer (4 min)\n",
    "\n",
    "**TODO:** Create 2-3 summary metrics for reporting.\n",
    "\n",
    "**Requirements:**\n",
    "- At least 2 aggregated tables\n",
    "- Use JOINs and GROUP BY\n",
    "- Make them business-relevant\n",
    "\n",
    "**Suggestions:**\n",
    "- Daily sales summary\n",
    "- Customer summary (orders per customer)\n",
    "- State-level metrics"
   ]
  },
  {
   "cell_type": "code",
   "execution_count": null,
   "id": "54e6b251",
   "metadata": {
    "execution": {
     "iopub.execute_input": "2025-10-20T16:45:27.639226Z",
     "iopub.status.busy": "2025-10-20T16:45:27.639166Z",
     "iopub.status.idle": "2025-10-20T16:45:27.646870Z",
     "shell.execute_reply": "2025-10-20T16:45:27.646656Z"
    }
   },
   "outputs": [],
   "source": [
    "# TODO: Create gold tables\n",
    "\n",
    "# Gold table 1: Your choice\n",
    "con.execute(\"\"\"\n",
    "    CREATE TABLE gold_summary_1 AS\n",
    "    SELECT\n",
    "        -- TODO: Write aggregation query\n",
    "    FROM silver_orders o\n",
    "    INNER JOIN silver_items i ON o.order_id = i.order_id\n",
    "    -- TODO: Add GROUP BY\n",
    "\"\"\")\n",
    "\n",
    "# Gold table 2: Your choice\n",
    "con.execute(\"\"\"\n",
    "    CREATE TABLE gold_summary_2 AS\n",
    "    SELECT\n",
    "        -- TODO: Write aggregation query\n",
    "    FROM silver_customers c\n",
    "    INNER JOIN silver_orders o ON c.customer_id = o.customer_id\n",
    "    -- TODO: Add GROUP BY\n",
    "\"\"\")\n",
    "\n",
    "# Display results\n",
    "print(\"Gold table 1:\")\n",
    "display(con.execute(\"SELECT * FROM gold_summary_1 LIMIT 5\").df())\n",
    "\n",
    "print(\"\\nGold table 2:\")\n",
    "display(con.execute(\"SELECT * FROM gold_summary_2 LIMIT 5\").df())"
   ]
  },
  {
   "cell_type": "markdown",
   "id": "b046e3e2",
   "metadata": {},
   "source": [
    "---\n",
    "\n",
    "## Part 5: Risk Note (3 min)\n",
    "\n",
    "**TODO:** Write 3-5 sentences documenting:\n",
    "1. What assumptions did you make about the data?\n",
    "2. What limitations does this analysis have?\n",
    "3. What questions can this data NOT answer?\n",
    "\n",
    "**Example:**\n",
    "> \"This analysis assumes all orders in the dataset are valid completed transactions. We removed rows with NULL order_ids (23 rows, 4.6% of data), which means our metrics undercount total orders. This data cannot answer questions about cancelled orders or refunds, as those are not included in the dataset. We also assume prices are in Brazilian Real (BRL) and have not been adjusted for inflation.\"\n",
    "\n",
    "**Your risk note:**"
   ]
  },
  {
   "cell_type": "markdown",
   "id": "d43b0981",
   "metadata": {},
   "source": [
    "### Risk Note\n",
    "\n",
    "TODO: Write your 3-5 sentence risk note here.\n",
    "\n",
    "(Double-click to edit this cell)\n",
    "\n",
    "---"
   ]
  },
  {
   "cell_type": "markdown",
   "id": "92a1e296",
   "metadata": {},
   "source": [
    "---\n",
    "\n",
    "## ✅ Submission Checklist\n",
    "\n",
    "Before submitting, verify:\n",
    "\n",
    "- [ ] All TODO sections completed\n",
    "- [ ] Notebook runs end-to-end (Kernel → Restart & Run All)\n",
    "- [ ] All assertions pass (no errors)\n",
    "- [ ] Gold tables display results\n",
    "- [ ] Risk note written (3-5 sentences)\n",
    "- [ ] File named: `day3_exercise_[your_name].ipynb`\n",
    "\n",
    "**Submit on Moodle by end of class!**\n",
    "\n",
    "---\n",
    "\n",
    "## Done Early?\n",
    "\n",
    "**Challenge:** Add a 3rd validation checking that all prices are positive:\n",
    "```python\n",
    "negative_prices = con.execute(\n",
    "    \"SELECT COUNT(*) FROM silver_items WHERE price < 0\"\n",
    ").fetchone()[0]\n",
    "assert negative_prices == 0, f\"Found {negative_prices} negative prices!\"\n",
    "```\n",
    "\n",
    "**Great work!** 🎉"
   ]
  }
 ],
 "metadata": {
  "language_info": {
   "codemirror_mode": {
    "name": "ipython",
    "version": 3
   },
   "file_extension": ".py",
   "mimetype": "text/x-python",
   "name": "python",
   "nbconvert_exporter": "python",
   "pygments_lexer": "ipython3",
   "version": "3.12.9"
  }
 },
 "nbformat": 4,
 "nbformat_minor": 5
}
