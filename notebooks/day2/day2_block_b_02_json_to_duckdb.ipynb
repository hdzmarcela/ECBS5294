{
 "cells": [
  {
   "cell_type": "markdown",
   "id": "38b73a1e",
   "metadata": {},
   "source": [
    "# Day 2, Block B: JSON → DuckDB Pipeline\n",
    "\n",
    "**Duration:** 40-45 minutes  \n",
    "**Course:** ECBS5294 - Introduction to Data Science: Working with Data  \n",
    "**Instructor:** Eduardo Ariño de la Rubia\n",
    "\n",
    "---\n",
    "\n",
    "## Learning Objectives\n",
    "\n",
    "By the end of this session, you will be able to:\n",
    "\n",
    "1. **Explain** why nested JSON needs normalization (tidy data principles)\n",
    "2. **Normalize** nested JSON structures into multiple related tables\n",
    "3. **Use pandas** to flatten one-to-many relationships\n",
    "4. **Persist** normalized data to DuckDB for SQL analysis\n",
    "5. **Join** normalized tables to answer business questions\n",
    "6. **Validate** data quality with assertions\n",
    "\n",
    "---\n"
   ]
  },
  {
   "cell_type": "markdown",
   "id": "d6b26d64",
   "metadata": {},
   "source": [
    "## Part 1: The Normalization Problem (⏱️ 8-10 minutes)\n",
    "\n",
    "### Recall: Tidy Data Principles (Day 1)\n",
    "\n",
    "On Day 1, we learned **tidy data principles:**\n",
    "\n",
    "1. Each **variable** is a column\n",
    "2. Each **observation** is a row\n",
    "3. Each **type of observational unit** forms a table\n",
    "\n",
    "**The problem:** Nested JSON violates these principles!\n",
    "\n",
    "---\n"
   ]
  },
  {
   "cell_type": "code",
   "execution_count": 39,
   "id": "5f516621",
   "metadata": {
    "execution": {
     "iopub.execute_input": "2025-10-13T11:25:33.356015Z",
     "iopub.status.busy": "2025-10-13T11:25:33.355883Z",
     "iopub.status.idle": "2025-10-13T11:25:33.620699Z",
     "shell.execute_reply": "2025-10-13T11:25:33.619874Z"
    }
   },
   "outputs": [
    {
     "name": "stdout",
     "output_type": "stream",
     "text": [
      "✅ Libraries imported successfully\n"
     ]
    }
   ],
   "source": [
    "# Setup: Import libraries\n",
    "import requests\n",
    "import json\n",
    "import pandas as pd\n",
    "import duckdb\n",
    "from pprint import pprint\n",
    "\n",
    "print(\"✅ Libraries imported successfully\")"
   ]
  },
  {
   "cell_type": "code",
   "execution_count": 27,
   "id": "a4d05a27",
   "metadata": {
    "execution": {
     "iopub.execute_input": "2025-10-13T11:25:33.623802Z",
     "iopub.status.busy": "2025-10-13T11:25:33.623512Z",
     "iopub.status.idle": "2025-10-13T11:25:34.140530Z",
     "shell.execute_reply": "2025-10-13T11:25:34.140156Z"
    }
   },
   "outputs": [
    {
     "name": "stdout",
     "output_type": "stream",
     "text": [
      "✅ Fetched 30 products from API\n"
     ]
    }
   ],
   "source": [
    "# OPTION 1: Use live API (DEFAULT)\n",
    "DUMMYJSON_URL = \"https://dummyjson.com/products\"\n",
    "\n",
    "response = requests.get(DUMMYJSON_URL, params={'limit': 30}, timeout=10)\n",
    "response.raise_for_status()\n",
    "products_data = response.json()\n",
    "\n",
    "print(f\"✅ Fetched {len(products_data['products'])} products from API\")"
   ]
  },
  {
   "cell_type": "code",
   "execution_count": 28,
   "id": "35993db4",
   "metadata": {
    "execution": {
     "iopub.execute_input": "2025-10-13T11:25:34.142444Z",
     "iopub.status.busy": "2025-10-13T11:25:34.142307Z",
     "iopub.status.idle": "2025-10-13T11:25:34.144217Z",
     "shell.execute_reply": "2025-10-13T11:25:34.143877Z"
    }
   },
   "outputs": [
    {
     "name": "stdout",
     "output_type": "stream",
     "text": [
      "✅ Loaded 30 products from backup\n"
     ]
    }
   ],
   "source": [
    "# OPTION 2: Use backup file (if API is down)\n",
    "# Uncomment these lines and skip the cell above if DummyJSON is unavailable\n",
    "\n",
    "import json\n",
    "with open('../../data/day2/block_b/products_backup.json') as f:\n",
    "    products_data = json.load(f)\n",
    "\n",
    "print(f\"✅ Loaded {len(products_data['products'])} products from backup\")"
   ]
  },
  {
   "cell_type": "markdown",
   "id": "cd28a187",
   "metadata": {},
   "source": [
    "### The Problem: One-to-Many Relationships\n",
    "\n",
    "Look at a single product with its nested reviews:\n",
    "\n",
    "---\n"
   ]
  },
  {
   "cell_type": "code",
   "execution_count": 29,
   "id": "ea9cafe9",
   "metadata": {
    "execution": {
     "iopub.execute_input": "2025-10-13T11:25:34.145745Z",
     "iopub.status.busy": "2025-10-13T11:25:34.145612Z",
     "iopub.status.idle": "2025-10-13T11:25:34.148558Z",
     "shell.execute_reply": "2025-10-13T11:25:34.148250Z"
    }
   },
   "outputs": [
    {
     "name": "stdout",
     "output_type": "stream",
     "text": [
      "Product structure:\n",
      "  ID: 1\n",
      "  Title: Essence Mascara Lash Princess\n",
      "  Price: $9.99\n",
      "\n",
      "  Reviews (3 reviews):\n",
      "    Review 1: 3⭐ - Eleanor Collins\n",
      "    Review 2: 4⭐ - Lucas Gordon\n",
      "    Review 3: 5⭐ - Eleanor Collins\n",
      "\n",
      "============================================================\n",
      "Problem: One product has MANY reviews.\n",
      "This is a ONE-TO-MANY relationship - not tidy!\n",
      "============================================================\n"
     ]
    }
   ],
   "source": [
    "# Examine one product with nested reviews\n",
    "sample_product = products_data['products'][0]\n",
    "\n",
    "print(\"Product structure:\")\n",
    "print(f\"  ID: {sample_product['id']}\")\n",
    "print(f\"  Title: {sample_product['title']}\")\n",
    "print(f\"  Price: ${sample_product['price']}\")\n",
    "print(f\"\\n  Reviews ({len(sample_product['reviews'])} reviews):\")\n",
    "\n",
    "for i, review in enumerate(sample_product['reviews'], 1):\n",
    "    print(f\"    Review {i}: {review['rating']}⭐ - {review['reviewerName']}\")\n",
    "\n",
    "print(\"\\n\" + \"=\" * 60)\n",
    "print(\"Problem: One product has MANY reviews.\")\n",
    "print(\"This is a ONE-TO-MANY relationship - not tidy!\")\n",
    "print(\"=\" * 60)"
   ]
  },
  {
   "cell_type": "markdown",
   "id": "9ea50af7",
   "metadata": {},
   "source": [
    "### Why This Matters for Business\n",
    "\n",
    "**Questions we want to answer:**\n",
    "- What's the average rating across all reviews? (need to count reviews, not products!)\n",
    "- Which reviewers are most active? (need to count by reviewer)\n",
    "- How many reviews per product? (need to aggregate reviews by product)\n",
    "\n",
    "**We can't answer these questions cleanly with nested JSON.**\n",
    "\n",
    "**Solution:** Create two separate tables:\n",
    "1. **Products table** - One row per product (product-level attributes only)\n",
    "2. **Reviews table** - One row per review (with `product_id` foreign key)\n",
    "\n",
    "This is called **normalization** - the process of organizing data to reduce redundancy and improve integrity.\n",
    "\n",
    "---\n"
   ]
  },
  {
   "cell_type": "markdown",
   "id": "334784ab",
   "metadata": {},
   "source": [
    "---\n",
    "\n",
    "## Part 2: Normalize with Pandas (⏱️ 12-15 minutes)\n",
    "\n",
    "### Strategy: Create Multiple Tidy Tables\n",
    "\n",
    "We'll create two tables:\n",
    "1. **`products`** - Product-level attributes (id, title, price, category, brand, stock)\n",
    "2. **`reviews`** - Review-level attributes (product_id, rating, comment, reviewer)\n",
    "\n",
    "The `product_id` in the reviews table is a **foreign key** that links back to the products table.\n",
    "\n",
    "---\n"
   ]
  },
  {
   "cell_type": "markdown",
   "id": "3a789bc1",
   "metadata": {},
   "source": [
    "### Step 1: Extract Products Table\n",
    "\n",
    "First, let's create a DataFrame with only product-level attributes:\n",
    "\n",
    "---\n"
   ]
  },
  {
   "cell_type": "code",
   "execution_count": 30,
   "id": "39a3bac0",
   "metadata": {
    "execution": {
     "iopub.execute_input": "2025-10-13T11:25:34.150125Z",
     "iopub.status.busy": "2025-10-13T11:25:34.150023Z",
     "iopub.status.idle": "2025-10-13T11:25:34.157913Z",
     "shell.execute_reply": "2025-10-13T11:25:34.157651Z"
    }
   },
   "outputs": [
    {
     "name": "stdout",
     "output_type": "stream",
     "text": [
      "✅ Created products table: 30 rows × 7 columns\n"
     ]
    },
    {
     "data": {
      "application/vnd.microsoft.datawrangler.viewer.v0+json": {
       "columns": [
        {
         "name": "index",
         "rawType": "int64",
         "type": "integer"
        },
        {
         "name": "product_id",
         "rawType": "int64",
         "type": "integer"
        },
        {
         "name": "title",
         "rawType": "object",
         "type": "string"
        },
        {
         "name": "price",
         "rawType": "float64",
         "type": "float"
        },
        {
         "name": "category",
         "rawType": "object",
         "type": "string"
        },
        {
         "name": "brand",
         "rawType": "object",
         "type": "string"
        },
        {
         "name": "stock",
         "rawType": "int64",
         "type": "integer"
        },
        {
         "name": "rating",
         "rawType": "float64",
         "type": "float"
        }
       ],
       "ref": "175ce563-aac5-4199-ba19-c12bbd8312b8",
       "rows": [
        [
         "0",
         "1",
         "Essence Mascara Lash Princess",
         "9.99",
         "beauty",
         "Essence",
         "99",
         "2.56"
        ],
        [
         "1",
         "2",
         "Eyeshadow Palette with Mirror",
         "19.99",
         "beauty",
         "Glamour Beauty",
         "34",
         "2.86"
        ],
        [
         "2",
         "3",
         "Powder Canister",
         "14.99",
         "beauty",
         "Velvet Touch",
         "89",
         "4.64"
        ],
        [
         "3",
         "4",
         "Red Lipstick",
         "12.99",
         "beauty",
         "Chic Cosmetics",
         "91",
         "4.36"
        ],
        [
         "4",
         "5",
         "Red Nail Polish",
         "8.99",
         "beauty",
         "Nail Couture",
         "79",
         "4.32"
        ]
       ],
       "shape": {
        "columns": 7,
        "rows": 5
       }
      },
      "text/html": [
       "<div>\n",
       "<style scoped>\n",
       "    .dataframe tbody tr th:only-of-type {\n",
       "        vertical-align: middle;\n",
       "    }\n",
       "\n",
       "    .dataframe tbody tr th {\n",
       "        vertical-align: top;\n",
       "    }\n",
       "\n",
       "    .dataframe thead th {\n",
       "        text-align: right;\n",
       "    }\n",
       "</style>\n",
       "<table border=\"1\" class=\"dataframe\">\n",
       "  <thead>\n",
       "    <tr style=\"text-align: right;\">\n",
       "      <th></th>\n",
       "      <th>product_id</th>\n",
       "      <th>title</th>\n",
       "      <th>price</th>\n",
       "      <th>category</th>\n",
       "      <th>brand</th>\n",
       "      <th>stock</th>\n",
       "      <th>rating</th>\n",
       "    </tr>\n",
       "  </thead>\n",
       "  <tbody>\n",
       "    <tr>\n",
       "      <th>0</th>\n",
       "      <td>1</td>\n",
       "      <td>Essence Mascara Lash Princess</td>\n",
       "      <td>9.99</td>\n",
       "      <td>beauty</td>\n",
       "      <td>Essence</td>\n",
       "      <td>99</td>\n",
       "      <td>2.56</td>\n",
       "    </tr>\n",
       "    <tr>\n",
       "      <th>1</th>\n",
       "      <td>2</td>\n",
       "      <td>Eyeshadow Palette with Mirror</td>\n",
       "      <td>19.99</td>\n",
       "      <td>beauty</td>\n",
       "      <td>Glamour Beauty</td>\n",
       "      <td>34</td>\n",
       "      <td>2.86</td>\n",
       "    </tr>\n",
       "    <tr>\n",
       "      <th>2</th>\n",
       "      <td>3</td>\n",
       "      <td>Powder Canister</td>\n",
       "      <td>14.99</td>\n",
       "      <td>beauty</td>\n",
       "      <td>Velvet Touch</td>\n",
       "      <td>89</td>\n",
       "      <td>4.64</td>\n",
       "    </tr>\n",
       "    <tr>\n",
       "      <th>3</th>\n",
       "      <td>4</td>\n",
       "      <td>Red Lipstick</td>\n",
       "      <td>12.99</td>\n",
       "      <td>beauty</td>\n",
       "      <td>Chic Cosmetics</td>\n",
       "      <td>91</td>\n",
       "      <td>4.36</td>\n",
       "    </tr>\n",
       "    <tr>\n",
       "      <th>4</th>\n",
       "      <td>5</td>\n",
       "      <td>Red Nail Polish</td>\n",
       "      <td>8.99</td>\n",
       "      <td>beauty</td>\n",
       "      <td>Nail Couture</td>\n",
       "      <td>79</td>\n",
       "      <td>4.32</td>\n",
       "    </tr>\n",
       "  </tbody>\n",
       "</table>\n",
       "</div>"
      ],
      "text/plain": [
       "   product_id                          title  price category           brand  \\\n",
       "0           1  Essence Mascara Lash Princess   9.99   beauty         Essence   \n",
       "1           2  Eyeshadow Palette with Mirror  19.99   beauty  Glamour Beauty   \n",
       "2           3                Powder Canister  14.99   beauty    Velvet Touch   \n",
       "3           4                   Red Lipstick  12.99   beauty  Chic Cosmetics   \n",
       "4           5                Red Nail Polish   8.99   beauty    Nail Couture   \n",
       "\n",
       "   stock  rating  \n",
       "0     99    2.56  \n",
       "1     34    2.86  \n",
       "2     89    4.64  \n",
       "3     91    4.36  \n",
       "4     79    4.32  "
      ]
     },
     "execution_count": 30,
     "metadata": {},
     "output_type": "execute_result"
    }
   ],
   "source": [
    "# Extract products (top-level attributes only)\n",
    "products_list = []\n",
    "\n",
    "for product in products_data['products']:\n",
    "    products_list.append({\n",
    "        'product_id': product['id'],\n",
    "        'title': product['title'],\n",
    "        'price': product['price'],\n",
    "        'category': product['category'],\n",
    "        'brand': product.get('brand', 'Unknown'),  # Safe access\n",
    "        'stock': product.get('stock', 0),\n",
    "        'rating': product.get('rating', None)\n",
    "    })\n",
    "\n",
    "# Create DataFrame\n",
    "products_df = pd.DataFrame(products_list)\n",
    "\n",
    "print(f\"✅ Created products table: {products_df.shape[0]} rows × {products_df.shape[1]} columns\")\n",
    "products_df.head()"
   ]
  },
  {
   "cell_type": "markdown",
   "id": "b53e38c8",
   "metadata": {},
   "source": [
    "### Validation Pattern: Assert Data Quality\n",
    "\n",
    "> **\"Never assume data is clean. Prove it with assertions.\"**\n",
    "\n",
    "**Why validate?**\n",
    "- Catch data quality issues early (before they corrupt downstream analysis)\n",
    "- Document assumptions (primary keys ARE unique)\n",
    "- Fail fast with clear error messages (debugging is easier)\n",
    "\n",
    "**Production pattern:**\n",
    "```python\n",
    "assert df['id_column'].is_unique, \"Duplicate IDs found!\"\n",
    "assert df['required_column'].notna().all(), \"NULL values in required field!\"\n",
    "```\n",
    "\n",
    "Let's validate our products table:\n",
    "\n",
    "---"
   ]
  },
  {
   "cell_type": "code",
   "execution_count": 31,
   "id": "116b5cf8",
   "metadata": {
    "execution": {
     "iopub.execute_input": "2025-10-13T11:25:34.159115Z",
     "iopub.status.busy": "2025-10-13T11:25:34.159030Z",
     "iopub.status.idle": "2025-10-13T11:25:34.162044Z",
     "shell.execute_reply": "2025-10-13T11:25:34.161798Z"
    }
   },
   "outputs": [
    {
     "name": "stdout",
     "output_type": "stream",
     "text": [
      "✅ Validating products table...\n",
      "   ✓ All 30 product IDs are unique (PK check passed)\n",
      "   ✓ No NULL product IDs (PK integrity check passed)\n",
      "   ✓ All required fields populated (title, price, category)\n",
      "\n",
      "✅ Products table validation: PASSED\n"
     ]
    }
   ],
   "source": [
    "# Validate products table\n",
    "print(\"✅ Validating products table...\")\n",
    "\n",
    "# Check 1: Primary key uniqueness\n",
    "assert products_df['product_id'].is_unique, \\\n",
    "    f\"❌ Duplicate product IDs found! Expected {len(products_df)} unique IDs, found {products_df['product_id'].nunique()}\"\n",
    "\n",
    "print(f\"   ✓ All {len(products_df)} product IDs are unique (PK check passed)\")\n",
    "\n",
    "# Check 2: No NULL primary keys\n",
    "assert products_df['product_id'].notna().all(), \\\n",
    "    f\"❌ NULL product IDs found! {products_df['product_id'].isna().sum()} rows have NULL IDs\"\n",
    "\n",
    "print(f\"   ✓ No NULL product IDs (PK integrity check passed)\")\n",
    "\n",
    "# Check 3: Required fields are populated\n",
    "required_fields = ['title', 'price', 'category']\n",
    "for field in required_fields:\n",
    "    null_count = products_df[field].isna().sum()\n",
    "    assert null_count == 0, \\\n",
    "        f\"❌ Found {null_count} NULL values in required field '{field}'\"\n",
    "\n",
    "print(f\"   ✓ All required fields populated ({', '.join(required_fields)})\")\n",
    "\n",
    "print(\"\\n✅ Products table validation: PASSED\")"
   ]
  },
  {
   "cell_type": "code",
   "execution_count": 32,
   "id": "c38e9e40",
   "metadata": {
    "execution": {
     "iopub.execute_input": "2025-10-13T11:25:34.163252Z",
     "iopub.status.busy": "2025-10-13T11:25:34.163153Z",
     "iopub.status.idle": "2025-10-13T11:25:34.165611Z",
     "shell.execute_reply": "2025-10-13T11:25:34.165383Z"
    }
   },
   "outputs": [
    {
     "name": "stdout",
     "output_type": "stream",
     "text": [
      "Products table info:\n",
      "  Shape: (30, 7)\n",
      "  Columns: ['product_id', 'title', 'price', 'category', 'brand', 'stock', 'rating']\n",
      "  Data types:\n",
      "product_id      int64\n",
      "title          object\n",
      "price         float64\n",
      "category       object\n",
      "brand          object\n",
      "stock           int64\n",
      "rating        float64\n",
      "dtype: object\n",
      "\n",
      "  Unique products: 30\n",
      "  Categories: 4\n"
     ]
    }
   ],
   "source": [
    "# Verify products table structure\n",
    "print(\"Products table info:\")\n",
    "print(f\"  Shape: {products_df.shape}\")\n",
    "print(f\"  Columns: {list(products_df.columns)}\")\n",
    "print(f\"  Data types:\\n{products_df.dtypes}\")\n",
    "print(f\"\\n  Unique products: {products_df['product_id'].nunique()}\")\n",
    "print(f\"  Categories: {products_df['category'].nunique()}\")"
   ]
  },
  {
   "cell_type": "markdown",
   "id": "b317b811",
   "metadata": {},
   "source": [
    "### Step 2: Extract Reviews Table (Explode One-to-Many)\n",
    "\n",
    "Now for the tricky part: **exploding the reviews array** into separate rows.\n",
    "\n",
    "Each review becomes its own row, with a `product_id` foreign key linking back to the product.\n",
    "\n",
    "---\n"
   ]
  },
  {
   "cell_type": "code",
   "execution_count": 33,
   "id": "a51cb7bb",
   "metadata": {
    "execution": {
     "iopub.execute_input": "2025-10-13T11:25:34.166817Z",
     "iopub.status.busy": "2025-10-13T11:25:34.166721Z",
     "iopub.status.idle": "2025-10-13T11:25:34.170955Z",
     "shell.execute_reply": "2025-10-13T11:25:34.170749Z"
    }
   },
   "outputs": [
    {
     "name": "stdout",
     "output_type": "stream",
     "text": [
      "✅ Created reviews table: 90 rows × 6 columns\n"
     ]
    },
    {
     "data": {
      "application/vnd.microsoft.datawrangler.viewer.v0+json": {
       "columns": [
        {
         "name": "index",
         "rawType": "int64",
         "type": "integer"
        },
        {
         "name": "product_id",
         "rawType": "int64",
         "type": "integer"
        },
        {
         "name": "rating",
         "rawType": "int64",
         "type": "integer"
        },
        {
         "name": "comment",
         "rawType": "object",
         "type": "string"
        },
        {
         "name": "reviewer_name",
         "rawType": "object",
         "type": "string"
        },
        {
         "name": "reviewer_email",
         "rawType": "object",
         "type": "string"
        },
        {
         "name": "review_date",
         "rawType": "object",
         "type": "string"
        }
       ],
       "ref": "df42544b-7d96-4e23-8bde-359f635fcf5c",
       "rows": [
        [
         "0",
         "1",
         "3",
         "Would not recommend!",
         "Eleanor Collins",
         "eleanor.collins@x.dummyjson.com",
         "2025-04-30T09:41:02.053Z"
        ],
        [
         "1",
         "1",
         "4",
         "Very satisfied!",
         "Lucas Gordon",
         "lucas.gordon@x.dummyjson.com",
         "2025-04-30T09:41:02.053Z"
        ],
        [
         "2",
         "1",
         "5",
         "Highly impressed!",
         "Eleanor Collins",
         "eleanor.collins@x.dummyjson.com",
         "2025-04-30T09:41:02.053Z"
        ],
        [
         "3",
         "2",
         "5",
         "Great product!",
         "Savannah Gomez",
         "savannah.gomez@x.dummyjson.com",
         "2025-04-30T09:41:02.053Z"
        ],
        [
         "4",
         "2",
         "4",
         "Awesome product!",
         "Christian Perez",
         "christian.perez@x.dummyjson.com",
         "2025-04-30T09:41:02.053Z"
        ],
        [
         "5",
         "2",
         "1",
         "Poor quality!",
         "Nicholas Bailey",
         "nicholas.bailey@x.dummyjson.com",
         "2025-04-30T09:41:02.053Z"
        ],
        [
         "6",
         "3",
         "4",
         "Would buy again!",
         "Alexander Jones",
         "alexander.jones@x.dummyjson.com",
         "2025-04-30T09:41:02.053Z"
        ],
        [
         "7",
         "3",
         "5",
         "Highly impressed!",
         "Elijah Cruz",
         "elijah.cruz@x.dummyjson.com",
         "2025-04-30T09:41:02.053Z"
        ],
        [
         "8",
         "3",
         "1",
         "Very dissatisfied!",
         "Avery Perez",
         "avery.perez@x.dummyjson.com",
         "2025-04-30T09:41:02.053Z"
        ],
        [
         "9",
         "4",
         "4",
         "Great product!",
         "Liam Garcia",
         "liam.garcia@x.dummyjson.com",
         "2025-04-30T09:41:02.053Z"
        ]
       ],
       "shape": {
        "columns": 6,
        "rows": 10
       }
      },
      "text/html": [
       "<div>\n",
       "<style scoped>\n",
       "    .dataframe tbody tr th:only-of-type {\n",
       "        vertical-align: middle;\n",
       "    }\n",
       "\n",
       "    .dataframe tbody tr th {\n",
       "        vertical-align: top;\n",
       "    }\n",
       "\n",
       "    .dataframe thead th {\n",
       "        text-align: right;\n",
       "    }\n",
       "</style>\n",
       "<table border=\"1\" class=\"dataframe\">\n",
       "  <thead>\n",
       "    <tr style=\"text-align: right;\">\n",
       "      <th></th>\n",
       "      <th>product_id</th>\n",
       "      <th>rating</th>\n",
       "      <th>comment</th>\n",
       "      <th>reviewer_name</th>\n",
       "      <th>reviewer_email</th>\n",
       "      <th>review_date</th>\n",
       "    </tr>\n",
       "  </thead>\n",
       "  <tbody>\n",
       "    <tr>\n",
       "      <th>0</th>\n",
       "      <td>1</td>\n",
       "      <td>3</td>\n",
       "      <td>Would not recommend!</td>\n",
       "      <td>Eleanor Collins</td>\n",
       "      <td>eleanor.collins@x.dummyjson.com</td>\n",
       "      <td>2025-04-30T09:41:02.053Z</td>\n",
       "    </tr>\n",
       "    <tr>\n",
       "      <th>1</th>\n",
       "      <td>1</td>\n",
       "      <td>4</td>\n",
       "      <td>Very satisfied!</td>\n",
       "      <td>Lucas Gordon</td>\n",
       "      <td>lucas.gordon@x.dummyjson.com</td>\n",
       "      <td>2025-04-30T09:41:02.053Z</td>\n",
       "    </tr>\n",
       "    <tr>\n",
       "      <th>2</th>\n",
       "      <td>1</td>\n",
       "      <td>5</td>\n",
       "      <td>Highly impressed!</td>\n",
       "      <td>Eleanor Collins</td>\n",
       "      <td>eleanor.collins@x.dummyjson.com</td>\n",
       "      <td>2025-04-30T09:41:02.053Z</td>\n",
       "    </tr>\n",
       "    <tr>\n",
       "      <th>3</th>\n",
       "      <td>2</td>\n",
       "      <td>5</td>\n",
       "      <td>Great product!</td>\n",
       "      <td>Savannah Gomez</td>\n",
       "      <td>savannah.gomez@x.dummyjson.com</td>\n",
       "      <td>2025-04-30T09:41:02.053Z</td>\n",
       "    </tr>\n",
       "    <tr>\n",
       "      <th>4</th>\n",
       "      <td>2</td>\n",
       "      <td>4</td>\n",
       "      <td>Awesome product!</td>\n",
       "      <td>Christian Perez</td>\n",
       "      <td>christian.perez@x.dummyjson.com</td>\n",
       "      <td>2025-04-30T09:41:02.053Z</td>\n",
       "    </tr>\n",
       "    <tr>\n",
       "      <th>5</th>\n",
       "      <td>2</td>\n",
       "      <td>1</td>\n",
       "      <td>Poor quality!</td>\n",
       "      <td>Nicholas Bailey</td>\n",
       "      <td>nicholas.bailey@x.dummyjson.com</td>\n",
       "      <td>2025-04-30T09:41:02.053Z</td>\n",
       "    </tr>\n",
       "    <tr>\n",
       "      <th>6</th>\n",
       "      <td>3</td>\n",
       "      <td>4</td>\n",
       "      <td>Would buy again!</td>\n",
       "      <td>Alexander Jones</td>\n",
       "      <td>alexander.jones@x.dummyjson.com</td>\n",
       "      <td>2025-04-30T09:41:02.053Z</td>\n",
       "    </tr>\n",
       "    <tr>\n",
       "      <th>7</th>\n",
       "      <td>3</td>\n",
       "      <td>5</td>\n",
       "      <td>Highly impressed!</td>\n",
       "      <td>Elijah Cruz</td>\n",
       "      <td>elijah.cruz@x.dummyjson.com</td>\n",
       "      <td>2025-04-30T09:41:02.053Z</td>\n",
       "    </tr>\n",
       "    <tr>\n",
       "      <th>8</th>\n",
       "      <td>3</td>\n",
       "      <td>1</td>\n",
       "      <td>Very dissatisfied!</td>\n",
       "      <td>Avery Perez</td>\n",
       "      <td>avery.perez@x.dummyjson.com</td>\n",
       "      <td>2025-04-30T09:41:02.053Z</td>\n",
       "    </tr>\n",
       "    <tr>\n",
       "      <th>9</th>\n",
       "      <td>4</td>\n",
       "      <td>4</td>\n",
       "      <td>Great product!</td>\n",
       "      <td>Liam Garcia</td>\n",
       "      <td>liam.garcia@x.dummyjson.com</td>\n",
       "      <td>2025-04-30T09:41:02.053Z</td>\n",
       "    </tr>\n",
       "  </tbody>\n",
       "</table>\n",
       "</div>"
      ],
      "text/plain": [
       "   product_id  rating               comment    reviewer_name  \\\n",
       "0           1       3  Would not recommend!  Eleanor Collins   \n",
       "1           1       4       Very satisfied!     Lucas Gordon   \n",
       "2           1       5     Highly impressed!  Eleanor Collins   \n",
       "3           2       5        Great product!   Savannah Gomez   \n",
       "4           2       4      Awesome product!  Christian Perez   \n",
       "5           2       1         Poor quality!  Nicholas Bailey   \n",
       "6           3       4      Would buy again!  Alexander Jones   \n",
       "7           3       5     Highly impressed!      Elijah Cruz   \n",
       "8           3       1    Very dissatisfied!      Avery Perez   \n",
       "9           4       4        Great product!      Liam Garcia   \n",
       "\n",
       "                    reviewer_email               review_date  \n",
       "0  eleanor.collins@x.dummyjson.com  2025-04-30T09:41:02.053Z  \n",
       "1     lucas.gordon@x.dummyjson.com  2025-04-30T09:41:02.053Z  \n",
       "2  eleanor.collins@x.dummyjson.com  2025-04-30T09:41:02.053Z  \n",
       "3   savannah.gomez@x.dummyjson.com  2025-04-30T09:41:02.053Z  \n",
       "4  christian.perez@x.dummyjson.com  2025-04-30T09:41:02.053Z  \n",
       "5  nicholas.bailey@x.dummyjson.com  2025-04-30T09:41:02.053Z  \n",
       "6  alexander.jones@x.dummyjson.com  2025-04-30T09:41:02.053Z  \n",
       "7      elijah.cruz@x.dummyjson.com  2025-04-30T09:41:02.053Z  \n",
       "8      avery.perez@x.dummyjson.com  2025-04-30T09:41:02.053Z  \n",
       "9      liam.garcia@x.dummyjson.com  2025-04-30T09:41:02.053Z  "
      ]
     },
     "execution_count": 33,
     "metadata": {},
     "output_type": "execute_result"
    }
   ],
   "source": [
    "# Extract reviews (explode one-to-many)\n",
    "reviews_list = []\n",
    "\n",
    "for product in products_data['products']:\n",
    "    product_id = product['id']\n",
    "    \n",
    "    # Each product can have multiple reviews\n",
    "    for review in product.get('reviews', []):\n",
    "        reviews_list.append({\n",
    "            'product_id': product_id,  # Foreign key!\n",
    "            'rating': review['rating'],\n",
    "            'comment': review['comment'],\n",
    "            'reviewer_name': review['reviewerName'],\n",
    "            'reviewer_email': review.get('reviewerEmail', None),\n",
    "            'review_date': review.get('date', None)\n",
    "        })\n",
    "\n",
    "# Create DataFrame\n",
    "reviews_df = pd.DataFrame(reviews_list)\n",
    "\n",
    "print(f\"✅ Created reviews table: {reviews_df.shape[0]} rows × {reviews_df.shape[1]} columns\")\n",
    "reviews_df.head(10)"
   ]
  },
  {
   "cell_type": "markdown",
   "id": "6ce2a27b",
   "metadata": {},
   "source": [
    "### Validate Foreign Key Integrity\n",
    "\n",
    "> **\"In relational data, every FK must point to a valid PK. No orphans allowed!\"**\n",
    "\n",
    "**What is FK integrity?**\n",
    "- Every `reviews.product_id` must exist in `products.product_id`\n",
    "- If not, we have \"orphaned\" reviews pointing to non-existent products\n",
    "- This breaks JOINs and corrupts analysis\n",
    "\n",
    "**Business impact of orphaned FKs:**\n",
    "- ❌ Reviews can't be matched to products (data loss)\n",
    "- ❌ JOIN results are incomplete (wrong metrics)\n",
    "- ❌ Stakeholders lose trust in data quality\n",
    "\n",
    "Let's validate:\n",
    "\n",
    "---"
   ]
  },
  {
   "cell_type": "code",
   "execution_count": 34,
   "id": "7c204225",
   "metadata": {
    "execution": {
     "iopub.execute_input": "2025-10-13T11:25:34.172016Z",
     "iopub.status.busy": "2025-10-13T11:25:34.171951Z",
     "iopub.status.idle": "2025-10-13T11:25:34.175040Z",
     "shell.execute_reply": "2025-10-13T11:25:34.174822Z"
    }
   },
   "outputs": [
    {
     "name": "stdout",
     "output_type": "stream",
     "text": [
      "✅ Validating reviews table...\n",
      "   ✓ All 90 reviews have valid product_id (FK integrity passed)\n",
      "   ✓ No NULL foreign keys in reviews table\n",
      "   ✓ All ratings are in valid range (1-5)\n",
      "\n",
      "📊 Referential integrity statistics:\n",
      "   Products with reviews: 30/30 (100.0%)\n",
      "   Products without reviews: 0 (0.0%)\n",
      "\n",
      "✅ Reviews table validation: PASSED\n"
     ]
    }
   ],
   "source": [
    "# Validate reviews table\n",
    "print(\"✅ Validating reviews table...\")\n",
    "\n",
    "# Check 1: Foreign key integrity\n",
    "valid_product_ids = set(products_df['product_id'])\n",
    "orphaned_reviews = ~reviews_df['product_id'].isin(valid_product_ids)\n",
    "\n",
    "assert not orphaned_reviews.any(), \\\n",
    "    f\"❌ Found {orphaned_reviews.sum()} orphaned reviews! \" \\\n",
    "    f\"These reviews have product_id values that don't exist in products table.\"\n",
    "\n",
    "print(f\"   ✓ All {len(reviews_df)} reviews have valid product_id (FK integrity passed)\")\n",
    "\n",
    "# Check 2: No NULL foreign keys\n",
    "assert reviews_df['product_id'].notna().all(), \\\n",
    "    f\"❌ Found {reviews_df['product_id'].isna().sum()} NULL product_id values in reviews!\"\n",
    "\n",
    "print(f\"   ✓ No NULL foreign keys in reviews table\")\n",
    "\n",
    "# Check 3: Rating values are in valid range\n",
    "assert reviews_df['rating'].between(1, 5).all(), \\\n",
    "    f\"❌ Found invalid ratings! Ratings must be between 1-5\"\n",
    "\n",
    "print(f\"   ✓ All ratings are in valid range (1-5)\")\n",
    "\n",
    "# Bonus: Check referential integrity statistics\n",
    "products_with_reviews = reviews_df['product_id'].nunique()\n",
    "products_without_reviews = len(products_df) - products_with_reviews\n",
    "\n",
    "print(f\"\\n📊 Referential integrity statistics:\")\n",
    "print(f\"   Products with reviews: {products_with_reviews}/{len(products_df)} ({products_with_reviews/len(products_df)*100:.1f}%)\")\n",
    "print(f\"   Products without reviews: {products_without_reviews} ({products_without_reviews/len(products_df)*100:.1f}%)\")\n",
    "\n",
    "print(\"\\n✅ Reviews table validation: PASSED\")"
   ]
  },
  {
   "cell_type": "code",
   "execution_count": 35,
   "id": "7679b9a6",
   "metadata": {
    "execution": {
     "iopub.execute_input": "2025-10-13T11:25:34.176062Z",
     "iopub.status.busy": "2025-10-13T11:25:34.175994Z",
     "iopub.status.idle": "2025-10-13T11:25:34.178385Z",
     "shell.execute_reply": "2025-10-13T11:25:34.178179Z"
    }
   },
   "outputs": [
    {
     "name": "stdout",
     "output_type": "stream",
     "text": [
      "Reviews table info:\n",
      "  Shape: (90, 6)\n",
      "  Columns: ['product_id', 'rating', 'comment', 'reviewer_name', 'reviewer_email', 'review_date']\n",
      "\n",
      "  Total reviews: 90\n",
      "  Products with reviews: 30\n",
      "  Unique reviewers: 69\n",
      "\n",
      "  Reviews per product (sample):\n",
      "product_id\n",
      "1     3\n",
      "2     3\n",
      "3     3\n",
      "4     3\n",
      "5     3\n",
      "6     3\n",
      "7     3\n",
      "8     3\n",
      "9     3\n",
      "10    3\n",
      "dtype: int64\n"
     ]
    }
   ],
   "source": [
    "# Verify reviews table structure\n",
    "print(\"Reviews table info:\")\n",
    "print(f\"  Shape: {reviews_df.shape}\")\n",
    "print(f\"  Columns: {list(reviews_df.columns)}\")\n",
    "print(f\"\\n  Total reviews: {len(reviews_df)}\")\n",
    "print(f\"  Products with reviews: {reviews_df['product_id'].nunique()}\")\n",
    "print(f\"  Unique reviewers: {reviews_df['reviewer_name'].nunique()}\")\n",
    "print(f\"\\n  Reviews per product (sample):\")\n",
    "print(reviews_df.groupby('product_id').size().head(10))"
   ]
  },
  {
   "cell_type": "markdown",
   "id": "2fd5d603",
   "metadata": {},
   "source": [
    "### What We Accomplished\n",
    "\n",
    "**Before:** One nested JSON structure with products containing review arrays\n",
    "\n",
    "**After:** Two tidy tables!\n",
    "- **Products table:** 30 rows (one per product)\n",
    "- **Reviews table:** ~90 rows (one per review, multiple reviews per product)\n",
    "\n",
    "**Key insight:** We went from 30 products with nested data → ~90 separate review records.\n",
    "\n",
    "This is **normalization** - we've separated the data by observational unit (products vs. reviews).\n",
    "\n",
    "---\n"
   ]
  },
  {
   "cell_type": "markdown",
   "id": "50baf568",
   "metadata": {},
   "source": [
    "---\n",
    "\n",
    "## Part 3: Load to DuckDB (⏱️ 10-12 minutes)\n",
    "\n",
    "### Why DuckDB?\n",
    "\n",
    "**DuckDB is perfect for analytics:**\n",
    "- ✅ **Fast** - Columnar storage, optimized for analytical queries\n",
    "- ✅ **SQL interface** - Use familiar SQL syntax\n",
    "- ✅ **No server** - Embedded database (no setup, no configuration)\n",
    "- ✅ **Works with pandas** - Seamless integration\n",
    "\n",
    "**Think of it as:** \"SQLite for analytics\" or \"Postgres that runs in your Python script.\"\n",
    "\n",
    "---\n"
   ]
  },
  {
   "cell_type": "code",
   "execution_count": 36,
   "id": "e5c4dfeb",
   "metadata": {
    "execution": {
     "iopub.execute_input": "2025-10-13T11:25:34.179497Z",
     "iopub.status.busy": "2025-10-13T11:25:34.179435Z",
     "iopub.status.idle": "2025-10-13T11:25:34.185236Z",
     "shell.execute_reply": "2025-10-13T11:25:34.185035Z"
    }
   },
   "outputs": [
    {
     "name": "stdout",
     "output_type": "stream",
     "text": [
      "✅ Connected to DuckDB (in-memory)\n",
      "   DuckDB version: 1.4.1\n"
     ]
    }
   ],
   "source": [
    "# Create DuckDB connection (in-memory database)\n",
    "from IPython.display import display\n",
    "\n",
    "con = duckdb.connect(':memory:')\n",
    "\n",
    "print(\"✅ Connected to DuckDB (in-memory)\")\n",
    "print(f\"   DuckDB version: {duckdb.__version__}\")"
   ]
  },
  {
   "cell_type": "code",
   "execution_count": 37,
   "id": "a80c597f",
   "metadata": {
    "execution": {
     "iopub.execute_input": "2025-10-13T11:25:34.186228Z",
     "iopub.status.busy": "2025-10-13T11:25:34.186168Z",
     "iopub.status.idle": "2025-10-13T11:25:34.189155Z",
     "shell.execute_reply": "2025-10-13T11:25:34.188952Z"
    }
   },
   "outputs": [
    {
     "name": "stdout",
     "output_type": "stream",
     "text": [
      "✅ Created 'products' table: 30 rows\n"
     ]
    }
   ],
   "source": [
    "# Write products table to DuckDB\n",
    "con.execute(\"CREATE TABLE products AS SELECT * FROM products_df\")\n",
    "\n",
    "# Verify\n",
    "row_count = con.execute(\"SELECT COUNT(*) FROM products\").fetchone()[0]\n",
    "print(f\"✅ Created 'products' table: {row_count} rows\")"
   ]
  },
  {
   "cell_type": "code",
   "execution_count": 38,
   "id": "9e97eafb",
   "metadata": {
    "execution": {
     "iopub.execute_input": "2025-10-13T11:25:34.190124Z",
     "iopub.status.busy": "2025-10-13T11:25:34.190070Z",
     "iopub.status.idle": "2025-10-13T11:25:34.192326Z",
     "shell.execute_reply": "2025-10-13T11:25:34.192133Z"
    }
   },
   "outputs": [
    {
     "name": "stdout",
     "output_type": "stream",
     "text": [
      "✅ Created 'reviews' table: 90 rows\n"
     ]
    }
   ],
   "source": [
    "# Write reviews table to DuckDB\n",
    "con.execute(\"CREATE TABLE reviews AS SELECT * FROM reviews_df\")\n",
    "\n",
    "# Verify\n",
    "row_count = con.execute(\"SELECT COUNT(*) FROM reviews\").fetchone()[0]\n",
    "print(f\"✅ Created 'reviews' table: {row_count} rows\")"
   ]
  },
  {
   "cell_type": "code",
   "execution_count": 40,
   "id": "590a2486",
   "metadata": {
    "execution": {
     "iopub.execute_input": "2025-10-13T11:25:34.193242Z",
     "iopub.status.busy": "2025-10-13T11:25:34.193178Z",
     "iopub.status.idle": "2025-10-13T11:25:34.203624Z",
     "shell.execute_reply": "2025-10-13T11:25:34.203413Z"
    }
   },
   "outputs": [
    {
     "name": "stdout",
     "output_type": "stream",
     "text": [
      "Tables in database:\n"
     ]
    },
    {
     "data": {
      "application/vnd.microsoft.datawrangler.viewer.v0+json": {
       "columns": [
        {
         "name": "index",
         "rawType": "int64",
         "type": "integer"
        },
        {
         "name": "name",
         "rawType": "object",
         "type": "string"
        }
       ],
       "ref": "3c78105c-141e-4471-a836-448f69242620",
       "rows": [
        [
         "0",
         "products"
        ],
        [
         "1",
         "reviews"
        ]
       ],
       "shape": {
        "columns": 1,
        "rows": 2
       }
      },
      "text/html": [
       "<div>\n",
       "<style scoped>\n",
       "    .dataframe tbody tr th:only-of-type {\n",
       "        vertical-align: middle;\n",
       "    }\n",
       "\n",
       "    .dataframe tbody tr th {\n",
       "        vertical-align: top;\n",
       "    }\n",
       "\n",
       "    .dataframe thead th {\n",
       "        text-align: right;\n",
       "    }\n",
       "</style>\n",
       "<table border=\"1\" class=\"dataframe\">\n",
       "  <thead>\n",
       "    <tr style=\"text-align: right;\">\n",
       "      <th></th>\n",
       "      <th>name</th>\n",
       "    </tr>\n",
       "  </thead>\n",
       "  <tbody>\n",
       "    <tr>\n",
       "      <th>0</th>\n",
       "      <td>products</td>\n",
       "    </tr>\n",
       "    <tr>\n",
       "      <th>1</th>\n",
       "      <td>reviews</td>\n",
       "    </tr>\n",
       "  </tbody>\n",
       "</table>\n",
       "</div>"
      ],
      "text/plain": [
       "       name\n",
       "0  products\n",
       "1   reviews"
      ]
     },
     "metadata": {},
     "output_type": "display_data"
    },
    {
     "name": "stdout",
     "output_type": "stream",
     "text": [
      "\n",
      "Products preview:\n"
     ]
    },
    {
     "data": {
      "application/vnd.microsoft.datawrangler.viewer.v0+json": {
       "columns": [
        {
         "name": "index",
         "rawType": "int64",
         "type": "integer"
        },
        {
         "name": "product_id",
         "rawType": "int64",
         "type": "integer"
        },
        {
         "name": "title",
         "rawType": "object",
         "type": "string"
        },
        {
         "name": "price",
         "rawType": "float64",
         "type": "float"
        },
        {
         "name": "category",
         "rawType": "object",
         "type": "string"
        },
        {
         "name": "brand",
         "rawType": "object",
         "type": "string"
        },
        {
         "name": "stock",
         "rawType": "int64",
         "type": "integer"
        },
        {
         "name": "rating",
         "rawType": "float64",
         "type": "float"
        }
       ],
       "ref": "0f27fbc8-924a-4afa-a111-3badf9f32729",
       "rows": [
        [
         "0",
         "1",
         "Essence Mascara Lash Princess",
         "9.99",
         "beauty",
         "Essence",
         "99",
         "2.56"
        ],
        [
         "1",
         "2",
         "Eyeshadow Palette with Mirror",
         "19.99",
         "beauty",
         "Glamour Beauty",
         "34",
         "2.86"
        ],
        [
         "2",
         "3",
         "Powder Canister",
         "14.99",
         "beauty",
         "Velvet Touch",
         "89",
         "4.64"
        ],
        [
         "3",
         "4",
         "Red Lipstick",
         "12.99",
         "beauty",
         "Chic Cosmetics",
         "91",
         "4.36"
        ],
        [
         "4",
         "5",
         "Red Nail Polish",
         "8.99",
         "beauty",
         "Nail Couture",
         "79",
         "4.32"
        ]
       ],
       "shape": {
        "columns": 7,
        "rows": 5
       }
      },
      "text/html": [
       "<div>\n",
       "<style scoped>\n",
       "    .dataframe tbody tr th:only-of-type {\n",
       "        vertical-align: middle;\n",
       "    }\n",
       "\n",
       "    .dataframe tbody tr th {\n",
       "        vertical-align: top;\n",
       "    }\n",
       "\n",
       "    .dataframe thead th {\n",
       "        text-align: right;\n",
       "    }\n",
       "</style>\n",
       "<table border=\"1\" class=\"dataframe\">\n",
       "  <thead>\n",
       "    <tr style=\"text-align: right;\">\n",
       "      <th></th>\n",
       "      <th>product_id</th>\n",
       "      <th>title</th>\n",
       "      <th>price</th>\n",
       "      <th>category</th>\n",
       "      <th>brand</th>\n",
       "      <th>stock</th>\n",
       "      <th>rating</th>\n",
       "    </tr>\n",
       "  </thead>\n",
       "  <tbody>\n",
       "    <tr>\n",
       "      <th>0</th>\n",
       "      <td>1</td>\n",
       "      <td>Essence Mascara Lash Princess</td>\n",
       "      <td>9.99</td>\n",
       "      <td>beauty</td>\n",
       "      <td>Essence</td>\n",
       "      <td>99</td>\n",
       "      <td>2.56</td>\n",
       "    </tr>\n",
       "    <tr>\n",
       "      <th>1</th>\n",
       "      <td>2</td>\n",
       "      <td>Eyeshadow Palette with Mirror</td>\n",
       "      <td>19.99</td>\n",
       "      <td>beauty</td>\n",
       "      <td>Glamour Beauty</td>\n",
       "      <td>34</td>\n",
       "      <td>2.86</td>\n",
       "    </tr>\n",
       "    <tr>\n",
       "      <th>2</th>\n",
       "      <td>3</td>\n",
       "      <td>Powder Canister</td>\n",
       "      <td>14.99</td>\n",
       "      <td>beauty</td>\n",
       "      <td>Velvet Touch</td>\n",
       "      <td>89</td>\n",
       "      <td>4.64</td>\n",
       "    </tr>\n",
       "    <tr>\n",
       "      <th>3</th>\n",
       "      <td>4</td>\n",
       "      <td>Red Lipstick</td>\n",
       "      <td>12.99</td>\n",
       "      <td>beauty</td>\n",
       "      <td>Chic Cosmetics</td>\n",
       "      <td>91</td>\n",
       "      <td>4.36</td>\n",
       "    </tr>\n",
       "    <tr>\n",
       "      <th>4</th>\n",
       "      <td>5</td>\n",
       "      <td>Red Nail Polish</td>\n",
       "      <td>8.99</td>\n",
       "      <td>beauty</td>\n",
       "      <td>Nail Couture</td>\n",
       "      <td>79</td>\n",
       "      <td>4.32</td>\n",
       "    </tr>\n",
       "  </tbody>\n",
       "</table>\n",
       "</div>"
      ],
      "text/plain": [
       "   product_id                          title  price category           brand  \\\n",
       "0           1  Essence Mascara Lash Princess   9.99   beauty         Essence   \n",
       "1           2  Eyeshadow Palette with Mirror  19.99   beauty  Glamour Beauty   \n",
       "2           3                Powder Canister  14.99   beauty    Velvet Touch   \n",
       "3           4                   Red Lipstick  12.99   beauty  Chic Cosmetics   \n",
       "4           5                Red Nail Polish   8.99   beauty    Nail Couture   \n",
       "\n",
       "   stock  rating  \n",
       "0     99    2.56  \n",
       "1     34    2.86  \n",
       "2     89    4.64  \n",
       "3     91    4.36  \n",
       "4     79    4.32  "
      ]
     },
     "metadata": {},
     "output_type": "display_data"
    },
    {
     "name": "stdout",
     "output_type": "stream",
     "text": [
      "\n",
      "Reviews preview:\n"
     ]
    },
    {
     "data": {
      "application/vnd.microsoft.datawrangler.viewer.v0+json": {
       "columns": [
        {
         "name": "index",
         "rawType": "int64",
         "type": "integer"
        },
        {
         "name": "product_id",
         "rawType": "int64",
         "type": "integer"
        },
        {
         "name": "rating",
         "rawType": "int64",
         "type": "integer"
        },
        {
         "name": "comment",
         "rawType": "object",
         "type": "string"
        },
        {
         "name": "reviewer_name",
         "rawType": "object",
         "type": "string"
        },
        {
         "name": "reviewer_email",
         "rawType": "object",
         "type": "string"
        },
        {
         "name": "review_date",
         "rawType": "object",
         "type": "string"
        }
       ],
       "ref": "e1e4080c-9c6d-4c3b-9dc1-273f8a995310",
       "rows": [
        [
         "0",
         "1",
         "3",
         "Would not recommend!",
         "Eleanor Collins",
         "eleanor.collins@x.dummyjson.com",
         "2025-04-30T09:41:02.053Z"
        ],
        [
         "1",
         "1",
         "4",
         "Very satisfied!",
         "Lucas Gordon",
         "lucas.gordon@x.dummyjson.com",
         "2025-04-30T09:41:02.053Z"
        ],
        [
         "2",
         "1",
         "5",
         "Highly impressed!",
         "Eleanor Collins",
         "eleanor.collins@x.dummyjson.com",
         "2025-04-30T09:41:02.053Z"
        ],
        [
         "3",
         "2",
         "5",
         "Great product!",
         "Savannah Gomez",
         "savannah.gomez@x.dummyjson.com",
         "2025-04-30T09:41:02.053Z"
        ],
        [
         "4",
         "2",
         "4",
         "Awesome product!",
         "Christian Perez",
         "christian.perez@x.dummyjson.com",
         "2025-04-30T09:41:02.053Z"
        ]
       ],
       "shape": {
        "columns": 6,
        "rows": 5
       }
      },
      "text/html": [
       "<div>\n",
       "<style scoped>\n",
       "    .dataframe tbody tr th:only-of-type {\n",
       "        vertical-align: middle;\n",
       "    }\n",
       "\n",
       "    .dataframe tbody tr th {\n",
       "        vertical-align: top;\n",
       "    }\n",
       "\n",
       "    .dataframe thead th {\n",
       "        text-align: right;\n",
       "    }\n",
       "</style>\n",
       "<table border=\"1\" class=\"dataframe\">\n",
       "  <thead>\n",
       "    <tr style=\"text-align: right;\">\n",
       "      <th></th>\n",
       "      <th>product_id</th>\n",
       "      <th>rating</th>\n",
       "      <th>comment</th>\n",
       "      <th>reviewer_name</th>\n",
       "      <th>reviewer_email</th>\n",
       "      <th>review_date</th>\n",
       "    </tr>\n",
       "  </thead>\n",
       "  <tbody>\n",
       "    <tr>\n",
       "      <th>0</th>\n",
       "      <td>1</td>\n",
       "      <td>3</td>\n",
       "      <td>Would not recommend!</td>\n",
       "      <td>Eleanor Collins</td>\n",
       "      <td>eleanor.collins@x.dummyjson.com</td>\n",
       "      <td>2025-04-30T09:41:02.053Z</td>\n",
       "    </tr>\n",
       "    <tr>\n",
       "      <th>1</th>\n",
       "      <td>1</td>\n",
       "      <td>4</td>\n",
       "      <td>Very satisfied!</td>\n",
       "      <td>Lucas Gordon</td>\n",
       "      <td>lucas.gordon@x.dummyjson.com</td>\n",
       "      <td>2025-04-30T09:41:02.053Z</td>\n",
       "    </tr>\n",
       "    <tr>\n",
       "      <th>2</th>\n",
       "      <td>1</td>\n",
       "      <td>5</td>\n",
       "      <td>Highly impressed!</td>\n",
       "      <td>Eleanor Collins</td>\n",
       "      <td>eleanor.collins@x.dummyjson.com</td>\n",
       "      <td>2025-04-30T09:41:02.053Z</td>\n",
       "    </tr>\n",
       "    <tr>\n",
       "      <th>3</th>\n",
       "      <td>2</td>\n",
       "      <td>5</td>\n",
       "      <td>Great product!</td>\n",
       "      <td>Savannah Gomez</td>\n",
       "      <td>savannah.gomez@x.dummyjson.com</td>\n",
       "      <td>2025-04-30T09:41:02.053Z</td>\n",
       "    </tr>\n",
       "    <tr>\n",
       "      <th>4</th>\n",
       "      <td>2</td>\n",
       "      <td>4</td>\n",
       "      <td>Awesome product!</td>\n",
       "      <td>Christian Perez</td>\n",
       "      <td>christian.perez@x.dummyjson.com</td>\n",
       "      <td>2025-04-30T09:41:02.053Z</td>\n",
       "    </tr>\n",
       "  </tbody>\n",
       "</table>\n",
       "</div>"
      ],
      "text/plain": [
       "   product_id  rating               comment    reviewer_name  \\\n",
       "0           1       3  Would not recommend!  Eleanor Collins   \n",
       "1           1       4       Very satisfied!     Lucas Gordon   \n",
       "2           1       5     Highly impressed!  Eleanor Collins   \n",
       "3           2       5        Great product!   Savannah Gomez   \n",
       "4           2       4      Awesome product!  Christian Perez   \n",
       "\n",
       "                    reviewer_email               review_date  \n",
       "0  eleanor.collins@x.dummyjson.com  2025-04-30T09:41:02.053Z  \n",
       "1     lucas.gordon@x.dummyjson.com  2025-04-30T09:41:02.053Z  \n",
       "2  eleanor.collins@x.dummyjson.com  2025-04-30T09:41:02.053Z  \n",
       "3   savannah.gomez@x.dummyjson.com  2025-04-30T09:41:02.053Z  \n",
       "4  christian.perez@x.dummyjson.com  2025-04-30T09:41:02.053Z  "
      ]
     },
     "metadata": {},
     "output_type": "display_data"
    }
   ],
   "source": [
    "# Verify data loaded correctly\n",
    "print(\"Tables in database:\")\n",
    "display(con.execute(\"SHOW TABLES\").df())\n",
    "\n",
    "print(\"\\nProducts preview:\")\n",
    "display(con.execute(\"SELECT * FROM products LIMIT 5\").df())\n",
    "\n",
    "print(\"\\nReviews preview:\")\n",
    "display(con.execute(\"SELECT * FROM reviews LIMIT 5\").df())"
   ]
  },
  {
   "cell_type": "markdown",
   "id": "518e7afe",
   "metadata": {},
   "source": [
    "### Success! JSON → DuckDB\n",
    "\n",
    "We've completed the pipeline:\n",
    "1. ✅ Fetched JSON from API\n",
    "2. ✅ Normalized nested structures to tidy tables\n",
    "3. ✅ Loaded to DuckDB for SQL analysis\n",
    "\n",
    "**Now we can use SQL to answer business questions!**\n",
    "\n",
    "---\n"
   ]
  },
  {
   "cell_type": "markdown",
   "id": "46b7ebe1",
   "metadata": {},
   "source": [
    "---\n",
    "\n",
    "## Part 4: SQL Analysis & Joins (⏱️ 10-12 minutes)\n",
    "\n",
    "### Business Questions We Can Now Answer\n",
    "\n",
    "With normalized tables and SQL, we can answer questions like:\n",
    "1. How many products do we have per category?\n",
    "2. What's the average review rating per product?\n",
    "3. Which products have the most reviews?\n",
    "4. Which reviewers are most active?\n",
    "\n",
    "Let's tackle each one:\n",
    "\n",
    "---\n"
   ]
  },
  {
   "cell_type": "markdown",
   "id": "bb0dcd45",
   "metadata": {},
   "source": [
    "### Query 1: Products by Category\n",
    "\n",
    "**Business question:** \"How is our product catalog distributed across categories? Which categories have the most products, and what's the average price point in each category?\"\n",
    "\n",
    "**Why this matters:** Understanding category distribution helps with:\n",
    "- Inventory planning (which categories need more variety?)\n",
    "- Pricing strategy (are we positioned as premium or budget in each category?)\n",
    "- Marketing focus (which categories to promote?)\n",
    "\n",
    "Let's use GROUP BY to aggregate products by category:\n",
    "\n",
    "---"
   ]
  },
  {
   "cell_type": "code",
   "execution_count": 41,
   "id": "ca8601d0",
   "metadata": {
    "execution": {
     "iopub.execute_input": "2025-10-13T11:25:34.204855Z",
     "iopub.status.busy": "2025-10-13T11:25:34.204780Z",
     "iopub.status.idle": "2025-10-13T11:25:34.208240Z",
     "shell.execute_reply": "2025-10-13T11:25:34.208051Z"
    }
   },
   "outputs": [
    {
     "name": "stdout",
     "output_type": "stream",
     "text": [
      "Products by category:\n"
     ]
    },
    {
     "data": {
      "application/vnd.microsoft.datawrangler.viewer.v0+json": {
       "columns": [
        {
         "name": "index",
         "rawType": "int64",
         "type": "integer"
        },
        {
         "name": "category",
         "rawType": "object",
         "type": "string"
        },
        {
         "name": "product_count",
         "rawType": "int64",
         "type": "integer"
        },
        {
         "name": "avg_price",
         "rawType": "float64",
         "type": "float"
        }
       ],
       "ref": "c092759f-ebb0-49fc-9feb-ea9c5f2e0d38",
       "rows": [
        [
         "0",
         "groceries",
         "15",
         "6.04"
        ],
        [
         "1",
         "beauty",
         "5",
         "13.39"
        ],
        [
         "2",
         "fragrances",
         "5",
         "83.99"
        ],
        [
         "3",
         "furniture",
         "5",
         "1199.99"
        ]
       ],
       "shape": {
        "columns": 3,
        "rows": 4
       }
      },
      "text/html": [
       "<div>\n",
       "<style scoped>\n",
       "    .dataframe tbody tr th:only-of-type {\n",
       "        vertical-align: middle;\n",
       "    }\n",
       "\n",
       "    .dataframe tbody tr th {\n",
       "        vertical-align: top;\n",
       "    }\n",
       "\n",
       "    .dataframe thead th {\n",
       "        text-align: right;\n",
       "    }\n",
       "</style>\n",
       "<table border=\"1\" class=\"dataframe\">\n",
       "  <thead>\n",
       "    <tr style=\"text-align: right;\">\n",
       "      <th></th>\n",
       "      <th>category</th>\n",
       "      <th>product_count</th>\n",
       "      <th>avg_price</th>\n",
       "    </tr>\n",
       "  </thead>\n",
       "  <tbody>\n",
       "    <tr>\n",
       "      <th>0</th>\n",
       "      <td>groceries</td>\n",
       "      <td>15</td>\n",
       "      <td>6.04</td>\n",
       "    </tr>\n",
       "    <tr>\n",
       "      <th>1</th>\n",
       "      <td>beauty</td>\n",
       "      <td>5</td>\n",
       "      <td>13.39</td>\n",
       "    </tr>\n",
       "    <tr>\n",
       "      <th>2</th>\n",
       "      <td>fragrances</td>\n",
       "      <td>5</td>\n",
       "      <td>83.99</td>\n",
       "    </tr>\n",
       "    <tr>\n",
       "      <th>3</th>\n",
       "      <td>furniture</td>\n",
       "      <td>5</td>\n",
       "      <td>1199.99</td>\n",
       "    </tr>\n",
       "  </tbody>\n",
       "</table>\n",
       "</div>"
      ],
      "text/plain": [
       "     category  product_count  avg_price\n",
       "0   groceries             15       6.04\n",
       "1      beauty              5      13.39\n",
       "2  fragrances              5      83.99\n",
       "3   furniture              5    1199.99"
      ]
     },
     "execution_count": 41,
     "metadata": {},
     "output_type": "execute_result"
    }
   ],
   "source": [
    "# Count products by category\n",
    "print(\"Products by category:\")\n",
    "con.execute(\"\"\"\n",
    "    SELECT \n",
    "        category,\n",
    "        COUNT(*) as product_count,\n",
    "        ROUND(AVG(price), 2) as avg_price\n",
    "    FROM products\n",
    "    GROUP BY category\n",
    "    ORDER BY product_count DESC\n",
    "\"\"\").df()"
   ]
  },
  {
   "cell_type": "markdown",
   "id": "edbd2afa",
   "metadata": {},
   "source": [
    "**What happened?**\n",
    "\n",
    "The query executed three key operations:\n",
    "1. **GROUP BY category** - Split our 30 products into groups (one per category)\n",
    "2. **COUNT(*)** - Counted how many products in each group\n",
    "3. **AVG(price)** - Calculated average price within each group\n",
    "\n",
    "**Business insights from the results:**\n",
    "- **Groceries dominates** with 15 products (50% of catalog) at low price point ($6.04 avg)\n",
    "- **Furniture** is premium category (only 5 products but $1,200 avg price)\n",
    "- **Beauty & Fragrances** are mid-tier (~5 products each, $13-$84 range)\n",
    "\n",
    "**Key SQL concept:** GROUP BY transforms row-level data into summary statistics. We went from 30 product rows → 4 category summary rows.\n",
    "\n",
    "---"
   ]
  },
  {
   "cell_type": "markdown",
   "id": "34f59780",
   "metadata": {},
   "source": [
    "### Query 2: JOIN Products + Reviews\n",
    "\n",
    "**Business question:** \"Which products have the best customer ratings? How many reviews do they have, and are highly-rated products also highly-reviewed?\"\n",
    "\n",
    "**Why JOINs matter:** We have product data in one table and review data in another. To answer questions like \"best-reviewed products,\" we need to **combine** these tables.\n",
    "\n",
    "**This is the power of normalization:** We separated products and reviews into tidy tables. Now we can JOIN them back together to answer multi-dimensional questions.\n",
    "\n",
    "**JOIN Strategy:**\n",
    "- Use **LEFT JOIN** to keep ALL products (even those without reviews)\n",
    "- This shows us which products need more review attention\n",
    "- If we used INNER JOIN, we'd lose products with zero reviews\n",
    "\n",
    "Let's combine both tables:\n",
    "\n",
    "---"
   ]
  },
  {
   "cell_type": "code",
   "execution_count": 42,
   "id": "6a603777",
   "metadata": {
    "execution": {
     "iopub.execute_input": "2025-10-13T11:25:34.209326Z",
     "iopub.status.busy": "2025-10-13T11:25:34.209264Z",
     "iopub.status.idle": "2025-10-13T11:25:34.213643Z",
     "shell.execute_reply": "2025-10-13T11:25:34.213433Z"
    }
   },
   "outputs": [
    {
     "name": "stdout",
     "output_type": "stream",
     "text": [
      "Top-rated products (by review ratings):\n"
     ]
    },
    {
     "data": {
      "application/vnd.microsoft.datawrangler.viewer.v0+json": {
       "columns": [
        {
         "name": "index",
         "rawType": "int64",
         "type": "integer"
        },
        {
         "name": "product_id",
         "rawType": "int64",
         "type": "integer"
        },
        {
         "name": "title",
         "rawType": "object",
         "type": "string"
        },
        {
         "name": "category",
         "rawType": "object",
         "type": "string"
        },
        {
         "name": "price",
         "rawType": "float64",
         "type": "float"
        },
        {
         "name": "review_count",
         "rawType": "int64",
         "type": "integer"
        },
        {
         "name": "avg_review_rating",
         "rawType": "float64",
         "type": "float"
        }
       ],
       "ref": "58001f0c-46d4-4cec-886d-1fd63b156a87",
       "rows": [
        [
         "0",
         "28",
         "Ice Cream",
         "groceries",
         "5.49",
         "3",
         "4.67"
        ],
        [
         "1",
         "22",
         "Dog Food",
         "groceries",
         "10.99",
         "3",
         "4.67"
        ],
        [
         "2",
         "29",
         "Juice",
         "groceries",
         "3.99",
         "3",
         "4.67"
        ],
        [
         "3",
         "7",
         "Chanel Coco Noir Eau De",
         "fragrances",
         "129.99",
         "3",
         "4.67"
        ],
        [
         "4",
         "4",
         "Red Lipstick",
         "beauty",
         "12.99",
         "3",
         "4.67"
        ],
        [
         "5",
         "8",
         "Dior J'adore",
         "fragrances",
         "89.99",
         "3",
         "4.33"
        ],
        [
         "6",
         "9",
         "Dolce Shine Eau de",
         "fragrances",
         "69.99",
         "3",
         "4.33"
        ],
        [
         "7",
         "17",
         "Beef Steak",
         "groceries",
         "12.99",
         "3",
         "4.0"
        ],
        [
         "8",
         "20",
         "Cooking Oil",
         "groceries",
         "4.99",
         "3",
         "4.0"
        ],
        [
         "9",
         "13",
         "Bedside Table African Cherry",
         "furniture",
         "299.99",
         "3",
         "4.0"
        ]
       ],
       "shape": {
        "columns": 6,
        "rows": 10
       }
      },
      "text/html": [
       "<div>\n",
       "<style scoped>\n",
       "    .dataframe tbody tr th:only-of-type {\n",
       "        vertical-align: middle;\n",
       "    }\n",
       "\n",
       "    .dataframe tbody tr th {\n",
       "        vertical-align: top;\n",
       "    }\n",
       "\n",
       "    .dataframe thead th {\n",
       "        text-align: right;\n",
       "    }\n",
       "</style>\n",
       "<table border=\"1\" class=\"dataframe\">\n",
       "  <thead>\n",
       "    <tr style=\"text-align: right;\">\n",
       "      <th></th>\n",
       "      <th>product_id</th>\n",
       "      <th>title</th>\n",
       "      <th>category</th>\n",
       "      <th>price</th>\n",
       "      <th>review_count</th>\n",
       "      <th>avg_review_rating</th>\n",
       "    </tr>\n",
       "  </thead>\n",
       "  <tbody>\n",
       "    <tr>\n",
       "      <th>0</th>\n",
       "      <td>28</td>\n",
       "      <td>Ice Cream</td>\n",
       "      <td>groceries</td>\n",
       "      <td>5.49</td>\n",
       "      <td>3</td>\n",
       "      <td>4.67</td>\n",
       "    </tr>\n",
       "    <tr>\n",
       "      <th>1</th>\n",
       "      <td>22</td>\n",
       "      <td>Dog Food</td>\n",
       "      <td>groceries</td>\n",
       "      <td>10.99</td>\n",
       "      <td>3</td>\n",
       "      <td>4.67</td>\n",
       "    </tr>\n",
       "    <tr>\n",
       "      <th>2</th>\n",
       "      <td>29</td>\n",
       "      <td>Juice</td>\n",
       "      <td>groceries</td>\n",
       "      <td>3.99</td>\n",
       "      <td>3</td>\n",
       "      <td>4.67</td>\n",
       "    </tr>\n",
       "    <tr>\n",
       "      <th>3</th>\n",
       "      <td>7</td>\n",
       "      <td>Chanel Coco Noir Eau De</td>\n",
       "      <td>fragrances</td>\n",
       "      <td>129.99</td>\n",
       "      <td>3</td>\n",
       "      <td>4.67</td>\n",
       "    </tr>\n",
       "    <tr>\n",
       "      <th>4</th>\n",
       "      <td>4</td>\n",
       "      <td>Red Lipstick</td>\n",
       "      <td>beauty</td>\n",
       "      <td>12.99</td>\n",
       "      <td>3</td>\n",
       "      <td>4.67</td>\n",
       "    </tr>\n",
       "    <tr>\n",
       "      <th>5</th>\n",
       "      <td>8</td>\n",
       "      <td>Dior J'adore</td>\n",
       "      <td>fragrances</td>\n",
       "      <td>89.99</td>\n",
       "      <td>3</td>\n",
       "      <td>4.33</td>\n",
       "    </tr>\n",
       "    <tr>\n",
       "      <th>6</th>\n",
       "      <td>9</td>\n",
       "      <td>Dolce Shine Eau de</td>\n",
       "      <td>fragrances</td>\n",
       "      <td>69.99</td>\n",
       "      <td>3</td>\n",
       "      <td>4.33</td>\n",
       "    </tr>\n",
       "    <tr>\n",
       "      <th>7</th>\n",
       "      <td>17</td>\n",
       "      <td>Beef Steak</td>\n",
       "      <td>groceries</td>\n",
       "      <td>12.99</td>\n",
       "      <td>3</td>\n",
       "      <td>4.00</td>\n",
       "    </tr>\n",
       "    <tr>\n",
       "      <th>8</th>\n",
       "      <td>20</td>\n",
       "      <td>Cooking Oil</td>\n",
       "      <td>groceries</td>\n",
       "      <td>4.99</td>\n",
       "      <td>3</td>\n",
       "      <td>4.00</td>\n",
       "    </tr>\n",
       "    <tr>\n",
       "      <th>9</th>\n",
       "      <td>13</td>\n",
       "      <td>Bedside Table African Cherry</td>\n",
       "      <td>furniture</td>\n",
       "      <td>299.99</td>\n",
       "      <td>3</td>\n",
       "      <td>4.00</td>\n",
       "    </tr>\n",
       "  </tbody>\n",
       "</table>\n",
       "</div>"
      ],
      "text/plain": [
       "   product_id                         title    category   price  review_count  \\\n",
       "0          28                     Ice Cream   groceries    5.49             3   \n",
       "1          22                      Dog Food   groceries   10.99             3   \n",
       "2          29                         Juice   groceries    3.99             3   \n",
       "3           7       Chanel Coco Noir Eau De  fragrances  129.99             3   \n",
       "4           4                  Red Lipstick      beauty   12.99             3   \n",
       "5           8                  Dior J'adore  fragrances   89.99             3   \n",
       "6           9            Dolce Shine Eau de  fragrances   69.99             3   \n",
       "7          17                    Beef Steak   groceries   12.99             3   \n",
       "8          20                   Cooking Oil   groceries    4.99             3   \n",
       "9          13  Bedside Table African Cherry   furniture  299.99             3   \n",
       "\n",
       "   avg_review_rating  \n",
       "0               4.67  \n",
       "1               4.67  \n",
       "2               4.67  \n",
       "3               4.67  \n",
       "4               4.67  \n",
       "5               4.33  \n",
       "6               4.33  \n",
       "7               4.00  \n",
       "8               4.00  \n",
       "9               4.00  "
      ]
     },
     "execution_count": 42,
     "metadata": {},
     "output_type": "execute_result"
    }
   ],
   "source": [
    "# Calculate average review rating per product\n",
    "print(\"Top-rated products (by review ratings):\")\n",
    "con.execute(\"\"\"\n",
    "    SELECT \n",
    "        p.product_id,\n",
    "        p.title,\n",
    "        p.category,\n",
    "        p.price,\n",
    "        COUNT(r.rating) as review_count,\n",
    "        ROUND(AVG(r.rating), 2) as avg_review_rating\n",
    "    FROM products p\n",
    "    LEFT JOIN reviews r ON p.product_id = r.product_id\n",
    "    GROUP BY p.product_id, p.title, p.category, p.price\n",
    "    ORDER BY avg_review_rating DESC\n",
    "    LIMIT 10\n",
    "\"\"\").df()"
   ]
  },
  {
   "cell_type": "markdown",
   "id": "8ccdb8f6",
   "metadata": {},
   "source": [
    "**What happened?**\n",
    "\n",
    "This query demonstrates the complete **normalization → JOIN → aggregation** pipeline:\n",
    "\n",
    "1. **LEFT JOIN** - Connected products table with reviews table using `product_id` as the foreign key\n",
    "2. **GROUP BY** - Aggregated reviews per product (collapsed multiple reviews → one row per product)\n",
    "3. **COUNT(r.rating)** - Counted how many reviews each product has\n",
    "4. **AVG(r.rating)** - Calculated average rating from all reviews\n",
    "\n",
    "**Business insights from the results:**\n",
    "- All top-rated products have **exactly 3 reviews** - This is consistent (our dataset has 3 reviews per product)\n",
    "- Multiple products tied at **4.67 stars** - These are our best-reviewed items\n",
    "- The query shows **product_id, title, category, price** alongside review metrics\n",
    "\n",
    "**Key SQL concept - LEFT JOIN preserves all products:**\n",
    "- If a product had 0 reviews, it would still appear in results with `review_count = 0` and `avg_review_rating = NULL`\n",
    "- This is different from INNER JOIN, which would exclude products without reviews entirely\n",
    "\n",
    "**Why this matters for business:** You can now identify:\n",
    "- Products with high ratings AND high review counts (social proof!)\n",
    "- Products with few reviews (opportunity to gather more feedback)\n",
    "- Category patterns in ratings (are beauty products rated higher than groceries?)\n",
    "\n",
    "---"
   ]
  },
  {
   "cell_type": "markdown",
   "id": "1218a13b",
   "metadata": {},
   "source": [
    "### Common Mistakes with JOINs & Aggregations\n",
    "\n",
    "> **🚨 These mistakes will cost you hours of debugging. Learn them now!**\n",
    "\n",
    "---\n",
    "\n",
    "#### ❌ Mistake 1: Forgetting the JOIN Condition (Accidental CROSS JOIN)\n",
    "\n",
    "**Wrong:**\n",
    "```sql\n",
    "SELECT p.title, r.rating\n",
    "FROM products p, reviews r  -- Missing ON condition!\n",
    "```\n",
    "\n",
    "**What happens:** Every product × every review = 30 × 90 = **2,700 rows** instead of 90!\n",
    "\n",
    "**✅ Correct:**\n",
    "```sql\n",
    "SELECT p.title, r.rating\n",
    "FROM products p\n",
    "LEFT JOIN reviews r ON p.product_id = r.product_id  -- Explicit JOIN condition\n",
    "```\n",
    "\n",
    "---\n",
    "\n",
    "#### ❌ Mistake 2: Using INNER JOIN When You Need LEFT JOIN\n",
    "\n",
    "**Business question:** \"Show me ALL products and their review counts (including products with zero reviews)\"\n",
    "\n",
    "**Wrong:**\n",
    "```sql\n",
    "SELECT p.title, COUNT(r.rating) as review_count\n",
    "FROM products p\n",
    "INNER JOIN reviews r ON p.product_id = r.product_id  -- ❌ Loses products without reviews!\n",
    "GROUP BY p.title\n",
    "```\n",
    "\n",
    "**What happens:** Products with 0 reviews don't appear in results at all.\n",
    "\n",
    "**✅ Correct:**\n",
    "```sql\n",
    "SELECT p.title, COUNT(r.rating) as review_count\n",
    "FROM products p\n",
    "LEFT JOIN reviews r ON p.product_id = r.product_id  -- ✅ Keeps all products\n",
    "GROUP BY p.title\n",
    "```\n",
    "\n",
    "**Remember:** LEFT JOIN preserves all rows from the LEFT table (products), even if no match in RIGHT table (reviews).\n",
    "\n",
    "---\n",
    "\n",
    "#### ❌ Mistake 3: Forgetting GROUP BY Columns\n",
    "\n",
    "**Wrong:**\n",
    "```sql\n",
    "SELECT p.title, p.category, COUNT(r.rating)\n",
    "FROM products p\n",
    "LEFT JOIN reviews r ON p.product_id = r.product_id\n",
    "GROUP BY p.title  -- ❌ Missing p.category in GROUP BY!\n",
    "```\n",
    "\n",
    "**SQL Rule:** Every non-aggregated column in SELECT must be in GROUP BY.\n",
    "\n",
    "**✅ Correct:**\n",
    "```sql\n",
    "SELECT p.title, p.category, COUNT(r.rating)\n",
    "FROM products p\n",
    "LEFT JOIN reviews r ON p.product_id = r.product_id\n",
    "GROUP BY p.title, p.category  -- ✅ All non-aggregated columns included\n",
    "```\n",
    "\n",
    "---\n",
    "\n",
    "#### ❌ Mistake 4: Using COUNT(*) vs COUNT(column) with LEFT JOIN\n",
    "\n",
    "**Scenario:** Product has 0 reviews (no matching rows in reviews table).\n",
    "\n",
    "**Query:**\n",
    "```sql\n",
    "SELECT p.title, COUNT(*), COUNT(r.rating)\n",
    "FROM products p\n",
    "LEFT JOIN reviews r ON p.product_id = r.product_id\n",
    "GROUP BY p.title\n",
    "```\n",
    "\n",
    "**For a product with 0 reviews:**\n",
    "- `COUNT(*)` = **1** (counts the product row, even though review columns are NULL)\n",
    "- `COUNT(r.rating)` = **0** (counts only non-NULL values)\n",
    "\n",
    "**✅ With LEFT JOIN, use `COUNT(column)` not `COUNT(*)`** to count actual matches!\n",
    "\n",
    "---"
   ]
  },
  {
   "cell_type": "markdown",
   "id": "e49b6058",
   "metadata": {},
   "source": [
    "### Decision Guide: Which JOIN Type to Use?\n",
    "\n",
    "> **Ask yourself: \"Do I need ALL rows from the left table, or only matches?\"**\n",
    "\n",
    "---\n",
    "\n",
    "| Business Scenario | Use This JOIN | Why |\n",
    "|-------------------|---------------|-----|\n",
    "| \"Show ALL products and their review counts\" | **LEFT JOIN** | Preserves products without reviews |\n",
    "| \"Show ALL customers and their order totals\" | **LEFT JOIN** | Preserves customers who haven't ordered |\n",
    "| \"Show ONLY products that have been reviewed\" | **INNER JOIN** | Excludes products without reviews |\n",
    "| \"Show ONLY customers who have placed orders\" | **INNER JOIN** | Excludes customers without orders |\n",
    "| \"Show ALL products AND all reviews (even orphaned reviews)\" | **FULL OUTER JOIN** | Rare in practice |\n",
    "\n",
    "---\n",
    "\n",
    "### Quick Decision Tree\n",
    "\n",
    "```\n",
    "Do you need rows from the left table even if there's no match?\n",
    "│\n",
    "├─ YES → Use LEFT JOIN\n",
    "│   Examples:\n",
    "│   - \"All products\" (some might not have reviews)\n",
    "│   - \"All customers\" (some might not have orders)\n",
    "│\n",
    "└─ NO → Use INNER JOIN\n",
    "    Examples:\n",
    "    - \"Only reviewed products\"\n",
    "    - \"Only customers with orders\"\n",
    "```\n",
    "\n",
    "---\n",
    "\n",
    "### In Our E-Commerce Example\n",
    "\n",
    "**LEFT JOIN (what we used):**\n",
    "```sql\n",
    "-- Show ALL products and their review metrics\n",
    "SELECT p.title, COUNT(r.rating) as review_count\n",
    "FROM products p\n",
    "LEFT JOIN reviews r ON p.product_id = r.product_id\n",
    "GROUP BY p.title\n",
    "```\n",
    "**Result:** All 30 products appear. Products without reviews show `review_count = 0`.\n",
    "\n",
    "**INNER JOIN (alternative):**\n",
    "```sql\n",
    "-- Show ONLY products that have been reviewed\n",
    "SELECT p.title, COUNT(r.rating) as review_count\n",
    "FROM products p\n",
    "INNER JOIN reviews r ON p.product_id = r.product_id\n",
    "GROUP BY p.title\n",
    "```\n",
    "**Result:** Only products with ≥1 review appear. (In our dataset, that's all 30, but in real data it might be fewer.)\n",
    "\n",
    "---\n",
    "\n",
    "### When to Use RIGHT JOIN\n",
    "\n",
    "**Almost never!** RIGHT JOIN is the same as LEFT JOIN with tables swapped. Just swap the table order and use LEFT JOIN for clarity:\n",
    "\n",
    "❌ **Confusing:**\n",
    "```sql\n",
    "FROM products p\n",
    "RIGHT JOIN reviews r ON p.product_id = r.product_id\n",
    "```\n",
    "\n",
    "✅ **Clear:**\n",
    "```sql\n",
    "FROM reviews r\n",
    "LEFT JOIN products p ON r.product_id = p.product_id\n",
    "```\n",
    "\n",
    "**Convention:** Always put the \"main\" table (the one you want to preserve) on the LEFT and use LEFT JOIN.\n",
    "\n",
    "---"
   ]
  },
  {
   "cell_type": "markdown",
   "id": "747c1e30",
   "metadata": {},
   "source": [
    "### ⏸️ Pause and Try!\n",
    "\n",
    "**Your task:** Write a query to analyze reviewers and their rating patterns.\n",
    "\n",
    "**Business question:** \"Which reviewers have left the most reviews, and what's their average rating? Are frequent reviewers more generous or more critical?\"\n",
    "\n",
    "**Requirements:**\n",
    "1. JOIN the `products` and `reviews` tables\n",
    "2. GROUP BY reviewer name\n",
    "3. Calculate:\n",
    "   - Count of reviews per reviewer (`COUNT(r.rating)`)\n",
    "   - Average rating given by each reviewer (`AVG(r.rating)`)\n",
    "4. Filter to show ONLY reviewers with **2 or more reviews** (use `HAVING`)\n",
    "5. Order results by review count descending\n",
    "6. Limit to top 15 reviewers\n",
    "\n",
    "**Hint structure:**\n",
    "```sql\n",
    "SELECT \n",
    "    r.reviewer_name,\n",
    "    ??? as review_count,\n",
    "    ??? as avg_rating_given\n",
    "FROM ??? p\n",
    "LEFT JOIN ??? r ON ???\n",
    "GROUP BY ???\n",
    "HAVING ??? >= 2\n",
    "ORDER BY ??? DESC\n",
    "LIMIT 15\n",
    "```\n",
    "\n",
    "**Replace the `???` placeholders and complete the query below:**\n",
    "\n",
    "---"
   ]
  },
  {
   "cell_type": "code",
   "execution_count": null,
   "id": "4504cba4",
   "metadata": {
    "execution": {
     "iopub.execute_input": "2025-10-13T11:25:34.214811Z",
     "iopub.status.busy": "2025-10-13T11:25:34.214739Z",
     "iopub.status.idle": "2025-10-13T11:25:34.217027Z",
     "shell.execute_reply": "2025-10-13T11:25:34.216826Z"
    }
   },
   "outputs": [],
   "source": [
    "# Your turn! Write your query here:\n",
    "#\n",
    "# TODO: Replace this placeholder with your complete query\n",
    "con.execute(\"SELECT 1 AS todo\").df()  # Replace this entire query with your answer"
   ]
  },
  {
   "cell_type": "markdown",
   "id": "ec47bd5c",
   "metadata": {},
   "source": [
    "### Key SQL Concepts Used\n",
    "\n",
    "**LEFT JOIN:**\n",
    "- Keeps ALL products (even those without reviews)\n",
    "- Matches reviews where `product_id` matches\n",
    "- If no reviews exist, review columns are NULL\n",
    "\n",
    "**GROUP BY:**\n",
    "- Aggregates reviews per product\n",
    "- `COUNT(r.rating)` counts how many reviews each product has\n",
    "- `AVG(r.rating)` calculates average rating\n",
    "\n",
    "**Business insight:** We can now see which products have the best reviews and how many reviews they received.\n",
    "\n",
    "---\n",
    "\n",
    "## Summary & What We Accomplished\n",
    "\n",
    "### The Complete Pipeline: API → DuckDB → Insights\n",
    "\n",
    "**We demonstrated the end-to-end modern data pipeline:**\n",
    "\n",
    "1. **Fetch** - Retrieved JSON from DummyJSON API\n",
    "2. **Normalize** - Flattened nested structures (products + reviews)\n",
    "3. **Persist** - Loaded tidy tables into DuckDB\n",
    "4. **Analyze** - Used SQL to answer business questions\n",
    "5. **Validate** - Checked data quality at each step\n",
    "\n",
    "### Key Patterns You Learned\n",
    "\n",
    "✅ **Normalization** - Separate observational units into different tables  \n",
    "✅ **Foreign keys** - Connect related tables (`product_id` links reviews to products)  \n",
    "✅ **Pandas transformation** - Use Python for complex data manipulation  \n",
    "✅ **DuckDB integration** - SQL analysis on pandas DataFrames  \n",
    "✅ **JOINs** - Combine tables to answer multi-dimensional questions  \n",
    "\n",
    "### This is Homework 2!\n",
    "\n",
    "**HW2 will ask you to:**\n",
    "1. Fetch data from a different API (or JSON file)\n",
    "2. Normalize nested structures into tidy tables\n",
    "3. Load to DuckDB\n",
    "4. Write 3-5 SQL queries to calculate business KPIs\n",
    "5. Add validation assertions\n",
    "6. Document your pipeline with a data dictionary\n",
    "\n",
    "**You now have the pattern!** This notebook is your template.\n",
    "\n",
    "---\n",
    "\n",
    "## Where to Go Next\n",
    "\n",
    "### Production Enhancements (Reference)\n",
    "\n",
    "For production systems, you'd add:\n",
    "- **`requests.Session()`** - Connection pooling for better performance\n",
    "- **`tenacity`** - Automatic retry logic for API failures\n",
    "- **Error handling** - Try/except blocks around API calls\n",
    "- **Logging** - Track what happened, when, and why\n",
    "- **Data validation** - More assertions (PK uniqueness, FK integrity, type checks)\n",
    "- **Incremental loads** - Only fetch new data (not full refresh)\n",
    "\n",
    "**See:** `references/api_pipeline_quick_reference.md` for production patterns.\n",
    "\n",
    "### HW2: Due Wednesday, Oct 22 (start of class)\n",
    "\n",
    "**Assignment:** Build a mini-pipeline similar to this notebook\n",
    "- Different API/JSON source\n",
    "- Normalize to 2-3 tables\n",
    "- 3-5 SQL KPIs\n",
    "- Validation assertions\n",
    "- Data dictionary\n",
    "\n",
    "**Instructor will present HW2 details next!**\n",
    "\n",
    "---\n"
   ]
  }
 ],
 "metadata": {
  "kernelspec": {
   "display_name": "Python (my_env)",
   "language": "python",
   "name": "my_env"
  },
  "language_info": {
   "codemirror_mode": {
    "name": "ipython",
    "version": 3
   },
   "file_extension": ".py",
   "mimetype": "text/x-python",
   "name": "python",
   "nbconvert_exporter": "python",
   "pygments_lexer": "ipython3",
   "version": "3.13.7"
  }
 },
 "nbformat": 4,
 "nbformat_minor": 5
}
