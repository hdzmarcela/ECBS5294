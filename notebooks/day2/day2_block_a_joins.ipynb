{
 "cells": [
  {
   "cell_type": "markdown",
   "id": "44cd8aa2",
   "metadata": {},
   "source": [
    "# Day 2, Block A: SQL Joins & Relational Modeling\n",
    "\n",
    "**Duration:** 60 minutes  \n",
    "**Course:** ECBS5294 - Introduction to Data Science: Working with Data  \n",
    "**Instructor:** Eduardo Ariño de la Rubia\n",
    "\n",
    "---\n",
    "\n",
    "## Learning Objectives\n",
    "\n",
    "By the end of this session, you will be able to:\n",
    "\n",
    "1. **Explain** primary keys and foreign keys in relational databases\n",
    "2. **Read** basic ERDs (entity-relationship diagrams)\n",
    "3. **Write INNER JOIN queries** to combine matching records\n",
    "4. **Write LEFT JOIN queries** to keep all records from one table\n",
    "5. **Use CTEs** (Common Table Expressions) for readable multi-step queries\n",
    "6. **Recognize duplicate inflation** and avoid it\n",
    "7. **Aggregate correctly** after joins with proper GROUP BY\n",
    "8. **Combine** joins with window functions for advanced analytics\n",
    "\n",
    "---"
   ]
  },
  {
   "cell_type": "markdown",
   "id": "584471cf",
   "metadata": {},
   "source": [
    "## Part 1: Setup & Motivation (⏱️ 5 minutes)\n",
    "\n",
    "### Why Joins Matter\n",
    "\n",
    "> **\"When you connect tables, you're connecting different aspects of the business. Joins are how organizations answer complex questions.\"**\n",
    "\n",
    "**The Business Reality:**\n",
    "- Your data lives in **multiple tables**, not one giant spreadsheet\n",
    "- **Customers** place **orders**\n",
    "- **Orders** contain **products**\n",
    "- **Products** come from **sellers**\n",
    "- Customers leave **reviews** about orders\n",
    "\n",
    "**To answer business questions, you need to JOIN these tables together:**\n",
    "- \"Which products generate the most revenue?\" → Join orders + products\n",
    "- \"Which sellers have the best ratings?\" → Join sellers + reviews\n",
    "- \"What percentage of orders lack reviews?\" → Join orders + reviews (carefully!)\n",
    "\n",
    "**Today's dataset:** Brazilian e-commerce marketplace (Olist) with real customer, product, and seller data.\n",
    "\n",
    "---"
   ]
  },
  {
   "cell_type": "markdown",
   "id": "21b5624f",
   "metadata": {},
   "source": [
    "### Setup: Connect to DuckDB and Load Data"
   ]
  },
  {
   "cell_type": "code",
   "execution_count": 1,
   "id": "02b5676f",
   "metadata": {
    "execution": {
     "iopub.execute_input": "2025-10-13T11:25:04.036294Z",
     "iopub.status.busy": "2025-10-13T11:25:04.036065Z",
     "iopub.status.idle": "2025-10-13T11:25:04.288497Z",
     "shell.execute_reply": "2025-10-13T11:25:04.287627Z"
    }
   },
   "outputs": [
    {
     "name": "stdout",
     "output_type": "stream",
     "text": [
      "✅ Connected to DuckDB!\n",
      "DuckDB version: 1.4.1\n"
     ]
    }
   ],
   "source": [
    "# Import libraries\n",
    "import duckdb\n",
    "import pandas as pd\n",
    "import warnings\n",
    "warnings.filterwarnings('ignore')\n",
    "\n",
    "# Connect to in-memory database\n",
    "con = duckdb.connect(':memory:')\n",
    "\n",
    "print(\"✅ Connected to DuckDB!\")\n",
    "print(f\"DuckDB version: {duckdb.__version__}\")"
   ]
  },
  {
   "cell_type": "markdown",
   "id": "3913f1d6",
   "metadata": {},
   "source": [
    "### Load Olist Tables\n",
    "\n",
    "We'll load the core tables we need for today's session:"
   ]
  },
  {
   "cell_type": "code",
   "execution_count": 2,
   "id": "606fa2be",
   "metadata": {
    "execution": {
     "iopub.execute_input": "2025-10-13T11:25:04.290898Z",
     "iopub.status.busy": "2025-10-13T11:25:04.290688Z",
     "iopub.status.idle": "2025-10-13T11:25:04.554029Z",
     "shell.execute_reply": "2025-10-13T11:25:04.553790Z"
    }
   },
   "outputs": [
    {
     "name": "stdout",
     "output_type": "stream",
     "text": [
      "✅ All tables loaded successfully!\n"
     ]
    }
   ],
   "source": [
    "# Load orders (fact table)\n",
    "con.execute(\"\"\"\n",
    "    CREATE TABLE orders AS\n",
    "    SELECT * FROM '../../data/day2/block_a/olist_orders_dataset.csv'\n",
    "\"\"\")\n",
    "\n",
    "# Load customers (dimension table)\n",
    "con.execute(\"\"\"\n",
    "    CREATE TABLE customers AS\n",
    "    SELECT * FROM '../../data/day2/block_a/olist_customers_dataset.csv'\n",
    "\"\"\")\n",
    "\n",
    "# Load order_items (fact table)\n",
    "con.execute(\"\"\"\n",
    "    CREATE TABLE order_items AS\n",
    "    SELECT * FROM '../../data/day2/block_a/olist_order_items_dataset.csv'\n",
    "\"\"\")\n",
    "\n",
    "# Load products (dimension table)\n",
    "con.execute(\"\"\"\n",
    "    CREATE TABLE products AS\n",
    "    SELECT * FROM '../../data/day2/block_a/olist_products_dataset.csv'\n",
    "\"\"\")\n",
    "\n",
    "# Load sellers (dimension table)\n",
    "con.execute(\"\"\"\n",
    "    CREATE TABLE sellers AS\n",
    "    SELECT * FROM '../../data/day2/block_a/olist_sellers_dataset.csv'\n",
    "\"\"\")\n",
    "\n",
    "# Load reviews (for LEFT JOIN examples)\n",
    "con.execute(\"\"\"\n",
    "    CREATE TABLE reviews AS\n",
    "    SELECT * FROM '../../data/day2/block_a/olist_order_reviews_dataset.csv'\n",
    "\"\"\")\n",
    "\n",
    "# Load category translation (for readable category names)\n",
    "con.execute(\"\"\"\n",
    "    CREATE TABLE categories AS\n",
    "    SELECT * FROM '../../data/day2/block_a/product_category_name_translation.csv'\n",
    "\"\"\")\n",
    "\n",
    "print(\"✅ All tables loaded successfully!\")"
   ]
  },
  {
   "cell_type": "markdown",
   "id": "1934b286",
   "metadata": {},
   "source": [
    "### Verify Table Sizes"
   ]
  },
  {
   "cell_type": "code",
   "execution_count": 3,
   "id": "dab6d246",
   "metadata": {
    "execution": {
     "iopub.execute_input": "2025-10-13T11:25:04.555138Z",
     "iopub.status.busy": "2025-10-13T11:25:04.555068Z",
     "iopub.status.idle": "2025-10-13T11:25:04.559857Z",
     "shell.execute_reply": "2025-10-13T11:25:04.559671Z"
    }
   },
   "outputs": [
    {
     "data": {
      "application/vnd.microsoft.datawrangler.viewer.v0+json": {
       "columns": [
        {
         "name": "index",
         "rawType": "int64",
         "type": "integer"
        },
        {
         "name": "table_name",
         "rawType": "object",
         "type": "string"
        },
        {
         "name": "row_count",
         "rawType": "int64",
         "type": "integer"
        }
       ],
       "ref": "3d6b208b-23f3-40e7-8f6a-b538c713e455",
       "rows": [
        [
         "0",
         "order_items",
         "112650"
        ],
        [
         "1",
         "orders",
         "99441"
        ],
        [
         "2",
         "customers",
         "99441"
        ],
        [
         "3",
         "reviews",
         "99224"
        ],
        [
         "4",
         "products",
         "32951"
        ],
        [
         "5",
         "sellers",
         "3095"
        ]
       ],
       "shape": {
        "columns": 2,
        "rows": 6
       }
      },
      "text/html": [
       "<div>\n",
       "<style scoped>\n",
       "    .dataframe tbody tr th:only-of-type {\n",
       "        vertical-align: middle;\n",
       "    }\n",
       "\n",
       "    .dataframe tbody tr th {\n",
       "        vertical-align: top;\n",
       "    }\n",
       "\n",
       "    .dataframe thead th {\n",
       "        text-align: right;\n",
       "    }\n",
       "</style>\n",
       "<table border=\"1\" class=\"dataframe\">\n",
       "  <thead>\n",
       "    <tr style=\"text-align: right;\">\n",
       "      <th></th>\n",
       "      <th>table_name</th>\n",
       "      <th>row_count</th>\n",
       "    </tr>\n",
       "  </thead>\n",
       "  <tbody>\n",
       "    <tr>\n",
       "      <th>0</th>\n",
       "      <td>order_items</td>\n",
       "      <td>112650</td>\n",
       "    </tr>\n",
       "    <tr>\n",
       "      <th>1</th>\n",
       "      <td>orders</td>\n",
       "      <td>99441</td>\n",
       "    </tr>\n",
       "    <tr>\n",
       "      <th>2</th>\n",
       "      <td>customers</td>\n",
       "      <td>99441</td>\n",
       "    </tr>\n",
       "    <tr>\n",
       "      <th>3</th>\n",
       "      <td>reviews</td>\n",
       "      <td>99224</td>\n",
       "    </tr>\n",
       "    <tr>\n",
       "      <th>4</th>\n",
       "      <td>products</td>\n",
       "      <td>32951</td>\n",
       "    </tr>\n",
       "    <tr>\n",
       "      <th>5</th>\n",
       "      <td>sellers</td>\n",
       "      <td>3095</td>\n",
       "    </tr>\n",
       "  </tbody>\n",
       "</table>\n",
       "</div>"
      ],
      "text/plain": [
       "    table_name  row_count\n",
       "0  order_items     112650\n",
       "1       orders      99441\n",
       "2    customers      99441\n",
       "3      reviews      99224\n",
       "4     products      32951\n",
       "5      sellers       3095"
      ]
     },
     "execution_count": 3,
     "metadata": {},
     "output_type": "execute_result"
    }
   ],
   "source": [
    "# Check row counts\n",
    "con.execute(\"\"\"\n",
    "    SELECT 'orders' as table_name, COUNT(*) as row_count FROM orders\n",
    "    UNION ALL\n",
    "    SELECT 'customers', COUNT(*) FROM customers\n",
    "    UNION ALL\n",
    "    SELECT 'order_items', COUNT(*) FROM order_items\n",
    "    UNION ALL\n",
    "    SELECT 'products', COUNT(*) FROM products\n",
    "    UNION ALL\n",
    "    SELECT 'sellers', COUNT(*) FROM sellers\n",
    "    UNION ALL\n",
    "    SELECT 'reviews', COUNT(*) FROM reviews\n",
    "    ORDER BY row_count DESC\n",
    "\"\"\").df()"
   ]
  },
  {
   "cell_type": "markdown",
   "id": "17b05a47",
   "metadata": {},
   "source": [
    "**Key observations:**\n",
    "- **99,441 orders** and **99,441 customers** → One customer per order (by design)\n",
    "- **112,650 order_items** → More items than orders (some orders have multiple items!)\n",
    "- **32,951 products** → Large catalog\n",
    "- **3,095 sellers** → Multi-seller marketplace\n",
    "- **~100K reviews** → Most orders have reviews, but not all\n",
    "\n",
    "---"
   ]
  },
  {
   "cell_type": "code",
   "execution_count": 5,
   "id": "24f1648f",
   "metadata": {
    "execution": {
     "iopub.execute_input": "2025-10-13T11:25:04.560822Z",
     "iopub.status.busy": "2025-10-13T11:25:04.560748Z",
     "iopub.status.idle": "2025-10-13T11:25:04.563341Z",
     "shell.execute_reply": "2025-10-13T11:25:04.563182Z"
    }
   },
   "outputs": [
    {
     "data": {
      "application/vnd.microsoft.datawrangler.viewer.v0+json": {
       "columns": [
        {
         "name": "index",
         "rawType": "int64",
         "type": "integer"
        },
        {
         "name": "column_name",
         "rawType": "object",
         "type": "string"
        },
        {
         "name": "data_type",
         "rawType": "object",
         "type": "string"
        }
       ],
       "ref": "09c7c47f-b0a8-4061-aeb1-03693255220f",
       "rows": [
        [
         "0",
         "orders.customer_id",
         "VARCHAR"
        ],
        [
         "1",
         "customers.customer_id",
         "VARCHAR"
        ],
        [
         "2",
         "orders.order_id",
         "VARCHAR"
        ],
        [
         "3",
         "order_items.order_id",
         "VARCHAR"
        ]
       ],
       "shape": {
        "columns": 2,
        "rows": 4
       }
      },
      "text/html": [
       "<div>\n",
       "<style scoped>\n",
       "    .dataframe tbody tr th:only-of-type {\n",
       "        vertical-align: middle;\n",
       "    }\n",
       "\n",
       "    .dataframe tbody tr th {\n",
       "        vertical-align: top;\n",
       "    }\n",
       "\n",
       "    .dataframe thead th {\n",
       "        text-align: right;\n",
       "    }\n",
       "</style>\n",
       "<table border=\"1\" class=\"dataframe\">\n",
       "  <thead>\n",
       "    <tr style=\"text-align: right;\">\n",
       "      <th></th>\n",
       "      <th>column_name</th>\n",
       "      <th>data_type</th>\n",
       "    </tr>\n",
       "  </thead>\n",
       "  <tbody>\n",
       "    <tr>\n",
       "      <th>0</th>\n",
       "      <td>orders.customer_id</td>\n",
       "      <td>VARCHAR</td>\n",
       "    </tr>\n",
       "    <tr>\n",
       "      <th>1</th>\n",
       "      <td>customers.customer_id</td>\n",
       "      <td>VARCHAR</td>\n",
       "    </tr>\n",
       "    <tr>\n",
       "      <th>2</th>\n",
       "      <td>orders.order_id</td>\n",
       "      <td>VARCHAR</td>\n",
       "    </tr>\n",
       "    <tr>\n",
       "      <th>3</th>\n",
       "      <td>order_items.order_id</td>\n",
       "      <td>VARCHAR</td>\n",
       "    </tr>\n",
       "  </tbody>\n",
       "</table>\n",
       "</div>"
      ],
      "text/plain": [
       "             column_name data_type\n",
       "0     orders.customer_id   VARCHAR\n",
       "1  customers.customer_id   VARCHAR\n",
       "2        orders.order_id   VARCHAR\n",
       "3   order_items.order_id   VARCHAR"
      ]
     },
     "execution_count": 5,
     "metadata": {},
     "output_type": "execute_result"
    }
   ],
   "source": [
    "# Verify join key types match across tables\n",
    "con.execute(\"\"\"\n",
    "    SELECT \n",
    "        'orders.customer_id' as column_name,\n",
    "        typeof((SELECT customer_id FROM orders LIMIT 1)) as data_type\n",
    "    UNION ALL\n",
    "    SELECT \n",
    "        'customers.customer_id',\n",
    "        typeof((SELECT customer_id FROM customers LIMIT 1))\n",
    "    UNION ALL\n",
    "    SELECT \n",
    "        'orders.order_id',\n",
    "        typeof((SELECT order_id FROM orders LIMIT 1))\n",
    "    UNION ALL\n",
    "    SELECT \n",
    "        'order_items.order_id',\n",
    "        typeof((SELECT order_id FROM order_items LIMIT 1))\n",
    "\"\"\").df()"
   ]
  },
  {
   "cell_type": "markdown",
   "id": "aa8bb605",
   "metadata": {},
   "source": [
    "**Perfect!** All join keys have matching types (VARCHAR). If types didn't match (e.g., one table had INTEGER and another had VARCHAR), joins would fail with type errors.\n",
    "\n",
    "**This is why you always check types before joining tables.**\n",
    "\n",
    "---"
   ]
  },
  {
   "cell_type": "markdown",
   "id": "e63aa6be",
   "metadata": {},
   "source": [
    "**Key observations:**\n",
    "- ✅ `order_id` and `customer_id` are **VARCHAR** (strings) - These are hash-based IDs, not sequential numbers!\n",
    "- ✅ Timestamps correctly inferred as **TIMESTAMP** (not text!)\n",
    "- ✅ Status is **VARCHAR** (categorical text)\n",
    "\n",
    "**Why are IDs strings?** Modern systems often use UUIDs or hash-based IDs (like `e481f51cbdc54678b7cc49136f2d6af7`) instead of auto-incrementing integers. This prevents:\n",
    "- Exposing business metrics (e.g., \"we have exactly 100,000 orders\")\n",
    "- ID conflicts when merging databases\n",
    "- Security issues from predictable IDs\n",
    "\n",
    "**Pro tip:** In production, you'd explicitly specify types in `CREATE TABLE`. But DuckDB's inference is quite good - just always verify!\n",
    "\n",
    "**Now let's verify that join keys have matching types across tables:**"
   ]
  },
  {
   "cell_type": "code",
   "execution_count": 6,
   "id": "7df2c72c",
   "metadata": {
    "execution": {
     "iopub.execute_input": "2025-10-13T11:25:04.564334Z",
     "iopub.status.busy": "2025-10-13T11:25:04.564282Z",
     "iopub.status.idle": "2025-10-13T11:25:04.567090Z",
     "shell.execute_reply": "2025-10-13T11:25:04.566921Z"
    }
   },
   "outputs": [
    {
     "data": {
      "application/vnd.microsoft.datawrangler.viewer.v0+json": {
       "columns": [
        {
         "name": "index",
         "rawType": "int64",
         "type": "integer"
        },
        {
         "name": "column_name",
         "rawType": "object",
         "type": "string"
        },
        {
         "name": "column_type",
         "rawType": "object",
         "type": "string"
        },
        {
         "name": "null",
         "rawType": "object",
         "type": "string"
        },
        {
         "name": "key",
         "rawType": "object",
         "type": "unknown"
        },
        {
         "name": "default",
         "rawType": "object",
         "type": "unknown"
        },
        {
         "name": "extra",
         "rawType": "object",
         "type": "unknown"
        }
       ],
       "ref": "ebd7cfda-041d-472e-9c5c-0032beaa8d43",
       "rows": [
        [
         "0",
         "order_id",
         "VARCHAR",
         "YES",
         null,
         null,
         null
        ],
        [
         "1",
         "customer_id",
         "VARCHAR",
         "YES",
         null,
         null,
         null
        ],
        [
         "2",
         "order_status",
         "VARCHAR",
         "YES",
         null,
         null,
         null
        ],
        [
         "3",
         "order_purchase_timestamp",
         "TIMESTAMP",
         "YES",
         null,
         null,
         null
        ],
        [
         "4",
         "order_approved_at",
         "TIMESTAMP",
         "YES",
         null,
         null,
         null
        ],
        [
         "5",
         "order_delivered_carrier_date",
         "TIMESTAMP",
         "YES",
         null,
         null,
         null
        ],
        [
         "6",
         "order_delivered_customer_date",
         "TIMESTAMP",
         "YES",
         null,
         null,
         null
        ],
        [
         "7",
         "order_estimated_delivery_date",
         "TIMESTAMP",
         "YES",
         null,
         null,
         null
        ]
       ],
       "shape": {
        "columns": 6,
        "rows": 8
       }
      },
      "text/html": [
       "<div>\n",
       "<style scoped>\n",
       "    .dataframe tbody tr th:only-of-type {\n",
       "        vertical-align: middle;\n",
       "    }\n",
       "\n",
       "    .dataframe tbody tr th {\n",
       "        vertical-align: top;\n",
       "    }\n",
       "\n",
       "    .dataframe thead th {\n",
       "        text-align: right;\n",
       "    }\n",
       "</style>\n",
       "<table border=\"1\" class=\"dataframe\">\n",
       "  <thead>\n",
       "    <tr style=\"text-align: right;\">\n",
       "      <th></th>\n",
       "      <th>column_name</th>\n",
       "      <th>column_type</th>\n",
       "      <th>null</th>\n",
       "      <th>key</th>\n",
       "      <th>default</th>\n",
       "      <th>extra</th>\n",
       "    </tr>\n",
       "  </thead>\n",
       "  <tbody>\n",
       "    <tr>\n",
       "      <th>0</th>\n",
       "      <td>order_id</td>\n",
       "      <td>VARCHAR</td>\n",
       "      <td>YES</td>\n",
       "      <td>None</td>\n",
       "      <td>None</td>\n",
       "      <td>None</td>\n",
       "    </tr>\n",
       "    <tr>\n",
       "      <th>1</th>\n",
       "      <td>customer_id</td>\n",
       "      <td>VARCHAR</td>\n",
       "      <td>YES</td>\n",
       "      <td>None</td>\n",
       "      <td>None</td>\n",
       "      <td>None</td>\n",
       "    </tr>\n",
       "    <tr>\n",
       "      <th>2</th>\n",
       "      <td>order_status</td>\n",
       "      <td>VARCHAR</td>\n",
       "      <td>YES</td>\n",
       "      <td>None</td>\n",
       "      <td>None</td>\n",
       "      <td>None</td>\n",
       "    </tr>\n",
       "    <tr>\n",
       "      <th>3</th>\n",
       "      <td>order_purchase_timestamp</td>\n",
       "      <td>TIMESTAMP</td>\n",
       "      <td>YES</td>\n",
       "      <td>None</td>\n",
       "      <td>None</td>\n",
       "      <td>None</td>\n",
       "    </tr>\n",
       "    <tr>\n",
       "      <th>4</th>\n",
       "      <td>order_approved_at</td>\n",
       "      <td>TIMESTAMP</td>\n",
       "      <td>YES</td>\n",
       "      <td>None</td>\n",
       "      <td>None</td>\n",
       "      <td>None</td>\n",
       "    </tr>\n",
       "    <tr>\n",
       "      <th>5</th>\n",
       "      <td>order_delivered_carrier_date</td>\n",
       "      <td>TIMESTAMP</td>\n",
       "      <td>YES</td>\n",
       "      <td>None</td>\n",
       "      <td>None</td>\n",
       "      <td>None</td>\n",
       "    </tr>\n",
       "    <tr>\n",
       "      <th>6</th>\n",
       "      <td>order_delivered_customer_date</td>\n",
       "      <td>TIMESTAMP</td>\n",
       "      <td>YES</td>\n",
       "      <td>None</td>\n",
       "      <td>None</td>\n",
       "      <td>None</td>\n",
       "    </tr>\n",
       "    <tr>\n",
       "      <th>7</th>\n",
       "      <td>order_estimated_delivery_date</td>\n",
       "      <td>TIMESTAMP</td>\n",
       "      <td>YES</td>\n",
       "      <td>None</td>\n",
       "      <td>None</td>\n",
       "      <td>None</td>\n",
       "    </tr>\n",
       "  </tbody>\n",
       "</table>\n",
       "</div>"
      ],
      "text/plain": [
       "                     column_name column_type null   key default extra\n",
       "0                       order_id     VARCHAR  YES  None    None  None\n",
       "1                    customer_id     VARCHAR  YES  None    None  None\n",
       "2                   order_status     VARCHAR  YES  None    None  None\n",
       "3       order_purchase_timestamp   TIMESTAMP  YES  None    None  None\n",
       "4              order_approved_at   TIMESTAMP  YES  None    None  None\n",
       "5   order_delivered_carrier_date   TIMESTAMP  YES  None    None  None\n",
       "6  order_delivered_customer_date   TIMESTAMP  YES  None    None  None\n",
       "7  order_estimated_delivery_date   TIMESTAMP  YES  None    None  None"
      ]
     },
     "execution_count": 6,
     "metadata": {},
     "output_type": "execute_result"
    }
   ],
   "source": [
    "# Check inferred types for orders table\n",
    "con.execute(\"DESCRIBE orders\").df()"
   ]
  },
  {
   "cell_type": "markdown",
   "id": "efc42b85",
   "metadata": {},
   "source": [
    "### Verify Data Types\n",
    "\n",
    "**Always check what types were inferred!**\n",
    "\n",
    "DuckDB automatically infers column types from CSV files. Let's verify it understood our data correctly by looking at the full table structure:"
   ]
  },
  {
   "cell_type": "markdown",
   "id": "d273474a",
   "metadata": {
    "jp-MarkdownHeadingCollapsed": true
   },
   "source": [
    "### Understanding the Schema: ERD (Entity-Relationship Diagram)\n",
    "\n",
    "```\n",
    "┌─────────────────┐\n",
    "│   customers     │\n",
    "│  (99,441)       │\n",
    "│                 │\n",
    "│ customer_id (PK)│───┐\n",
    "└─────────────────┘   │\n",
    "                      │\n",
    "                      │\n",
    "┌─────────────────┐   │    ┌──────────────────┐\n",
    "│   orders        │   │    │  order_items     │\n",
    "│  (99,441)       │   │    │  (112,650)       │\n",
    "│                 │   │    │                  │\n",
    "│ order_id (PK)   │◄──┼────│ order_id (FK)    │\n",
    "│ customer_id(FK) │◄──┘    │ product_id (FK)  │───┐\n",
    "└─────────────────┘        │ seller_id (FK)   │───┼───┐\n",
    "       ▲                   └──────────────────┘   │   │\n",
    "       │                                          │   │\n",
    "       │                   ┌──────────────────┐   │   │\n",
    "       │                   │   products       │   │   │\n",
    "       │                   │  (32,951)        │   │   │\n",
    "       │                   │                  │   │   │\n",
    "       │                   │ product_id (PK)  │◄──┘   │\n",
    "       │                   └──────────────────┘       │\n",
    "       │                                              │\n",
    "       │                   ┌──────────────────┐       │\n",
    "       │                   │   sellers        │       │\n",
    "       │                   │  (3,095)         │       │\n",
    "       │                   │                  │       │\n",
    "       │                   │ seller_id (PK)   │◄──────┘\n",
    "       │                   └──────────────────┘\n",
    "       │\n",
    "       │\n",
    "┌──────▼──────────┐\n",
    "│   reviews       │\n",
    "│  (~100K)        │\n",
    "│                 │\n",
    "│ order_id (FK)   │\n",
    "└─────────────────┘\n",
    "```\n",
    "\n",
    "**Key concepts:**\n",
    "- **PK (Primary Key):** Uniquely identifies each row in a table\n",
    "- **FK (Foreign Key):** Points to a primary key in another table (creates the relationship)\n",
    "- **One-to-many:** One customer → many orders, one order → many items\n",
    "\n",
    "---"
   ]
  },
  {
   "cell_type": "markdown",
   "id": "e94a9885",
   "metadata": {},
   "source": [
    "### Primary Keys vs Foreign Keys\n",
    "\n",
    "> **Primary Key (PK):** \"This column uniquely identifies each row in THIS table\"\n",
    "> \n",
    "> **Foreign Key (FK):** \"This column points to a primary key in ANOTHER table\"\n",
    "\n",
    "**Example:**\n",
    "- `orders.order_id` is a **primary key** (each order has unique ID)\n",
    "- `orders.customer_id` is a **foreign key** (points to `customers.customer_id`)\n",
    "- `order_items.order_id` is a **foreign key** (points to `orders.order_id`)\n",
    "\n",
    "**Why this matters:**\n",
    "- Foreign keys tell you **how to join tables**\n",
    "- Join condition: `orders.customer_id = customers.customer_id`\n",
    "- This creates the \"connection\" between tables\n",
    "\n",
    "Let's explore the data before joining:"
   ]
  },
  {
   "cell_type": "code",
   "execution_count": 8,
   "id": "3e7743c0",
   "metadata": {
    "execution": {
     "iopub.execute_input": "2025-10-13T11:25:04.568104Z",
     "iopub.status.busy": "2025-10-13T11:25:04.568044Z",
     "iopub.status.idle": "2025-10-13T11:25:04.570695Z",
     "shell.execute_reply": "2025-10-13T11:25:04.570530Z"
    }
   },
   "outputs": [
    {
     "data": {
      "application/vnd.microsoft.datawrangler.viewer.v0+json": {
       "columns": [
        {
         "name": "index",
         "rawType": "int64",
         "type": "integer"
        },
        {
         "name": "order_id",
         "rawType": "object",
         "type": "string"
        },
        {
         "name": "customer_id",
         "rawType": "object",
         "type": "string"
        },
        {
         "name": "order_status",
         "rawType": "object",
         "type": "string"
        },
        {
         "name": "order_purchase_timestamp",
         "rawType": "datetime64[us]",
         "type": "unknown"
        }
       ],
       "ref": "68cc2d11-3f94-481f-8342-3caf8b2d33d9",
       "rows": [
        [
         "0",
         "e481f51cbdc54678b7cc49136f2d6af7",
         "9ef432eb6251297304e76186b10a928d",
         "delivered",
         "2017-10-02 10:56:33"
        ],
        [
         "1",
         "53cdb2fc8bc7dce0b6741e2150273451",
         "b0830fb4747a6c6d20dea0b8c802d7ef",
         "delivered",
         "2018-07-24 20:41:37"
        ],
        [
         "2",
         "47770eb9100c2d0c44946d9cf07ec65d",
         "41ce2a54c0b03bf3443c3d931a367089",
         "delivered",
         "2018-08-08 08:38:49"
        ],
        [
         "3",
         "949d5b44dbf5de918fe9c16f97b45f8a",
         "f88197465ea7920adcdbec7375364d82",
         "delivered",
         "2017-11-18 19:28:06"
        ],
        [
         "4",
         "ad21c59c0840e6cb83a9ceb5573f8159",
         "8ab97904e6daea8866dbdbc4fb7aad2c",
         "delivered",
         "2018-02-13 21:18:39"
        ]
       ],
       "shape": {
        "columns": 4,
        "rows": 5
       }
      },
      "text/html": [
       "<div>\n",
       "<style scoped>\n",
       "    .dataframe tbody tr th:only-of-type {\n",
       "        vertical-align: middle;\n",
       "    }\n",
       "\n",
       "    .dataframe tbody tr th {\n",
       "        vertical-align: top;\n",
       "    }\n",
       "\n",
       "    .dataframe thead th {\n",
       "        text-align: right;\n",
       "    }\n",
       "</style>\n",
       "<table border=\"1\" class=\"dataframe\">\n",
       "  <thead>\n",
       "    <tr style=\"text-align: right;\">\n",
       "      <th></th>\n",
       "      <th>order_id</th>\n",
       "      <th>customer_id</th>\n",
       "      <th>order_status</th>\n",
       "      <th>order_purchase_timestamp</th>\n",
       "    </tr>\n",
       "  </thead>\n",
       "  <tbody>\n",
       "    <tr>\n",
       "      <th>0</th>\n",
       "      <td>e481f51cbdc54678b7cc49136f2d6af7</td>\n",
       "      <td>9ef432eb6251297304e76186b10a928d</td>\n",
       "      <td>delivered</td>\n",
       "      <td>2017-10-02 10:56:33</td>\n",
       "    </tr>\n",
       "    <tr>\n",
       "      <th>1</th>\n",
       "      <td>53cdb2fc8bc7dce0b6741e2150273451</td>\n",
       "      <td>b0830fb4747a6c6d20dea0b8c802d7ef</td>\n",
       "      <td>delivered</td>\n",
       "      <td>2018-07-24 20:41:37</td>\n",
       "    </tr>\n",
       "    <tr>\n",
       "      <th>2</th>\n",
       "      <td>47770eb9100c2d0c44946d9cf07ec65d</td>\n",
       "      <td>41ce2a54c0b03bf3443c3d931a367089</td>\n",
       "      <td>delivered</td>\n",
       "      <td>2018-08-08 08:38:49</td>\n",
       "    </tr>\n",
       "    <tr>\n",
       "      <th>3</th>\n",
       "      <td>949d5b44dbf5de918fe9c16f97b45f8a</td>\n",
       "      <td>f88197465ea7920adcdbec7375364d82</td>\n",
       "      <td>delivered</td>\n",
       "      <td>2017-11-18 19:28:06</td>\n",
       "    </tr>\n",
       "    <tr>\n",
       "      <th>4</th>\n",
       "      <td>ad21c59c0840e6cb83a9ceb5573f8159</td>\n",
       "      <td>8ab97904e6daea8866dbdbc4fb7aad2c</td>\n",
       "      <td>delivered</td>\n",
       "      <td>2018-02-13 21:18:39</td>\n",
       "    </tr>\n",
       "  </tbody>\n",
       "</table>\n",
       "</div>"
      ],
      "text/plain": [
       "                           order_id                       customer_id  \\\n",
       "0  e481f51cbdc54678b7cc49136f2d6af7  9ef432eb6251297304e76186b10a928d   \n",
       "1  53cdb2fc8bc7dce0b6741e2150273451  b0830fb4747a6c6d20dea0b8c802d7ef   \n",
       "2  47770eb9100c2d0c44946d9cf07ec65d  41ce2a54c0b03bf3443c3d931a367089   \n",
       "3  949d5b44dbf5de918fe9c16f97b45f8a  f88197465ea7920adcdbec7375364d82   \n",
       "4  ad21c59c0840e6cb83a9ceb5573f8159  8ab97904e6daea8866dbdbc4fb7aad2c   \n",
       "\n",
       "  order_status order_purchase_timestamp  \n",
       "0    delivered      2017-10-02 10:56:33  \n",
       "1    delivered      2018-07-24 20:41:37  \n",
       "2    delivered      2018-08-08 08:38:49  \n",
       "3    delivered      2017-11-18 19:28:06  \n",
       "4    delivered      2018-02-13 21:18:39  "
      ]
     },
     "execution_count": 8,
     "metadata": {},
     "output_type": "execute_result"
    }
   ],
   "source": [
    "# Look at orders table\n",
    "con.execute(\"\"\"\n",
    "    SELECT \n",
    "        order_id,\n",
    "        customer_id,\n",
    "        order_status,\n",
    "        order_purchase_timestamp\n",
    "    FROM orders\n",
    "    LIMIT 5\n",
    "\"\"\").df()"
   ]
  },
  {
   "cell_type": "code",
   "execution_count": 9,
   "id": "12aacc88",
   "metadata": {
    "execution": {
     "iopub.execute_input": "2025-10-13T11:25:04.571594Z",
     "iopub.status.busy": "2025-10-13T11:25:04.571538Z",
     "iopub.status.idle": "2025-10-13T11:25:04.573918Z",
     "shell.execute_reply": "2025-10-13T11:25:04.573728Z"
    }
   },
   "outputs": [
    {
     "data": {
      "application/vnd.microsoft.datawrangler.viewer.v0+json": {
       "columns": [
        {
         "name": "index",
         "rawType": "int64",
         "type": "integer"
        },
        {
         "name": "customer_id",
         "rawType": "object",
         "type": "string"
        },
        {
         "name": "customer_city",
         "rawType": "object",
         "type": "string"
        },
        {
         "name": "customer_state",
         "rawType": "object",
         "type": "string"
        }
       ],
       "ref": "b73d3bbc-015b-47c8-9d99-a023b3a18c8d",
       "rows": [
        [
         "0",
         "06b8999e2fba1a1fbc88172c00ba8bc7",
         "franca",
         "SP"
        ],
        [
         "1",
         "18955e83d337fd6b2def6b18a428ac77",
         "sao bernardo do campo",
         "SP"
        ],
        [
         "2",
         "4e7b3e00288586ebd08712fdd0374a03",
         "sao paulo",
         "SP"
        ],
        [
         "3",
         "b2b6027bc5c5109e529d4dc6358b12c3",
         "mogi das cruzes",
         "SP"
        ],
        [
         "4",
         "4f2d8ab171c80ec8364f7c12e35b23ad",
         "campinas",
         "SP"
        ]
       ],
       "shape": {
        "columns": 3,
        "rows": 5
       }
      },
      "text/html": [
       "<div>\n",
       "<style scoped>\n",
       "    .dataframe tbody tr th:only-of-type {\n",
       "        vertical-align: middle;\n",
       "    }\n",
       "\n",
       "    .dataframe tbody tr th {\n",
       "        vertical-align: top;\n",
       "    }\n",
       "\n",
       "    .dataframe thead th {\n",
       "        text-align: right;\n",
       "    }\n",
       "</style>\n",
       "<table border=\"1\" class=\"dataframe\">\n",
       "  <thead>\n",
       "    <tr style=\"text-align: right;\">\n",
       "      <th></th>\n",
       "      <th>customer_id</th>\n",
       "      <th>customer_city</th>\n",
       "      <th>customer_state</th>\n",
       "    </tr>\n",
       "  </thead>\n",
       "  <tbody>\n",
       "    <tr>\n",
       "      <th>0</th>\n",
       "      <td>06b8999e2fba1a1fbc88172c00ba8bc7</td>\n",
       "      <td>franca</td>\n",
       "      <td>SP</td>\n",
       "    </tr>\n",
       "    <tr>\n",
       "      <th>1</th>\n",
       "      <td>18955e83d337fd6b2def6b18a428ac77</td>\n",
       "      <td>sao bernardo do campo</td>\n",
       "      <td>SP</td>\n",
       "    </tr>\n",
       "    <tr>\n",
       "      <th>2</th>\n",
       "      <td>4e7b3e00288586ebd08712fdd0374a03</td>\n",
       "      <td>sao paulo</td>\n",
       "      <td>SP</td>\n",
       "    </tr>\n",
       "    <tr>\n",
       "      <th>3</th>\n",
       "      <td>b2b6027bc5c5109e529d4dc6358b12c3</td>\n",
       "      <td>mogi das cruzes</td>\n",
       "      <td>SP</td>\n",
       "    </tr>\n",
       "    <tr>\n",
       "      <th>4</th>\n",
       "      <td>4f2d8ab171c80ec8364f7c12e35b23ad</td>\n",
       "      <td>campinas</td>\n",
       "      <td>SP</td>\n",
       "    </tr>\n",
       "  </tbody>\n",
       "</table>\n",
       "</div>"
      ],
      "text/plain": [
       "                        customer_id          customer_city customer_state\n",
       "0  06b8999e2fba1a1fbc88172c00ba8bc7                 franca             SP\n",
       "1  18955e83d337fd6b2def6b18a428ac77  sao bernardo do campo             SP\n",
       "2  4e7b3e00288586ebd08712fdd0374a03              sao paulo             SP\n",
       "3  b2b6027bc5c5109e529d4dc6358b12c3        mogi das cruzes             SP\n",
       "4  4f2d8ab171c80ec8364f7c12e35b23ad               campinas             SP"
      ]
     },
     "execution_count": 9,
     "metadata": {},
     "output_type": "execute_result"
    }
   ],
   "source": [
    "# Look at customers table\n",
    "con.execute(\"\"\"\n",
    "    SELECT \n",
    "        customer_id,\n",
    "        customer_city,\n",
    "        customer_state\n",
    "    FROM customers\n",
    "    LIMIT 5\n",
    "\"\"\").df()"
   ]
  },
  {
   "cell_type": "markdown",
   "id": "75456533",
   "metadata": {},
   "source": [
    "**Notice:** `customer_id` appears in BOTH tables. That's our join key!\n",
    "\n",
    "---"
   ]
  },
  {
   "cell_type": "markdown",
   "id": "cb75650a",
   "metadata": {},
   "source": [
    "## Part 2: The Core - Join Types (⏱️ 27 minutes)\n",
    "\n",
    "### INNER JOIN: Only Matching Records (⏱️ 12 minutes)\n",
    "\n",
    "> **INNER JOIN returns rows that have matches in BOTH tables**\n",
    "\n",
    "![INNER JOIN Venn Diagram](../../references/images/inner_join.svg)\n",
    "\n",
    "**Business use case:** \"Show me orders WITH customer details (only completed matches)\"\n",
    "\n",
    "---\n"
   ]
  },
  {
   "cell_type": "markdown",
   "id": "d58192de",
   "metadata": {},
   "source": [
    "### Example 1: Basic INNER JOIN\n",
    "\n",
    "**Business question:** \"Show me orders with customer location information\"\n",
    "\n",
    "**Query structure:**\n",
    "```sql\n",
    "SELECT columns\n",
    "FROM table1\n",
    "INNER JOIN table2 ON table1.key = table2.key\n",
    "```"
   ]
  },
  {
   "cell_type": "code",
   "execution_count": 10,
   "id": "a1fd5de5",
   "metadata": {
    "execution": {
     "iopub.execute_input": "2025-10-13T11:25:04.574902Z",
     "iopub.status.busy": "2025-10-13T11:25:04.574845Z",
     "iopub.status.idle": "2025-10-13T11:25:04.581851Z",
     "shell.execute_reply": "2025-10-13T11:25:04.581664Z"
    }
   },
   "outputs": [
    {
     "data": {
      "application/vnd.microsoft.datawrangler.viewer.v0+json": {
       "columns": [
        {
         "name": "index",
         "rawType": "int64",
         "type": "integer"
        },
        {
         "name": "order_id",
         "rawType": "object",
         "type": "string"
        },
        {
         "name": "order_status",
         "rawType": "object",
         "type": "string"
        },
        {
         "name": "order_purchase_timestamp",
         "rawType": "datetime64[us]",
         "type": "unknown"
        },
        {
         "name": "customer_city",
         "rawType": "object",
         "type": "string"
        },
        {
         "name": "customer_state",
         "rawType": "object",
         "type": "string"
        }
       ],
       "ref": "db8da7e3-701d-4a2a-8563-8a91ebf5a159",
       "rows": [
        [
         "0",
         "e481f51cbdc54678b7cc49136f2d6af7",
         "delivered",
         "2017-10-02 10:56:33",
         "sao paulo",
         "SP"
        ],
        [
         "1",
         "53cdb2fc8bc7dce0b6741e2150273451",
         "delivered",
         "2018-07-24 20:41:37",
         "barreiras",
         "BA"
        ],
        [
         "2",
         "47770eb9100c2d0c44946d9cf07ec65d",
         "delivered",
         "2018-08-08 08:38:49",
         "vianopolis",
         "GO"
        ],
        [
         "3",
         "ad21c59c0840e6cb83a9ceb5573f8159",
         "delivered",
         "2018-02-13 21:18:39",
         "santo andre",
         "SP"
        ],
        [
         "4",
         "a4591c265e18cb1dcee52889e2d8acc3",
         "delivered",
         "2017-07-09 21:57:05",
         "congonhinhas",
         "PR"
        ],
        [
         "5",
         "136cce7faa42fdb2cefd53fdc79a6098",
         "invoiced",
         "2017-04-11 12:22:08",
         "santa rosa",
         "RS"
        ],
        [
         "6",
         "6514b8ad8028c9f2cc2374ded245783f",
         "delivered",
         "2017-05-16 13:10:30",
         "nilopolis",
         "RJ"
        ],
        [
         "7",
         "76c6e866289321a7c93b82b54852dc33",
         "delivered",
         "2017-01-23 18:29:09",
         "faxinalzinho",
         "RS"
        ],
        [
         "8",
         "e69bfb5eb88e0ed6a785585b27e16dbf",
         "delivered",
         "2017-07-29 11:55:02",
         "sorocaba",
         "SP"
        ],
        [
         "9",
         "e6ce16cb79ec1d90b1da9085a6118aeb",
         "delivered",
         "2017-05-16 19:41:10",
         "rio de janeiro",
         "RJ"
        ]
       ],
       "shape": {
        "columns": 5,
        "rows": 10
       }
      },
      "text/html": [
       "<div>\n",
       "<style scoped>\n",
       "    .dataframe tbody tr th:only-of-type {\n",
       "        vertical-align: middle;\n",
       "    }\n",
       "\n",
       "    .dataframe tbody tr th {\n",
       "        vertical-align: top;\n",
       "    }\n",
       "\n",
       "    .dataframe thead th {\n",
       "        text-align: right;\n",
       "    }\n",
       "</style>\n",
       "<table border=\"1\" class=\"dataframe\">\n",
       "  <thead>\n",
       "    <tr style=\"text-align: right;\">\n",
       "      <th></th>\n",
       "      <th>order_id</th>\n",
       "      <th>order_status</th>\n",
       "      <th>order_purchase_timestamp</th>\n",
       "      <th>customer_city</th>\n",
       "      <th>customer_state</th>\n",
       "    </tr>\n",
       "  </thead>\n",
       "  <tbody>\n",
       "    <tr>\n",
       "      <th>0</th>\n",
       "      <td>e481f51cbdc54678b7cc49136f2d6af7</td>\n",
       "      <td>delivered</td>\n",
       "      <td>2017-10-02 10:56:33</td>\n",
       "      <td>sao paulo</td>\n",
       "      <td>SP</td>\n",
       "    </tr>\n",
       "    <tr>\n",
       "      <th>1</th>\n",
       "      <td>53cdb2fc8bc7dce0b6741e2150273451</td>\n",
       "      <td>delivered</td>\n",
       "      <td>2018-07-24 20:41:37</td>\n",
       "      <td>barreiras</td>\n",
       "      <td>BA</td>\n",
       "    </tr>\n",
       "    <tr>\n",
       "      <th>2</th>\n",
       "      <td>47770eb9100c2d0c44946d9cf07ec65d</td>\n",
       "      <td>delivered</td>\n",
       "      <td>2018-08-08 08:38:49</td>\n",
       "      <td>vianopolis</td>\n",
       "      <td>GO</td>\n",
       "    </tr>\n",
       "    <tr>\n",
       "      <th>3</th>\n",
       "      <td>ad21c59c0840e6cb83a9ceb5573f8159</td>\n",
       "      <td>delivered</td>\n",
       "      <td>2018-02-13 21:18:39</td>\n",
       "      <td>santo andre</td>\n",
       "      <td>SP</td>\n",
       "    </tr>\n",
       "    <tr>\n",
       "      <th>4</th>\n",
       "      <td>a4591c265e18cb1dcee52889e2d8acc3</td>\n",
       "      <td>delivered</td>\n",
       "      <td>2017-07-09 21:57:05</td>\n",
       "      <td>congonhinhas</td>\n",
       "      <td>PR</td>\n",
       "    </tr>\n",
       "    <tr>\n",
       "      <th>5</th>\n",
       "      <td>136cce7faa42fdb2cefd53fdc79a6098</td>\n",
       "      <td>invoiced</td>\n",
       "      <td>2017-04-11 12:22:08</td>\n",
       "      <td>santa rosa</td>\n",
       "      <td>RS</td>\n",
       "    </tr>\n",
       "    <tr>\n",
       "      <th>6</th>\n",
       "      <td>6514b8ad8028c9f2cc2374ded245783f</td>\n",
       "      <td>delivered</td>\n",
       "      <td>2017-05-16 13:10:30</td>\n",
       "      <td>nilopolis</td>\n",
       "      <td>RJ</td>\n",
       "    </tr>\n",
       "    <tr>\n",
       "      <th>7</th>\n",
       "      <td>76c6e866289321a7c93b82b54852dc33</td>\n",
       "      <td>delivered</td>\n",
       "      <td>2017-01-23 18:29:09</td>\n",
       "      <td>faxinalzinho</td>\n",
       "      <td>RS</td>\n",
       "    </tr>\n",
       "    <tr>\n",
       "      <th>8</th>\n",
       "      <td>e69bfb5eb88e0ed6a785585b27e16dbf</td>\n",
       "      <td>delivered</td>\n",
       "      <td>2017-07-29 11:55:02</td>\n",
       "      <td>sorocaba</td>\n",
       "      <td>SP</td>\n",
       "    </tr>\n",
       "    <tr>\n",
       "      <th>9</th>\n",
       "      <td>e6ce16cb79ec1d90b1da9085a6118aeb</td>\n",
       "      <td>delivered</td>\n",
       "      <td>2017-05-16 19:41:10</td>\n",
       "      <td>rio de janeiro</td>\n",
       "      <td>RJ</td>\n",
       "    </tr>\n",
       "  </tbody>\n",
       "</table>\n",
       "</div>"
      ],
      "text/plain": [
       "                           order_id order_status order_purchase_timestamp  \\\n",
       "0  e481f51cbdc54678b7cc49136f2d6af7    delivered      2017-10-02 10:56:33   \n",
       "1  53cdb2fc8bc7dce0b6741e2150273451    delivered      2018-07-24 20:41:37   \n",
       "2  47770eb9100c2d0c44946d9cf07ec65d    delivered      2018-08-08 08:38:49   \n",
       "3  ad21c59c0840e6cb83a9ceb5573f8159    delivered      2018-02-13 21:18:39   \n",
       "4  a4591c265e18cb1dcee52889e2d8acc3    delivered      2017-07-09 21:57:05   \n",
       "5  136cce7faa42fdb2cefd53fdc79a6098     invoiced      2017-04-11 12:22:08   \n",
       "6  6514b8ad8028c9f2cc2374ded245783f    delivered      2017-05-16 13:10:30   \n",
       "7  76c6e866289321a7c93b82b54852dc33    delivered      2017-01-23 18:29:09   \n",
       "8  e69bfb5eb88e0ed6a785585b27e16dbf    delivered      2017-07-29 11:55:02   \n",
       "9  e6ce16cb79ec1d90b1da9085a6118aeb    delivered      2017-05-16 19:41:10   \n",
       "\n",
       "    customer_city customer_state  \n",
       "0       sao paulo             SP  \n",
       "1       barreiras             BA  \n",
       "2      vianopolis             GO  \n",
       "3     santo andre             SP  \n",
       "4    congonhinhas             PR  \n",
       "5      santa rosa             RS  \n",
       "6       nilopolis             RJ  \n",
       "7    faxinalzinho             RS  \n",
       "8        sorocaba             SP  \n",
       "9  rio de janeiro             RJ  "
      ]
     },
     "execution_count": 10,
     "metadata": {},
     "output_type": "execute_result"
    }
   ],
   "source": [
    "# Join orders with customers\n",
    "con.execute(\"\"\"\n",
    "    SELECT \n",
    "        o.order_id,\n",
    "        o.order_status,\n",
    "        o.order_purchase_timestamp,\n",
    "        c.customer_city,\n",
    "        c.customer_state\n",
    "    FROM orders o\n",
    "    INNER JOIN customers c ON o.customer_id = c.customer_id\n",
    "    LIMIT 10\n",
    "\"\"\").df()"
   ]
  },
  {
   "cell_type": "markdown",
   "id": "10e61e80",
   "metadata": {},
   "source": [
    "**What happened:**\n",
    "1. DuckDB looked at each `order_id` in the `orders` table\n",
    "2. Found the matching `customer_id` in the `customers` table\n",
    "3. Combined columns from both tables into one result\n",
    "4. **Only returned rows where a match existed**\n",
    "\n",
    "**Table aliases:** `o` and `c` are shorthand for `orders` and `customers` (makes queries readable)\n",
    "\n",
    "---"
   ]
  },
  {
   "cell_type": "markdown",
   "id": "36297e1e",
   "metadata": {},
   "source": [
    "### Example 2: INNER JOIN with Aggregation\n",
    "\n",
    "**Business question:** \"How many orders came from each state?\""
   ]
  },
  {
   "cell_type": "code",
   "execution_count": 17,
   "id": "ac712123",
   "metadata": {
    "execution": {
     "iopub.execute_input": "2025-10-13T11:25:04.582840Z",
     "iopub.status.busy": "2025-10-13T11:25:04.582772Z",
     "iopub.status.idle": "2025-10-13T11:25:04.590472Z",
     "shell.execute_reply": "2025-10-13T11:25:04.590282Z"
    }
   },
   "outputs": [
    {
     "data": {
      "application/vnd.microsoft.datawrangler.viewer.v0+json": {
       "columns": [
        {
         "name": "index",
         "rawType": "int64",
         "type": "integer"
        },
        {
         "name": "customer_state",
         "rawType": "object",
         "type": "string"
        },
        {
         "name": "order_count",
         "rawType": "int64",
         "type": "integer"
        }
       ],
       "ref": "0ab952d7-b595-48aa-b7eb-fa52a3636815",
       "rows": [
        [
         "0",
         "SP",
         "41746"
        ],
        [
         "1",
         "RJ",
         "12852"
        ],
        [
         "2",
         "MG",
         "11635"
        ],
        [
         "3",
         "RS",
         "5466"
        ],
        [
         "4",
         "PR",
         "5045"
        ],
        [
         "5",
         "SC",
         "3637"
        ],
        [
         "6",
         "BA",
         "3380"
        ],
        [
         "7",
         "DF",
         "2140"
        ],
        [
         "8",
         "ES",
         "2033"
        ],
        [
         "9",
         "GO",
         "2020"
        ]
       ],
       "shape": {
        "columns": 2,
        "rows": 10
       }
      },
      "text/html": [
       "<div>\n",
       "<style scoped>\n",
       "    .dataframe tbody tr th:only-of-type {\n",
       "        vertical-align: middle;\n",
       "    }\n",
       "\n",
       "    .dataframe tbody tr th {\n",
       "        vertical-align: top;\n",
       "    }\n",
       "\n",
       "    .dataframe thead th {\n",
       "        text-align: right;\n",
       "    }\n",
       "</style>\n",
       "<table border=\"1\" class=\"dataframe\">\n",
       "  <thead>\n",
       "    <tr style=\"text-align: right;\">\n",
       "      <th></th>\n",
       "      <th>customer_state</th>\n",
       "      <th>order_count</th>\n",
       "    </tr>\n",
       "  </thead>\n",
       "  <tbody>\n",
       "    <tr>\n",
       "      <th>0</th>\n",
       "      <td>SP</td>\n",
       "      <td>41746</td>\n",
       "    </tr>\n",
       "    <tr>\n",
       "      <th>1</th>\n",
       "      <td>RJ</td>\n",
       "      <td>12852</td>\n",
       "    </tr>\n",
       "    <tr>\n",
       "      <th>2</th>\n",
       "      <td>MG</td>\n",
       "      <td>11635</td>\n",
       "    </tr>\n",
       "    <tr>\n",
       "      <th>3</th>\n",
       "      <td>RS</td>\n",
       "      <td>5466</td>\n",
       "    </tr>\n",
       "    <tr>\n",
       "      <th>4</th>\n",
       "      <td>PR</td>\n",
       "      <td>5045</td>\n",
       "    </tr>\n",
       "    <tr>\n",
       "      <th>5</th>\n",
       "      <td>SC</td>\n",
       "      <td>3637</td>\n",
       "    </tr>\n",
       "    <tr>\n",
       "      <th>6</th>\n",
       "      <td>BA</td>\n",
       "      <td>3380</td>\n",
       "    </tr>\n",
       "    <tr>\n",
       "      <th>7</th>\n",
       "      <td>DF</td>\n",
       "      <td>2140</td>\n",
       "    </tr>\n",
       "    <tr>\n",
       "      <th>8</th>\n",
       "      <td>ES</td>\n",
       "      <td>2033</td>\n",
       "    </tr>\n",
       "    <tr>\n",
       "      <th>9</th>\n",
       "      <td>GO</td>\n",
       "      <td>2020</td>\n",
       "    </tr>\n",
       "  </tbody>\n",
       "</table>\n",
       "</div>"
      ],
      "text/plain": [
       "  customer_state  order_count\n",
       "0             SP        41746\n",
       "1             RJ        12852\n",
       "2             MG        11635\n",
       "3             RS         5466\n",
       "4             PR         5045\n",
       "5             SC         3637\n",
       "6             BA         3380\n",
       "7             DF         2140\n",
       "8             ES         2033\n",
       "9             GO         2020"
      ]
     },
     "execution_count": 17,
     "metadata": {},
     "output_type": "execute_result"
    }
   ],
   "source": [
    "# Count orders by customer state\n",
    "con.execute(\"\"\"\n",
    "    SELECT \n",
    "        c.customer_state,\n",
    "        COUNT(o.order_id) AS order_count\n",
    "    FROM orders o\n",
    "    INNER JOIN customers c ON o.customer_id = c.customer_id\n",
    "    GROUP BY c.customer_state\n",
    "    ORDER BY order_count DESC\n",
    "    LIMIT 10\n",
    "\"\"\").df()"
   ]
  },
  {
   "cell_type": "markdown",
   "id": "000dc255",
   "metadata": {},
   "source": [
    "**Insight:** São Paulo (SP) dominates with the most orders. This is Brazil's economic center.\n",
    "\n",
    "---"
   ]
  },
  {
   "cell_type": "markdown",
   "id": "1555f1a9",
   "metadata": {},
   "source": [
    "### Example 3: Multi-table INNER JOIN\n",
    "\n",
    "**Business question:** \"Show me revenue by product category (in English)\"\n",
    "\n",
    "This requires joining **three tables:**\n",
    "1. `order_items` (has price and product_id)\n",
    "2. `products` (has category name in Portuguese)\n",
    "3. `categories` (translates category to English)"
   ]
  },
  {
   "cell_type": "code",
   "execution_count": 18,
   "id": "abf0dd62",
   "metadata": {
    "execution": {
     "iopub.execute_input": "2025-10-13T11:25:04.591447Z",
     "iopub.status.busy": "2025-10-13T11:25:04.591389Z",
     "iopub.status.idle": "2025-10-13T11:25:04.609314Z",
     "shell.execute_reply": "2025-10-13T11:25:04.609022Z"
    }
   },
   "outputs": [
    {
     "data": {
      "application/vnd.microsoft.datawrangler.viewer.v0+json": {
       "columns": [
        {
         "name": "index",
         "rawType": "int64",
         "type": "integer"
        },
        {
         "name": "category",
         "rawType": "object",
         "type": "string"
        },
        {
         "name": "num_orders",
         "rawType": "int64",
         "type": "integer"
        },
        {
         "name": "total_revenue",
         "rawType": "float64",
         "type": "float"
        },
        {
         "name": "avg_item_price",
         "rawType": "float64",
         "type": "float"
        }
       ],
       "ref": "0fbd00ee-788a-4e35-aaa2-e45b8b9d1ebb",
       "rows": [
        [
         "0",
         "health_beauty",
         "8836",
         "1258681.3399999682",
         "130.16"
        ],
        [
         "1",
         "watches_gifts",
         "5624",
         "1205005.6799999995",
         "201.14"
        ],
        [
         "2",
         "bed_bath_table",
         "9417",
         "1036988.6800000712",
         "93.3"
        ],
        [
         "3",
         "sports_leisure",
         "7720",
         "988048.9700000401",
         "114.34"
        ],
        [
         "4",
         "computers_accessories",
         "6689",
         "911954.3200000388",
         "116.51"
        ],
        [
         "5",
         "furniture_decor",
         "6449",
         "729762.4900000411",
         "87.56"
        ],
        [
         "6",
         "cool_stuff",
         "3632",
         "635290.8500000009",
         "167.36"
        ],
        [
         "7",
         "housewares",
         "5884",
         "632248.6600000213",
         "90.79"
        ],
        [
         "8",
         "auto",
         "3897",
         "592720.1100000107",
         "139.96"
        ],
        [
         "9",
         "garden_tools",
         "3518",
         "485256.46000001475",
         "111.63"
        ]
       ],
       "shape": {
        "columns": 4,
        "rows": 10
       }
      },
      "text/html": [
       "<div>\n",
       "<style scoped>\n",
       "    .dataframe tbody tr th:only-of-type {\n",
       "        vertical-align: middle;\n",
       "    }\n",
       "\n",
       "    .dataframe tbody tr th {\n",
       "        vertical-align: top;\n",
       "    }\n",
       "\n",
       "    .dataframe thead th {\n",
       "        text-align: right;\n",
       "    }\n",
       "</style>\n",
       "<table border=\"1\" class=\"dataframe\">\n",
       "  <thead>\n",
       "    <tr style=\"text-align: right;\">\n",
       "      <th></th>\n",
       "      <th>category</th>\n",
       "      <th>num_orders</th>\n",
       "      <th>total_revenue</th>\n",
       "      <th>avg_item_price</th>\n",
       "    </tr>\n",
       "  </thead>\n",
       "  <tbody>\n",
       "    <tr>\n",
       "      <th>0</th>\n",
       "      <td>health_beauty</td>\n",
       "      <td>8836</td>\n",
       "      <td>1258681.34</td>\n",
       "      <td>130.16</td>\n",
       "    </tr>\n",
       "    <tr>\n",
       "      <th>1</th>\n",
       "      <td>watches_gifts</td>\n",
       "      <td>5624</td>\n",
       "      <td>1205005.68</td>\n",
       "      <td>201.14</td>\n",
       "    </tr>\n",
       "    <tr>\n",
       "      <th>2</th>\n",
       "      <td>bed_bath_table</td>\n",
       "      <td>9417</td>\n",
       "      <td>1036988.68</td>\n",
       "      <td>93.30</td>\n",
       "    </tr>\n",
       "    <tr>\n",
       "      <th>3</th>\n",
       "      <td>sports_leisure</td>\n",
       "      <td>7720</td>\n",
       "      <td>988048.97</td>\n",
       "      <td>114.34</td>\n",
       "    </tr>\n",
       "    <tr>\n",
       "      <th>4</th>\n",
       "      <td>computers_accessories</td>\n",
       "      <td>6689</td>\n",
       "      <td>911954.32</td>\n",
       "      <td>116.51</td>\n",
       "    </tr>\n",
       "    <tr>\n",
       "      <th>5</th>\n",
       "      <td>furniture_decor</td>\n",
       "      <td>6449</td>\n",
       "      <td>729762.49</td>\n",
       "      <td>87.56</td>\n",
       "    </tr>\n",
       "    <tr>\n",
       "      <th>6</th>\n",
       "      <td>cool_stuff</td>\n",
       "      <td>3632</td>\n",
       "      <td>635290.85</td>\n",
       "      <td>167.36</td>\n",
       "    </tr>\n",
       "    <tr>\n",
       "      <th>7</th>\n",
       "      <td>housewares</td>\n",
       "      <td>5884</td>\n",
       "      <td>632248.66</td>\n",
       "      <td>90.79</td>\n",
       "    </tr>\n",
       "    <tr>\n",
       "      <th>8</th>\n",
       "      <td>auto</td>\n",
       "      <td>3897</td>\n",
       "      <td>592720.11</td>\n",
       "      <td>139.96</td>\n",
       "    </tr>\n",
       "    <tr>\n",
       "      <th>9</th>\n",
       "      <td>garden_tools</td>\n",
       "      <td>3518</td>\n",
       "      <td>485256.46</td>\n",
       "      <td>111.63</td>\n",
       "    </tr>\n",
       "  </tbody>\n",
       "</table>\n",
       "</div>"
      ],
      "text/plain": [
       "                category  num_orders  total_revenue  avg_item_price\n",
       "0          health_beauty        8836     1258681.34          130.16\n",
       "1          watches_gifts        5624     1205005.68          201.14\n",
       "2         bed_bath_table        9417     1036988.68           93.30\n",
       "3         sports_leisure        7720      988048.97          114.34\n",
       "4  computers_accessories        6689      911954.32          116.51\n",
       "5        furniture_decor        6449      729762.49           87.56\n",
       "6             cool_stuff        3632      635290.85          167.36\n",
       "7             housewares        5884      632248.66           90.79\n",
       "8                   auto        3897      592720.11          139.96\n",
       "9           garden_tools        3518      485256.46          111.63"
      ]
     },
     "execution_count": 18,
     "metadata": {},
     "output_type": "execute_result"
    }
   ],
   "source": [
    "# Revenue by category (multi-table join)\n",
    "con.execute(\"\"\"\n",
    "    SELECT \n",
    "        cat.product_category_name_english AS category,\n",
    "        COUNT(DISTINCT oi.order_id) AS num_orders,\n",
    "        SUM(oi.price) AS total_revenue,\n",
    "        ROUND(AVG(oi.price), 2) AS avg_item_price\n",
    "    FROM order_items oi\n",
    "    INNER JOIN products p ON oi.product_id = p.product_id\n",
    "    INNER JOIN categories cat ON p.product_category_name = cat.product_category_name\n",
    "    GROUP BY cat.product_category_name_english\n",
    "    ORDER BY total_revenue DESC\n",
    "    LIMIT 10\n",
    "\"\"\").df()"
   ]
  },
  {
   "cell_type": "markdown",
   "id": "989e42ac",
   "metadata": {},
   "source": [
    "**What happened:**\n",
    "1. First join: `order_items` → `products` (via `product_id`)\n",
    "2. Second join: `products` → `categories` (via `product_category_name`)\n",
    "3. Aggregated: SUM(price) to get total revenue per category\n",
    "\n",
    "**Business insight:** Health & beauty, watches, and bed/bath products are top revenue generators.\n",
    "\n",
    "---"
   ]
  },
  {
   "cell_type": "markdown",
   "id": "6b2fde58",
   "metadata": {},
   "source": [
    "### Example 4: The Implicit INNER JOIN\n",
    "\n",
    "**Important note:** The keyword `INNER` is optional. `JOIN` alone defaults to `INNER JOIN`.\n",
    "\n",
    "These two queries are **identical:**"
   ]
  },
  {
   "cell_type": "code",
   "execution_count": 13,
   "id": "143063d0",
   "metadata": {
    "execution": {
     "iopub.execute_input": "2025-10-13T11:25:04.610389Z",
     "iopub.status.busy": "2025-10-13T11:25:04.610318Z",
     "iopub.status.idle": "2025-10-13T11:25:04.619692Z",
     "shell.execute_reply": "2025-10-13T11:25:04.619457Z"
    }
   },
   "outputs": [
    {
     "name": "stdout",
     "output_type": "stream",
     "text": [
      "Explicit INNER JOIN: 99,441 rows\n",
      "Implicit INNER JOIN: 99,441 rows\n",
      "\n",
      "✅ Both return the same results!\n"
     ]
    }
   ],
   "source": [
    "# Explicit INNER JOIN\n",
    "result1 = con.execute(\"\"\"\n",
    "    SELECT COUNT(*) as count\n",
    "    FROM orders o\n",
    "    INNER JOIN customers c ON o.customer_id = c.customer_id\n",
    "\"\"\").df()\n",
    "\n",
    "# Implicit INNER JOIN (just \"JOIN\")\n",
    "result2 = con.execute(\"\"\"\n",
    "    SELECT COUNT(*) as count\n",
    "    FROM orders o \n",
    "    JOIN customers c ON o.customer_id = c.customer_id // here we define the alias for customers c and instru\n",
    "\"\"\").df()\n",
    "\n",
    "print(f\"Explicit INNER JOIN: {result1['count'][0]:,} rows\")\n",
    "print(f\"Implicit INNER JOIN: {result2['count'][0]:,} rows\")\n",
    "print(\"\\n✅ Both return the same results!\")"
   ]
  },
  {
   "cell_type": "markdown",
   "id": "980a06b3",
   "metadata": {},
   "source": [
    "**Best practice:** Be explicit in your code. Write `INNER JOIN` so readers know your intent.\n",
    "\n",
    "---"
   ]
  },
  {
   "cell_type": "markdown",
   "id": "0df86b9c",
   "metadata": {},
   "source": [
    "### LEFT JOIN: Keep All Records from Left Table (⏱️ 10 minutes)\n",
    "\n",
    "> **LEFT JOIN returns ALL rows from the left table, with matches from the right table (or NULL if no match)**\n",
    "\n",
    "![LEFT JOIN Venn Diagram](../../references/images/left_join.svg)\n",
    "\n",
    "**Business use case:** \"Show me ALL orders, even if they don't have reviews\"\n",
    "\n",
    "---\n"
   ]
  },
  {
   "cell_type": "markdown",
   "id": "e1fde564",
   "metadata": {},
   "source": [
    "### Example 5: Basic LEFT JOIN\n",
    "\n",
    "**Business question:** \"Show me all orders with their review scores (if they have one)\""
   ]
  },
  {
   "cell_type": "code",
   "execution_count": 14,
   "id": "20a36df6",
   "metadata": {
    "execution": {
     "iopub.execute_input": "2025-10-13T11:25:04.620808Z",
     "iopub.status.busy": "2025-10-13T11:25:04.620744Z",
     "iopub.status.idle": "2025-10-13T11:25:04.632743Z",
     "shell.execute_reply": "2025-10-13T11:25:04.632548Z"
    }
   },
   "outputs": [
    {
     "name": "stdout",
     "output_type": "stream",
     "text": [
      "======================================================================\n",
      "Example A: Orders WITHOUT reviews (LEFT JOIN shows NULLs)\n",
      "======================================================================\n",
      "                        order_id order_status  review_score review_id\n",
      "a9b151f0c0471d9b2534fa73c9c0e123    delivered          <NA>      None\n",
      "5e8d0f2f1e06e715aee3eefe4c175e52    delivered          <NA>      None\n",
      "e639eb028398f98b7958207b2a45684c    delivered          <NA>      None\n",
      "5e42950b6aa90d698e75af4e41641386    delivered          <NA>      None\n",
      "ec9f9865708006552e26ff7a0e56738b    delivered          <NA>      None\n",
      "\n",
      "======================================================================\n",
      "Example B: Orders WITH reviews (LEFT JOIN shows matches)\n",
      "======================================================================\n",
      "                        order_id order_status  review_score                        review_id\n",
      "e481f51cbdc54678b7cc49136f2d6af7    delivered             4 a54f0611adc9ed256b57ede6b6eb5114\n",
      "53cdb2fc8bc7dce0b6741e2150273451    delivered             4 8d5266042046a06655c8db133d120ba5\n",
      "47770eb9100c2d0c44946d9cf07ec65d    delivered             5 e73b67b67587f7644d5bd1a52deb1b01\n",
      "949d5b44dbf5de918fe9c16f97b45f8a    delivered             5 359d03e676b3c069f62cadba8dd3f6e8\n",
      "ad21c59c0840e6cb83a9ceb5573f8159    delivered             5 e50934924e227544ba8246aeb3770dd4\n",
      "\n",
      "✅ Key point: LEFT JOIN keeps ALL orders from the left table.\n",
      "   When no review exists, review columns show NULL (displayed as NaN).\n"
     ]
    }
   ],
   "source": [
    "# Demonstrate LEFT JOIN: Showing both matched and unmatched rows\n",
    "\n",
    "print(\"=\" * 70)\n",
    "print(\"Example A: Orders WITHOUT reviews (LEFT JOIN shows NULLs)\")\n",
    "print(\"=\" * 70)\n",
    "\n",
    "without_reviews = con.execute(\"\"\"\n",
    "    SELECT \n",
    "        o.order_id,\n",
    "        o.order_status,\n",
    "        r.review_score,\n",
    "        r.review_id\n",
    "    FROM orders o\n",
    "    LEFT JOIN reviews r ON o.order_id = r.order_id\n",
    "    WHERE r.review_id IS NULL\n",
    "    LIMIT 5\n",
    "\"\"\").df()\n",
    "\n",
    "print(without_reviews.to_string(index=False))\n",
    "\n",
    "print(\"\\n\" + \"=\" * 70)\n",
    "print(\"Example B: Orders WITH reviews (LEFT JOIN shows matches)\")\n",
    "print(\"=\" * 70)\n",
    "\n",
    "with_reviews = con.execute(\"\"\"\n",
    "    SELECT \n",
    "        o.order_id,\n",
    "        o.order_status,\n",
    "        r.review_score,\n",
    "        r.review_id\n",
    "    FROM orders o\n",
    "    LEFT JOIN reviews r ON o.order_id = r.order_id\n",
    "    WHERE r.review_id IS NOT NULL\n",
    "    LIMIT 5\n",
    "\"\"\").df()\n",
    "\n",
    "print(with_reviews.to_string(index=False))\n",
    "\n",
    "print(\"\\n✅ Key point: LEFT JOIN keeps ALL orders from the left table.\")\n",
    "print(\"   When no review exists, review columns show NULL (displayed as NaN).\")"
   ]
  },
  {
   "cell_type": "markdown",
   "id": "88e96410",
   "metadata": {},
   "source": [
    "**What happened:**\n",
    "\n",
    "**Example A (orders WITHOUT reviews):**\n",
    "- `review_score` and `review_id` are **NULL** (shown as `NaN` in pandas)\n",
    "- LEFT JOIN kept the order even though no matching review exists\n",
    "- This is the key difference from INNER JOIN (which would drop these rows)\n",
    "\n",
    "**Example B (orders WITH reviews):**\n",
    "- All columns are populated with real data\n",
    "- LEFT JOIN found matches in the reviews table\n",
    "\n",
    "**Why we filtered:** \n",
    "Only 0.77% of orders lack reviews in this dataset, so a random sample rarely shows NULLs. We filtered explicitly (WHERE IS NULL / IS NOT NULL) to demonstrate both cases clearly.\n",
    "\n",
    "**In practice:** You'd use LEFT JOIN without filtering to get ALL orders (both with and without reviews), then handle NULLs appropriately in your analysis.\n",
    "\n",
    "---"
   ]
  },
  {
   "cell_type": "markdown",
   "id": "89e36106",
   "metadata": {},
   "source": [
    "### Example 6: The Anti-Join Pattern (Finding Unmatched Records)\n",
    "\n",
    "**Business question:** \"Which orders DON'T have reviews yet?\"\n",
    "\n",
    "**Strategy:** LEFT JOIN + filter for NULLs in the right table"
   ]
  },
  {
   "cell_type": "code",
   "execution_count": null,
   "id": "183e38b4",
   "metadata": {
    "execution": {
     "iopub.execute_input": "2025-10-13T11:25:04.633782Z",
     "iopub.status.busy": "2025-10-13T11:25:04.633717Z",
     "iopub.status.idle": "2025-10-13T11:25:04.640801Z",
     "shell.execute_reply": "2025-10-13T11:25:04.640600Z"
    }
   },
   "outputs": [],
   "source": [
    "# Find orders without reviews (anti-join pattern)\n",
    "con.execute(\"\"\"\n",
    "    SELECT \n",
    "        o.order_id,\n",
    "        o.order_status,\n",
    "        o.order_purchase_timestamp\n",
    "    FROM orders o\n",
    "    LEFT JOIN reviews r ON o.order_id = r.order_id\n",
    "    WHERE r.review_id IS NULL\n",
    "    LIMIT 10\n",
    "\"\"\").df()"
   ]
  },
  {
   "cell_type": "markdown",
   "id": "f78066f3",
   "metadata": {},
   "source": [
    "**How it works:**\n",
    "1. LEFT JOIN keeps all orders\n",
    "2. Orders without reviews have `NULL` for `r.review_id`\n",
    "3. `WHERE r.review_id IS NULL` filters to only unmatched orders\n",
    "\n",
    "**Business insight:** These are orders that need follow-up for customer feedback!\n",
    "\n",
    "Let's see how many:"
   ]
  },
  {
   "cell_type": "code",
   "execution_count": null,
   "id": "1ecf4ed9",
   "metadata": {
    "execution": {
     "iopub.execute_input": "2025-10-13T11:25:04.641819Z",
     "iopub.status.busy": "2025-10-13T11:25:04.641750Z",
     "iopub.status.idle": "2025-10-13T11:25:04.648590Z",
     "shell.execute_reply": "2025-10-13T11:25:04.648403Z"
    }
   },
   "outputs": [],
   "source": [
    "# Count unreviewed orders\n",
    "con.execute(\"\"\"\n",
    "    SELECT \n",
    "        COUNT(*) AS unreviewed_orders,\n",
    "        ROUND(100.0 * COUNT(*) / (SELECT COUNT(*) FROM orders), 2) AS pct_unreviewed\n",
    "    FROM orders o\n",
    "    LEFT JOIN reviews r ON o.order_id = r.order_id\n",
    "    WHERE r.review_id IS NULL\n",
    "\"\"\").df()"
   ]
  },
  {
   "cell_type": "markdown",
   "id": "9eb95766",
   "metadata": {},
   "source": [
    "**Result:** About 0.77% of orders lack reviews. This is valuable data quality insight!\n",
    "\n",
    "---"
   ]
  },
  {
   "cell_type": "markdown",
   "id": "3f57121d",
   "metadata": {},
   "source": [
    "### Example 7: LEFT JOIN with Aggregation\n",
    "\n",
    "**Business question:** \"Show me average review score by order status (including orders without reviews)\""
   ]
  },
  {
   "cell_type": "code",
   "execution_count": null,
   "id": "63de882f",
   "metadata": {
    "execution": {
     "iopub.execute_input": "2025-10-13T11:25:04.649528Z",
     "iopub.status.busy": "2025-10-13T11:25:04.649479Z",
     "iopub.status.idle": "2025-10-13T11:25:04.663231Z",
     "shell.execute_reply": "2025-10-13T11:25:04.663015Z"
    }
   },
   "outputs": [],
   "source": [
    "# Average review score by order status\n",
    "con.execute(\"\"\"\n",
    "    SELECT \n",
    "        o.order_status,\n",
    "        COUNT(DISTINCT o.order_id) AS total_orders,\n",
    "        COUNT(r.review_id) AS reviewed_orders,\n",
    "        ROUND(AVG(r.review_score), 2) AS avg_review_score\n",
    "    FROM orders o\n",
    "    LEFT JOIN reviews r ON o.order_id = r.order_id\n",
    "    GROUP BY o.order_status\n",
    "    ORDER BY total_orders DESC\n",
    "\"\"\").df()"
   ]
  },
  {
   "cell_type": "markdown",
   "id": "5afb00a1",
   "metadata": {},
   "source": [
    "**Key observations:**\n",
    "- `COUNT(DISTINCT o.order_id)` counts all orders (including those without reviews)\n",
    "- `COUNT(r.review_id)` only counts orders WITH reviews (NULL excluded automatically)\n",
    "- `AVG(r.review_score)` automatically excludes NULLs\n",
    "\n",
    "**Business insight:** Delivered orders have excellent ratings (~4.1 stars), but many orders are still in process or canceled.\n",
    "\n",
    "---"
   ]
  },
  {
   "cell_type": "markdown",
   "id": "26019aa6",
   "metadata": {},
   "source": [
    "### RIGHT JOIN and FULL JOIN: Quick Mention (⏱️ 2 minutes)\n",
    "\n",
    "### RIGHT JOIN\n",
    "\n",
    "> **RIGHT JOIN is just a LEFT JOIN with tables flipped**\n",
    "\n",
    "```sql\n",
    "-- These are equivalent:\n",
    "SELECT * FROM orders o RIGHT JOIN customers c ON o.customer_id = c.customer_id\n",
    "SELECT * FROM customers c LEFT JOIN orders o ON c.customer_id = o.customer_id\n",
    "```\n",
    "\n",
    "**Industry reality:** RIGHT JOIN is rarely used. People just flip the table order and use LEFT JOIN instead.\n",
    "\n",
    "**Our dataset:** No natural RIGHT JOIN examples (all products have orders, all sellers have sales).\n",
    "\n",
    "---\n",
    "\n",
    "### FULL OUTER JOIN\n",
    "\n",
    "> **FULL OUTER JOIN returns ALL rows from BOTH tables, with NULLs where no match exists**\n",
    "\n",
    "```sql\n",
    "-- Keep everything from both tables\n",
    "SELECT * FROM orders o FULL OUTER JOIN reviews r ON o.order_id = r.order_id\n",
    "```\n",
    "\n",
    "**When you'd use this:** Rare! Typically when reconciling two sources and want to see what's in A but not B, and what's in B but not A.\n",
    "\n",
    "**Business example:** Comparing two inventory systems to find discrepancies.\n",
    "\n",
    "**For today:** Focus on INNER and LEFT—they cover 95% of real-world use cases.\n",
    "\n",
    "---"
   ]
  },
  {
   "cell_type": "markdown",
   "id": "839a8769",
   "metadata": {},
   "source": [
    "## Part 3: Modern SQL Pattern - CTEs (⏱️ 6 minutes)\n",
    "\n",
    "### Common Table Expressions (WITH clause)\n",
    "\n",
    "> **CTEs let you break complex queries into readable, named steps**\n",
    "\n",
    "**The problem:** Nested subqueries are hard to read and debug.\n",
    "\n",
    "**The solution:** CTEs (\"WITH\" clause) - temporary named result sets.\n",
    "\n",
    "**Think of it as:** \"First, calculate this intermediate result and give it a name. Then use it.\"\n",
    "\n",
    "---"
   ]
  },
  {
   "cell_type": "markdown",
   "id": "202f1edf",
   "metadata": {},
   "source": [
    "### Example 8: CTE for Multi-Step Analysis\n",
    "\n",
    "**Business question:** \"Show me sellers with total revenue > $10,000\"\n",
    "\n",
    "**Without CTE (messy nested query):**"
   ]
  },
  {
   "cell_type": "code",
   "execution_count": null,
   "id": "bebe0ce6",
   "metadata": {
    "execution": {
     "iopub.execute_input": "2025-10-13T11:25:04.664339Z",
     "iopub.status.busy": "2025-10-13T11:25:04.664277Z",
     "iopub.status.idle": "2025-10-13T11:25:04.670206Z",
     "shell.execute_reply": "2025-10-13T11:25:04.670025Z"
    }
   },
   "outputs": [],
   "source": [
    "# Without CTE - harder to read\n",
    "con.execute(\"\"\"\n",
    "    SELECT *\n",
    "    FROM (\n",
    "        SELECT \n",
    "            s.seller_id,\n",
    "            s.seller_state,\n",
    "            SUM(oi.price) AS total_revenue\n",
    "        FROM order_items oi\n",
    "        INNER JOIN sellers s ON oi.seller_id = s.seller_id\n",
    "        GROUP BY s.seller_id, s.seller_state\n",
    "    ) AS seller_revenue\n",
    "    WHERE total_revenue > 10000\n",
    "    ORDER BY total_revenue DESC\n",
    "    LIMIT 10\n",
    "\"\"\").df()"
   ]
  },
  {
   "cell_type": "markdown",
   "id": "03675510",
   "metadata": {},
   "source": [
    "**With CTE (much cleaner):**"
   ]
  },
  {
   "cell_type": "code",
   "execution_count": null,
   "id": "05aae9ec",
   "metadata": {
    "execution": {
     "iopub.execute_input": "2025-10-13T11:25:04.671121Z",
     "iopub.status.busy": "2025-10-13T11:25:04.671061Z",
     "iopub.status.idle": "2025-10-13T11:25:04.676930Z",
     "shell.execute_reply": "2025-10-13T11:25:04.676754Z"
    }
   },
   "outputs": [],
   "source": [
    "# With CTE - clear two-step logic\n",
    "con.execute(\"\"\"\n",
    "    WITH seller_revenue AS (\n",
    "        SELECT \n",
    "            s.seller_id,\n",
    "            s.seller_state,\n",
    "            SUM(oi.price) AS total_revenue\n",
    "        FROM order_items oi\n",
    "        INNER JOIN sellers s ON oi.seller_id = s.seller_id\n",
    "        GROUP BY s.seller_id, s.seller_state\n",
    "    )\n",
    "    SELECT *\n",
    "    FROM seller_revenue\n",
    "    WHERE total_revenue > 10000\n",
    "    ORDER BY total_revenue DESC\n",
    "    LIMIT 10\n",
    "\"\"\").df()"
   ]
  },
  {
   "cell_type": "markdown",
   "id": "e782373c",
   "metadata": {},
   "source": [
    "**What happened:**\n",
    "1. **Step 1 (WITH clause):** Calculate revenue per seller → name it `seller_revenue`\n",
    "2. **Step 2 (main query):** Filter `seller_revenue` for high earners\n",
    "\n",
    "**Why this is better:**\n",
    "- ✅ Reads top-to-bottom (like a recipe)\n",
    "- ✅ Each step is clearly named\n",
    "- ✅ Easier to debug (test each CTE separately)\n",
    "- ✅ Can chain multiple CTEs\n",
    "\n",
    "**This is how professionals write SQL.** Use CTEs for complex queries!\n",
    "\n",
    "---"
   ]
  },
  {
   "cell_type": "markdown",
   "id": "705e3a4b",
   "metadata": {},
   "source": [
    "### Example 9: Multiple CTEs\n",
    "\n",
    "**Business question:** \"Compare seller performance in São Paulo vs other states\"\n",
    "\n",
    "You can chain multiple CTEs:"
   ]
  },
  {
   "cell_type": "code",
   "execution_count": 22,
   "id": "5503efc5",
   "metadata": {
    "execution": {
     "iopub.execute_input": "2025-10-13T11:25:04.677919Z",
     "iopub.status.busy": "2025-10-13T11:25:04.677865Z",
     "iopub.status.idle": "2025-10-13T11:25:04.684035Z",
     "shell.execute_reply": "2025-10-13T11:25:04.683849Z"
    }
   },
   "outputs": [
    {
     "data": {
      "application/vnd.microsoft.datawrangler.viewer.v0+json": {
       "columns": [
        {
         "name": "index",
         "rawType": "int64",
         "type": "integer"
        },
        {
         "name": "region",
         "rawType": "object",
         "type": "string"
        },
        {
         "name": "total_sellers",
         "rawType": "float64",
         "type": "float"
        },
        {
         "name": "avg_revenue",
         "rawType": "float64",
         "type": "float"
        }
       ],
       "ref": "bd66aef3-0b33-47bb-9d9d-e81b91f30569",
       "rows": [
        [
         "0",
         "Other States",
         "1246.0",
         "4923.97"
        ],
        [
         "1",
         "São Paulo",
         "1849.0",
         "4734.12"
        ]
       ],
       "shape": {
        "columns": 3,
        "rows": 2
       }
      },
      "text/html": [
       "<div>\n",
       "<style scoped>\n",
       "    .dataframe tbody tr th:only-of-type {\n",
       "        vertical-align: middle;\n",
       "    }\n",
       "\n",
       "    .dataframe tbody tr th {\n",
       "        vertical-align: top;\n",
       "    }\n",
       "\n",
       "    .dataframe thead th {\n",
       "        text-align: right;\n",
       "    }\n",
       "</style>\n",
       "<table border=\"1\" class=\"dataframe\">\n",
       "  <thead>\n",
       "    <tr style=\"text-align: right;\">\n",
       "      <th></th>\n",
       "      <th>region</th>\n",
       "      <th>total_sellers</th>\n",
       "      <th>avg_revenue</th>\n",
       "    </tr>\n",
       "  </thead>\n",
       "  <tbody>\n",
       "    <tr>\n",
       "      <th>0</th>\n",
       "      <td>Other States</td>\n",
       "      <td>1246.0</td>\n",
       "      <td>4923.97</td>\n",
       "    </tr>\n",
       "    <tr>\n",
       "      <th>1</th>\n",
       "      <td>São Paulo</td>\n",
       "      <td>1849.0</td>\n",
       "      <td>4734.12</td>\n",
       "    </tr>\n",
       "  </tbody>\n",
       "</table>\n",
       "</div>"
      ],
      "text/plain": [
       "         region  total_sellers  avg_revenue\n",
       "0  Other States         1246.0      4923.97\n",
       "1     São Paulo         1849.0      4734.12"
      ]
     },
     "execution_count": 22,
     "metadata": {},
     "output_type": "execute_result"
    }
   ],
   "source": [
    "# Multiple CTEs - building up complexity\n",
    "con.execute(\"\"\"\n",
    "    WITH seller_revenue AS (\n",
    "        -- Step 1: Calculate revenue per seller\n",
    "        SELECT \n",
    "            s.seller_id,\n",
    "            s.seller_state,\n",
    "            SUM(oi.price) AS total_revenue\n",
    "        FROM order_items oi\n",
    "        INNER JOIN sellers s ON oi.seller_id = s.seller_id\n",
    "        GROUP BY s.seller_id, s.seller_state\n",
    "    ),\n",
    "    state_summary AS (\n",
    "        -- Step 2: Aggregate by state\n",
    "        SELECT \n",
    "            seller_state,\n",
    "            COUNT(*) AS num_sellers,\n",
    "            ROUND(AVG(total_revenue), 2) AS avg_revenue_per_seller,\n",
    "            ROUND(SUM(total_revenue), 2) AS total_state_revenue\n",
    "        FROM seller_revenue\n",
    "        GROUP BY seller_state\n",
    "    )\n",
    "    -- Step 3: Compare SP to others\n",
    "    SELECT \n",
    "        CASE \n",
    "            WHEN seller_state = 'SP' THEN 'São Paulo'\n",
    "            ELSE 'Other States'\n",
    "        END AS region,\n",
    "        SUM(num_sellers) AS total_sellers,\n",
    "        ROUND(AVG(avg_revenue_per_seller), 2) AS avg_revenue\n",
    "    FROM state_summary\n",
    "    GROUP BY region\n",
    "    ORDER BY avg_revenue DESC\n",
    "\"\"\").df()"
   ]
  },
  {
   "cell_type": "markdown",
   "id": "3468ab21",
   "metadata": {},
   "source": [
    "**Three clear steps:**\n",
    "1. Calculate seller-level revenue\n",
    "2. Aggregate to state level\n",
    "3. Compare SP vs others\n",
    "\n",
    "**Business insight:** São Paulo sellers perform similarly to sellers in other states on average.\n",
    "\n",
    "---"
   ]
  },
  {
   "cell_type": "markdown",
   "id": "78f1f396",
   "metadata": {},
   "source": [
    "## 🛑 BREAK POINT - Questions?\n",
    "\n",
    "**So far we've covered:**\n",
    "- ✅ ERDs and PK/FK relationships\n",
    "- ✅ INNER JOIN (matching records only)\n",
    "- ✅ LEFT JOIN (all from left table)\n",
    "- ✅ Anti-join pattern (finding unmatched records)\n",
    "- ✅ CTEs for readable multi-step queries\n",
    "\n",
    "**Next up:**\n",
    "- ⚠️ The dangers: duplicate inflation and aggregation mistakes\n",
    "- 🎯 The grand finale: putting it all together with window functions\n",
    "\n",
    "---\n",
    "\n",
    "**Take a moment to ask questions before we continue!**\n",
    "\n",
    "---"
   ]
  },
  {
   "cell_type": "markdown",
   "id": "a0eda882",
   "metadata": {},
   "source": [
    "## Part 4: The Dangers (⏱️ 12 minutes)\n",
    "\n",
    "### Duplicate Inflation: The Silent Killer (⏱️ 7 minutes)\n",
    "\n",
    "> **⚠️ WARNING: Joins can multiply your rows if you're not careful!**\n",
    "\n",
    "**The problem:** When you join tables with one-to-many relationships, rows get duplicated.\n",
    "\n",
    "**Why this matters:** \n",
    "- Your counts will be WRONG\n",
    "- Your aggregations will be WRONG\n",
    "- You'll report incorrect business metrics\n",
    "\n",
    "**This is the #1 mistake beginners make with joins.**\n",
    "\n",
    "---"
   ]
  },
  {
   "cell_type": "markdown",
   "id": "e033732c",
   "metadata": {},
   "source": [
    "### Example 10: Demonstrating the Problem\n",
    "\n",
    "**Business question:** \"How many orders do we have?\"\n",
    "\n",
    "**Let's count orders three different ways:**"
   ]
  },
  {
   "cell_type": "code",
   "execution_count": null,
   "id": "387cb1a6",
   "metadata": {
    "execution": {
     "iopub.execute_input": "2025-10-13T11:25:04.685037Z",
     "iopub.status.busy": "2025-10-13T11:25:04.684988Z",
     "iopub.status.idle": "2025-10-13T11:25:04.686836Z",
     "shell.execute_reply": "2025-10-13T11:25:04.686658Z"
    }
   },
   "outputs": [],
   "source": [
    "# Method 1: Count orders directly (correct)\n",
    "direct_count = con.execute(\"\"\"\n",
    "    SELECT COUNT(*) AS order_count\n",
    "    FROM orders\n",
    "\"\"\").df()\n",
    "\n",
    "print(\"Method 1 - Direct count from orders table:\")\n",
    "print(direct_count)\n",
    "print()"
   ]
  },
  {
   "cell_type": "code",
   "execution_count": null,
   "id": "66213fa0",
   "metadata": {
    "execution": {
     "iopub.execute_input": "2025-10-13T11:25:04.687669Z",
     "iopub.status.busy": "2025-10-13T11:25:04.687615Z",
     "iopub.status.idle": "2025-10-13T11:25:04.693210Z",
     "shell.execute_reply": "2025-10-13T11:25:04.693011Z"
    }
   },
   "outputs": [],
   "source": [
    "# Method 2: Count after joining to order_items (WRONG!)\n",
    "wrong_count = con.execute(\"\"\"\n",
    "    SELECT COUNT(*) AS order_count\n",
    "    FROM orders o\n",
    "    INNER JOIN order_items oi ON o.order_id = oi.order_id\n",
    "\"\"\").df()\n",
    "\n",
    "print(\"Method 2 - Count after joining to order_items (WRONG):\")\n",
    "print(wrong_count)\n",
    "print(\"\\n⚠️ This is INFLATED because orders with multiple items are counted multiple times!\")\n",
    "print()"
   ]
  },
  {
   "cell_type": "code",
   "execution_count": null,
   "id": "296bbd5c",
   "metadata": {
    "execution": {
     "iopub.execute_input": "2025-10-13T11:25:04.694079Z",
     "iopub.status.busy": "2025-10-13T11:25:04.694025Z",
     "iopub.status.idle": "2025-10-13T11:25:04.703973Z",
     "shell.execute_reply": "2025-10-13T11:25:04.703745Z"
    }
   },
   "outputs": [],
   "source": [
    "# Method 3: Count DISTINCT after joining (correct)\n",
    "correct_count = con.execute(\"\"\"\n",
    "    SELECT COUNT(DISTINCT o.order_id) AS order_count\n",
    "    FROM orders o\n",
    "    INNER JOIN order_items oi ON o.order_id = oi.order_id\n",
    "\"\"\").df()\n",
    "\n",
    "print(\"Method 3 - Count DISTINCT after joining (CORRECT):\")\n",
    "print(correct_count)\n",
    "print(\"\\n⚠️ DISTINCT prevents double-counting, but notice we still lost orders!\")"
   ]
  },
  {
   "cell_type": "markdown",
   "id": "f638260c",
   "metadata": {},
   "source": [
    "**What happened:**\n",
    "- **Direct count:** 99,441 orders ✅\n",
    "- **After join:** 112,650 \"orders\" ❌ (this is actually counting items!)\n",
    "- **DISTINCT count:** 98,666 orders ⚠️ (wait, where did 775 orders go?)\n",
    "\n",
    "**Why the inflation?**\n",
    "- `orders` has 99,441 rows (one per order)\n",
    "- `order_items` has 112,650 rows (multiple items per order)\n",
    "- When you join them, orders with 2 items appear twice!\n",
    "\n",
    "**Important:** Using `COUNT(DISTINCT ...)` prevents counting the same order multiple times, which is good! BUT notice we still get **98,666 instead of 99,441**. We lost **775 orders** because **INNER JOIN drops orders that don't have items** in `order_items`.\n",
    "\n",
    "**This is a data quality issue** (orphaned orders without items) that `DISTINCT` can't fix. To preserve ALL orders while avoiding duplication, we'd need:\n",
    "- `LEFT JOIN` (keeps all orders, even without items) + `DISTINCT` (prevents double-counting)\n",
    "\n",
    "**The lesson:** `DISTINCT` solves duplicate counting, but doesn't solve data loss from INNER JOIN. Always check your row counts at each step!\n",
    "\n",
    "---"
   ]
  },
  {
   "cell_type": "markdown",
   "id": "9ed97394",
   "metadata": {},
   "source": [
    "### Example 11: Seeing the Duplication\n",
    "\n",
    "Let's look at a specific order with multiple items:"
   ]
  },
  {
   "cell_type": "code",
   "execution_count": null,
   "id": "1f4db209",
   "metadata": {
    "execution": {
     "iopub.execute_input": "2025-10-13T11:25:04.704971Z",
     "iopub.status.busy": "2025-10-13T11:25:04.704919Z",
     "iopub.status.idle": "2025-10-13T11:25:04.712331Z",
     "shell.execute_reply": "2025-10-13T11:25:04.712149Z"
    }
   },
   "outputs": [],
   "source": [
    "# Find an order with multiple items\n",
    "multi_item_order = con.execute(\"\"\"\n",
    "    SELECT \n",
    "        o.order_id,\n",
    "        o.order_status,\n",
    "        oi.order_item_id,\n",
    "        oi.product_id,\n",
    "        oi.price\n",
    "    FROM orders o\n",
    "    INNER JOIN order_items oi ON o.order_id = oi.order_id\n",
    "    WHERE o.order_id IN (\n",
    "        SELECT order_id \n",
    "        FROM order_items \n",
    "        GROUP BY order_id \n",
    "        HAVING COUNT(*) > 1\n",
    "        LIMIT 1\n",
    "    )\n",
    "\"\"\").df()\n",
    "\n",
    "print(\"One order, multiple items (order gets duplicated):\")\n",
    "multi_item_order"
   ]
  },
  {
   "cell_type": "markdown",
   "id": "aa92f725",
   "metadata": {},
   "source": [
    "**See?** The same `order_id` appears multiple times! \n",
    "\n",
    "If you count rows, you're counting items, not orders.\n",
    "\n",
    "**The fix: Always use `COUNT(DISTINCT ...)` when counting after joins across one-to-many relationships.**\n",
    "\n",
    "---"
   ]
  },
  {
   "cell_type": "markdown",
   "id": "328d481d",
   "metadata": {},
   "source": [
    "### Aggregating Correctly After Joins (⏱️ 5 minutes)\n",
    "\n",
    "> **Key principle: Aggregate at the correct GRAIN**\n",
    "\n",
    "**Grain = the level of detail in your result**\n",
    "\n",
    "**Example questions with different grains:**\n",
    "- \"Revenue per order\" → Order grain (one row per order)\n",
    "- \"Revenue per product\" → Product grain (one row per product)\n",
    "- \"Revenue per seller per state\" → Seller-state grain (one row per seller-state combo)\n",
    "\n",
    "**Your GROUP BY clause defines the grain!**\n",
    "\n",
    "---"
   ]
  },
  {
   "cell_type": "markdown",
   "id": "0890846b",
   "metadata": {},
   "source": [
    "### Example 12: Correct Aggregation\n",
    "\n",
    "**Business question:** \"What's the total revenue per order?\"\n",
    "\n",
    "**Grain: One row per order**"
   ]
  },
  {
   "cell_type": "code",
   "execution_count": 15,
   "id": "e6f8e74c",
   "metadata": {
    "execution": {
     "iopub.execute_input": "2025-10-13T11:25:04.713320Z",
     "iopub.status.busy": "2025-10-13T11:25:04.713253Z",
     "iopub.status.idle": "2025-10-13T11:25:04.726330Z",
     "shell.execute_reply": "2025-10-13T11:25:04.726134Z"
    }
   },
   "outputs": [
    {
     "data": {
      "application/vnd.microsoft.datawrangler.viewer.v0+json": {
       "columns": [
        {
         "name": "index",
         "rawType": "int64",
         "type": "integer"
        },
        {
         "name": "order_id",
         "rawType": "object",
         "type": "string"
        },
        {
         "name": "order_status",
         "rawType": "object",
         "type": "string"
        },
        {
         "name": "num_items",
         "rawType": "int64",
         "type": "integer"
        },
        {
         "name": "total_revenue",
         "rawType": "float64",
         "type": "float"
        }
       ],
       "ref": "7af22628-60ba-4df5-9ede-455906c424bb",
       "rows": [
        [
         "0",
         "03caa2c082116e1d31e67e9ae3700499",
         "delivered",
         "8",
         "13440.0"
        ],
        [
         "1",
         "736e1922ae60d0d6a89247b851902527",
         "delivered",
         "4",
         "7160.0"
        ],
        [
         "2",
         "0812eb902a67711a1cb742b3cdaa65ae",
         "delivered",
         "1",
         "6735.0"
        ],
        [
         "3",
         "fefacc66af859508bf1a7934eab1e97f",
         "delivered",
         "1",
         "6729.0"
        ],
        [
         "4",
         "f5136e38d1a14a4dbd87dff67da82701",
         "delivered",
         "1",
         "6499.0"
        ],
        [
         "5",
         "2cc9089445046817a7539d90805e6e5a",
         "delivered",
         "6",
         "5934.6"
        ],
        [
         "6",
         "a96610ab360d42a2e5335a3998b4718a",
         "delivered",
         "1",
         "4799.0"
        ],
        [
         "7",
         "199af31afc78c699f0dbf71fb178d4d4",
         "delivered",
         "1",
         "4690.0"
        ],
        [
         "8",
         "b4c4b76c642808cbe472a32b86cddc95",
         "canceled",
         "2",
         "4599.9"
        ],
        [
         "9",
         "8dbc85d1447242f3b127dda390d56e19",
         "delivered",
         "1",
         "4590.0"
        ]
       ],
       "shape": {
        "columns": 4,
        "rows": 10
       }
      },
      "text/html": [
       "<div>\n",
       "<style scoped>\n",
       "    .dataframe tbody tr th:only-of-type {\n",
       "        vertical-align: middle;\n",
       "    }\n",
       "\n",
       "    .dataframe tbody tr th {\n",
       "        vertical-align: top;\n",
       "    }\n",
       "\n",
       "    .dataframe thead th {\n",
       "        text-align: right;\n",
       "    }\n",
       "</style>\n",
       "<table border=\"1\" class=\"dataframe\">\n",
       "  <thead>\n",
       "    <tr style=\"text-align: right;\">\n",
       "      <th></th>\n",
       "      <th>order_id</th>\n",
       "      <th>order_status</th>\n",
       "      <th>num_items</th>\n",
       "      <th>total_revenue</th>\n",
       "    </tr>\n",
       "  </thead>\n",
       "  <tbody>\n",
       "    <tr>\n",
       "      <th>0</th>\n",
       "      <td>03caa2c082116e1d31e67e9ae3700499</td>\n",
       "      <td>delivered</td>\n",
       "      <td>8</td>\n",
       "      <td>13440.0</td>\n",
       "    </tr>\n",
       "    <tr>\n",
       "      <th>1</th>\n",
       "      <td>736e1922ae60d0d6a89247b851902527</td>\n",
       "      <td>delivered</td>\n",
       "      <td>4</td>\n",
       "      <td>7160.0</td>\n",
       "    </tr>\n",
       "    <tr>\n",
       "      <th>2</th>\n",
       "      <td>0812eb902a67711a1cb742b3cdaa65ae</td>\n",
       "      <td>delivered</td>\n",
       "      <td>1</td>\n",
       "      <td>6735.0</td>\n",
       "    </tr>\n",
       "    <tr>\n",
       "      <th>3</th>\n",
       "      <td>fefacc66af859508bf1a7934eab1e97f</td>\n",
       "      <td>delivered</td>\n",
       "      <td>1</td>\n",
       "      <td>6729.0</td>\n",
       "    </tr>\n",
       "    <tr>\n",
       "      <th>4</th>\n",
       "      <td>f5136e38d1a14a4dbd87dff67da82701</td>\n",
       "      <td>delivered</td>\n",
       "      <td>1</td>\n",
       "      <td>6499.0</td>\n",
       "    </tr>\n",
       "    <tr>\n",
       "      <th>5</th>\n",
       "      <td>2cc9089445046817a7539d90805e6e5a</td>\n",
       "      <td>delivered</td>\n",
       "      <td>6</td>\n",
       "      <td>5934.6</td>\n",
       "    </tr>\n",
       "    <tr>\n",
       "      <th>6</th>\n",
       "      <td>a96610ab360d42a2e5335a3998b4718a</td>\n",
       "      <td>delivered</td>\n",
       "      <td>1</td>\n",
       "      <td>4799.0</td>\n",
       "    </tr>\n",
       "    <tr>\n",
       "      <th>7</th>\n",
       "      <td>199af31afc78c699f0dbf71fb178d4d4</td>\n",
       "      <td>delivered</td>\n",
       "      <td>1</td>\n",
       "      <td>4690.0</td>\n",
       "    </tr>\n",
       "    <tr>\n",
       "      <th>8</th>\n",
       "      <td>b4c4b76c642808cbe472a32b86cddc95</td>\n",
       "      <td>canceled</td>\n",
       "      <td>2</td>\n",
       "      <td>4599.9</td>\n",
       "    </tr>\n",
       "    <tr>\n",
       "      <th>9</th>\n",
       "      <td>8dbc85d1447242f3b127dda390d56e19</td>\n",
       "      <td>delivered</td>\n",
       "      <td>1</td>\n",
       "      <td>4590.0</td>\n",
       "    </tr>\n",
       "  </tbody>\n",
       "</table>\n",
       "</div>"
      ],
      "text/plain": [
       "                           order_id order_status  num_items  total_revenue\n",
       "0  03caa2c082116e1d31e67e9ae3700499    delivered          8        13440.0\n",
       "1  736e1922ae60d0d6a89247b851902527    delivered          4         7160.0\n",
       "2  0812eb902a67711a1cb742b3cdaa65ae    delivered          1         6735.0\n",
       "3  fefacc66af859508bf1a7934eab1e97f    delivered          1         6729.0\n",
       "4  f5136e38d1a14a4dbd87dff67da82701    delivered          1         6499.0\n",
       "5  2cc9089445046817a7539d90805e6e5a    delivered          6         5934.6\n",
       "6  a96610ab360d42a2e5335a3998b4718a    delivered          1         4799.0\n",
       "7  199af31afc78c699f0dbf71fb178d4d4    delivered          1         4690.0\n",
       "8  b4c4b76c642808cbe472a32b86cddc95     canceled          2         4599.9\n",
       "9  8dbc85d1447242f3b127dda390d56e19    delivered          1         4590.0"
      ]
     },
     "execution_count": 15,
     "metadata": {},
     "output_type": "execute_result"
    }
   ],
   "source": [
    "# Revenue per order (correct grain)\n",
    "con.execute(\"\"\"\n",
    "    SELECT \n",
    "        o.order_id,\n",
    "        o.order_status,\n",
    "        COUNT(oi.order_item_id) AS num_items,\n",
    "        ROUND(SUM(oi.price), 2) AS total_revenue\n",
    "    FROM orders o\n",
    "    INNER JOIN order_items oi ON o.order_id = oi.order_id\n",
    "    GROUP BY o.order_id, o.order_status\n",
    "    ORDER BY total_revenue DESC\n",
    "    LIMIT 10\n",
    "\"\"\").df()"
   ]
  },
  {
   "cell_type": "markdown",
   "id": "d8947e78",
   "metadata": {},
   "source": [
    "**Why this works:**\n",
    "- `GROUP BY o.order_id` collapses multiple items back to one row per order\n",
    "- `SUM(oi.price)` adds up all items in each order\n",
    "- Result: One row per order ✅\n",
    "\n",
    "**Business insight:** The highest-value orders have 10-20 items each and generate $5K-13K in revenue.\n",
    "\n",
    "---"
   ]
  },
  {
   "cell_type": "markdown",
   "id": "a9b8737d",
   "metadata": {},
   "source": [
    "### Example 13: Multi-Level Aggregation\n",
    "\n",
    "**Business question:** \"What's the average order value per seller state?\"\n",
    "\n",
    "**Strategy:** \n",
    "1. First, calculate order value (order grain)\n",
    "2. Then, average by seller state (state grain)\n",
    "\n",
    "**This is perfect for a CTE!**"
   ]
  },
  {
   "cell_type": "code",
   "execution_count": null,
   "id": "97e55f0d",
   "metadata": {
    "execution": {
     "iopub.execute_input": "2025-10-13T11:25:04.727324Z",
     "iopub.status.busy": "2025-10-13T11:25:04.727273Z",
     "iopub.status.idle": "2025-10-13T11:25:04.742489Z",
     "shell.execute_reply": "2025-10-13T11:25:04.742268Z"
    }
   },
   "outputs": [],
   "source": [
    "# Multi-level aggregation with CTE\n",
    "con.execute(\"\"\"\n",
    "    WITH order_revenue AS (\n",
    "        -- Step 1: Calculate revenue per order\n",
    "        SELECT \n",
    "            o.order_id,\n",
    "            s.seller_state,\n",
    "            SUM(oi.price) AS order_value\n",
    "        FROM orders o\n",
    "        INNER JOIN order_items oi ON o.order_id = oi.order_id\n",
    "        INNER JOIN sellers s ON oi.seller_id = s.seller_id\n",
    "        GROUP BY o.order_id, s.seller_state\n",
    "    )\n",
    "    -- Step 2: Average by state\n",
    "    SELECT \n",
    "        seller_state,\n",
    "        COUNT(DISTINCT order_id) AS num_orders,\n",
    "        ROUND(AVG(order_value), 2) AS avg_order_value\n",
    "    FROM order_revenue\n",
    "    GROUP BY seller_state\n",
    "    ORDER BY avg_order_value DESC\n",
    "    LIMIT 10\n",
    "\"\"\").df()"
   ]
  },
  {
   "cell_type": "markdown",
   "id": "7580df85",
   "metadata": {},
   "source": [
    "**Key technique:**\n",
    "- CTE aggregates at order grain first\n",
    "- Main query aggregates at state grain second\n",
    "- Clear two-step logic prevents mistakes\n",
    "\n",
    "**Business insight:** Seller states have similar average order values (~$130-160), but volumes differ dramatically.\n",
    "\n",
    "---"
   ]
  },
  {
   "cell_type": "markdown",
   "id": "c4a91b88",
   "metadata": {},
   "source": [
    "## Part 5: The Grand Finale - Everything Together (⏱️ 7 minutes)\n",
    "\n",
    "### 🎯 Synthesis Example: Day 1 + Day 2 Combined\n",
    "\n",
    "> **\"Top 3 sellers per state by revenue\"**\n",
    "\n",
    "**This query combines EVERYTHING we've learned:**\n",
    "- ✅ **Multi-table INNER JOIN** (today)\n",
    "- ✅ **CTE** for readable structure (today)\n",
    "- ✅ **GROUP BY + aggregation** (Day 1 Block B)\n",
    "- ✅ **ROW_NUMBER() OVER (PARTITION BY...)** (Day 1 Block B)\n",
    "- ✅ **Filtering on window function result** (Day 1 Block B)\n",
    "\n",
    "**This is the kind of query you'll write constantly in analytics roles.**\n",
    "\n",
    "Let's build it step by step:\n",
    "\n",
    "---"
   ]
  },
  {
   "cell_type": "code",
   "execution_count": 16,
   "id": "109b455e",
   "metadata": {
    "execution": {
     "iopub.execute_input": "2025-10-13T11:25:04.743502Z",
     "iopub.status.busy": "2025-10-13T11:25:04.743440Z",
     "iopub.status.idle": "2025-10-13T11:25:04.759181Z",
     "shell.execute_reply": "2025-10-13T11:25:04.758984Z"
    }
   },
   "outputs": [
    {
     "data": {
      "application/vnd.microsoft.datawrangler.viewer.v0+json": {
       "columns": [
        {
         "name": "index",
         "rawType": "int64",
         "type": "integer"
        },
        {
         "name": "seller_state",
         "rawType": "object",
         "type": "string"
        },
        {
         "name": "rank_in_state",
         "rawType": "int64",
         "type": "integer"
        },
        {
         "name": "seller_city",
         "rawType": "object",
         "type": "string"
        },
        {
         "name": "num_orders",
         "rawType": "int64",
         "type": "integer"
        },
        {
         "name": "total_revenue",
         "rawType": "float64",
         "type": "float"
        }
       ],
       "ref": "d8468822-0402-4dbd-b4bb-6ee492736052",
       "rows": [
        [
         "0",
         "AC",
         "1",
         "rio branco",
         "1",
         "267.0"
        ],
        [
         "1",
         "AM",
         "1",
         "manaus",
         "3",
         "1177.0"
        ],
        [
         "2",
         "BA",
         "1",
         "lauro de freitas",
         "358",
         "222776.05"
        ],
        [
         "3",
         "BA",
         "2",
         "guanambi",
         "21",
         "17522.0"
        ],
        [
         "4",
         "BA",
         "3",
         "salvador",
         "62",
         "15048.28"
        ],
        [
         "5",
         "CE",
         "1",
         "fortaleza",
         "14",
         "7846.0"
        ],
        [
         "6",
         "CE",
         "2",
         "fortaleza",
         "16",
         "6384.0"
        ],
        [
         "7",
         "CE",
         "3",
         "caucaia",
         "27",
         "2777.72"
        ],
        [
         "8",
         "DF",
         "1",
         "brasilia",
         "144",
         "18729.64"
        ],
        [
         "9",
         "DF",
         "2",
         "brasilia",
         "87",
         "10505.1"
        ],
        [
         "10",
         "DF",
         "3",
         "gama",
         "30",
         "9385.7"
        ],
        [
         "11",
         "ES",
         "1",
         "cariacica",
         "200",
         "25080.03"
        ],
        [
         "12",
         "ES",
         "2",
         "vila velha",
         "5",
         "6787.5"
        ],
        [
         "13",
         "ES",
         "3",
         "muqui",
         "25",
         "4353.9"
        ],
        [
         "14",
         "GO",
         "1",
         "aparecida de goiania",
         "67",
         "10292.31"
        ],
        [
         "15",
         "GO",
         "2",
         "goiania",
         "54",
         "8085.0"
        ],
        [
         "16",
         "GO",
         "3",
         "goiania",
         "44",
         "7726.9"
        ],
        [
         "17",
         "MA",
         "1",
         "sao luis",
         "392",
         "36408.95"
        ],
        [
         "18",
         "MG",
         "1",
         "ilicinea",
         "718",
         "101901.16"
        ],
        [
         "19",
         "MG",
         "2",
         "itauna",
         "158",
         "54679.22"
        ],
        [
         "20",
         "MG",
         "3",
         "araguari",
         "338",
         "34725.43"
        ],
        [
         "21",
         "MS",
         "1",
         "campo grande",
         "19",
         "3669.64"
        ],
        [
         "22",
         "MS",
         "2",
         "coxim",
         "17",
         "2658.9"
        ],
        [
         "23",
         "MS",
         "3",
         "campo grande",
         "5",
         "1037.6"
        ],
        [
         "24",
         "MT",
         "1",
         "sinop",
         "54",
         "7784.5"
        ],
        [
         "25",
         "MT",
         "2",
         "cuiaba",
         "45",
         "4880.22"
        ],
        [
         "26",
         "MT",
         "3",
         "cuiaba",
         "36",
         "4088.0"
        ],
        [
         "27",
         "PA",
         "1",
         "marechal candido rondon",
         "8",
         "1238.0"
        ],
        [
         "28",
         "PB",
         "1",
         "mamanguape",
         "16",
         "14368.61"
        ],
        [
         "29",
         "PB",
         "2",
         "joao pessoa",
         "8",
         "946.49"
        ]
       ],
       "shape": {
        "columns": 5,
        "rows": 30
       }
      },
      "text/html": [
       "<div>\n",
       "<style scoped>\n",
       "    .dataframe tbody tr th:only-of-type {\n",
       "        vertical-align: middle;\n",
       "    }\n",
       "\n",
       "    .dataframe tbody tr th {\n",
       "        vertical-align: top;\n",
       "    }\n",
       "\n",
       "    .dataframe thead th {\n",
       "        text-align: right;\n",
       "    }\n",
       "</style>\n",
       "<table border=\"1\" class=\"dataframe\">\n",
       "  <thead>\n",
       "    <tr style=\"text-align: right;\">\n",
       "      <th></th>\n",
       "      <th>seller_state</th>\n",
       "      <th>rank_in_state</th>\n",
       "      <th>seller_city</th>\n",
       "      <th>num_orders</th>\n",
       "      <th>total_revenue</th>\n",
       "    </tr>\n",
       "  </thead>\n",
       "  <tbody>\n",
       "    <tr>\n",
       "      <th>0</th>\n",
       "      <td>AC</td>\n",
       "      <td>1</td>\n",
       "      <td>rio branco</td>\n",
       "      <td>1</td>\n",
       "      <td>267.00</td>\n",
       "    </tr>\n",
       "    <tr>\n",
       "      <th>1</th>\n",
       "      <td>AM</td>\n",
       "      <td>1</td>\n",
       "      <td>manaus</td>\n",
       "      <td>3</td>\n",
       "      <td>1177.00</td>\n",
       "    </tr>\n",
       "    <tr>\n",
       "      <th>2</th>\n",
       "      <td>BA</td>\n",
       "      <td>1</td>\n",
       "      <td>lauro de freitas</td>\n",
       "      <td>358</td>\n",
       "      <td>222776.05</td>\n",
       "    </tr>\n",
       "    <tr>\n",
       "      <th>3</th>\n",
       "      <td>BA</td>\n",
       "      <td>2</td>\n",
       "      <td>guanambi</td>\n",
       "      <td>21</td>\n",
       "      <td>17522.00</td>\n",
       "    </tr>\n",
       "    <tr>\n",
       "      <th>4</th>\n",
       "      <td>BA</td>\n",
       "      <td>3</td>\n",
       "      <td>salvador</td>\n",
       "      <td>62</td>\n",
       "      <td>15048.28</td>\n",
       "    </tr>\n",
       "    <tr>\n",
       "      <th>5</th>\n",
       "      <td>CE</td>\n",
       "      <td>1</td>\n",
       "      <td>fortaleza</td>\n",
       "      <td>14</td>\n",
       "      <td>7846.00</td>\n",
       "    </tr>\n",
       "    <tr>\n",
       "      <th>6</th>\n",
       "      <td>CE</td>\n",
       "      <td>2</td>\n",
       "      <td>fortaleza</td>\n",
       "      <td>16</td>\n",
       "      <td>6384.00</td>\n",
       "    </tr>\n",
       "    <tr>\n",
       "      <th>7</th>\n",
       "      <td>CE</td>\n",
       "      <td>3</td>\n",
       "      <td>caucaia</td>\n",
       "      <td>27</td>\n",
       "      <td>2777.72</td>\n",
       "    </tr>\n",
       "    <tr>\n",
       "      <th>8</th>\n",
       "      <td>DF</td>\n",
       "      <td>1</td>\n",
       "      <td>brasilia</td>\n",
       "      <td>144</td>\n",
       "      <td>18729.64</td>\n",
       "    </tr>\n",
       "    <tr>\n",
       "      <th>9</th>\n",
       "      <td>DF</td>\n",
       "      <td>2</td>\n",
       "      <td>brasilia</td>\n",
       "      <td>87</td>\n",
       "      <td>10505.10</td>\n",
       "    </tr>\n",
       "    <tr>\n",
       "      <th>10</th>\n",
       "      <td>DF</td>\n",
       "      <td>3</td>\n",
       "      <td>gama</td>\n",
       "      <td>30</td>\n",
       "      <td>9385.70</td>\n",
       "    </tr>\n",
       "    <tr>\n",
       "      <th>11</th>\n",
       "      <td>ES</td>\n",
       "      <td>1</td>\n",
       "      <td>cariacica</td>\n",
       "      <td>200</td>\n",
       "      <td>25080.03</td>\n",
       "    </tr>\n",
       "    <tr>\n",
       "      <th>12</th>\n",
       "      <td>ES</td>\n",
       "      <td>2</td>\n",
       "      <td>vila velha</td>\n",
       "      <td>5</td>\n",
       "      <td>6787.50</td>\n",
       "    </tr>\n",
       "    <tr>\n",
       "      <th>13</th>\n",
       "      <td>ES</td>\n",
       "      <td>3</td>\n",
       "      <td>muqui</td>\n",
       "      <td>25</td>\n",
       "      <td>4353.90</td>\n",
       "    </tr>\n",
       "    <tr>\n",
       "      <th>14</th>\n",
       "      <td>GO</td>\n",
       "      <td>1</td>\n",
       "      <td>aparecida de goiania</td>\n",
       "      <td>67</td>\n",
       "      <td>10292.31</td>\n",
       "    </tr>\n",
       "    <tr>\n",
       "      <th>15</th>\n",
       "      <td>GO</td>\n",
       "      <td>2</td>\n",
       "      <td>goiania</td>\n",
       "      <td>54</td>\n",
       "      <td>8085.00</td>\n",
       "    </tr>\n",
       "    <tr>\n",
       "      <th>16</th>\n",
       "      <td>GO</td>\n",
       "      <td>3</td>\n",
       "      <td>goiania</td>\n",
       "      <td>44</td>\n",
       "      <td>7726.90</td>\n",
       "    </tr>\n",
       "    <tr>\n",
       "      <th>17</th>\n",
       "      <td>MA</td>\n",
       "      <td>1</td>\n",
       "      <td>sao luis</td>\n",
       "      <td>392</td>\n",
       "      <td>36408.95</td>\n",
       "    </tr>\n",
       "    <tr>\n",
       "      <th>18</th>\n",
       "      <td>MG</td>\n",
       "      <td>1</td>\n",
       "      <td>ilicinea</td>\n",
       "      <td>718</td>\n",
       "      <td>101901.16</td>\n",
       "    </tr>\n",
       "    <tr>\n",
       "      <th>19</th>\n",
       "      <td>MG</td>\n",
       "      <td>2</td>\n",
       "      <td>itauna</td>\n",
       "      <td>158</td>\n",
       "      <td>54679.22</td>\n",
       "    </tr>\n",
       "    <tr>\n",
       "      <th>20</th>\n",
       "      <td>MG</td>\n",
       "      <td>3</td>\n",
       "      <td>araguari</td>\n",
       "      <td>338</td>\n",
       "      <td>34725.43</td>\n",
       "    </tr>\n",
       "    <tr>\n",
       "      <th>21</th>\n",
       "      <td>MS</td>\n",
       "      <td>1</td>\n",
       "      <td>campo grande</td>\n",
       "      <td>19</td>\n",
       "      <td>3669.64</td>\n",
       "    </tr>\n",
       "    <tr>\n",
       "      <th>22</th>\n",
       "      <td>MS</td>\n",
       "      <td>2</td>\n",
       "      <td>coxim</td>\n",
       "      <td>17</td>\n",
       "      <td>2658.90</td>\n",
       "    </tr>\n",
       "    <tr>\n",
       "      <th>23</th>\n",
       "      <td>MS</td>\n",
       "      <td>3</td>\n",
       "      <td>campo grande</td>\n",
       "      <td>5</td>\n",
       "      <td>1037.60</td>\n",
       "    </tr>\n",
       "    <tr>\n",
       "      <th>24</th>\n",
       "      <td>MT</td>\n",
       "      <td>1</td>\n",
       "      <td>sinop</td>\n",
       "      <td>54</td>\n",
       "      <td>7784.50</td>\n",
       "    </tr>\n",
       "    <tr>\n",
       "      <th>25</th>\n",
       "      <td>MT</td>\n",
       "      <td>2</td>\n",
       "      <td>cuiaba</td>\n",
       "      <td>45</td>\n",
       "      <td>4880.22</td>\n",
       "    </tr>\n",
       "    <tr>\n",
       "      <th>26</th>\n",
       "      <td>MT</td>\n",
       "      <td>3</td>\n",
       "      <td>cuiaba</td>\n",
       "      <td>36</td>\n",
       "      <td>4088.00</td>\n",
       "    </tr>\n",
       "    <tr>\n",
       "      <th>27</th>\n",
       "      <td>PA</td>\n",
       "      <td>1</td>\n",
       "      <td>marechal candido rondon</td>\n",
       "      <td>8</td>\n",
       "      <td>1238.00</td>\n",
       "    </tr>\n",
       "    <tr>\n",
       "      <th>28</th>\n",
       "      <td>PB</td>\n",
       "      <td>1</td>\n",
       "      <td>mamanguape</td>\n",
       "      <td>16</td>\n",
       "      <td>14368.61</td>\n",
       "    </tr>\n",
       "    <tr>\n",
       "      <th>29</th>\n",
       "      <td>PB</td>\n",
       "      <td>2</td>\n",
       "      <td>joao pessoa</td>\n",
       "      <td>8</td>\n",
       "      <td>946.49</td>\n",
       "    </tr>\n",
       "  </tbody>\n",
       "</table>\n",
       "</div>"
      ],
      "text/plain": [
       "   seller_state  rank_in_state              seller_city  num_orders  \\\n",
       "0            AC              1               rio branco           1   \n",
       "1            AM              1                   manaus           3   \n",
       "2            BA              1         lauro de freitas         358   \n",
       "3            BA              2                 guanambi          21   \n",
       "4            BA              3                 salvador          62   \n",
       "5            CE              1                fortaleza          14   \n",
       "6            CE              2                fortaleza          16   \n",
       "7            CE              3                  caucaia          27   \n",
       "8            DF              1                 brasilia         144   \n",
       "9            DF              2                 brasilia          87   \n",
       "10           DF              3                     gama          30   \n",
       "11           ES              1                cariacica         200   \n",
       "12           ES              2               vila velha           5   \n",
       "13           ES              3                    muqui          25   \n",
       "14           GO              1     aparecida de goiania          67   \n",
       "15           GO              2                  goiania          54   \n",
       "16           GO              3                  goiania          44   \n",
       "17           MA              1                 sao luis         392   \n",
       "18           MG              1                 ilicinea         718   \n",
       "19           MG              2                   itauna         158   \n",
       "20           MG              3                 araguari         338   \n",
       "21           MS              1             campo grande          19   \n",
       "22           MS              2                    coxim          17   \n",
       "23           MS              3             campo grande           5   \n",
       "24           MT              1                    sinop          54   \n",
       "25           MT              2                   cuiaba          45   \n",
       "26           MT              3                   cuiaba          36   \n",
       "27           PA              1  marechal candido rondon           8   \n",
       "28           PB              1               mamanguape          16   \n",
       "29           PB              2              joao pessoa           8   \n",
       "\n",
       "    total_revenue  \n",
       "0          267.00  \n",
       "1         1177.00  \n",
       "2       222776.05  \n",
       "3        17522.00  \n",
       "4        15048.28  \n",
       "5         7846.00  \n",
       "6         6384.00  \n",
       "7         2777.72  \n",
       "8        18729.64  \n",
       "9        10505.10  \n",
       "10        9385.70  \n",
       "11       25080.03  \n",
       "12        6787.50  \n",
       "13        4353.90  \n",
       "14       10292.31  \n",
       "15        8085.00  \n",
       "16        7726.90  \n",
       "17       36408.95  \n",
       "18      101901.16  \n",
       "19       54679.22  \n",
       "20       34725.43  \n",
       "21        3669.64  \n",
       "22        2658.90  \n",
       "23        1037.60  \n",
       "24        7784.50  \n",
       "25        4880.22  \n",
       "26        4088.00  \n",
       "27        1238.00  \n",
       "28       14368.61  \n",
       "29         946.49  "
      ]
     },
     "execution_count": 16,
     "metadata": {},
     "output_type": "execute_result"
    }
   ],
   "source": [
    "# The Grand Finale: Top 3 sellers per state\n",
    "con.execute(\"\"\"\n",
    "    WITH seller_revenue AS (\n",
    "        -- Step 1: Calculate total revenue per seller\n",
    "        SELECT \n",
    "            s.seller_id,\n",
    "            s.seller_state,\n",
    "            s.seller_city,\n",
    "            COUNT(DISTINCT oi.order_id) AS num_orders,\n",
    "            ROUND(SUM(oi.price), 2) AS total_revenue\n",
    "        FROM order_items oi\n",
    "        INNER JOIN sellers s ON oi.seller_id = s.seller_id\n",
    "        GROUP BY s.seller_id, s.seller_state, s.seller_city\n",
    "    ),\n",
    "    ranked_sellers AS (\n",
    "        -- Step 2: Rank sellers within each state\n",
    "        SELECT \n",
    "            seller_id,\n",
    "            seller_state,\n",
    "            seller_city,\n",
    "            num_orders,\n",
    "            total_revenue,\n",
    "            ROW_NUMBER() OVER (\n",
    "                PARTITION BY seller_state \n",
    "                ORDER BY total_revenue DESC\n",
    "            ) AS rank_in_state\n",
    "        FROM seller_revenue\n",
    "    )\n",
    "    -- Step 3: Filter to top 3 per state\n",
    "    SELECT \n",
    "        seller_state,\n",
    "        rank_in_state,\n",
    "        seller_city,\n",
    "        num_orders,\n",
    "        total_revenue\n",
    "    FROM ranked_sellers\n",
    "    WHERE rank_in_state <= 3\n",
    "    ORDER BY seller_state, rank_in_state\n",
    "    LIMIT 30\n",
    "\"\"\").df()"
   ]
  },
  {
   "cell_type": "markdown",
   "id": "7cc889f4",
   "metadata": {},
   "source": [
    "### Breaking Down the Magic\n",
    "\n",
    "**Step 1: Calculate seller revenue**\n",
    "```sql\n",
    "WITH seller_revenue AS (\n",
    "    SELECT seller_id, seller_state, SUM(price) AS total_revenue\n",
    "    FROM order_items JOIN sellers ...\n",
    "    GROUP BY seller_id, seller_state\n",
    ")\n",
    "```\n",
    "- **INNER JOIN** combines items with sellers\n",
    "- **GROUP BY** aggregates to seller grain (one row per seller)\n",
    "- **SUM** calculates total revenue\n",
    "\n",
    "**Step 2: Rank within states**\n",
    "```sql\n",
    "ranked_sellers AS (\n",
    "    SELECT *, ROW_NUMBER() OVER (PARTITION BY seller_state ORDER BY total_revenue DESC)\n",
    "    FROM seller_revenue\n",
    ")\n",
    "```\n",
    "- **ROW_NUMBER()** assigns ranks (1, 2, 3...)\n",
    "- **PARTITION BY seller_state** restarts ranking for each state\n",
    "- **ORDER BY total_revenue DESC** ranks by revenue (highest first)\n",
    "\n",
    "**Step 3: Filter to top 3**\n",
    "```sql\n",
    "SELECT * FROM ranked_sellers WHERE rank_in_state <= 3\n",
    "```\n",
    "- Keep only ranks 1, 2, 3 per state\n",
    "\n",
    "---"
   ]
  },
  {
   "cell_type": "markdown",
   "id": "dca3b1fd",
   "metadata": {},
   "source": [
    "### Why This Query is Beautiful\n",
    "\n",
    "**Readability:**\n",
    "- Three clear steps, each with a purpose\n",
    "- Named CTEs explain what each step does\n",
    "- Easy to debug (test each CTE independently)\n",
    "\n",
    "**Power:**\n",
    "- Answers complex business question in ~20 lines\n",
    "- Combines multiple advanced techniques\n",
    "- Scales to millions of rows efficiently\n",
    "\n",
    "**Business value:**\n",
    "- \"Who are our top performers in each region?\"\n",
    "- Informs regional sales strategies\n",
    "- Identifies high-value partners\n",
    "\n",
    "**This is analytics in the real world.** 🎯\n",
    "\n",
    "---"
   ]
  },
  {
   "cell_type": "markdown",
   "id": "c1a98b89",
   "metadata": {},
   "source": [
    "## Part 6: Wrap-Up & Quick Tips (⏱️ 3 minutes)\n",
    "\n",
    "### Key Takeaways\n",
    "\n",
    "**Join Types:**\n",
    "- **INNER JOIN** - Only matching rows (most common)\n",
    "- **LEFT JOIN** - All from left table + matches from right\n",
    "- **Anti-join pattern** - LEFT JOIN + IS NULL (find unmatched)\n",
    "- RIGHT/FULL - Exist but rarely used\n",
    "\n",
    "**Modern Patterns:**\n",
    "- **CTEs** - Break complex queries into readable steps\n",
    "- **Window functions + joins** - Powerful combo for ranking/analytics\n",
    "\n",
    "**Critical Warnings:**\n",
    "- ⚠️ **Duplicate inflation** - Use COUNT(DISTINCT) after joins\n",
    "- ⚠️ **Aggregation grain** - GROUP BY defines your result grain\n",
    "- ⚠️ **NULL behavior** - Remember LEFT JOIN creates NULLs\n",
    "\n",
    "---"
   ]
  },
  {
   "cell_type": "markdown",
   "id": "434ad119",
   "metadata": {},
   "source": [
    "### Quick Tips for Writing Joins\n",
    "\n",
    "**1. Start simple, build complexity**\n",
    "- Write the join first, verify row counts\n",
    "- Add GROUP BY and aggregations second\n",
    "- Test at each step\n",
    "\n",
    "**2. Always check row counts**\n",
    "```sql\n",
    "-- Before join\n",
    "SELECT COUNT(*) FROM table1;  -- 100 rows\n",
    "\n",
    "-- After join  \n",
    "SELECT COUNT(*) FROM table1 JOIN table2 ...;  -- 150 rows?\n",
    "-- Why the increase? One-to-many relationship!\n",
    "```\n",
    "\n",
    "**3. Use CTEs for multi-step logic**\n",
    "- Makes queries readable\n",
    "- Easier to debug\n",
    "- Self-documenting\n",
    "\n",
    "**4. Name your tables with aliases**\n",
    "```sql\n",
    "-- Good\n",
    "FROM orders o\n",
    "JOIN customers c ON o.customer_id = c.customer_id\n",
    "\n",
    "-- Bad\n",
    "FROM orders\n",
    "JOIN customers ON orders.customer_id = customers.customer_id\n",
    "```\n",
    "\n",
    "**5. When in doubt, use LEFT JOIN**\n",
    "- Safer than INNER (won't lose data silently)\n",
    "- Shows you which records don't match\n",
    "- Can always filter NULLs later if needed\n",
    "\n",
    "---"
   ]
  },
  {
   "cell_type": "markdown",
   "id": "4861a1aa",
   "metadata": {},
   "source": [
    "## Next: In-Class Exercise\n",
    "\n",
    "**You'll now practice these concepts with a real business scenario:**\n",
    "\n",
    "- Paula Costa, VP of Marketplace Operations at Olist, needs insights for a board meeting\n",
    "- You'll write queries to answer her business questions\n",
    "- Apply INNER JOIN, LEFT JOIN, CTEs, and aggregations\n",
    "- Deliver stakeholder-ready analysis\n",
    "\n",
    "**Open:** `day2_exercise_joins.ipynb`\n",
    "\n",
    "**You have 25 minutes for the first 3 queries. Let's go!**\n",
    "\n",
    "---"
   ]
  }
 ],
 "metadata": {
  "kernelspec": {
   "display_name": "Python (my_env)",
   "language": "python",
   "name": "my_env"
  },
  "language_info": {
   "codemirror_mode": {
    "name": "ipython",
    "version": 3
   },
   "file_extension": ".py",
   "mimetype": "text/x-python",
   "name": "python",
   "nbconvert_exporter": "python",
   "pygments_lexer": "ipython3",
   "version": "3.13.7"
  }
 },
 "nbformat": 4,
 "nbformat_minor": 5
}
