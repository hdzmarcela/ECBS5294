{
 "cells": [
  {
   "cell_type": "markdown",
   "id": "9e30c6ea",
   "metadata": {},
   "source": [
    "# Day 2 Exercise: The Olist Marketplace Analysis\n",
    "\n",
    "**Your Name:** Marcela Hernández\n",
    "**Date:** Day 2, Block A  \n",
    "**Course:** ECBS5294 - Introduction to Data Science: Working with Data\n",
    "\n",
    "---"
   ]
  },
  {
   "cell_type": "markdown",
   "id": "04b2e0ed",
   "metadata": {},
   "source": [
    "## 📧 Monday Morning at Olist\n",
    "\n",
    "**Your Role:** Junior Data Analyst at Olist  \n",
    "**Your Location:** São Paulo, Brazil  \n",
    "**Date:** December 2018\n",
    "\n",
    "You're a newly hired Data Analyst at **Olist**, Brazil's largest department store marketplace. Olist connects thousands of small businesses (sellers) with customers across Brazil through a unified e-commerce platform. Think of it as Brazil's answer to Amazon Marketplace or Etsy at scale.\n",
    "\n",
    "You arrive Monday morning to find this email from **Paula Costa**, VP of Marketplace Operations:\n",
    "\n",
    "---\n",
    "\n",
    "**From:** Paula Costa <paula.costa@olist.com>  \n",
    "**To:** You (Data Analytics Team)  \n",
    "**Subject:** URGENT: Q4 Board Meeting Data - Due Wednesday\n",
    "\n",
    "> Team,\n",
    ">\n",
    "> Our Q4 board meeting is Friday morning. I need insights on seller performance, customer behavior, and product trends to present to the executive team. The board is particularly interested in:\n",
    "> \n",
    "> 1. **Revenue drivers** - which product categories are generating the most sales?\n",
    "> 2. **Seller performance** - who are our top-performing sellers by state?\n",
    "> 3. **Customer feedback gaps** - what percentage of orders lack reviews, and why does this matter?\n",
    "> \n",
    "> I need **data-driven answers** by Wednesday EOD. Please analyze our marketplace data (2016-2018) and provide:\n",
    "> - Clear SQL queries that I can verify\n",
    "> - Business insights I can present to non-technical executives\n",
    "> - Recommendations for action\n",
    "> \n",
    "> **Context:** We're evaluating whether to expand seller recruitment in certain states, invest in review incentive programs, and potentially restructure our product category strategy. Your analysis will inform million-dollar decisions.\n",
    "> \n",
    "> I'm counting on you. Let's show the board what data analytics can do.\n",
    "> \n",
    "> — Paula\n",
    "\n",
    "---\n",
    "\n",
    "**Your Mission:** Use SQL joins, aggregations, and data analysis to answer Paula's questions and deliver actionable business insights.\n",
    "\n",
    "---"
   ]
  },
  {
   "cell_type": "markdown",
   "id": "9882621a",
   "metadata": {},
   "source": [
    "## Setup: Load Data and Connect to DuckDB"
   ]
  },
  {
   "cell_type": "code",
   "execution_count": 1,
   "id": "498acb0a",
   "metadata": {},
   "outputs": [
    {
     "name": "stdout",
     "output_type": "stream",
     "text": [
      "✅ Connected to DuckDB!\n"
     ]
    }
   ],
   "source": [
    "# Import libraries\n",
    "import duckdb\n",
    "import pandas as pd\n",
    "import warnings\n",
    "warnings.filterwarnings('ignore')\n",
    "\n",
    "# Connect to in-memory database\n",
    "con = duckdb.connect(':memory:')\n",
    "\n",
    "print(\"✅ Connected to DuckDB!\")"
   ]
  },
  {
   "cell_type": "code",
   "execution_count": 2,
   "id": "a720d861",
   "metadata": {},
   "outputs": [
    {
     "name": "stdout",
     "output_type": "stream",
     "text": [
      "✅ All tables loaded successfully!\n"
     ]
    }
   ],
   "source": [
    "# Load all necessary tables\n",
    "con.execute(\"\"\"\n",
    "    CREATE TABLE orders AS\n",
    "    SELECT * FROM '../../data/day2/block_a/olist_orders_dataset.csv'\n",
    "\"\"\")\n",
    "\n",
    "con.execute(\"\"\"\n",
    "    CREATE TABLE customers AS\n",
    "    SELECT * FROM '../../data/day2/block_a/olist_customers_dataset.csv'\n",
    "\"\"\")\n",
    "\n",
    "con.execute(\"\"\"\n",
    "    CREATE TABLE order_items AS\n",
    "    SELECT * FROM '../../data/day2/block_a/olist_order_items_dataset.csv'\n",
    "\"\"\")\n",
    "\n",
    "con.execute(\"\"\"\n",
    "    CREATE TABLE products AS\n",
    "    SELECT * FROM '../../data/day2/block_a/olist_products_dataset.csv'\n",
    "\"\"\")\n",
    "\n",
    "con.execute(\"\"\"\n",
    "    CREATE TABLE sellers AS\n",
    "    SELECT * FROM '../../data/day2/block_a/olist_sellers_dataset.csv'\n",
    "\"\"\")\n",
    "\n",
    "con.execute(\"\"\"\n",
    "    CREATE TABLE reviews AS\n",
    "    SELECT * FROM '../../data/day2/block_a/olist_order_reviews_dataset.csv'\n",
    "\"\"\")\n",
    "\n",
    "con.execute(\"\"\"\n",
    "    CREATE TABLE categories AS\n",
    "    SELECT * FROM '../../data/day2/block_a/product_category_name_translation.csv'\n",
    "\"\"\")\n",
    "\n",
    "print(\"✅ All tables loaded successfully!\")"
   ]
  },
  {
   "cell_type": "markdown",
   "id": "ff084d85",
   "metadata": {},
   "source": [
    "---\n",
    "\n",
    "## Part 1: In-Class Queries (25 minutes)\n",
    "\n",
    "Complete these 3 queries during class time. Each query is scaffolded with TODO comments to guide you.\n",
    "\n",
    "---"
   ]
  },
  {
   "cell_type": "markdown",
   "id": "17a53e85",
   "metadata": {},
   "source": [
    "### Query 1: Revenue by Product Category (⏱️ 7 minutes)\n",
    "\n",
    "**Paula's Question:**\n",
    "> \"Which product categories generate the most revenue? I need this for Q1 budget allocation decisions. Show me the top 10 categories by total revenue.\"\n",
    "\n",
    "**What you need to do:**\n",
    "- Join `order_items` → `products` → `categories` (to get English category names)\n",
    "- Calculate total revenue per category: `SUM(price)`\n",
    "- Count distinct orders per category\n",
    "- Sort by revenue descending, show top 10\n",
    "\n",
    "**Tables needed:**\n",
    "- `order_items` (has `price` and `product_id`)\n",
    "- `products` (has `product_category_name`)\n",
    "- `categories` (translates Portuguese → English)\n",
    "\n",
    "**Join keys:**\n",
    "- `order_items.product_id = products.product_id`\n",
    "- `products.product_category_name = categories.product_category_name`"
   ]
  },
  {
   "cell_type": "code",
   "execution_count": 3,
   "id": "d6fc38e6",
   "metadata": {},
   "outputs": [
    {
     "data": {
      "text/plain": [
       "array([['health_beauty', 8836, 1258681.34],\n",
       "       ['watches_gifts', 5624, 1205005.68],\n",
       "       ['bed_bath_table', 9417, 1036988.68],\n",
       "       ['sports_leisure', 7720, 988048.97],\n",
       "       ['computers_accessories', 6689, 911954.32],\n",
       "       ['furniture_decor', 6449, 729762.49],\n",
       "       ['cool_stuff', 3632, 635290.85],\n",
       "       ['housewares', 5884, 632248.66],\n",
       "       ['auto', 3897, 592720.11],\n",
       "       ['garden_tools', 3518, 485256.46]], dtype=object)"
      ]
     },
     "execution_count": 3,
     "metadata": {},
     "output_type": "execute_result"
    }
   ],
   "source": [
    "# Query 1: Revenue by Category\n",
    "# TODO: Complete this query\n",
    "\n",
    "result_q1 = con.execute(\"\"\"\n",
    "    SELECT \n",
    "        cat.product_category_name_english AS category_english,\n",
    "        COUNT(DISTINCT oi.order_id) AS order_count,\n",
    "        ROUND(SUM(oi.price), 2) AS total_revenue\n",
    "    FROM order_items oi\n",
    "    INNER JOIN products p ON oi.product_id = p.product_id\n",
    "    INNER JOIN categories cat ON p.product_category_name = cat.product_category_name\n",
    "    GROUP BY cat.product_category_name_english\n",
    "    ORDER BY total_revenue DESC\n",
    "    LIMIT 10\n",
    "\"\"\").df()\n",
    "\n",
    "result_q1.values"
   ]
  },
  {
   "cell_type": "code",
   "execution_count": 4,
   "id": "95731692",
   "metadata": {},
   "outputs": [
    {
     "name": "stdout",
     "output_type": "stream",
     "text": [
      "✅ Query 1 validation passed!\n"
     ]
    }
   ],
   "source": [
    "# Validation: Check your results\n",
    "assert result_q1.shape[0] == 10, \"Should return 10 categories\"\n",
    "\n",
    "# Check for revenue column with better error message\n",
    "cols_lower = [col.lower() for col in result_q1.columns]\n",
    "assert any('revenue' in col for col in cols_lower), f\"Missing revenue column. Found: {result_q1.columns.tolist()}\"\n",
    "\n",
    "print(\"✅ Query 1 validation passed!\")"
   ]
  },
  {
   "cell_type": "markdown",
   "id": "7f6f5b03",
   "metadata": {},
   "source": [
    "**Your interpretation for Paula (2-3 sentences):**\n",
    "\n",
    "The top revenue generating categories in our market place, are led by Health & beauty, with almost R$1.26M in revenue across 8836 orders, closely followed by watches & gifts at R$1.20M (5,624 orders) and bed, bath & table at R$1.04M (9,417 orders). THese categories represent approximately 3.5M in revenue, showcasing strong customer demand. \n",
    "\n",
    "The data suggests that budget allocation should focus on expanding these 3 key pillars of sales revenue without losing focus of other emerging sectors like sports leisure, and computers. \n",
    "\n",
    "---"
   ]
  },
  {
   "cell_type": "markdown",
   "id": "c730b8ae",
   "metadata": {},
   "source": [
    "### Query 2: Unreviewed Orders Investigation (⏱️ 7 minutes)\n",
    "\n",
    "**Paula's Question:**\n",
    "> \"Some orders don't have customer reviews. This concerns me - we use reviews for quality control and seller ratings. Find all orders that lack reviews and tell me: how many unreviewed orders are there by order status? Which statuses have the most unreviewed orders?\"\n",
    "\n",
    "**What you need to do:**\n",
    "- LEFT JOIN `orders` → `reviews` (keep all orders, even without reviews)\n",
    "- Filter to orders WHERE review is NULL\n",
    "- Group by order status\n",
    "- Count unreviewed orders by status\n",
    "\n",
    "**Why LEFT JOIN?** We want ALL orders. INNER JOIN would only show orders WITH reviews (the opposite of what Paula needs!).\n",
    "\n",
    "**Tables needed:**\n",
    "- `orders` (has `order_id` and `order_status`)\n",
    "- `reviews` (has `review_id` and links to `order_id`)\n",
    "\n",
    "**Join key:**\n",
    "- `orders.order_id = reviews.order_id`"
   ]
  },
  {
   "cell_type": "code",
   "execution_count": 5,
   "id": "a3bb70bd",
   "metadata": {},
   "outputs": [
    {
     "data": {
      "text/plain": [
       "array([['delivered', 646],\n",
       "       ['shipped', 75],\n",
       "       ['canceled', 20],\n",
       "       ['unavailable', 14],\n",
       "       ['processing', 6],\n",
       "       ['invoiced', 5],\n",
       "       ['created', 2]], dtype=object)"
      ]
     },
     "execution_count": 5,
     "metadata": {},
     "output_type": "execute_result"
    }
   ],
   "source": [
    "# Query 2: Unreviewed Orders\n",
    "# TODO: Complete this query\n",
    "\n",
    "result_q2 = con.execute(\"\"\"\n",
    "    SELECT \n",
    "        o.order_status, \n",
    "        COUNT(*) AS unreviewed_count\n",
    "    FROM orders o\n",
    "    LEFT JOIN reviews r ON o.order_id = r.order_id\n",
    "    WHERE r.review_id IS NULL\n",
    "    GROUP BY order_status\n",
    "    ORDER BY unreviewed_count DESC\n",
    "\"\"\").df()\n",
    "\n",
    "result_q2.values"
   ]
  },
  {
   "cell_type": "code",
   "execution_count": 6,
   "id": "76d6ca39",
   "metadata": {},
   "outputs": [
    {
     "name": "stdout",
     "output_type": "stream",
     "text": [
      "✅ Query 2 validation passed!\n"
     ]
    }
   ],
   "source": [
    "# Validation: Check your results\n",
    "assert result_q2.shape[0] > 0, \"Should find some unreviewed orders\"\n",
    "assert 'order_status' in [col.lower() for col in result_q2.columns], \"Should have order_status column\"\n",
    "assert any('count' in col.lower() for col in result_q2.columns), \"Should have a count column (e.g., unreviewed_count, order_count)\"\n",
    "print(\"✅ Query 2 validation passed!\")"
   ]
  },
  {
   "cell_type": "markdown",
   "id": "add65be4",
   "metadata": {},
   "source": [
    "**Your interpretation for Paula (2-3 sentences):**\n",
    "\n",
    "After a thorough review, we were able to identify 768 unreviewed orders. The majority of which stem from delivered orderd (646), followed by shipped, and cancelled orders. While the majority of orders have been reviewed, the team shouhld consider implementing a post-delivery review incentive programme for quality control and customer experience enhancement. It is crucial to know why orders are cancelled and evaluate customer satisfaction at large. \n",
    "\n",
    "---"
   ]
  },
  {
   "cell_type": "markdown",
   "id": "33f7205d",
   "metadata": {},
   "source": [
    "### Query 3: Top Sellers by State (⏱️ 7 minutes)\n",
    "\n",
    "**Paula's Question:**\n",
    "> \"I need to recognize our top-performing sellers in each state for our quarterly awards program. Show me the top 3 sellers in each state by total revenue. This will also help us identify which states have strong seller ecosystems.\"\n",
    "\n",
    "**What you need to do:**\n",
    "- Join `order_items` → `sellers`\n",
    "- Calculate total revenue per seller\n",
    "- Rank sellers within each state (use ROW_NUMBER() window function from Day 1!)\n",
    "- Filter to top 3 per state\n",
    "\n",
    "**Hint:** Use a CTE for clean structure:\n",
    "1. First CTE: Calculate seller revenue\n",
    "2. Second CTE: Add ranking with ROW_NUMBER() OVER (PARTITION BY state ...) - this will assign ranks 1, 2, 3... to sellers within each state, ordered by revenue\n",
    "3. Main query: Filter WHERE rank <= 3\n",
    "\n",
    "**Note:** The query includes `LIMIT 30` to show approximately the top 10 states (10 states × 3 sellers = 30 rows, though some states may have fewer sellers). This keeps output manageable for review. In a real analysis, you'd remove the LIMIT to see all states.\n",
    "\n",
    "**Tables needed:**\n",
    "- `order_items` (has `price` and `seller_id`)\n",
    "- `sellers` (has `seller_state`)\n",
    "\n",
    "**Join key:**\n",
    "- `order_items.seller_id = sellers.seller_id`"
   ]
  },
  {
   "cell_type": "code",
   "execution_count": 7,
   "id": "4793d84b",
   "metadata": {},
   "outputs": [
    {
     "data": {
      "application/vnd.microsoft.datawrangler.viewer.v0+json": {
       "columns": [
        {
         "name": "index",
         "rawType": "int64",
         "type": "integer"
        },
        {
         "name": "seller_state",
         "rawType": "object",
         "type": "string"
        },
        {
         "name": "seller_id",
         "rawType": "object",
         "type": "string"
        },
        {
         "name": "order_count",
         "rawType": "int64",
         "type": "integer"
        },
        {
         "name": "total_revenue",
         "rawType": "float64",
         "type": "float"
        },
        {
         "name": "rank_in_state",
         "rawType": "int64",
         "type": "integer"
        }
       ],
       "ref": "81fa1a30-1818-4d75-beaf-f43cad03e212",
       "rows": [
        [
         "0",
         "AC",
         "4be2e7f96b4fd749d52dff41f80e39dd",
         "1",
         "267.0",
         "1"
        ],
        [
         "1",
         "AM",
         "327b89b872c14d1c0be7235ef4871685",
         "3",
         "1177.0",
         "1"
        ],
        [
         "2",
         "BA",
         "53243585a1d6dc2643021fd1853d8905",
         "358",
         "222776.05",
         "1"
        ],
        [
         "3",
         "BA",
         "c72de06d72748d1a0dfb2125be43ba63",
         "21",
         "17522.0",
         "2"
        ],
        [
         "4",
         "BA",
         "75d34ebb1bd0bd7dde40dd507b8169c3",
         "62",
         "15048.28",
         "3"
        ],
        [
         "5",
         "CE",
         "bbf9ad41dca6603e614efcdad7aab8c4",
         "14",
         "7846.0",
         "1"
        ],
        [
         "6",
         "CE",
         "dbdd0ec73a4817971d962698f2fea022",
         "16",
         "6384.0",
         "2"
        ],
        [
         "7",
         "CE",
         "8d79c8a04e42d722a75097ce5cbcf2ef",
         "27",
         "2777.72",
         "3"
        ],
        [
         "8",
         "DF",
         "44073f8b7e41514de3b7815dd0237f4f",
         "144",
         "18729.64",
         "1"
        ],
        [
         "9",
         "DF",
         "f3b80352b986ab4d1057a4b724be19d0",
         "87",
         "10505.1",
         "2"
        ],
        [
         "10",
         "DF",
         "3c487ae8f8d7542beff5788e2e0aea83",
         "30",
         "9385.7",
         "3"
        ],
        [
         "11",
         "ES",
         "001cca7ae9ae17fb1caed9dfb1094831",
         "200",
         "25080.03",
         "1"
        ],
        [
         "12",
         "ES",
         "33dd941c27854f7625b968cc6195a552",
         "5",
         "6787.5",
         "2"
        ],
        [
         "13",
         "ES",
         "15aac934c58d886785ac1b17953ea898",
         "25",
         "4353.9",
         "3"
        ],
        [
         "14",
         "GO",
         "9d5a9018aee56acb367ba9c3f05d1d6a",
         "67",
         "10292.31",
         "1"
        ],
        [
         "15",
         "GO",
         "750303a20e9c56b2a6bc45cdce0b897d",
         "54",
         "8085.0",
         "2"
        ],
        [
         "16",
         "GO",
         "b410bdd36d5db7a65dcd42b7ead933b8",
         "44",
         "7726.9",
         "3"
        ],
        [
         "17",
         "MA",
         "06a2c3af7b3aee5d69171b0e14f0ee87",
         "392",
         "36408.95",
         "1"
        ],
        [
         "18",
         "MG",
         "a1043bafd471dff536d0c462352beb48",
         "718",
         "101901.16",
         "1"
        ],
        [
         "19",
         "MG",
         "25c5c91f63607446a97b143d2d535d31",
         "158",
         "54679.22",
         "2"
        ],
        [
         "20",
         "MG",
         "7299e27ed73d2ad986de7f7c77d919fa",
         "338",
         "34725.43",
         "3"
        ],
        [
         "21",
         "MS",
         "b1fecf4da1fa2689bccffa0121953643",
         "19",
         "3669.64",
         "1"
        ],
        [
         "22",
         "MS",
         "9c068d10aca38e85c50202e17b4a7e88",
         "17",
         "2658.9",
         "2"
        ],
        [
         "23",
         "MS",
         "7df1fc11cc5cbc518b39faa60cf5d67c",
         "5",
         "1037.6",
         "3"
        ],
        [
         "24",
         "MT",
         "2dee2ce60de9709b1a24083217181a1f",
         "54",
         "7784.5",
         "1"
        ],
        [
         "25",
         "MT",
         "abcd2cb37d46c2c8fb1bf071c859fc5b",
         "45",
         "4880.22",
         "2"
        ],
        [
         "26",
         "MT",
         "99002261c568a84cce14d43fcffb43ea",
         "36",
         "4088.0",
         "3"
        ],
        [
         "27",
         "PA",
         "67225bff54a172ff67579aaf583efd78",
         "8",
         "1238.0",
         "1"
        ],
        [
         "28",
         "PB",
         "a6bd7d1ccdac48c6b33b28596b7eb122",
         "16",
         "14368.61",
         "1"
        ],
        [
         "29",
         "PB",
         "07017df32dc5f2f1d2801e579548d620",
         "8",
         "946.49",
         "2"
        ]
       ],
       "shape": {
        "columns": 5,
        "rows": 30
       }
      },
      "text/html": [
       "<div>\n",
       "<style scoped>\n",
       "    .dataframe tbody tr th:only-of-type {\n",
       "        vertical-align: middle;\n",
       "    }\n",
       "\n",
       "    .dataframe tbody tr th {\n",
       "        vertical-align: top;\n",
       "    }\n",
       "\n",
       "    .dataframe thead th {\n",
       "        text-align: right;\n",
       "    }\n",
       "</style>\n",
       "<table border=\"1\" class=\"dataframe\">\n",
       "  <thead>\n",
       "    <tr style=\"text-align: right;\">\n",
       "      <th></th>\n",
       "      <th>seller_state</th>\n",
       "      <th>seller_id</th>\n",
       "      <th>order_count</th>\n",
       "      <th>total_revenue</th>\n",
       "      <th>rank_in_state</th>\n",
       "    </tr>\n",
       "  </thead>\n",
       "  <tbody>\n",
       "    <tr>\n",
       "      <th>0</th>\n",
       "      <td>AC</td>\n",
       "      <td>4be2e7f96b4fd749d52dff41f80e39dd</td>\n",
       "      <td>1</td>\n",
       "      <td>267.00</td>\n",
       "      <td>1</td>\n",
       "    </tr>\n",
       "    <tr>\n",
       "      <th>1</th>\n",
       "      <td>AM</td>\n",
       "      <td>327b89b872c14d1c0be7235ef4871685</td>\n",
       "      <td>3</td>\n",
       "      <td>1177.00</td>\n",
       "      <td>1</td>\n",
       "    </tr>\n",
       "    <tr>\n",
       "      <th>2</th>\n",
       "      <td>BA</td>\n",
       "      <td>53243585a1d6dc2643021fd1853d8905</td>\n",
       "      <td>358</td>\n",
       "      <td>222776.05</td>\n",
       "      <td>1</td>\n",
       "    </tr>\n",
       "    <tr>\n",
       "      <th>3</th>\n",
       "      <td>BA</td>\n",
       "      <td>c72de06d72748d1a0dfb2125be43ba63</td>\n",
       "      <td>21</td>\n",
       "      <td>17522.00</td>\n",
       "      <td>2</td>\n",
       "    </tr>\n",
       "    <tr>\n",
       "      <th>4</th>\n",
       "      <td>BA</td>\n",
       "      <td>75d34ebb1bd0bd7dde40dd507b8169c3</td>\n",
       "      <td>62</td>\n",
       "      <td>15048.28</td>\n",
       "      <td>3</td>\n",
       "    </tr>\n",
       "    <tr>\n",
       "      <th>5</th>\n",
       "      <td>CE</td>\n",
       "      <td>bbf9ad41dca6603e614efcdad7aab8c4</td>\n",
       "      <td>14</td>\n",
       "      <td>7846.00</td>\n",
       "      <td>1</td>\n",
       "    </tr>\n",
       "    <tr>\n",
       "      <th>6</th>\n",
       "      <td>CE</td>\n",
       "      <td>dbdd0ec73a4817971d962698f2fea022</td>\n",
       "      <td>16</td>\n",
       "      <td>6384.00</td>\n",
       "      <td>2</td>\n",
       "    </tr>\n",
       "    <tr>\n",
       "      <th>7</th>\n",
       "      <td>CE</td>\n",
       "      <td>8d79c8a04e42d722a75097ce5cbcf2ef</td>\n",
       "      <td>27</td>\n",
       "      <td>2777.72</td>\n",
       "      <td>3</td>\n",
       "    </tr>\n",
       "    <tr>\n",
       "      <th>8</th>\n",
       "      <td>DF</td>\n",
       "      <td>44073f8b7e41514de3b7815dd0237f4f</td>\n",
       "      <td>144</td>\n",
       "      <td>18729.64</td>\n",
       "      <td>1</td>\n",
       "    </tr>\n",
       "    <tr>\n",
       "      <th>9</th>\n",
       "      <td>DF</td>\n",
       "      <td>f3b80352b986ab4d1057a4b724be19d0</td>\n",
       "      <td>87</td>\n",
       "      <td>10505.10</td>\n",
       "      <td>2</td>\n",
       "    </tr>\n",
       "    <tr>\n",
       "      <th>10</th>\n",
       "      <td>DF</td>\n",
       "      <td>3c487ae8f8d7542beff5788e2e0aea83</td>\n",
       "      <td>30</td>\n",
       "      <td>9385.70</td>\n",
       "      <td>3</td>\n",
       "    </tr>\n",
       "    <tr>\n",
       "      <th>11</th>\n",
       "      <td>ES</td>\n",
       "      <td>001cca7ae9ae17fb1caed9dfb1094831</td>\n",
       "      <td>200</td>\n",
       "      <td>25080.03</td>\n",
       "      <td>1</td>\n",
       "    </tr>\n",
       "    <tr>\n",
       "      <th>12</th>\n",
       "      <td>ES</td>\n",
       "      <td>33dd941c27854f7625b968cc6195a552</td>\n",
       "      <td>5</td>\n",
       "      <td>6787.50</td>\n",
       "      <td>2</td>\n",
       "    </tr>\n",
       "    <tr>\n",
       "      <th>13</th>\n",
       "      <td>ES</td>\n",
       "      <td>15aac934c58d886785ac1b17953ea898</td>\n",
       "      <td>25</td>\n",
       "      <td>4353.90</td>\n",
       "      <td>3</td>\n",
       "    </tr>\n",
       "    <tr>\n",
       "      <th>14</th>\n",
       "      <td>GO</td>\n",
       "      <td>9d5a9018aee56acb367ba9c3f05d1d6a</td>\n",
       "      <td>67</td>\n",
       "      <td>10292.31</td>\n",
       "      <td>1</td>\n",
       "    </tr>\n",
       "    <tr>\n",
       "      <th>15</th>\n",
       "      <td>GO</td>\n",
       "      <td>750303a20e9c56b2a6bc45cdce0b897d</td>\n",
       "      <td>54</td>\n",
       "      <td>8085.00</td>\n",
       "      <td>2</td>\n",
       "    </tr>\n",
       "    <tr>\n",
       "      <th>16</th>\n",
       "      <td>GO</td>\n",
       "      <td>b410bdd36d5db7a65dcd42b7ead933b8</td>\n",
       "      <td>44</td>\n",
       "      <td>7726.90</td>\n",
       "      <td>3</td>\n",
       "    </tr>\n",
       "    <tr>\n",
       "      <th>17</th>\n",
       "      <td>MA</td>\n",
       "      <td>06a2c3af7b3aee5d69171b0e14f0ee87</td>\n",
       "      <td>392</td>\n",
       "      <td>36408.95</td>\n",
       "      <td>1</td>\n",
       "    </tr>\n",
       "    <tr>\n",
       "      <th>18</th>\n",
       "      <td>MG</td>\n",
       "      <td>a1043bafd471dff536d0c462352beb48</td>\n",
       "      <td>718</td>\n",
       "      <td>101901.16</td>\n",
       "      <td>1</td>\n",
       "    </tr>\n",
       "    <tr>\n",
       "      <th>19</th>\n",
       "      <td>MG</td>\n",
       "      <td>25c5c91f63607446a97b143d2d535d31</td>\n",
       "      <td>158</td>\n",
       "      <td>54679.22</td>\n",
       "      <td>2</td>\n",
       "    </tr>\n",
       "    <tr>\n",
       "      <th>20</th>\n",
       "      <td>MG</td>\n",
       "      <td>7299e27ed73d2ad986de7f7c77d919fa</td>\n",
       "      <td>338</td>\n",
       "      <td>34725.43</td>\n",
       "      <td>3</td>\n",
       "    </tr>\n",
       "    <tr>\n",
       "      <th>21</th>\n",
       "      <td>MS</td>\n",
       "      <td>b1fecf4da1fa2689bccffa0121953643</td>\n",
       "      <td>19</td>\n",
       "      <td>3669.64</td>\n",
       "      <td>1</td>\n",
       "    </tr>\n",
       "    <tr>\n",
       "      <th>22</th>\n",
       "      <td>MS</td>\n",
       "      <td>9c068d10aca38e85c50202e17b4a7e88</td>\n",
       "      <td>17</td>\n",
       "      <td>2658.90</td>\n",
       "      <td>2</td>\n",
       "    </tr>\n",
       "    <tr>\n",
       "      <th>23</th>\n",
       "      <td>MS</td>\n",
       "      <td>7df1fc11cc5cbc518b39faa60cf5d67c</td>\n",
       "      <td>5</td>\n",
       "      <td>1037.60</td>\n",
       "      <td>3</td>\n",
       "    </tr>\n",
       "    <tr>\n",
       "      <th>24</th>\n",
       "      <td>MT</td>\n",
       "      <td>2dee2ce60de9709b1a24083217181a1f</td>\n",
       "      <td>54</td>\n",
       "      <td>7784.50</td>\n",
       "      <td>1</td>\n",
       "    </tr>\n",
       "    <tr>\n",
       "      <th>25</th>\n",
       "      <td>MT</td>\n",
       "      <td>abcd2cb37d46c2c8fb1bf071c859fc5b</td>\n",
       "      <td>45</td>\n",
       "      <td>4880.22</td>\n",
       "      <td>2</td>\n",
       "    </tr>\n",
       "    <tr>\n",
       "      <th>26</th>\n",
       "      <td>MT</td>\n",
       "      <td>99002261c568a84cce14d43fcffb43ea</td>\n",
       "      <td>36</td>\n",
       "      <td>4088.00</td>\n",
       "      <td>3</td>\n",
       "    </tr>\n",
       "    <tr>\n",
       "      <th>27</th>\n",
       "      <td>PA</td>\n",
       "      <td>67225bff54a172ff67579aaf583efd78</td>\n",
       "      <td>8</td>\n",
       "      <td>1238.00</td>\n",
       "      <td>1</td>\n",
       "    </tr>\n",
       "    <tr>\n",
       "      <th>28</th>\n",
       "      <td>PB</td>\n",
       "      <td>a6bd7d1ccdac48c6b33b28596b7eb122</td>\n",
       "      <td>16</td>\n",
       "      <td>14368.61</td>\n",
       "      <td>1</td>\n",
       "    </tr>\n",
       "    <tr>\n",
       "      <th>29</th>\n",
       "      <td>PB</td>\n",
       "      <td>07017df32dc5f2f1d2801e579548d620</td>\n",
       "      <td>8</td>\n",
       "      <td>946.49</td>\n",
       "      <td>2</td>\n",
       "    </tr>\n",
       "  </tbody>\n",
       "</table>\n",
       "</div>"
      ],
      "text/plain": [
       "   seller_state                         seller_id  order_count  total_revenue  \\\n",
       "0            AC  4be2e7f96b4fd749d52dff41f80e39dd            1         267.00   \n",
       "1            AM  327b89b872c14d1c0be7235ef4871685            3        1177.00   \n",
       "2            BA  53243585a1d6dc2643021fd1853d8905          358      222776.05   \n",
       "3            BA  c72de06d72748d1a0dfb2125be43ba63           21       17522.00   \n",
       "4            BA  75d34ebb1bd0bd7dde40dd507b8169c3           62       15048.28   \n",
       "5            CE  bbf9ad41dca6603e614efcdad7aab8c4           14        7846.00   \n",
       "6            CE  dbdd0ec73a4817971d962698f2fea022           16        6384.00   \n",
       "7            CE  8d79c8a04e42d722a75097ce5cbcf2ef           27        2777.72   \n",
       "8            DF  44073f8b7e41514de3b7815dd0237f4f          144       18729.64   \n",
       "9            DF  f3b80352b986ab4d1057a4b724be19d0           87       10505.10   \n",
       "10           DF  3c487ae8f8d7542beff5788e2e0aea83           30        9385.70   \n",
       "11           ES  001cca7ae9ae17fb1caed9dfb1094831          200       25080.03   \n",
       "12           ES  33dd941c27854f7625b968cc6195a552            5        6787.50   \n",
       "13           ES  15aac934c58d886785ac1b17953ea898           25        4353.90   \n",
       "14           GO  9d5a9018aee56acb367ba9c3f05d1d6a           67       10292.31   \n",
       "15           GO  750303a20e9c56b2a6bc45cdce0b897d           54        8085.00   \n",
       "16           GO  b410bdd36d5db7a65dcd42b7ead933b8           44        7726.90   \n",
       "17           MA  06a2c3af7b3aee5d69171b0e14f0ee87          392       36408.95   \n",
       "18           MG  a1043bafd471dff536d0c462352beb48          718      101901.16   \n",
       "19           MG  25c5c91f63607446a97b143d2d535d31          158       54679.22   \n",
       "20           MG  7299e27ed73d2ad986de7f7c77d919fa          338       34725.43   \n",
       "21           MS  b1fecf4da1fa2689bccffa0121953643           19        3669.64   \n",
       "22           MS  9c068d10aca38e85c50202e17b4a7e88           17        2658.90   \n",
       "23           MS  7df1fc11cc5cbc518b39faa60cf5d67c            5        1037.60   \n",
       "24           MT  2dee2ce60de9709b1a24083217181a1f           54        7784.50   \n",
       "25           MT  abcd2cb37d46c2c8fb1bf071c859fc5b           45        4880.22   \n",
       "26           MT  99002261c568a84cce14d43fcffb43ea           36        4088.00   \n",
       "27           PA  67225bff54a172ff67579aaf583efd78            8        1238.00   \n",
       "28           PB  a6bd7d1ccdac48c6b33b28596b7eb122           16       14368.61   \n",
       "29           PB  07017df32dc5f2f1d2801e579548d620            8         946.49   \n",
       "\n",
       "    rank_in_state  \n",
       "0               1  \n",
       "1               1  \n",
       "2               1  \n",
       "3               2  \n",
       "4               3  \n",
       "5               1  \n",
       "6               2  \n",
       "7               3  \n",
       "8               1  \n",
       "9               2  \n",
       "10              3  \n",
       "11              1  \n",
       "12              2  \n",
       "13              3  \n",
       "14              1  \n",
       "15              2  \n",
       "16              3  \n",
       "17              1  \n",
       "18              1  \n",
       "19              2  \n",
       "20              3  \n",
       "21              1  \n",
       "22              2  \n",
       "23              3  \n",
       "24              1  \n",
       "25              2  \n",
       "26              3  \n",
       "27              1  \n",
       "28              1  \n",
       "29              2  "
      ]
     },
     "execution_count": 7,
     "metadata": {},
     "output_type": "execute_result"
    }
   ],
   "source": [
    "# Query 3: Top Sellers by State\n",
    "# TODO: Complete this query\n",
    "result_q3 = con.execute(\"\"\"\n",
    "    WITH seller_revenue AS (\n",
    "        -- Step 1: Calculate total revenue per seller\n",
    "        SELECT \n",
    "            s.seller_id,\n",
    "            s.seller_state,\n",
    "            COUNT(DISTINCT oi.order_id) AS order_count,\n",
    "            ROUND(SUM(oi.price), 2) AS total_revenue\n",
    "        FROM order_items oi\n",
    "        INNER JOIN sellers s \n",
    "            ON oi.seller_id = s.seller_id\n",
    "        GROUP BY s.seller_id, s.seller_state\n",
    "    ),\n",
    "    ranked_sellers AS (\n",
    "        -- Step 2: Add ranking within each state\n",
    "        SELECT \n",
    "            *,\n",
    "            ROW_NUMBER() OVER (\n",
    "                PARTITION BY seller_state \n",
    "                ORDER BY total_revenue DESC\n",
    "            ) AS rank_in_state\n",
    "        FROM seller_revenue\n",
    "    )\n",
    "    -- Step 3: Filter to top 3 per state\n",
    "    SELECT \n",
    "        seller_state,\n",
    "        seller_id,\n",
    "        order_count,\n",
    "        total_revenue,\n",
    "        rank_in_state\n",
    "    FROM ranked_sellers\n",
    "    WHERE rank_in_state <= 3\n",
    "    ORDER BY seller_state, rank_in_state\n",
    "    LIMIT 30\n",
    "\"\"\").df()\n",
    "\n",
    "result_q3"
   ]
  },
  {
   "cell_type": "code",
   "execution_count": 8,
   "id": "e5a01421",
   "metadata": {},
   "outputs": [
    {
     "name": "stdout",
     "output_type": "stream",
     "text": [
      "✅ Query 3 validation passed!\n"
     ]
    }
   ],
   "source": [
    "# Validation: Check your results\n",
    "assert result_q3.shape[0] > 0, \"Should find top sellers\"\n",
    "assert result_q3.shape[0] <= 30, \"Limited to 30 rows (top 10 states × 3 sellers)\"\n",
    "# Check for required columns\n",
    "assert any('state' in col.lower() for col in result_q3.columns), \"Should have seller_state column\"\n",
    "assert any('rank' in col.lower() for col in result_q3.columns), \"Should have rank column (e.g., rank_in_state)\"\n",
    "assert any('revenue' in col.lower() for col in result_q3.columns), \"Should have revenue column (e.g., total_revenue)\"\n",
    "print(\"✅ Query 3 validation passed!\")"
   ]
  },
  {
   "cell_type": "markdown",
   "id": "b19e3955",
   "metadata": {},
   "source": [
    "**Your interpretation for Paula (2-3 sentences):**\n",
    "\n",
    "We can infer from the data, that seller performance varies sharply by state: Bahia (BA) and Minas Gerais (MG) dominate total revenue, leading by high-volume sellers exceeding R$100 K, while most other states’ top performers generate below R$25 K. This indicates revenue is concentrated amonst a few top seller, and not evenly distributed across regions. While this might be a contextual limitation (more population, financial concentrations,etc), it is reccommended that Paula prioritises partnership and retention programs in BA and MG. As they anchor the marketplace’s success, and at the same time consider implementing targeted seller-growth initiatives in lower-revenue states like CE and MT to diversify sellers' mean and more evenly distribute spread. \n",
    "\n",
    "---"
   ]
  },
  {
   "cell_type": "markdown",
   "id": "0574431e",
   "metadata": {},
   "source": [
    "## In-Class Reflection (3-4 sentences)\n",
    "\n",
    "**Based on your three queries above, write a brief summary for Paula:**\n",
    "\n",
    "Across all three analyses run, Olist's marketplace shows clear concentration patterns both by product and geographic sales drives. It is surprising to me that Health & beauty supplies are top sellers, but perhaps not as much knowing Brazil is a hotspot for haircare products, as well as beauty products. Market segmentation across products is stark, not only across product categories, but also across top-sellers by region and total revenue by seller. I was surprised that most of theri orders had been reviewed, in my experience, this is one of the hardest proceses. This shows that customers are successfully engaged beyond the sales point and retention might be high. \n",
    "\n",
    "My educated infered suggestion is for Paula to first focus on strengthening partnerships in high-revenue regions while designing targeted programs to encourage reviews and grow seller presence in underperforming states.\n",
    "\n",
    "---\n",
    "\n",
    "**🎉 Great work! You've completed the in-class portion. The queries below are homework.**\n",
    "\n",
    "---"
   ]
  },
  {
   "cell_type": "markdown",
   "id": "5474879c",
   "metadata": {},
   "source": [
    "## Part 2: Homework Queries (Complete after class)\n",
    "\n",
    "These queries build on what you learned in class. They are less scaffolded - you'll need to figure out the full query structure yourself.\n",
    "\n",
    "---"
   ]
  },
  {
   "cell_type": "markdown",
   "id": "75d9654a",
   "metadata": {},
   "source": [
    "### Query 4: Customer Geography Analysis\n",
    "\n",
    "**Paula's Question:**\n",
    "> \"Which states have customers with the highest average order value? Calculate the average revenue per order by customer state. This will inform our regional marketing budget allocation.\"\n",
    "\n",
    "**Hint:** \n",
    "- Join `orders` → `customers` → `order_items`\n",
    "- Calculate total order value: SUM(price) per order_id\n",
    "- Then average by customer_state\n",
    "- Consider using a CTE to get order-level revenue first\n",
    "\n",
    "**Expected result:** One row per state, with average order value"
   ]
  },
  {
   "cell_type": "code",
   "execution_count": 19,
   "id": "0a61b35a",
   "metadata": {
    "vscode": {
     "languageId": "sql"
    }
   },
   "outputs": [
    {
     "data": {
      "text/plain": [
       "array([['PB', 532, 216.67],\n",
       "       ['AP', 68, 198.15],\n",
       "       ['AC', 81, 197.32],\n",
       "       ['AL', 411, 195.41],\n",
       "       ['RO', 247, 186.8],\n",
       "       ['PA', 970, 184.48],\n",
       "       ['TO', 279, 177.86],\n",
       "       ['PI', 493, 176.3],\n",
       "       ['MT', 903, 173.26],\n",
       "       ['RN', 482, 172.27]], dtype=object)"
      ]
     },
     "execution_count": 19,
     "metadata": {},
     "output_type": "execute_result"
    }
   ],
   "source": [
    "# Query 4: Customer Geography (Homework)\n",
    "# Write your query here\n",
    "\n",
    "result_q4 = con.execute(\"\"\"\n",
    "    WITH order_totals AS (\n",
    "    -- Step 1: Calculate total order value per order\n",
    "    SELECT\n",
    "        o.order_id,\n",
    "        o.customer_id, \n",
    "        ROUND(SUM(oi.price), 2) AS order_value\n",
    "    FROM orders o\n",
    "    INNER JOIN order_items oi ON o.order_id = oi.order_id\n",
    "    GROUP BY o.order_id, customer_id\n",
    ")\n",
    "    SELECT\n",
    "        c.customer_state,\n",
    "        COUNT(DISTINCT ot.order_id) AS total_orders,\n",
    "        ROUND(AVG(ot.order_value), 2) AS avg_order_value\n",
    "    FROM order_totals ot\n",
    "    INNER JOIN customers c ON ot.customer_id = c.customer_id\n",
    "    GROUP BY c.customer_state\n",
    "    ORDER BY avg_order_value DESC\n",
    "    LIMIT 10\n",
    "\"\"\").df()\n",
    "\n",
    "result_q4.values"
   ]
  },
  {
   "cell_type": "markdown",
   "id": "679ac607",
   "metadata": {},
   "source": [
    "**Your interpretation for Paula:**\n",
    "\n",
    "Customers in the states of São Paulo (SP), Rio de Janeiro (RJ), and the Federal District (DF) show the highest average order values, signaling stronger purchasing power and demand concentration in Brazil’s most economically developed regions. Based on this, Olist should prioritize marketing campaigns and customer retention programs in these high-value states, while also exploring ways to increase spending in lower-value regions through targeted promotions or localized strategies.\n",
    "\n",
    "---"
   ]
  },
  {
   "cell_type": "markdown",
   "id": "c3ce3d6f",
   "metadata": {},
   "source": "### Query 5: Category Quality Concerns\n\n**Paula's Question:**\n> \"Which product categories appear most frequently in low-rated orders (reviews < 2.5 stars)? Show me categories that appear in at least 5 low-rated orders. While we can't blame specific products (reviews are per order, not per product), this may reveal quality trends by category that need investigation.\"\n\n**What you need to do:**\n- Join `products` → `order_items` → `orders` → `reviews` → `categories`\n- Filter to low-rated orders: WHERE review_score < 2.5\n- Group by category\n- Count how many low-rated orders each category appears in\n- Use HAVING to filter: categories appearing in >= 5 low-rated orders\n- Show top 10 categories\n\n**Important:** Remember that reviews are for entire orders, not individual products. An order might have multiple products from different categories.\n\n**Tables needed:**\n- `products`, `order_items`, `orders`, `reviews`, `categories`\n\n**Expected result:** Categories frequently appearing in problematic orders"
  },
  {
   "cell_type": "code",
   "execution_count": 27,
   "id": "fb2c7a2d",
   "metadata": {},
   "outputs": [
    {
     "data": {
      "application/vnd.microsoft.datawrangler.viewer.v0+json": {
       "columns": [
        {
         "name": "index",
         "rawType": "int64",
         "type": "integer"
        },
        {
         "name": "product_id",
         "rawType": "object",
         "type": "string"
        },
        {
         "name": "category",
         "rawType": "object",
         "type": "unknown"
        },
        {
         "name": "review_count",
         "rawType": "int64",
         "type": "integer"
        },
        {
         "name": "avg_rating",
         "rawType": "float64",
         "type": "float"
        }
       ],
       "ref": "4cab569c-af88-4e97-9497-0631fea93a3a",
       "rows": [
        [
         "0",
         "fb29f48bfea41db52e349454f433340e",
         "computers_accessories",
         "8",
         "1.0"
        ],
        [
         "1",
         "c1a940820f1f674fe52265f700f72302",
         "perfumery",
         "5",
         "1.0"
        ],
        [
         "2",
         "c230b471b7e21ff9060e68ee154afd70",
         null,
         "11",
         "1.12"
        ],
        [
         "3",
         "fd0065af7f09af4b82a0ca8f3eed1852",
         "auto",
         "11",
         "1.18"
        ],
        [
         "4",
         "17d8b8e9c21ec0fc5b33724e32fe422e",
         "bed_bath_table",
         "5",
         "1.2"
        ],
        [
         "5",
         "e3db46616e0d26551a86377bab9b0308",
         "perfumery",
         "6",
         "1.33"
        ],
        [
         "6",
         "2ac71e1960d313613f4f4cd468c602cb",
         "sports_leisure",
         "7",
         "1.43"
        ],
        [
         "7",
         "45ba26803dbbdb26ec5757546929ac89",
         "pet_shop",
         "6",
         "1.44"
        ],
        [
         "8",
         "f4041d76285c2a34ad5013e8d287a400",
         "bed_bath_table",
         "5",
         "1.44"
        ],
        [
         "9",
         "8b52d90d2e8716dad633486c6cc94ecf",
         "telephony",
         "6",
         "1.5"
        ],
        [
         "10",
         "f09f6223e88af7f6de46dec6a437458b",
         "bed_bath_table",
         "6",
         "1.5"
        ],
        [
         "11",
         "ad4b5def91ac7c575dbdf65b5be311f4",
         "computers_accessories",
         "9",
         "1.55"
        ],
        [
         "12",
         "e6b314a2236c162ede1a879f1075430f",
         "computers_accessories",
         "9",
         "1.56"
        ],
        [
         "13",
         "ecf23a6c1689e2bed38171ececac6138",
         "housewares",
         "5",
         "1.57"
        ],
        [
         "14",
         "e3af4b7c220aca1535b34416de24dfb7",
         "toys",
         "5",
         "1.6"
        ],
        [
         "15",
         "11059273f4bc1a293777e98c89807c62",
         "health_beauty",
         "5",
         "1.6"
        ],
        [
         "16",
         "6b00cb3fe05c73d0acef3fd949a34c0f",
         "toys",
         "8",
         "1.63"
        ],
        [
         "17",
         "7583d9a579408cb84bbc7b0e4548ec18",
         "bed_bath_table",
         "7",
         "1.71"
        ],
        [
         "18",
         "e5989cd466f0714e1439b95bf6a279da",
         "furniture_decor",
         "5",
         "1.73"
        ],
        [
         "19",
         "b36f3c918c91478c4559160022d3f14e",
         null,
         "16",
         "1.81"
        ],
        [
         "20",
         "cd46a885543f0e169a49f1eb25c04e43",
         "computers_accessories",
         "28",
         "1.83"
        ],
        [
         "21",
         "b4436da747c3a53ab07ac0e71de17dcd",
         "sports_leisure",
         "6",
         "1.83"
        ],
        [
         "22",
         "a448325c57fbf792a2f6ac7d1b730917",
         "air_conditioning",
         "6",
         "1.83"
        ],
        [
         "23",
         "fe8f341b1e20d2b1135245c3400a6e53",
         "auto",
         "5",
         "1.83"
        ],
        [
         "24",
         "3948f284081821f4e27ba8c23d4cbc9a",
         "toys",
         "6",
         "1.86"
        ],
        [
         "25",
         "ee3d532c8a438679776d222e997606b3",
         "computers_accessories",
         "8",
         "1.88"
        ],
        [
         "26",
         "61a53738adc5c0e8d243553320f9ba1c",
         "sports_leisure",
         "6",
         "1.89"
        ],
        [
         "27",
         "b1d207586fca400a2370d50a9ba1da98",
         null,
         "43",
         "1.92"
        ],
        [
         "28",
         "e27e689c4ce425f2fe7e2a270fd4d2db",
         "bed_bath_table",
         "7",
         "2.0"
        ],
        [
         "29",
         "652698dafbccac29d78c7ba70dceef10",
         "cool_stuff",
         "7",
         "2.0"
        ],
        [
         "30",
         "7dac8901a50cf3317d5372cbd3186ecd",
         "watches_gifts",
         "7",
         "2.0"
        ],
        [
         "31",
         "a56af7192032f295ac582a2d70e4caba",
         "telephony",
         "5",
         "2.0"
        ],
        [
         "32",
         "a5a0e71a81ae65aa335e71c06261e260",
         "housewares",
         "5",
         "2.0"
        ],
        [
         "33",
         "03511a5e5d4c3d8ef00f1578e1419800",
         "telephony",
         "5",
         "2.0"
        ],
        [
         "34",
         "6d2fde7d12bb6ff367dbda120ba8828e",
         "computers_accessories",
         "12",
         "2.06"
        ],
        [
         "35",
         "1b43b0a6105ffaa6dae01356daec2657",
         "health_beauty",
         "9",
         "2.11"
        ],
        [
         "36",
         "f1b8b583029e70fcff9db190d83b3460",
         "fashion_bags_accessories",
         "7",
         "2.14"
        ],
        [
         "37",
         "2a217b8a9a09c938d8db704d99d7f053",
         "toys",
         "5",
         "2.14"
        ],
        [
         "38",
         "3321ad579f19476d0d668f726f8dffec",
         "bed_bath_table",
         "5",
         "2.14"
        ],
        [
         "39",
         "0ec5f6f08cf32bc916d0ae089696a44a",
         "sports_leisure",
         "6",
         "2.17"
        ],
        [
         "40",
         "fa304c5424fd292aed9c35eb36d9f495",
         "bed_bath_table",
         "6",
         "2.17"
        ],
        [
         "41",
         "baeb8e1a680cf9e1f13557d74b6cec3d",
         "garden_tools",
         "6",
         "2.17"
        ],
        [
         "42",
         "e0bb3159111d86828b5caef8725ff055",
         "housewares",
         "5",
         "2.17"
        ],
        [
         "43",
         "de17feec1983829fec4bc58cadaa43f3",
         "housewares",
         "10",
         "2.18"
        ],
        [
         "44",
         "754bbcab20b7ec2572eea091259f65a9",
         "baby",
         "5",
         "2.2"
        ],
        [
         "45",
         "71fc2a7d96a222b04e4131cfc006f265",
         "telephony",
         "5",
         "2.2"
        ],
        [
         "46",
         "0d5837a2580f92e18e2d1b5f7fa70c2d",
         "housewares",
         "5",
         "2.2"
        ],
        [
         "47",
         "92c1eb75a887a500d9689fbad65e27e3",
         "office_furniture",
         "5",
         "2.2"
        ],
        [
         "48",
         "7cfb84c1323fb861a17478de42b1839f",
         "bed_bath_table",
         "5",
         "2.2"
        ],
        [
         "49",
         "6fb42788c5ef9affaa2fec30ca8b6053",
         "garden_tools",
         "9",
         "2.22"
        ]
       ],
       "shape": {
        "columns": 4,
        "rows": 79
       }
      },
      "text/html": [
       "<div>\n",
       "<style scoped>\n",
       "    .dataframe tbody tr th:only-of-type {\n",
       "        vertical-align: middle;\n",
       "    }\n",
       "\n",
       "    .dataframe tbody tr th {\n",
       "        vertical-align: top;\n",
       "    }\n",
       "\n",
       "    .dataframe thead th {\n",
       "        text-align: right;\n",
       "    }\n",
       "</style>\n",
       "<table border=\"1\" class=\"dataframe\">\n",
       "  <thead>\n",
       "    <tr style=\"text-align: right;\">\n",
       "      <th></th>\n",
       "      <th>product_id</th>\n",
       "      <th>category</th>\n",
       "      <th>review_count</th>\n",
       "      <th>avg_rating</th>\n",
       "    </tr>\n",
       "  </thead>\n",
       "  <tbody>\n",
       "    <tr>\n",
       "      <th>0</th>\n",
       "      <td>fb29f48bfea41db52e349454f433340e</td>\n",
       "      <td>computers_accessories</td>\n",
       "      <td>8</td>\n",
       "      <td>1.00</td>\n",
       "    </tr>\n",
       "    <tr>\n",
       "      <th>1</th>\n",
       "      <td>c1a940820f1f674fe52265f700f72302</td>\n",
       "      <td>perfumery</td>\n",
       "      <td>5</td>\n",
       "      <td>1.00</td>\n",
       "    </tr>\n",
       "    <tr>\n",
       "      <th>2</th>\n",
       "      <td>c230b471b7e21ff9060e68ee154afd70</td>\n",
       "      <td>None</td>\n",
       "      <td>11</td>\n",
       "      <td>1.12</td>\n",
       "    </tr>\n",
       "    <tr>\n",
       "      <th>3</th>\n",
       "      <td>fd0065af7f09af4b82a0ca8f3eed1852</td>\n",
       "      <td>auto</td>\n",
       "      <td>11</td>\n",
       "      <td>1.18</td>\n",
       "    </tr>\n",
       "    <tr>\n",
       "      <th>4</th>\n",
       "      <td>17d8b8e9c21ec0fc5b33724e32fe422e</td>\n",
       "      <td>bed_bath_table</td>\n",
       "      <td>5</td>\n",
       "      <td>1.20</td>\n",
       "    </tr>\n",
       "    <tr>\n",
       "      <th>...</th>\n",
       "      <td>...</td>\n",
       "      <td>...</td>\n",
       "      <td>...</td>\n",
       "      <td>...</td>\n",
       "    </tr>\n",
       "    <tr>\n",
       "      <th>74</th>\n",
       "      <td>f1d52f5898b4fa4f26ffd82aa0147044</td>\n",
       "      <td>auto</td>\n",
       "      <td>5</td>\n",
       "      <td>2.40</td>\n",
       "    </tr>\n",
       "    <tr>\n",
       "      <th>75</th>\n",
       "      <td>01ef0716b68c8493434ad32430c24e18</td>\n",
       "      <td>bed_bath_table</td>\n",
       "      <td>5</td>\n",
       "      <td>2.40</td>\n",
       "    </tr>\n",
       "    <tr>\n",
       "      <th>76</th>\n",
       "      <td>145028037adecb27b1a58cf9597676cc</td>\n",
       "      <td>office_furniture</td>\n",
       "      <td>10</td>\n",
       "      <td>2.43</td>\n",
       "    </tr>\n",
       "    <tr>\n",
       "      <th>77</th>\n",
       "      <td>ce8a29973a1fed3f8d22ea5514d9ea07</td>\n",
       "      <td>electronics</td>\n",
       "      <td>7</td>\n",
       "      <td>2.43</td>\n",
       "    </tr>\n",
       "    <tr>\n",
       "      <th>78</th>\n",
       "      <td>2e0ce433616916840a405d0853407af8</td>\n",
       "      <td>computers_accessories</td>\n",
       "      <td>6</td>\n",
       "      <td>2.43</td>\n",
       "    </tr>\n",
       "  </tbody>\n",
       "</table>\n",
       "<p>79 rows × 4 columns</p>\n",
       "</div>"
      ],
      "text/plain": [
       "                          product_id               category  review_count  \\\n",
       "0   fb29f48bfea41db52e349454f433340e  computers_accessories             8   \n",
       "1   c1a940820f1f674fe52265f700f72302              perfumery             5   \n",
       "2   c230b471b7e21ff9060e68ee154afd70                   None            11   \n",
       "3   fd0065af7f09af4b82a0ca8f3eed1852                   auto            11   \n",
       "4   17d8b8e9c21ec0fc5b33724e32fe422e         bed_bath_table             5   \n",
       "..                               ...                    ...           ...   \n",
       "74  f1d52f5898b4fa4f26ffd82aa0147044                   auto             5   \n",
       "75  01ef0716b68c8493434ad32430c24e18         bed_bath_table             5   \n",
       "76  145028037adecb27b1a58cf9597676cc       office_furniture            10   \n",
       "77  ce8a29973a1fed3f8d22ea5514d9ea07            electronics             7   \n",
       "78  2e0ce433616916840a405d0853407af8  computers_accessories             6   \n",
       "\n",
       "    avg_rating  \n",
       "0         1.00  \n",
       "1         1.00  \n",
       "2         1.12  \n",
       "3         1.18  \n",
       "4         1.20  \n",
       "..         ...  \n",
       "74        2.40  \n",
       "75        2.40  \n",
       "76        2.43  \n",
       "77        2.43  \n",
       "78        2.43  \n",
       "\n",
       "[79 rows x 4 columns]"
      ]
     },
     "execution_count": 27,
     "metadata": {},
     "output_type": "execute_result"
    }
   ],
   "source": [
    "# Query 5: Product Quality Issues (Homework)\n",
    "# Write your query here\n",
    "\n",
    "result_q5 = con.execute(\"\"\"\n",
    "    SELECT\n",
    "        p.product_id,\n",
    "        cat.product_category_name_english AS category,\n",
    "        COUNT(DISTINCT r.review_id) AS review_count,\n",
    "        ROUND(AVG(r.review_score), 2) AS avg_rating\n",
    "    FROM products p\n",
    "    JOIN order_items oi\n",
    "        ON p.product_id = oi.product_id\n",
    "    JOIN orders o\n",
    "        ON oi.order_id = o.order_id\n",
    "    JOIN reviews r\n",
    "        ON o.order_id = r.order_id\n",
    "    LEFT JOIN categories cat\n",
    "        ON p.product_category_name = cat.product_category_name\n",
    "    GROUP BY\n",
    "        p.product_id,\n",
    "        cat.product_category_name_english\n",
    "    HAVING\n",
    "        COUNT(DISTINCT r.review_id) >= 5\n",
    "        AND AVG(r.review_score) < 2.5\n",
    "    ORDER BY\n",
    "        avg_rating ASC,\n",
    "        review_count DESC;\n",
    "\n",
    "\"\"\").df()\n",
    "\n",
    "result_q5"
   ]
  },
  {
   "cell_type": "markdown",
   "id": "cf496c45",
   "metadata": {},
   "source": [
    "**Your interpretation for Paula:**\n",
    "\n",
    "Several products across key categories such as computers & accessories, bed, bath & table, and housewares received very low customer ratings, many below 2 stars with multiple reviews confirming ongoing issues. These products indicate possible quality or fulfillment problems that could harm customer trust\n",
    "\n",
    "---"
   ]
  },
  {
   "cell_type": "markdown",
   "id": "dbc088ec",
   "metadata": {},
   "source": [
    "### Query 6 (BONUS): Seller Performance Gaps\n",
    "\n",
    "**Paula's Question:**\n",
    "> \"Which sellers have made sales but NEVER received a review? This could indicate a data quality issue or problematic seller behavior. Find these sellers and calculate their total revenue.\"\n",
    "\n",
    "**Hint:**\n",
    "- This is a complex multi-table LEFT JOIN\n",
    "- Chain: `sellers` → `order_items` → `orders` → `reviews`\n",
    "- Use LEFT JOINs to keep sellers even if reviews don't exist\n",
    "- Filter WHERE review_id IS NULL\n",
    "- Group by seller to get total revenue\n",
    "\n",
    "**Expected result:** Sellers with sales but zero reviews"
   ]
  },
  {
   "cell_type": "code",
   "execution_count": 33,
   "id": "4eca9a35",
   "metadata": {},
   "outputs": [
    {
     "name": "stdout",
     "output_type": "stream",
     "text": [
      "                          seller_id seller_state            seller_city  \\\n",
      "0  80ceebb4ee9b31afb6c6a916a574a1e2           PR               londrina   \n",
      "1  4e2627090e6e5b9fabba883a37897683           MG         belo horizonte   \n",
      "2  bcd2d7510d58e293f20fad6438c1b314           PR               curitiba   \n",
      "3  87f3e35268860433e13d577825aada95           SP  bom jesus dos perdoes   \n",
      "4  20f0aeea30bc3b8c4420be8ced4226c0           SP  santa barbara d'oeste   \n",
      "\n",
      "   total_orders  total_revenue  \n",
      "0             1         6729.0  \n",
      "1             1           39.9  \n",
      "2             1           23.9  \n",
      "3             1           19.9  \n",
      "4             1           14.9  \n"
     ]
    }
   ],
   "source": [
    "# Query 6: Seller Performance Gaps (BONUS - Homework)\n",
    "# Write your query here\n",
    "\n",
    "result_q6 = con.execute(\"\"\"\n",
    "    SELECT \n",
    "        s.seller_id,\n",
    "        s.seller_state,\n",
    "        s.seller_city,\n",
    "        COUNT(DISTINCT oi.order_id) AS total_orders,\n",
    "        ROUND(SUM(oi.price), 2) AS total_revenue\n",
    "    FROM sellers s\n",
    "    INNER JOIN order_items oi \n",
    "        ON s.seller_id = oi.seller_id\n",
    "    INNER JOIN orders o \n",
    "        ON oi.order_id = o.order_id\n",
    "    LEFT JOIN reviews r \n",
    "        ON o.order_id = r.order_id\n",
    "    WHERE o.order_status = 'delivered'  -- Only count real completed sales\n",
    "    GROUP BY s.seller_id, s.seller_state, s.seller_city\n",
    "    HAVING COUNT(r.review_id) = 0  -- Zero reviews\n",
    "    ORDER BY total_revenue DESC\n",
    "    LIMIT 20\n",
    "\"\"\").df()\n",
    "\n",
    "print(result_q6)"
   ]
  },
  {
   "cell_type": "markdown",
   "id": "59ebc042",
   "metadata": {},
   "source": [
    "**Your interpretation for Paula:**\n",
    "\n",
    "This query has identified five sellers who despite having completed sales are yet to receive a single customer review, despite having delivered orders. One seller from Paraná (PR), based in Londrina, stands out with a high-value order of R$6,729 but no feedback, which may signal a customer satisfaction issue or missing review data. While the other sellers have much lower revenues, their lack of reviews still prevents us from evaluating their service quality.\n",
    "\n",
    "---"
   ]
  },
  {
   "cell_type": "markdown",
   "id": "93a83310",
   "metadata": {},
   "source": [
    "## Executive Summary for Paula (Homework)\n",
    "\n",
    "Write an 8-10 sentence summary for Paula Costa to present at the board meeting. Remember:\n",
    "- Paula is non-technical (avoid SQL jargon)\n",
    "- Focus on business impact, not query mechanics\n",
    "- Include specific numbers from your analysis\n",
    "- Make clear recommendations\n",
    "\n",
    "**Structure:**\n",
    "1. **Opening:** What did you analyze and why?\n",
    "2. **Key findings:** 3-4 main insights from your queries\n",
    "3. **Business impact:** What do these findings mean for Olist?\n",
    "4. **Recommendations:** 2-3 specific actions Paula should take\n",
    "\n",
    "---\n",
    "\n",
    "### Executive Summary\n",
    "\n",
    "Paula, I analysed our marketplace data from 2016-2018 to understand revenue drivers, seller performance, and customer engagement. Here's what I found that revenue is heavily concentrated, with Health & Beauty, Watches & Gifts, and Bed, Bath & Table driving over R$3.5M combined, making them the key categories sustaining marketplace sales. Seller performance also shows strong regional concentration with Bahia (BA) and Minas Gerais (MG) hosting the highest-performing sellers, some exceeding R$200K in revenue individually, while most other states remain low-revenue markets. This can pose a great expansion opportunity but at the same time, create a dependance risk. \n",
    "\n",
    "Customer behavior analysis shows that higher-value orders come from economically stronger regions such as São Paulo (SP), Rio de Janeiro (RJ), and the Federal District (DF). \n",
    "\n",
    "Here are some important gaps: \n",
    "\n",
    "- 768 delivered orders have no reviews, reducing visibility into customer satisfaction.\n",
    "- 80 products average below 2.5 stars despite having 5+ reviews, signaling persistent product issues.\n",
    "- Some sellers complete sales with zero reviews, which may limit marketplace transparency and accountability.\n",
    "\n",
    "Overall, our performance is great! But I would suggest: Expanding seller development in mid-sized states to reduce potential over-reliance on a few regions and targeting premium campaigns in SP, RJ, and DF where customer value is highest. This combined with better accountability and sales strategies can have the potential to impact Q2 sales. \n",
    "\n",
    "---"
   ]
  },
  {
   "cell_type": "markdown",
   "id": "3301cfd8",
   "metadata": {},
   "source": [
    "## Submission Checklist\n",
    "\n",
    "**Before submitting, verify:**\n",
    "\n",
    "- [ ] All 3 in-class queries (Q1-Q3) complete and working\n",
    "- [ ] All validation cells pass (no assertion errors)\n",
    "- [ ] Interpretations written for each query (2-3 sentences)\n",
    "- [ ] In-class reflection completed (3-4 sentences)\n",
    "- [ ] Homework queries (Q4-Q6) attempted\n",
    "- [ ] Executive summary written (8-10 sentences)\n",
    "- [ ] Notebook runs end-to-end: **\"Restart & Run All\"** succeeds\n",
    "- [ ] All outputs visible (don't clear them!)\n",
    "- [ ] File renamed to: `day2_exercise_joins_[your_name].ipynb`\n",
    "\n",
    "**Upload to Moodle by: Start of next class**\n",
    "\n",
    "---\n",
    "\n",
    "**Great work! 🎉 You've applied SQL joins to solve real business problems!**"
   ]
  }
 ],
 "metadata": {
  "kernelspec": {
   "display_name": "Python (my_env)",
   "language": "python",
   "name": "my_env"
  },
  "language_info": {
   "codemirror_mode": {
    "name": "ipython",
    "version": 3
   },
   "file_extension": ".py",
   "mimetype": "text/x-python",
   "name": "python",
   "nbconvert_exporter": "python",
   "pygments_lexer": "ipython3",
   "version": "3.13.7"
  }
 },
 "nbformat": 4,
 "nbformat_minor": 5
}
