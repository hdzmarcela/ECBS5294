{
 "cells": [
  {
   "cell_type": "markdown",
   "id": "cell-0",
   "metadata": {},
   "source": [
    "# Day 1, Block B: Window Functions Primer\n",
    "\n",
    "**Duration:** 20 minutes  \n",
    "**Course:** ECBS5294 - Introduction to Data Science: Working with Data  \n",
    "**Instructor:** Eduardo Ariño de la Rubia\n",
    "\n",
    "**Note:** This is a focused primer covering the essentials. For advanced topics like LAG(), LEAD(), and moving averages, see the **Window Functions Deep Dive** notebook.\n",
    "\n",
    "---\n",
    "\n",
    "## Learning Objectives\n",
    "\n",
    "By the end of this primer, you will be able to:\n",
    "\n",
    "1. **Explain the mental model:** Windows preserve rows; GROUP BY collapses rows\n",
    "2. **Decide when to use** window functions vs GROUP BY\n",
    "3. **Use ROW_NUMBER()** for \"latest record per group\" problems\n",
    "4. **Understand basic window function syntax** (PARTITION BY, ORDER BY)\n",
    "\n",
    "---"
   ]
  },
  {
   "cell_type": "markdown",
   "id": "cell-1",
   "metadata": {},
   "source": [
    "## 1. Introduction: The Problem Window Functions Solve\n",
    "\n",
    "### The Challenge\n",
    "\n",
    "You just learned GROUP BY. It's powerful:\n",
    "- \"Total revenue per product\" ✅\n",
    "- \"Count of transactions per month\" ✅\n",
    "\n",
    "But sometimes GROUP BY has a **limitation:**\n",
    "\n",
    "**Problem:** \"I want to see each transaction AND the total for that product.\"\n",
    "\n",
    "With GROUP BY:\n",
    "- You can see the total per product (1 row per product)\n",
    "- OR you can see all transactions (many rows)\n",
    "- But **not both at the same time!**\n",
    "\n",
    "GROUP BY **collapses** rows. What if you want the calculation **without collapsing**?\n",
    "\n",
    "**Enter: Window Functions**\n",
    "\n",
    "> **Window functions let you add calculations to your data WITHOUT collapsing rows.**\n",
    "\n",
    "This is incredibly powerful for analytics!\n",
    "\n",
    "---"
   ]
  },
  {
   "cell_type": "markdown",
   "id": "cell-2",
   "metadata": {},
   "source": [
    "## 2. Setup\n",
    "\n",
    "We're using **Superstore** data because:\n",
    "- Multiple orders **per customer** (great for ROW_NUMBER examples)\n",
    "- 4 years of time series data\n",
    "- ~10,000 rows - perfect for learning"
   ]
  },
  {
   "cell_type": "code",
   "execution_count": 1,
   "id": "cell-3",
   "metadata": {
    "execution": {
     "iopub.execute_input": "2025-10-13T14:25:31.193065Z",
     "iopub.status.busy": "2025-10-13T14:25:31.192962Z",
     "iopub.status.idle": "2025-10-13T14:25:31.429323Z",
     "shell.execute_reply": "2025-10-13T14:25:31.428856Z"
    }
   },
   "outputs": [
    {
     "name": "stdout",
     "output_type": "stream",
     "text": [
      "✅ Libraries imported!\n"
     ]
    }
   ],
   "source": [
    "# Imports\n",
    "import duckdb\n",
    "import pandas as pd\n",
    "import warnings\n",
    "\n",
    "warnings.filterwarnings('ignore')\n",
    "\n",
    "print(\"✅ Libraries imported!\")"
   ]
  },
  {
   "cell_type": "code",
   "execution_count": 2,
   "id": "cell-4",
   "metadata": {
    "execution": {
     "iopub.execute_input": "2025-10-13T14:25:31.431704Z",
     "iopub.status.busy": "2025-10-13T14:25:31.431431Z",
     "iopub.status.idle": "2025-10-13T14:25:31.442377Z",
     "shell.execute_reply": "2025-10-13T14:25:31.441920Z"
    }
   },
   "outputs": [
    {
     "name": "stdout",
     "output_type": "stream",
     "text": [
      "✅ Connected to DuckDB!\n"
     ]
    }
   ],
   "source": [
    "# Connect to DuckDB\n",
    "con = duckdb.connect(':memory:')\n",
    "\n",
    "print(\"✅ Connected to DuckDB!\")"
   ]
  },
  {
   "cell_type": "markdown",
   "id": "173e86db",
   "metadata": {},
   "source": [
    "#### Registering Data in SQL"
   ]
  },
  {
   "cell_type": "code",
   "execution_count": 3,
   "id": "cell-5",
   "metadata": {
    "execution": {
     "iopub.execute_input": "2025-10-13T14:25:31.445481Z",
     "iopub.status.busy": "2025-10-13T14:25:31.444275Z",
     "iopub.status.idle": "2025-10-13T14:25:31.480409Z",
     "shell.execute_reply": "2025-10-13T14:25:31.479155Z"
    }
   },
   "outputs": [
    {
     "name": "stdout",
     "output_type": "stream",
     "text": [
      "✅ Loaded 9,994 rows!\n"
     ]
    }
   ],
   "source": [
    "# Load Superstore data\n",
    "# Note: Using encoding='latin-1' due to file encoding\n",
    "superstore = pd.read_csv('../../data/day1/Sample - Superstore.csv', encoding='latin-1')\n",
    "\n",
    "# Cast Order Date to datetime for proper DATE_TRUNC support\n",
    "superstore['Order Date'] = pd.to_datetime(superstore['Order Date'])\n",
    "\n",
    "# Register with DuckDB\n",
    "con.register('superstore', superstore)\n",
    "\n",
    "print(f\"✅ Loaded {len(superstore):,} rows!\")"
   ]
  },
  {
   "cell_type": "code",
   "execution_count": 8,
   "id": "cell-6",
   "metadata": {
    "execution": {
     "iopub.execute_input": "2025-10-13T14:25:31.482383Z",
     "iopub.status.busy": "2025-10-13T14:25:31.482270Z",
     "iopub.status.idle": "2025-10-13T14:25:31.489331Z",
     "shell.execute_reply": "2025-10-13T14:25:31.489132Z"
    }
   },
   "outputs": [
    {
     "data": {
      "application/vnd.microsoft.datawrangler.viewer.v0+json": {
       "columns": [
        {
         "name": "index",
         "rawType": "int64",
         "type": "integer"
        },
        {
         "name": "Order ID",
         "rawType": "object",
         "type": "string"
        },
        {
         "name": "Order Date",
         "rawType": "datetime64[ns]",
         "type": "datetime"
        },
        {
         "name": "Customer ID",
         "rawType": "object",
         "type": "string"
        },
        {
         "name": "Customer Name",
         "rawType": "object",
         "type": "string"
        },
        {
         "name": "Category",
         "rawType": "object",
         "type": "string"
        },
        {
         "name": "Product Name",
         "rawType": "object",
         "type": "string"
        },
        {
         "name": "Sales",
         "rawType": "float64",
         "type": "float"
        }
       ],
       "ref": "8782436f-96bc-4528-89d0-ed0eeedaab0d",
       "rows": [
        [
         "0",
         "CA-2016-152156",
         "2016-11-08 00:00:00",
         "CG-12520",
         "Claire Gute",
         "Furniture",
         "Bush Somerset Collection Bookcase",
         "261.96"
        ],
        [
         "1",
         "CA-2016-152156",
         "2016-11-08 00:00:00",
         "CG-12520",
         "Claire Gute",
         "Furniture",
         "Hon Deluxe Fabric Upholstered Stacking Chairs, Rounded Back",
         "731.94"
        ],
        [
         "2",
         "CA-2016-138688",
         "2016-06-12 00:00:00",
         "DV-13045",
         "Darrin Van Huff",
         "Office Supplies",
         "Self-Adhesive Address Labels for Typewriters by Universal",
         "14.62"
        ],
        [
         "3",
         "US-2015-108966",
         "2015-10-11 00:00:00",
         "SO-20335",
         "Sean O'Donnell",
         "Furniture",
         "Bretford CR4500 Series Slim Rectangular Table",
         "957.5775"
        ],
        [
         "4",
         "US-2015-108966",
         "2015-10-11 00:00:00",
         "SO-20335",
         "Sean O'Donnell",
         "Office Supplies",
         "Eldon Fold 'N Roll Cart System",
         "22.368"
        ]
       ],
       "shape": {
        "columns": 7,
        "rows": 5
       }
      },
      "text/html": [
       "<div>\n",
       "<style scoped>\n",
       "    .dataframe tbody tr th:only-of-type {\n",
       "        vertical-align: middle;\n",
       "    }\n",
       "\n",
       "    .dataframe tbody tr th {\n",
       "        vertical-align: top;\n",
       "    }\n",
       "\n",
       "    .dataframe thead th {\n",
       "        text-align: right;\n",
       "    }\n",
       "</style>\n",
       "<table border=\"1\" class=\"dataframe\">\n",
       "  <thead>\n",
       "    <tr style=\"text-align: right;\">\n",
       "      <th></th>\n",
       "      <th>Order ID</th>\n",
       "      <th>Order Date</th>\n",
       "      <th>Customer ID</th>\n",
       "      <th>Customer Name</th>\n",
       "      <th>Category</th>\n",
       "      <th>Product Name</th>\n",
       "      <th>Sales</th>\n",
       "    </tr>\n",
       "  </thead>\n",
       "  <tbody>\n",
       "    <tr>\n",
       "      <th>0</th>\n",
       "      <td>CA-2016-152156</td>\n",
       "      <td>2016-11-08</td>\n",
       "      <td>CG-12520</td>\n",
       "      <td>Claire Gute</td>\n",
       "      <td>Furniture</td>\n",
       "      <td>Bush Somerset Collection Bookcase</td>\n",
       "      <td>261.9600</td>\n",
       "    </tr>\n",
       "    <tr>\n",
       "      <th>1</th>\n",
       "      <td>CA-2016-152156</td>\n",
       "      <td>2016-11-08</td>\n",
       "      <td>CG-12520</td>\n",
       "      <td>Claire Gute</td>\n",
       "      <td>Furniture</td>\n",
       "      <td>Hon Deluxe Fabric Upholstered Stacking Chairs,...</td>\n",
       "      <td>731.9400</td>\n",
       "    </tr>\n",
       "    <tr>\n",
       "      <th>2</th>\n",
       "      <td>CA-2016-138688</td>\n",
       "      <td>2016-06-12</td>\n",
       "      <td>DV-13045</td>\n",
       "      <td>Darrin Van Huff</td>\n",
       "      <td>Office Supplies</td>\n",
       "      <td>Self-Adhesive Address Labels for Typewriters b...</td>\n",
       "      <td>14.6200</td>\n",
       "    </tr>\n",
       "    <tr>\n",
       "      <th>3</th>\n",
       "      <td>US-2015-108966</td>\n",
       "      <td>2015-10-11</td>\n",
       "      <td>SO-20335</td>\n",
       "      <td>Sean O'Donnell</td>\n",
       "      <td>Furniture</td>\n",
       "      <td>Bretford CR4500 Series Slim Rectangular Table</td>\n",
       "      <td>957.5775</td>\n",
       "    </tr>\n",
       "    <tr>\n",
       "      <th>4</th>\n",
       "      <td>US-2015-108966</td>\n",
       "      <td>2015-10-11</td>\n",
       "      <td>SO-20335</td>\n",
       "      <td>Sean O'Donnell</td>\n",
       "      <td>Office Supplies</td>\n",
       "      <td>Eldon Fold 'N Roll Cart System</td>\n",
       "      <td>22.3680</td>\n",
       "    </tr>\n",
       "  </tbody>\n",
       "</table>\n",
       "</div>"
      ],
      "text/plain": [
       "         Order ID Order Date Customer ID    Customer Name         Category  \\\n",
       "0  CA-2016-152156 2016-11-08    CG-12520      Claire Gute        Furniture   \n",
       "1  CA-2016-152156 2016-11-08    CG-12520      Claire Gute        Furniture   \n",
       "2  CA-2016-138688 2016-06-12    DV-13045  Darrin Van Huff  Office Supplies   \n",
       "3  US-2015-108966 2015-10-11    SO-20335   Sean O'Donnell        Furniture   \n",
       "4  US-2015-108966 2015-10-11    SO-20335   Sean O'Donnell  Office Supplies   \n",
       "\n",
       "                                        Product Name     Sales  \n",
       "0                  Bush Somerset Collection Bookcase  261.9600  \n",
       "1  Hon Deluxe Fabric Upholstered Stacking Chairs,...  731.9400  \n",
       "2  Self-Adhesive Address Labels for Typewriters b...   14.6200  \n",
       "3      Bretford CR4500 Series Slim Rectangular Table  957.5775  \n",
       "4                     Eldon Fold 'N Roll Cart System   22.3680  "
      ]
     },
     "execution_count": 8,
     "metadata": {},
     "output_type": "execute_result"
    }
   ],
   "source": [
    "# Explore the data\n",
    "con.execute(\"\"\"\n",
    "    SELECT \n",
    "        \"Order ID\",\n",
    "        \"Order Date\",\n",
    "        \"Customer ID\",\n",
    "        \"Customer Name\",\n",
    "        Category,\n",
    "        \"Product Name\",\n",
    "        Sales\n",
    "    FROM superstore\n",
    "    LIMIT 5\n",
    "\"\"\").df()"
   ]
  },
  {
   "cell_type": "code",
   "execution_count": 9,
   "id": "cell-7",
   "metadata": {
    "execution": {
     "iopub.execute_input": "2025-10-13T14:25:31.490373Z",
     "iopub.status.busy": "2025-10-13T14:25:31.490312Z",
     "iopub.status.idle": "2025-10-13T14:25:31.495561Z",
     "shell.execute_reply": "2025-10-13T14:25:31.495368Z"
    }
   },
   "outputs": [
    {
     "data": {
      "application/vnd.microsoft.datawrangler.viewer.v0+json": {
       "columns": [
        {
         "name": "index",
         "rawType": "int64",
         "type": "integer"
        },
        {
         "name": "first_order",
         "rawType": "datetime64[ns]",
         "type": "datetime"
        },
        {
         "name": "last_order",
         "rawType": "datetime64[ns]",
         "type": "datetime"
        },
        {
         "name": "unique_customers",
         "rawType": "int64",
         "type": "integer"
        },
        {
         "name": "total_orders",
         "rawType": "int64",
         "type": "integer"
        }
       ],
       "ref": "20ccec14-6df4-4310-8fba-1b4b7e096049",
       "rows": [
        [
         "0",
         "2014-01-03 00:00:00",
         "2017-12-30 00:00:00",
         "793",
         "9994"
        ]
       ],
       "shape": {
        "columns": 4,
        "rows": 1
       }
      },
      "text/html": [
       "<div>\n",
       "<style scoped>\n",
       "    .dataframe tbody tr th:only-of-type {\n",
       "        vertical-align: middle;\n",
       "    }\n",
       "\n",
       "    .dataframe tbody tr th {\n",
       "        vertical-align: top;\n",
       "    }\n",
       "\n",
       "    .dataframe thead th {\n",
       "        text-align: right;\n",
       "    }\n",
       "</style>\n",
       "<table border=\"1\" class=\"dataframe\">\n",
       "  <thead>\n",
       "    <tr style=\"text-align: right;\">\n",
       "      <th></th>\n",
       "      <th>first_order</th>\n",
       "      <th>last_order</th>\n",
       "      <th>unique_customers</th>\n",
       "      <th>total_orders</th>\n",
       "    </tr>\n",
       "  </thead>\n",
       "  <tbody>\n",
       "    <tr>\n",
       "      <th>0</th>\n",
       "      <td>2014-01-03</td>\n",
       "      <td>2017-12-30</td>\n",
       "      <td>793</td>\n",
       "      <td>9994</td>\n",
       "    </tr>\n",
       "  </tbody>\n",
       "</table>\n",
       "</div>"
      ],
      "text/plain": [
       "  first_order last_order  unique_customers  total_orders\n",
       "0  2014-01-03 2017-12-30               793          9994"
      ]
     },
     "execution_count": 9,
     "metadata": {},
     "output_type": "execute_result"
    }
   ],
   "source": [
    "# Check date range\n",
    "con.execute(\"\"\"\n",
    "    SELECT \n",
    "        MIN(\"Order Date\") as first_order,\n",
    "        MAX(\"Order Date\") as last_order,\n",
    "        COUNT(DISTINCT \"Customer ID\") as unique_customers,\n",
    "        COUNT(*) as total_orders\n",
    "    FROM superstore\n",
    "\"\"\").df()"
   ]
  },
  {
   "cell_type": "markdown",
   "id": "cell-8",
   "metadata": {},
   "source": [
    "**Perfect!** ~10,000 orders across 4 years from ~800 customers. Great data for learning window functions.\n",
    "\n",
    "---"
   ]
  },
  {
   "cell_type": "markdown",
   "id": "cell-9",
   "metadata": {},
   "source": [
    "## 3. The Mental Model: Windows vs GROUP BY\n",
    "\n",
    "> **🚨 THIS IS THE MOST IMPORTANT CONCEPT**\n",
    "\n",
    "### The Core Difference\n",
    "\n",
    "| | GROUP BY | Window Functions |\n",
    "|---|---|---|\n",
    "| **What happens to rows?** | Collapses to summary | Keeps all rows |\n",
    "| **Output row count** | Fewer rows (one per group) | Same row count as input |\n",
    "| **Use when** | You want summary only | You want detail + calculation |\n",
    "| **Example** | \"Total sales per category\" | \"Each order + category total\" |\n",
    "\n",
    "Let's see this in action with real queries."
   ]
  },
  {
   "cell_type": "code",
   "execution_count": 12,
   "id": "cell-10",
   "metadata": {
    "execution": {
     "iopub.execute_input": "2025-10-13T14:25:31.496592Z",
     "iopub.status.busy": "2025-10-13T14:25:31.496539Z",
     "iopub.status.idle": "2025-10-13T14:25:31.508024Z",
     "shell.execute_reply": "2025-10-13T14:25:31.507715Z"
    }
   },
   "outputs": [
    {
     "name": "stdout",
     "output_type": "stream",
     "text": [
      "======================================================================\n",
      "APPROACH 1: GROUP BY (Collapses Rows)\n",
      "======================================================================\n",
      "\n",
      "📊 Input: 9,994 rows\n",
      "📉 Output: 3 rows (one per category)\n",
      "❌ We LOST all the details! Which products? Which customers? When?\n",
      "\n"
     ]
    },
    {
     "data": {
      "application/vnd.microsoft.datawrangler.viewer.v0+json": {
       "columns": [
        {
         "name": "index",
         "rawType": "int64",
         "type": "integer"
        },
        {
         "name": "Category",
         "rawType": "object",
         "type": "string"
        },
        {
         "name": "order_count",
         "rawType": "int64",
         "type": "integer"
        }
       ],
       "ref": "e4c8d62f-2886-44a3-9ec3-7ec84ec66fdb",
       "rows": [
        [
         "0",
         "Office Supplies",
         "6026"
        ],
        [
         "1",
         "Furniture",
         "2121"
        ],
        [
         "2",
         "Technology",
         "1847"
        ]
       ],
       "shape": {
        "columns": 2,
        "rows": 3
       }
      },
      "text/html": [
       "<div>\n",
       "<style scoped>\n",
       "    .dataframe tbody tr th:only-of-type {\n",
       "        vertical-align: middle;\n",
       "    }\n",
       "\n",
       "    .dataframe tbody tr th {\n",
       "        vertical-align: top;\n",
       "    }\n",
       "\n",
       "    .dataframe thead th {\n",
       "        text-align: right;\n",
       "    }\n",
       "</style>\n",
       "<table border=\"1\" class=\"dataframe\">\n",
       "  <thead>\n",
       "    <tr style=\"text-align: right;\">\n",
       "      <th></th>\n",
       "      <th>Category</th>\n",
       "      <th>order_count</th>\n",
       "    </tr>\n",
       "  </thead>\n",
       "  <tbody>\n",
       "    <tr>\n",
       "      <th>0</th>\n",
       "      <td>Office Supplies</td>\n",
       "      <td>6026</td>\n",
       "    </tr>\n",
       "    <tr>\n",
       "      <th>1</th>\n",
       "      <td>Furniture</td>\n",
       "      <td>2121</td>\n",
       "    </tr>\n",
       "    <tr>\n",
       "      <th>2</th>\n",
       "      <td>Technology</td>\n",
       "      <td>1847</td>\n",
       "    </tr>\n",
       "  </tbody>\n",
       "</table>\n",
       "</div>"
      ],
      "text/plain": [
       "          Category  order_count\n",
       "0  Office Supplies         6026\n",
       "1        Furniture         2121\n",
       "2       Technology         1847"
      ]
     },
     "metadata": {},
     "output_type": "display_data"
    },
    {
     "name": "stdout",
     "output_type": "stream",
     "text": [
      "\n",
      "======================================================================\n",
      "APPROACH 2: WINDOW FUNCTION (Preserves Rows)\n",
      "======================================================================\n",
      "\n",
      "📊 Input: 9,994 rows\n",
      "📈 Output: 9,994 rows (all kept!)\n",
      "✅ We KEPT everything AND added the count!\n",
      "\n",
      "(Showing first 10 rows)\n",
      "\n"
     ]
    },
    {
     "data": {
      "application/vnd.microsoft.datawrangler.viewer.v0+json": {
       "columns": [
        {
         "name": "index",
         "rawType": "int64",
         "type": "integer"
        },
        {
         "name": "Order ID",
         "rawType": "object",
         "type": "string"
        },
        {
         "name": "Product Name",
         "rawType": "object",
         "type": "string"
        },
        {
         "name": "Category",
         "rawType": "object",
         "type": "string"
        },
        {
         "name": "Sales",
         "rawType": "float64",
         "type": "float"
        },
        {
         "name": "category_order_count",
         "rawType": "int64",
         "type": "integer"
        }
       ],
       "ref": "0821a7a1-333d-4f71-9a22-c5aef469b706",
       "rows": [
        [
         "0",
         "CA-2016-107104",
         "GE 48\" Fluorescent Tube, Cool White Energy Saver, 34 Watts, 30/Box",
         "Furniture",
         "595.38",
         "2121"
        ],
        [
         "1",
         "CA-2014-156160",
         "Computer Room Manger, 14\"",
         "Furniture",
         "97.44",
         "2121"
        ],
        [
         "2",
         "CA-2014-156160",
         "Office Star - Mid Back Dual function Ergonomic High Back Chair with 2-Way Adjustable Arms",
         "Furniture",
         "579.528",
         "2121"
        ],
        [
         "3",
         "CA-2017-157448",
         "Eldon Radial Chair Mat for Low to Medium Pile Carpets",
         "Furniture",
         "119.94",
         "2121"
        ],
        [
         "4",
         "CA-2017-157448",
         "Eldon Image Series Black Desk Accessories",
         "Furniture",
         "12.42",
         "2121"
        ],
        [
         "5",
         "CA-2016-137393",
         "Executive Impressions 8-1/2\" Career Panel/Partition Cubicle Clock",
         "Furniture",
         "41.6",
         "2121"
        ],
        [
         "6",
         "CA-2017-122770",
         "Eldon Executive Woodline II Desk Accessories, Mahogany",
         "Furniture",
         "201.04",
         "2121"
        ],
        [
         "7",
         "CA-2015-130183",
         "Atlantic Metals Mobile 5-Shelf Bookcases, Custom Colors",
         "Furniture",
         "613.9992",
         "2121"
        ],
        [
         "8",
         "CA-2016-122511",
         "DAX Charcoal/Nickel-Tone Document Frame, 5 x 7",
         "Furniture",
         "30.336",
         "2121"
        ],
        [
         "9",
         "CA-2016-161746",
         "Office Star Flex Back Scooter Chair with Aluminum Finish Frame",
         "Furniture",
         "242.136",
         "2121"
        ]
       ],
       "shape": {
        "columns": 5,
        "rows": 10
       }
      },
      "text/html": [
       "<div>\n",
       "<style scoped>\n",
       "    .dataframe tbody tr th:only-of-type {\n",
       "        vertical-align: middle;\n",
       "    }\n",
       "\n",
       "    .dataframe tbody tr th {\n",
       "        vertical-align: top;\n",
       "    }\n",
       "\n",
       "    .dataframe thead th {\n",
       "        text-align: right;\n",
       "    }\n",
       "</style>\n",
       "<table border=\"1\" class=\"dataframe\">\n",
       "  <thead>\n",
       "    <tr style=\"text-align: right;\">\n",
       "      <th></th>\n",
       "      <th>Order ID</th>\n",
       "      <th>Product Name</th>\n",
       "      <th>Category</th>\n",
       "      <th>Sales</th>\n",
       "      <th>category_order_count</th>\n",
       "    </tr>\n",
       "  </thead>\n",
       "  <tbody>\n",
       "    <tr>\n",
       "      <th>0</th>\n",
       "      <td>CA-2016-107104</td>\n",
       "      <td>GE 48\" Fluorescent Tube, Cool White Energy Sav...</td>\n",
       "      <td>Furniture</td>\n",
       "      <td>595.3800</td>\n",
       "      <td>2121</td>\n",
       "    </tr>\n",
       "    <tr>\n",
       "      <th>1</th>\n",
       "      <td>CA-2014-156160</td>\n",
       "      <td>Computer Room Manger, 14\"</td>\n",
       "      <td>Furniture</td>\n",
       "      <td>97.4400</td>\n",
       "      <td>2121</td>\n",
       "    </tr>\n",
       "    <tr>\n",
       "      <th>2</th>\n",
       "      <td>CA-2014-156160</td>\n",
       "      <td>Office Star - Mid Back Dual function Ergonomic...</td>\n",
       "      <td>Furniture</td>\n",
       "      <td>579.5280</td>\n",
       "      <td>2121</td>\n",
       "    </tr>\n",
       "    <tr>\n",
       "      <th>3</th>\n",
       "      <td>CA-2017-157448</td>\n",
       "      <td>Eldon Radial Chair Mat for Low to Medium Pile ...</td>\n",
       "      <td>Furniture</td>\n",
       "      <td>119.9400</td>\n",
       "      <td>2121</td>\n",
       "    </tr>\n",
       "    <tr>\n",
       "      <th>4</th>\n",
       "      <td>CA-2017-157448</td>\n",
       "      <td>Eldon Image Series Black Desk Accessories</td>\n",
       "      <td>Furniture</td>\n",
       "      <td>12.4200</td>\n",
       "      <td>2121</td>\n",
       "    </tr>\n",
       "    <tr>\n",
       "      <th>5</th>\n",
       "      <td>CA-2016-137393</td>\n",
       "      <td>Executive Impressions 8-1/2\" Career Panel/Part...</td>\n",
       "      <td>Furniture</td>\n",
       "      <td>41.6000</td>\n",
       "      <td>2121</td>\n",
       "    </tr>\n",
       "    <tr>\n",
       "      <th>6</th>\n",
       "      <td>CA-2017-122770</td>\n",
       "      <td>Eldon Executive Woodline II Desk Accessories, ...</td>\n",
       "      <td>Furniture</td>\n",
       "      <td>201.0400</td>\n",
       "      <td>2121</td>\n",
       "    </tr>\n",
       "    <tr>\n",
       "      <th>7</th>\n",
       "      <td>CA-2015-130183</td>\n",
       "      <td>Atlantic Metals Mobile 5-Shelf Bookcases, Cust...</td>\n",
       "      <td>Furniture</td>\n",
       "      <td>613.9992</td>\n",
       "      <td>2121</td>\n",
       "    </tr>\n",
       "    <tr>\n",
       "      <th>8</th>\n",
       "      <td>CA-2016-122511</td>\n",
       "      <td>DAX Charcoal/Nickel-Tone Document Frame, 5 x 7</td>\n",
       "      <td>Furniture</td>\n",
       "      <td>30.3360</td>\n",
       "      <td>2121</td>\n",
       "    </tr>\n",
       "    <tr>\n",
       "      <th>9</th>\n",
       "      <td>CA-2016-161746</td>\n",
       "      <td>Office Star Flex Back Scooter Chair with Alumi...</td>\n",
       "      <td>Furniture</td>\n",
       "      <td>242.1360</td>\n",
       "      <td>2121</td>\n",
       "    </tr>\n",
       "  </tbody>\n",
       "</table>\n",
       "</div>"
      ],
      "text/plain": [
       "         Order ID                                       Product Name  \\\n",
       "0  CA-2016-107104  GE 48\" Fluorescent Tube, Cool White Energy Sav...   \n",
       "1  CA-2014-156160                          Computer Room Manger, 14\"   \n",
       "2  CA-2014-156160  Office Star - Mid Back Dual function Ergonomic...   \n",
       "3  CA-2017-157448  Eldon Radial Chair Mat for Low to Medium Pile ...   \n",
       "4  CA-2017-157448          Eldon Image Series Black Desk Accessories   \n",
       "5  CA-2016-137393  Executive Impressions 8-1/2\" Career Panel/Part...   \n",
       "6  CA-2017-122770  Eldon Executive Woodline II Desk Accessories, ...   \n",
       "7  CA-2015-130183  Atlantic Metals Mobile 5-Shelf Bookcases, Cust...   \n",
       "8  CA-2016-122511     DAX Charcoal/Nickel-Tone Document Frame, 5 x 7   \n",
       "9  CA-2016-161746  Office Star Flex Back Scooter Chair with Alumi...   \n",
       "\n",
       "    Category     Sales  category_order_count  \n",
       "0  Furniture  595.3800                  2121  \n",
       "1  Furniture   97.4400                  2121  \n",
       "2  Furniture  579.5280                  2121  \n",
       "3  Furniture  119.9400                  2121  \n",
       "4  Furniture   12.4200                  2121  \n",
       "5  Furniture   41.6000                  2121  \n",
       "6  Furniture  201.0400                  2121  \n",
       "7  Furniture  613.9992                  2121  \n",
       "8  Furniture   30.3360                  2121  \n",
       "9  Furniture  242.1360                  2121  "
      ]
     },
     "metadata": {},
     "output_type": "display_data"
    },
    {
     "name": "stdout",
     "output_type": "stream",
     "text": [
      "\n",
      "======================================================================\n",
      "🔑 KEY INSIGHT:\n",
      "======================================================================\n",
      "   GROUP BY:  9,994 rows  →  3 rows      (COLLAPSED)\n",
      "   Window:    9,994 rows  →  9,994 rows  (PRESERVED)\n",
      "======================================================================\n",
      "\n",
      "💡 This is why window functions are powerful:\n",
      "   You get the DETAIL + the AGGREGATE in the same result!\n",
      "======================================================================\n"
     ]
    }
   ],
   "source": [
    "# ==============================================================================\n",
    "# THE CRITICAL DIFFERENCE: Side-by-Side Comparison\n",
    "# ==============================================================================\n",
    "\n",
    "from IPython.display import display\n",
    "\n",
    "print(\"=\"*70)\n",
    "print(\"APPROACH 1: GROUP BY (Collapses Rows)\")\n",
    "print(\"=\"*70)\n",
    "result_groupby = con.execute(\"\"\"\n",
    "    SELECT \n",
    "        Category,\n",
    "        COUNT(*) AS order_count\n",
    "    FROM superstore\n",
    "    GROUP BY Category\n",
    "    ORDER BY order_count DESC\n",
    "\"\"\").df()\n",
    "\n",
    "print(f\"\\n📊 Input: 9,994 rows\")\n",
    "print(f\"📉 Output: {len(result_groupby)} rows (one per category)\")\n",
    "print(f\"❌ We LOST all the details! Which products? Which customers? When?\\n\")\n",
    "display(result_groupby)\n",
    "\n",
    "print(\"\\n\" + \"=\"*70)\n",
    "print(\"APPROACH 2: WINDOW FUNCTION (Preserves Rows)\")\n",
    "print(\"=\"*70)\n",
    "result_window = con.execute(\"\"\"\n",
    "    SELECT \n",
    "        \"Order ID\",\n",
    "        \"Product Name\",\n",
    "        Category,\n",
    "        Sales,\n",
    "        COUNT(*) OVER (PARTITION BY Category) AS category_order_count\n",
    "    FROM superstore\n",
    "    LIMIT 10\n",
    "\"\"\").df()\n",
    "\n",
    "print(f\"\\n📊 Input: 9,994 rows\")\n",
    "print(f\"📈 Output: 9,994 rows (all kept!)\")\n",
    "print(f\"✅ We KEPT everything AND added the count!\\n\")\n",
    "print(\"(Showing first 10 rows)\\n\")\n",
    "display(result_window)\n",
    "\n",
    "print(\"\\n\" + \"=\"*70)\n",
    "print(\"🔑 KEY INSIGHT:\")\n",
    "print(\"=\"*70)\n",
    "print(\"   GROUP BY:  9,994 rows  →  3 rows      (COLLAPSED)\")\n",
    "print(\"   Window:    9,994 rows  →  9,994 rows  (PRESERVED)\")\n",
    "print(\"=\"*70)\n",
    "print(\"\\n💡 This is why window functions are powerful:\")\n",
    "print(\"   You get the DETAIL + the AGGREGATE in the same result!\")\n",
    "print(\"=\"*70)"
   ]
  },
  {
   "cell_type": "markdown",
   "id": "cell-11",
   "metadata": {},
   "source": [
    "**See the difference?**\n",
    "- All detail rows are still there!\n",
    "- But we've added a new column: `category_order_count`\n",
    "- Every row in \"Furniture\" shows the same count\n",
    "- Every row in \"Technology\" shows its count\n",
    "\n",
    "**The calculation happened \"over a window\" of rows, but we kept all rows!**\n",
    "\n",
    "---"
   ]
  },
  {
   "cell_type": "markdown",
   "id": "cell-12",
   "metadata": {},
   "source": [
    "## 4. When to Use Each\n",
    "\n",
    "### Decision Guide\n",
    "\n",
    "**Use GROUP BY when:**\n",
    "- ✅ You want summary only (one row per group)\n",
    "- ✅ You don't need row-level details\n",
    "- ✅ Example: \"What's our revenue per region?\" (just the totals)\n",
    "\n",
    "**Use Window Functions when:**\n",
    "- ✅ You want detail + calculation\n",
    "- ✅ You need ranking (1st, 2nd, 3rd...)\n",
    "- ✅ You need row-to-row comparisons (\"this month vs last month\")\n",
    "- ✅ You need to filter AFTER calculating (\"show me the top 3 per category\")\n",
    "- ✅ Example: \"Show me all orders, with each order's rank within its category\"\n",
    "\n",
    "**Key insight:** If GROUP BY loses information you need, use window functions!\n",
    "\n",
    "---"
   ]
  },
  {
   "cell_type": "markdown",
   "id": "cell-13",
   "metadata": {},
   "source": [
    "## 5. Basic Window Function Syntax\n",
    "\n",
    "### Simple Example: No PARTITION or ORDER"
   ]
  },
  {
   "cell_type": "code",
   "execution_count": 13,
   "id": "cell-14",
   "metadata": {
    "execution": {
     "iopub.execute_input": "2025-10-13T14:25:31.509063Z",
     "iopub.status.busy": "2025-10-13T14:25:31.508991Z",
     "iopub.status.idle": "2025-10-13T14:25:31.513701Z",
     "shell.execute_reply": "2025-10-13T14:25:31.513504Z"
    }
   },
   "outputs": [
    {
     "data": {
      "application/vnd.microsoft.datawrangler.viewer.v0+json": {
       "columns": [
        {
         "name": "index",
         "rawType": "int64",
         "type": "integer"
        },
        {
         "name": "Order ID",
         "rawType": "object",
         "type": "string"
        },
        {
         "name": "Product Name",
         "rawType": "object",
         "type": "string"
        },
        {
         "name": "total_orders_in_dataset",
         "rawType": "int64",
         "type": "integer"
        }
       ],
       "ref": "3d0ccc9e-038d-40eb-b91f-62d5adc347c7",
       "rows": [
        [
         "0",
         "CA-2016-152156",
         "Bush Somerset Collection Bookcase",
         "9994"
        ],
        [
         "1",
         "CA-2016-152156",
         "Hon Deluxe Fabric Upholstered Stacking Chairs, Rounded Back",
         "9994"
        ],
        [
         "2",
         "CA-2016-138688",
         "Self-Adhesive Address Labels for Typewriters by Universal",
         "9994"
        ],
        [
         "3",
         "US-2015-108966",
         "Bretford CR4500 Series Slim Rectangular Table",
         "9994"
        ],
        [
         "4",
         "US-2015-108966",
         "Eldon Fold 'N Roll Cart System",
         "9994"
        ]
       ],
       "shape": {
        "columns": 3,
        "rows": 5
       }
      },
      "text/html": [
       "<div>\n",
       "<style scoped>\n",
       "    .dataframe tbody tr th:only-of-type {\n",
       "        vertical-align: middle;\n",
       "    }\n",
       "\n",
       "    .dataframe tbody tr th {\n",
       "        vertical-align: top;\n",
       "    }\n",
       "\n",
       "    .dataframe thead th {\n",
       "        text-align: right;\n",
       "    }\n",
       "</style>\n",
       "<table border=\"1\" class=\"dataframe\">\n",
       "  <thead>\n",
       "    <tr style=\"text-align: right;\">\n",
       "      <th></th>\n",
       "      <th>Order ID</th>\n",
       "      <th>Product Name</th>\n",
       "      <th>total_orders_in_dataset</th>\n",
       "    </tr>\n",
       "  </thead>\n",
       "  <tbody>\n",
       "    <tr>\n",
       "      <th>0</th>\n",
       "      <td>CA-2016-152156</td>\n",
       "      <td>Bush Somerset Collection Bookcase</td>\n",
       "      <td>9994</td>\n",
       "    </tr>\n",
       "    <tr>\n",
       "      <th>1</th>\n",
       "      <td>CA-2016-152156</td>\n",
       "      <td>Hon Deluxe Fabric Upholstered Stacking Chairs,...</td>\n",
       "      <td>9994</td>\n",
       "    </tr>\n",
       "    <tr>\n",
       "      <th>2</th>\n",
       "      <td>CA-2016-138688</td>\n",
       "      <td>Self-Adhesive Address Labels for Typewriters b...</td>\n",
       "      <td>9994</td>\n",
       "    </tr>\n",
       "    <tr>\n",
       "      <th>3</th>\n",
       "      <td>US-2015-108966</td>\n",
       "      <td>Bretford CR4500 Series Slim Rectangular Table</td>\n",
       "      <td>9994</td>\n",
       "    </tr>\n",
       "    <tr>\n",
       "      <th>4</th>\n",
       "      <td>US-2015-108966</td>\n",
       "      <td>Eldon Fold 'N Roll Cart System</td>\n",
       "      <td>9994</td>\n",
       "    </tr>\n",
       "  </tbody>\n",
       "</table>\n",
       "</div>"
      ],
      "text/plain": [
       "         Order ID                                       Product Name  \\\n",
       "0  CA-2016-152156                  Bush Somerset Collection Bookcase   \n",
       "1  CA-2016-152156  Hon Deluxe Fabric Upholstered Stacking Chairs,...   \n",
       "2  CA-2016-138688  Self-Adhesive Address Labels for Typewriters b...   \n",
       "3  US-2015-108966      Bretford CR4500 Series Slim Rectangular Table   \n",
       "4  US-2015-108966                     Eldon Fold 'N Roll Cart System   \n",
       "\n",
       "   total_orders_in_dataset  \n",
       "0                     9994  \n",
       "1                     9994  \n",
       "2                     9994  \n",
       "3                     9994  \n",
       "4                     9994  "
      ]
     },
     "execution_count": 13,
     "metadata": {},
     "output_type": "execute_result"
    }
   ],
   "source": [
    "# Add total order count to every row\n",
    "con.execute(\"\"\"\n",
    "    SELECT \n",
    "        \"Order ID\",\n",
    "        \"Product Name\",\n",
    "        COUNT(*) OVER () AS total_orders_in_dataset\n",
    "    FROM superstore\n",
    "    LIMIT 5\n",
    "\"\"\").df()"
   ]
  },
  {
   "cell_type": "markdown",
   "id": "cell-15",
   "metadata": {},
   "source": [
    "**What happened:** `COUNT(*) OVER ()` with empty `()` means \"count ALL rows\" and add that number to every row."
   ]
  },
  {
   "cell_type": "markdown",
   "id": "cell-16",
   "metadata": {},
   "source": [
    "### With PARTITION BY"
   ]
  },
  {
   "cell_type": "code",
   "execution_count": 14,
   "id": "cell-17",
   "metadata": {
    "execution": {
     "iopub.execute_input": "2025-10-13T14:25:31.514674Z",
     "iopub.status.busy": "2025-10-13T14:25:31.514616Z",
     "iopub.status.idle": "2025-10-13T14:25:31.520652Z",
     "shell.execute_reply": "2025-10-13T14:25:31.520442Z"
    }
   },
   "outputs": [
    {
     "data": {
      "application/vnd.microsoft.datawrangler.viewer.v0+json": {
       "columns": [
        {
         "name": "index",
         "rawType": "int64",
         "type": "integer"
        },
        {
         "name": "Order ID",
         "rawType": "object",
         "type": "string"
        },
        {
         "name": "Product Name",
         "rawType": "object",
         "type": "string"
        },
        {
         "name": "Category",
         "rawType": "object",
         "type": "string"
        },
        {
         "name": "category_count",
         "rawType": "int64",
         "type": "integer"
        }
       ],
       "ref": "b9e6c5da-0a96-4085-800e-c06b6878e7a0",
       "rows": [
        [
         "0",
         "CA-2014-115812",
         "Mitel 5320 IP Phone VoIP phone",
         "Technology",
         "1847"
        ],
        [
         "1",
         "CA-2014-115812",
         "Konftel 250 Conference phone - Charcoal black",
         "Technology",
         "1847"
        ],
        [
         "2",
         "CA-2014-143336",
         "Cisco SPA 501G IP Phone",
         "Technology",
         "1847"
        ],
        [
         "3",
         "CA-2016-121755",
         "Imation 8GB Mini TravelDrive USB 2.0 Flash Drive",
         "Technology",
         "1847"
        ],
        [
         "4",
         "CA-2016-117590",
         "GE 30524EE4",
         "Technology",
         "1847"
        ],
        [
         "5",
         "CA-2015-117415",
         "Plantronics HL10 Handset Lifter",
         "Technology",
         "1847"
        ],
        [
         "6",
         "CA-2017-120999",
         "Panasonic Kx-TS550",
         "Technology",
         "1847"
        ],
        [
         "7",
         "CA-2016-118255",
         "Verbatim 25 GB 6x Blu-ray Single Layer Recordable Disc, 25/Pack",
         "Technology",
         "1847"
        ],
        [
         "8",
         "CA-2016-169194",
         "Imation 8gb Micro Traveldrive Usb 2.0 Flash Drive",
         "Technology",
         "1847"
        ],
        [
         "9",
         "CA-2016-169194",
         "LF Elite 3D Dazzle Designer Hard Case Cover, Lf Stylus Pen and Wiper For Apple Iphone 5c Mini Lite",
         "Technology",
         "1847"
        ]
       ],
       "shape": {
        "columns": 4,
        "rows": 10
       }
      },
      "text/html": [
       "<div>\n",
       "<style scoped>\n",
       "    .dataframe tbody tr th:only-of-type {\n",
       "        vertical-align: middle;\n",
       "    }\n",
       "\n",
       "    .dataframe tbody tr th {\n",
       "        vertical-align: top;\n",
       "    }\n",
       "\n",
       "    .dataframe thead th {\n",
       "        text-align: right;\n",
       "    }\n",
       "</style>\n",
       "<table border=\"1\" class=\"dataframe\">\n",
       "  <thead>\n",
       "    <tr style=\"text-align: right;\">\n",
       "      <th></th>\n",
       "      <th>Order ID</th>\n",
       "      <th>Product Name</th>\n",
       "      <th>Category</th>\n",
       "      <th>category_count</th>\n",
       "    </tr>\n",
       "  </thead>\n",
       "  <tbody>\n",
       "    <tr>\n",
       "      <th>0</th>\n",
       "      <td>CA-2014-115812</td>\n",
       "      <td>Mitel 5320 IP Phone VoIP phone</td>\n",
       "      <td>Technology</td>\n",
       "      <td>1847</td>\n",
       "    </tr>\n",
       "    <tr>\n",
       "      <th>1</th>\n",
       "      <td>CA-2014-115812</td>\n",
       "      <td>Konftel 250 Conference phone - Charcoal black</td>\n",
       "      <td>Technology</td>\n",
       "      <td>1847</td>\n",
       "    </tr>\n",
       "    <tr>\n",
       "      <th>2</th>\n",
       "      <td>CA-2014-143336</td>\n",
       "      <td>Cisco SPA 501G IP Phone</td>\n",
       "      <td>Technology</td>\n",
       "      <td>1847</td>\n",
       "    </tr>\n",
       "    <tr>\n",
       "      <th>3</th>\n",
       "      <td>CA-2016-121755</td>\n",
       "      <td>Imation 8GB Mini TravelDrive USB 2.0 Flash Drive</td>\n",
       "      <td>Technology</td>\n",
       "      <td>1847</td>\n",
       "    </tr>\n",
       "    <tr>\n",
       "      <th>4</th>\n",
       "      <td>CA-2016-117590</td>\n",
       "      <td>GE 30524EE4</td>\n",
       "      <td>Technology</td>\n",
       "      <td>1847</td>\n",
       "    </tr>\n",
       "    <tr>\n",
       "      <th>5</th>\n",
       "      <td>CA-2015-117415</td>\n",
       "      <td>Plantronics HL10 Handset Lifter</td>\n",
       "      <td>Technology</td>\n",
       "      <td>1847</td>\n",
       "    </tr>\n",
       "    <tr>\n",
       "      <th>6</th>\n",
       "      <td>CA-2017-120999</td>\n",
       "      <td>Panasonic Kx-TS550</td>\n",
       "      <td>Technology</td>\n",
       "      <td>1847</td>\n",
       "    </tr>\n",
       "    <tr>\n",
       "      <th>7</th>\n",
       "      <td>CA-2016-118255</td>\n",
       "      <td>Verbatim 25 GB 6x Blu-ray Single Layer Recorda...</td>\n",
       "      <td>Technology</td>\n",
       "      <td>1847</td>\n",
       "    </tr>\n",
       "    <tr>\n",
       "      <th>8</th>\n",
       "      <td>CA-2016-169194</td>\n",
       "      <td>Imation 8gb Micro Traveldrive Usb 2.0 Flash Drive</td>\n",
       "      <td>Technology</td>\n",
       "      <td>1847</td>\n",
       "    </tr>\n",
       "    <tr>\n",
       "      <th>9</th>\n",
       "      <td>CA-2016-169194</td>\n",
       "      <td>LF Elite 3D Dazzle Designer Hard Case Cover, L...</td>\n",
       "      <td>Technology</td>\n",
       "      <td>1847</td>\n",
       "    </tr>\n",
       "  </tbody>\n",
       "</table>\n",
       "</div>"
      ],
      "text/plain": [
       "         Order ID                                       Product Name  \\\n",
       "0  CA-2014-115812                     Mitel 5320 IP Phone VoIP phone   \n",
       "1  CA-2014-115812      Konftel 250 Conference phone - Charcoal black   \n",
       "2  CA-2014-143336                            Cisco SPA 501G IP Phone   \n",
       "3  CA-2016-121755   Imation 8GB Mini TravelDrive USB 2.0 Flash Drive   \n",
       "4  CA-2016-117590                                        GE 30524EE4   \n",
       "5  CA-2015-117415                    Plantronics HL10 Handset Lifter   \n",
       "6  CA-2017-120999                                 Panasonic Kx-TS550   \n",
       "7  CA-2016-118255  Verbatim 25 GB 6x Blu-ray Single Layer Recorda...   \n",
       "8  CA-2016-169194  Imation 8gb Micro Traveldrive Usb 2.0 Flash Drive   \n",
       "9  CA-2016-169194  LF Elite 3D Dazzle Designer Hard Case Cover, L...   \n",
       "\n",
       "     Category  category_count  \n",
       "0  Technology            1847  \n",
       "1  Technology            1847  \n",
       "2  Technology            1847  \n",
       "3  Technology            1847  \n",
       "4  Technology            1847  \n",
       "5  Technology            1847  \n",
       "6  Technology            1847  \n",
       "7  Technology            1847  \n",
       "8  Technology            1847  \n",
       "9  Technology            1847  "
      ]
     },
     "execution_count": 14,
     "metadata": {},
     "output_type": "execute_result"
    }
   ],
   "source": [
    "# Add count PER CATEGORY to every row\n",
    "con.execute(\"\"\"\n",
    "    SELECT \n",
    "        \"Order ID\",\n",
    "        \"Product Name\",\n",
    "        Category,\n",
    "        COUNT(*) OVER (PARTITION BY Category) AS category_count\n",
    "    FROM superstore\n",
    "    LIMIT 10\n",
    "\"\"\").df()"
   ]
  },
  {
   "cell_type": "markdown",
   "id": "cell-18",
   "metadata": {},
   "source": [
    "**PARTITION BY is like GROUP BY for window functions!**\n",
    "- \"PARTITION BY Category\" = \"For each category...\"\n",
    "- COUNT happens within each partition\n",
    "- But all rows are kept!\n",
    "\n",
    "### Window Function Syntax Template\n",
    "\n",
    "```sql\n",
    "<function>() OVER (\n",
    "    PARTITION BY group_column    -- Optional: \"for each...\"\n",
    "    ORDER BY sort_column         -- When order matters (required for some functions)\n",
    ")\n",
    "```\n",
    "\n",
    "---"
   ]
  },
  {
   "cell_type": "markdown",
   "id": "cell-19",
   "metadata": {},
   "source": [
    "## 6. The Most Common Use Case: ROW_NUMBER()\n",
    "\n",
    "### The Business Problem\n",
    "\n",
    "> **\"I want the most recent order for each customer.\"**\n",
    "\n",
    "This is a VERY common pattern in data analysis:\n",
    "- Latest transaction per customer\n",
    "- Most recent login per user\n",
    "- Current status per order\n",
    "\n",
    "### Why GROUP BY Fails"
   ]
  },
  {
   "cell_type": "code",
   "execution_count": 18,
   "id": "cell-20",
   "metadata": {
    "execution": {
     "iopub.execute_input": "2025-10-13T14:25:31.521719Z",
     "iopub.status.busy": "2025-10-13T14:25:31.521653Z",
     "iopub.status.idle": "2025-10-13T14:25:31.526685Z",
     "shell.execute_reply": "2025-10-13T14:25:31.526521Z"
    }
   },
   "outputs": [
    {
     "data": {
      "application/vnd.microsoft.datawrangler.viewer.v0+json": {
       "columns": [
        {
         "name": "index",
         "rawType": "int64",
         "type": "integer"
        },
        {
         "name": "Customer ID",
         "rawType": "object",
         "type": "string"
        },
        {
         "name": "Customer Name",
         "rawType": "object",
         "type": "string"
        },
        {
         "name": "latest_order_date",
         "rawType": "datetime64[ns]",
         "type": "datetime"
        }
       ],
       "ref": "12a81180-1035-4c32-8b10-be9fb3decd73",
       "rows": [
        [
         "0",
         "GH-14485",
         "Gene Hale",
         "2016-12-08 00:00:00"
        ],
        [
         "1",
         "LC-16930",
         "Linda Cazamias",
         "2017-11-19 00:00:00"
        ],
        [
         "2",
         "RA-19885",
         "Ruben Ausman",
         "2017-11-17 00:00:00"
        ],
        [
         "3",
         "JM-15265",
         "Janet Molinari",
         "2017-11-23 00:00:00"
        ],
        [
         "4",
         "KM-16720",
         "Kunst Miller",
         "2017-12-02 00:00:00"
        ]
       ],
       "shape": {
        "columns": 3,
        "rows": 5
       }
      },
      "text/html": [
       "<div>\n",
       "<style scoped>\n",
       "    .dataframe tbody tr th:only-of-type {\n",
       "        vertical-align: middle;\n",
       "    }\n",
       "\n",
       "    .dataframe tbody tr th {\n",
       "        vertical-align: top;\n",
       "    }\n",
       "\n",
       "    .dataframe thead th {\n",
       "        text-align: right;\n",
       "    }\n",
       "</style>\n",
       "<table border=\"1\" class=\"dataframe\">\n",
       "  <thead>\n",
       "    <tr style=\"text-align: right;\">\n",
       "      <th></th>\n",
       "      <th>Customer ID</th>\n",
       "      <th>Customer Name</th>\n",
       "      <th>latest_order_date</th>\n",
       "    </tr>\n",
       "  </thead>\n",
       "  <tbody>\n",
       "    <tr>\n",
       "      <th>0</th>\n",
       "      <td>GH-14485</td>\n",
       "      <td>Gene Hale</td>\n",
       "      <td>2016-12-08</td>\n",
       "    </tr>\n",
       "    <tr>\n",
       "      <th>1</th>\n",
       "      <td>LC-16930</td>\n",
       "      <td>Linda Cazamias</td>\n",
       "      <td>2017-11-19</td>\n",
       "    </tr>\n",
       "    <tr>\n",
       "      <th>2</th>\n",
       "      <td>RA-19885</td>\n",
       "      <td>Ruben Ausman</td>\n",
       "      <td>2017-11-17</td>\n",
       "    </tr>\n",
       "    <tr>\n",
       "      <th>3</th>\n",
       "      <td>JM-15265</td>\n",
       "      <td>Janet Molinari</td>\n",
       "      <td>2017-11-23</td>\n",
       "    </tr>\n",
       "    <tr>\n",
       "      <th>4</th>\n",
       "      <td>KM-16720</td>\n",
       "      <td>Kunst Miller</td>\n",
       "      <td>2017-12-02</td>\n",
       "    </tr>\n",
       "  </tbody>\n",
       "</table>\n",
       "</div>"
      ],
      "text/plain": [
       "  Customer ID   Customer Name latest_order_date\n",
       "0    GH-14485       Gene Hale        2016-12-08\n",
       "1    LC-16930  Linda Cazamias        2017-11-19\n",
       "2    RA-19885    Ruben Ausman        2017-11-17\n",
       "3    JM-15265  Janet Molinari        2017-11-23\n",
       "4    KM-16720    Kunst Miller        2017-12-02"
      ]
     },
     "execution_count": 18,
     "metadata": {},
     "output_type": "execute_result"
    }
   ],
   "source": [
    "# Try with GROUP BY: Get latest date per customer\n",
    "con.execute(\"\"\"\n",
    "    SELECT \n",
    "        \"Customer ID\",\n",
    "        \"Customer Name\",\n",
    "        MAX(\"Order Date\") AS latest_order_date\n",
    "    FROM superstore\n",
    "    GROUP BY \"Customer ID\", \"Customer Name\"\n",
    "    LIMIT 5\n",
    "\"\"\").df()"
   ]
  },
  {
   "cell_type": "markdown",
   "id": "cell-21",
   "metadata": {},
   "source": [
    "**Problem:** We got the date, but we **lost the order details!**\n",
    "- What was ordered?\n",
    "- What category?\n",
    "- Order ID?\n",
    "- Sales amount?\n",
    "\n",
    "GROUP BY collapsed everything. We need a different approach."
   ]
  },
  {
   "cell_type": "markdown",
   "id": "cell-22",
   "metadata": {},
   "source": [
    "### Solution: ROW_NUMBER()\n",
    "\n",
    "> **ROW_NUMBER() assigns a sequential number to each row within a group**\n",
    "\n",
    "Strategy:\n",
    "1. For each customer, rank orders by date (newest = 1)\n",
    "2. Keep all the row details\n",
    "3. Filter to rank = 1"
   ]
  },
  {
   "cell_type": "markdown",
   "id": "cell-23",
   "metadata": {},
   "source": [
    "### Step 1: Add Row Numbers"
   ]
  },
  {
   "cell_type": "code",
   "execution_count": 22,
   "id": "cell-24",
   "metadata": {
    "execution": {
     "iopub.execute_input": "2025-10-13T14:25:31.527623Z",
     "iopub.status.busy": "2025-10-13T14:25:31.527566Z",
     "iopub.status.idle": "2025-10-13T14:25:31.535648Z",
     "shell.execute_reply": "2025-10-13T14:25:31.535407Z"
    }
   },
   "outputs": [
    {
     "data": {
      "application/vnd.microsoft.datawrangler.viewer.v0+json": {
       "columns": [
        {
         "name": "index",
         "rawType": "int64",
         "type": "integer"
        },
        {
         "name": "Customer ID",
         "rawType": "object",
         "type": "string"
        },
        {
         "name": "Customer Name",
         "rawType": "object",
         "type": "string"
        },
        {
         "name": "Order ID",
         "rawType": "object",
         "type": "string"
        },
        {
         "name": "Order Date",
         "rawType": "datetime64[ns]",
         "type": "datetime"
        },
        {
         "name": "Category",
         "rawType": "object",
         "type": "string"
        },
        {
         "name": "Sales",
         "rawType": "float64",
         "type": "float"
        },
        {
         "name": "row_num",
         "rawType": "int64",
         "type": "integer"
        }
       ],
       "ref": "a2c3402f-ca79-4a0a-b007-010f831523c0",
       "rows": [
        [
         "0",
         "AB-10600",
         "Ann Blume",
         "US-2017-155425",
         "2017-11-10 00:00:00",
         "Technology",
         "201.584",
         "1"
        ],
        [
         "1",
         "AB-10600",
         "Ann Blume",
         "US-2017-155425",
         "2017-11-10 00:00:00",
         "Technology",
         "239.952",
         "2"
        ],
        [
         "2",
         "AB-10600",
         "Ann Blume",
         "US-2017-155425",
         "2017-11-10 00:00:00",
         "Technology",
         "95.994",
         "3"
        ],
        [
         "3",
         "AB-10600",
         "Ann Blume",
         "US-2017-155425",
         "2017-11-10 00:00:00",
         "Office Supplies",
         "38.388",
         "4"
        ],
        [
         "4",
         "AB-10600",
         "Ann Blume",
         "US-2017-155425",
         "2017-11-10 00:00:00",
         "Furniture",
         "899.136",
         "5"
        ],
        [
         "5",
         "AB-10600",
         "Ann Blume",
         "CA-2015-158323",
         "2015-11-30 00:00:00",
         "Furniture",
         "17.088",
         "6"
        ],
        [
         "6",
         "AB-10600",
         "Ann Blume",
         "CA-2015-111234",
         "2015-02-18 00:00:00",
         "Office Supplies",
         "9.24",
         "7"
        ],
        [
         "7",
         "AB-10600",
         "Ann Blume",
         "CA-2014-115336",
         "2014-11-18 00:00:00",
         "Office Supplies",
         "14.48",
         "8"
        ],
        [
         "8",
         "AH-10030",
         "Aaron Hawkins",
         "CA-2017-164000",
         "2017-12-18 00:00:00",
         "Office Supplies",
         "18.704",
         "1"
        ],
        [
         "9",
         "AH-10030",
         "Aaron Hawkins",
         "CA-2016-162747",
         "2016-03-20 00:00:00",
         "Furniture",
         "86.45",
         "2"
        ],
        [
         "10",
         "AH-10030",
         "Aaron Hawkins",
         "CA-2015-130113",
         "2015-12-27 00:00:00",
         "Technology",
         "668.16",
         "3"
        ],
        [
         "11",
         "AH-10030",
         "Aaron Hawkins",
         "CA-2015-130113",
         "2015-12-27 00:00:00",
         "Office Supplies",
         "323.1",
         "4"
        ],
        [
         "12",
         "AH-10030",
         "Aaron Hawkins",
         "CA-2014-157644",
         "2014-12-31 00:00:00",
         "Office Supplies",
         "18.9",
         "5"
        ],
        [
         "13",
         "AH-10030",
         "Aaron Hawkins",
         "CA-2014-157644",
         "2014-12-31 00:00:00",
         "Technology",
         "34.77",
         "6"
        ],
        [
         "14",
         "AH-10030",
         "Aaron Hawkins",
         "US-2014-158400",
         "2014-10-25 00:00:00",
         "Office Supplies",
         "49.408",
         "7"
        ],
        [
         "15",
         "AH-10030",
         "Aaron Hawkins",
         "CA-2014-113768",
         "2014-05-13 00:00:00",
         "Office Supplies",
         "8.0",
         "8"
        ],
        [
         "16",
         "AH-10030",
         "Aaron Hawkins",
         "CA-2014-113768",
         "2014-05-13 00:00:00",
         "Furniture",
         "279.456",
         "9"
        ],
        [
         "17",
         "AH-10030",
         "Aaron Hawkins",
         "CA-2014-122070",
         "2014-04-22 00:00:00",
         "Office Supplies",
         "9.912",
         "10"
        ],
        [
         "18",
         "AH-10030",
         "Aaron Hawkins",
         "CA-2014-122070",
         "2014-04-22 00:00:00",
         "Office Supplies",
         "247.84",
         "11"
        ],
        [
         "19",
         "AH-10120",
         "Adrian Hane",
         "CA-2017-131632",
         "2017-10-31 00:00:00",
         "Office Supplies",
         "5.248",
         "1"
        ]
       ],
       "shape": {
        "columns": 7,
        "rows": 20
       }
      },
      "text/html": [
       "<div>\n",
       "<style scoped>\n",
       "    .dataframe tbody tr th:only-of-type {\n",
       "        vertical-align: middle;\n",
       "    }\n",
       "\n",
       "    .dataframe tbody tr th {\n",
       "        vertical-align: top;\n",
       "    }\n",
       "\n",
       "    .dataframe thead th {\n",
       "        text-align: right;\n",
       "    }\n",
       "</style>\n",
       "<table border=\"1\" class=\"dataframe\">\n",
       "  <thead>\n",
       "    <tr style=\"text-align: right;\">\n",
       "      <th></th>\n",
       "      <th>Customer ID</th>\n",
       "      <th>Customer Name</th>\n",
       "      <th>Order ID</th>\n",
       "      <th>Order Date</th>\n",
       "      <th>Category</th>\n",
       "      <th>Sales</th>\n",
       "      <th>row_num</th>\n",
       "    </tr>\n",
       "  </thead>\n",
       "  <tbody>\n",
       "    <tr>\n",
       "      <th>0</th>\n",
       "      <td>AB-10600</td>\n",
       "      <td>Ann Blume</td>\n",
       "      <td>US-2017-155425</td>\n",
       "      <td>2017-11-10</td>\n",
       "      <td>Technology</td>\n",
       "      <td>201.584</td>\n",
       "      <td>1</td>\n",
       "    </tr>\n",
       "    <tr>\n",
       "      <th>1</th>\n",
       "      <td>AB-10600</td>\n",
       "      <td>Ann Blume</td>\n",
       "      <td>US-2017-155425</td>\n",
       "      <td>2017-11-10</td>\n",
       "      <td>Technology</td>\n",
       "      <td>239.952</td>\n",
       "      <td>2</td>\n",
       "    </tr>\n",
       "    <tr>\n",
       "      <th>2</th>\n",
       "      <td>AB-10600</td>\n",
       "      <td>Ann Blume</td>\n",
       "      <td>US-2017-155425</td>\n",
       "      <td>2017-11-10</td>\n",
       "      <td>Technology</td>\n",
       "      <td>95.994</td>\n",
       "      <td>3</td>\n",
       "    </tr>\n",
       "    <tr>\n",
       "      <th>3</th>\n",
       "      <td>AB-10600</td>\n",
       "      <td>Ann Blume</td>\n",
       "      <td>US-2017-155425</td>\n",
       "      <td>2017-11-10</td>\n",
       "      <td>Office Supplies</td>\n",
       "      <td>38.388</td>\n",
       "      <td>4</td>\n",
       "    </tr>\n",
       "    <tr>\n",
       "      <th>4</th>\n",
       "      <td>AB-10600</td>\n",
       "      <td>Ann Blume</td>\n",
       "      <td>US-2017-155425</td>\n",
       "      <td>2017-11-10</td>\n",
       "      <td>Furniture</td>\n",
       "      <td>899.136</td>\n",
       "      <td>5</td>\n",
       "    </tr>\n",
       "    <tr>\n",
       "      <th>5</th>\n",
       "      <td>AB-10600</td>\n",
       "      <td>Ann Blume</td>\n",
       "      <td>CA-2015-158323</td>\n",
       "      <td>2015-11-30</td>\n",
       "      <td>Furniture</td>\n",
       "      <td>17.088</td>\n",
       "      <td>6</td>\n",
       "    </tr>\n",
       "    <tr>\n",
       "      <th>6</th>\n",
       "      <td>AB-10600</td>\n",
       "      <td>Ann Blume</td>\n",
       "      <td>CA-2015-111234</td>\n",
       "      <td>2015-02-18</td>\n",
       "      <td>Office Supplies</td>\n",
       "      <td>9.240</td>\n",
       "      <td>7</td>\n",
       "    </tr>\n",
       "    <tr>\n",
       "      <th>7</th>\n",
       "      <td>AB-10600</td>\n",
       "      <td>Ann Blume</td>\n",
       "      <td>CA-2014-115336</td>\n",
       "      <td>2014-11-18</td>\n",
       "      <td>Office Supplies</td>\n",
       "      <td>14.480</td>\n",
       "      <td>8</td>\n",
       "    </tr>\n",
       "    <tr>\n",
       "      <th>8</th>\n",
       "      <td>AH-10030</td>\n",
       "      <td>Aaron Hawkins</td>\n",
       "      <td>CA-2017-164000</td>\n",
       "      <td>2017-12-18</td>\n",
       "      <td>Office Supplies</td>\n",
       "      <td>18.704</td>\n",
       "      <td>1</td>\n",
       "    </tr>\n",
       "    <tr>\n",
       "      <th>9</th>\n",
       "      <td>AH-10030</td>\n",
       "      <td>Aaron Hawkins</td>\n",
       "      <td>CA-2016-162747</td>\n",
       "      <td>2016-03-20</td>\n",
       "      <td>Furniture</td>\n",
       "      <td>86.450</td>\n",
       "      <td>2</td>\n",
       "    </tr>\n",
       "    <tr>\n",
       "      <th>10</th>\n",
       "      <td>AH-10030</td>\n",
       "      <td>Aaron Hawkins</td>\n",
       "      <td>CA-2015-130113</td>\n",
       "      <td>2015-12-27</td>\n",
       "      <td>Technology</td>\n",
       "      <td>668.160</td>\n",
       "      <td>3</td>\n",
       "    </tr>\n",
       "    <tr>\n",
       "      <th>11</th>\n",
       "      <td>AH-10030</td>\n",
       "      <td>Aaron Hawkins</td>\n",
       "      <td>CA-2015-130113</td>\n",
       "      <td>2015-12-27</td>\n",
       "      <td>Office Supplies</td>\n",
       "      <td>323.100</td>\n",
       "      <td>4</td>\n",
       "    </tr>\n",
       "    <tr>\n",
       "      <th>12</th>\n",
       "      <td>AH-10030</td>\n",
       "      <td>Aaron Hawkins</td>\n",
       "      <td>CA-2014-157644</td>\n",
       "      <td>2014-12-31</td>\n",
       "      <td>Office Supplies</td>\n",
       "      <td>18.900</td>\n",
       "      <td>5</td>\n",
       "    </tr>\n",
       "    <tr>\n",
       "      <th>13</th>\n",
       "      <td>AH-10030</td>\n",
       "      <td>Aaron Hawkins</td>\n",
       "      <td>CA-2014-157644</td>\n",
       "      <td>2014-12-31</td>\n",
       "      <td>Technology</td>\n",
       "      <td>34.770</td>\n",
       "      <td>6</td>\n",
       "    </tr>\n",
       "    <tr>\n",
       "      <th>14</th>\n",
       "      <td>AH-10030</td>\n",
       "      <td>Aaron Hawkins</td>\n",
       "      <td>US-2014-158400</td>\n",
       "      <td>2014-10-25</td>\n",
       "      <td>Office Supplies</td>\n",
       "      <td>49.408</td>\n",
       "      <td>7</td>\n",
       "    </tr>\n",
       "    <tr>\n",
       "      <th>15</th>\n",
       "      <td>AH-10030</td>\n",
       "      <td>Aaron Hawkins</td>\n",
       "      <td>CA-2014-113768</td>\n",
       "      <td>2014-05-13</td>\n",
       "      <td>Office Supplies</td>\n",
       "      <td>8.000</td>\n",
       "      <td>8</td>\n",
       "    </tr>\n",
       "    <tr>\n",
       "      <th>16</th>\n",
       "      <td>AH-10030</td>\n",
       "      <td>Aaron Hawkins</td>\n",
       "      <td>CA-2014-113768</td>\n",
       "      <td>2014-05-13</td>\n",
       "      <td>Furniture</td>\n",
       "      <td>279.456</td>\n",
       "      <td>9</td>\n",
       "    </tr>\n",
       "    <tr>\n",
       "      <th>17</th>\n",
       "      <td>AH-10030</td>\n",
       "      <td>Aaron Hawkins</td>\n",
       "      <td>CA-2014-122070</td>\n",
       "      <td>2014-04-22</td>\n",
       "      <td>Office Supplies</td>\n",
       "      <td>9.912</td>\n",
       "      <td>10</td>\n",
       "    </tr>\n",
       "    <tr>\n",
       "      <th>18</th>\n",
       "      <td>AH-10030</td>\n",
       "      <td>Aaron Hawkins</td>\n",
       "      <td>CA-2014-122070</td>\n",
       "      <td>2014-04-22</td>\n",
       "      <td>Office Supplies</td>\n",
       "      <td>247.840</td>\n",
       "      <td>11</td>\n",
       "    </tr>\n",
       "    <tr>\n",
       "      <th>19</th>\n",
       "      <td>AH-10120</td>\n",
       "      <td>Adrian Hane</td>\n",
       "      <td>CA-2017-131632</td>\n",
       "      <td>2017-10-31</td>\n",
       "      <td>Office Supplies</td>\n",
       "      <td>5.248</td>\n",
       "      <td>1</td>\n",
       "    </tr>\n",
       "  </tbody>\n",
       "</table>\n",
       "</div>"
      ],
      "text/plain": [
       "   Customer ID  Customer Name        Order ID Order Date         Category  \\\n",
       "0     AB-10600      Ann Blume  US-2017-155425 2017-11-10       Technology   \n",
       "1     AB-10600      Ann Blume  US-2017-155425 2017-11-10       Technology   \n",
       "2     AB-10600      Ann Blume  US-2017-155425 2017-11-10       Technology   \n",
       "3     AB-10600      Ann Blume  US-2017-155425 2017-11-10  Office Supplies   \n",
       "4     AB-10600      Ann Blume  US-2017-155425 2017-11-10        Furniture   \n",
       "5     AB-10600      Ann Blume  CA-2015-158323 2015-11-30        Furniture   \n",
       "6     AB-10600      Ann Blume  CA-2015-111234 2015-02-18  Office Supplies   \n",
       "7     AB-10600      Ann Blume  CA-2014-115336 2014-11-18  Office Supplies   \n",
       "8     AH-10030  Aaron Hawkins  CA-2017-164000 2017-12-18  Office Supplies   \n",
       "9     AH-10030  Aaron Hawkins  CA-2016-162747 2016-03-20        Furniture   \n",
       "10    AH-10030  Aaron Hawkins  CA-2015-130113 2015-12-27       Technology   \n",
       "11    AH-10030  Aaron Hawkins  CA-2015-130113 2015-12-27  Office Supplies   \n",
       "12    AH-10030  Aaron Hawkins  CA-2014-157644 2014-12-31  Office Supplies   \n",
       "13    AH-10030  Aaron Hawkins  CA-2014-157644 2014-12-31       Technology   \n",
       "14    AH-10030  Aaron Hawkins  US-2014-158400 2014-10-25  Office Supplies   \n",
       "15    AH-10030  Aaron Hawkins  CA-2014-113768 2014-05-13  Office Supplies   \n",
       "16    AH-10030  Aaron Hawkins  CA-2014-113768 2014-05-13        Furniture   \n",
       "17    AH-10030  Aaron Hawkins  CA-2014-122070 2014-04-22  Office Supplies   \n",
       "18    AH-10030  Aaron Hawkins  CA-2014-122070 2014-04-22  Office Supplies   \n",
       "19    AH-10120    Adrian Hane  CA-2017-131632 2017-10-31  Office Supplies   \n",
       "\n",
       "      Sales  row_num  \n",
       "0   201.584        1  \n",
       "1   239.952        2  \n",
       "2    95.994        3  \n",
       "3    38.388        4  \n",
       "4   899.136        5  \n",
       "5    17.088        6  \n",
       "6     9.240        7  \n",
       "7    14.480        8  \n",
       "8    18.704        1  \n",
       "9    86.450        2  \n",
       "10  668.160        3  \n",
       "11  323.100        4  \n",
       "12   18.900        5  \n",
       "13   34.770        6  \n",
       "14   49.408        7  \n",
       "15    8.000        8  \n",
       "16  279.456        9  \n",
       "17    9.912       10  \n",
       "18  247.840       11  \n",
       "19    5.248        1  "
      ]
     },
     "execution_count": 22,
     "metadata": {},
     "output_type": "execute_result"
    }
   ],
   "source": [
    "# Add row numbers\n",
    "con.execute(\"\"\"\n",
    "    SELECT \n",
    "        \"Customer ID\",\n",
    "        \"Customer Name\",\n",
    "        \"Order ID\",\n",
    "        \"Order Date\",\n",
    "        Category,\n",
    "        Sales,\n",
    "        ROW_NUMBER() OVER (\n",
    "            PARTITION BY \"Customer ID\" \n",
    "            ORDER BY \"Order Date\" DESC\n",
    "        ) AS row_num\n",
    "    FROM superstore\n",
    "    LIMIT 20\n",
    "\"\"\").df()"
   ]
  },
  {
   "cell_type": "markdown",
   "id": "cell-25",
   "metadata": {},
   "source": [
    "**Breaking it down:**\n",
    "- `PARTITION BY \"Customer ID\"` = For each customer...\n",
    "- `ORDER BY \"Order Date\" DESC` = Sort by date, newest first\n",
    "- `ROW_NUMBER()` = Assign 1, 2, 3, ...\n",
    "\n",
    "**Result:** Each customer's orders are numbered, 1 = most recent!"
   ]
  },
  {
   "cell_type": "markdown",
   "id": "cell-26",
   "metadata": {},
   "source": [
    "### Step 2: Filter to Latest Only"
   ]
  },
  {
   "cell_type": "code",
   "execution_count": 23,
   "id": "cell-27",
   "metadata": {
    "execution": {
     "iopub.execute_input": "2025-10-13T14:25:31.536719Z",
     "iopub.status.busy": "2025-10-13T14:25:31.536657Z",
     "iopub.status.idle": "2025-10-13T14:25:31.544703Z",
     "shell.execute_reply": "2025-10-13T14:25:31.544517Z"
    }
   },
   "outputs": [
    {
     "data": {
      "application/vnd.microsoft.datawrangler.viewer.v0+json": {
       "columns": [
        {
         "name": "index",
         "rawType": "int64",
         "type": "integer"
        },
        {
         "name": "Customer ID",
         "rawType": "object",
         "type": "string"
        },
        {
         "name": "Customer Name",
         "rawType": "object",
         "type": "string"
        },
        {
         "name": "Order ID",
         "rawType": "object",
         "type": "string"
        },
        {
         "name": "Order Date",
         "rawType": "datetime64[ns]",
         "type": "datetime"
        },
        {
         "name": "Category",
         "rawType": "object",
         "type": "string"
        },
        {
         "name": "Product Name",
         "rawType": "object",
         "type": "string"
        },
        {
         "name": "Sales",
         "rawType": "float64",
         "type": "float"
        }
       ],
       "ref": "2c20f858-ccc2-43c4-a683-7ad9081f558f",
       "rows": [
        [
         "0",
         "JM-15580",
         "Jill Matthias",
         "CA-2017-156720",
         "2017-12-30 00:00:00",
         "Office Supplies",
         "Bagged Rubber Bands",
         "3.024"
        ],
        [
         "1",
         "PO-18865",
         "Patrick O'Donnell",
         "CA-2017-143259",
         "2017-12-30 00:00:00",
         "Furniture",
         "Bush Westfield Collection Bookcases, Fully Assembled",
         "323.136"
        ],
        [
         "2",
         "CC-12430",
         "Chuck Clark",
         "CA-2017-126221",
         "2017-12-30 00:00:00",
         "Office Supplies",
         "Eureka The Boss Plus 12-Amp Hard Box Upright Vacuum, Red",
         "209.3"
        ],
        [
         "3",
         "EB-13975",
         "Erica Bern",
         "CA-2017-115427",
         "2017-12-30 00:00:00",
         "Office Supplies",
         "Cardinal Slant-D Ring Binder, Heavy Gauge Vinyl",
         "13.904"
        ],
        [
         "4",
         "JG-15160",
         "James Galang",
         "CA-2017-118885",
         "2017-12-29 00:00:00",
         "Furniture",
         "Global High-Back Leather Tilter, Burgundy",
         "393.568"
        ],
        [
         "5",
         "KB-16600",
         "Ken Brennan",
         "CA-2017-158673",
         "2017-12-29 00:00:00",
         "Office Supplies",
         "Xerox 1915",
         "209.7"
        ],
        [
         "6",
         "MC-17845",
         "Michael Chen",
         "US-2017-102638",
         "2017-12-29 00:00:00",
         "Office Supplies",
         "Ideal Clamps",
         "6.03"
        ],
        [
         "7",
         "BS-11755",
         "Bruce Stewart",
         "CA-2017-130631",
         "2017-12-29 00:00:00",
         "Furniture",
         "Hand-Finished Solid Wood Document Frame",
         "68.46"
        ],
        [
         "8",
         "BP-11185",
         "Ben Peterman",
         "CA-2017-146626",
         "2017-12-29 00:00:00",
         "Furniture",
         "Nu-Dell Executive Frame",
         "101.12"
        ],
        [
         "9",
         "KH-16360",
         "Katherine Hughes",
         "US-2017-158526",
         "2017-12-29 00:00:00",
         "Furniture",
         "DMI Arturo Collection Mission-style Design Wood Chair",
         "1207.84"
        ]
       ],
       "shape": {
        "columns": 7,
        "rows": 10
       }
      },
      "text/html": [
       "<div>\n",
       "<style scoped>\n",
       "    .dataframe tbody tr th:only-of-type {\n",
       "        vertical-align: middle;\n",
       "    }\n",
       "\n",
       "    .dataframe tbody tr th {\n",
       "        vertical-align: top;\n",
       "    }\n",
       "\n",
       "    .dataframe thead th {\n",
       "        text-align: right;\n",
       "    }\n",
       "</style>\n",
       "<table border=\"1\" class=\"dataframe\">\n",
       "  <thead>\n",
       "    <tr style=\"text-align: right;\">\n",
       "      <th></th>\n",
       "      <th>Customer ID</th>\n",
       "      <th>Customer Name</th>\n",
       "      <th>Order ID</th>\n",
       "      <th>Order Date</th>\n",
       "      <th>Category</th>\n",
       "      <th>Product Name</th>\n",
       "      <th>Sales</th>\n",
       "    </tr>\n",
       "  </thead>\n",
       "  <tbody>\n",
       "    <tr>\n",
       "      <th>0</th>\n",
       "      <td>JM-15580</td>\n",
       "      <td>Jill Matthias</td>\n",
       "      <td>CA-2017-156720</td>\n",
       "      <td>2017-12-30</td>\n",
       "      <td>Office Supplies</td>\n",
       "      <td>Bagged Rubber Bands</td>\n",
       "      <td>3.024</td>\n",
       "    </tr>\n",
       "    <tr>\n",
       "      <th>1</th>\n",
       "      <td>PO-18865</td>\n",
       "      <td>Patrick O'Donnell</td>\n",
       "      <td>CA-2017-143259</td>\n",
       "      <td>2017-12-30</td>\n",
       "      <td>Furniture</td>\n",
       "      <td>Bush Westfield Collection Bookcases, Fully Ass...</td>\n",
       "      <td>323.136</td>\n",
       "    </tr>\n",
       "    <tr>\n",
       "      <th>2</th>\n",
       "      <td>CC-12430</td>\n",
       "      <td>Chuck Clark</td>\n",
       "      <td>CA-2017-126221</td>\n",
       "      <td>2017-12-30</td>\n",
       "      <td>Office Supplies</td>\n",
       "      <td>Eureka The Boss Plus 12-Amp Hard Box Upright V...</td>\n",
       "      <td>209.300</td>\n",
       "    </tr>\n",
       "    <tr>\n",
       "      <th>3</th>\n",
       "      <td>EB-13975</td>\n",
       "      <td>Erica Bern</td>\n",
       "      <td>CA-2017-115427</td>\n",
       "      <td>2017-12-30</td>\n",
       "      <td>Office Supplies</td>\n",
       "      <td>Cardinal Slant-D Ring Binder, Heavy Gauge Vinyl</td>\n",
       "      <td>13.904</td>\n",
       "    </tr>\n",
       "    <tr>\n",
       "      <th>4</th>\n",
       "      <td>JG-15160</td>\n",
       "      <td>James Galang</td>\n",
       "      <td>CA-2017-118885</td>\n",
       "      <td>2017-12-29</td>\n",
       "      <td>Furniture</td>\n",
       "      <td>Global High-Back Leather Tilter, Burgundy</td>\n",
       "      <td>393.568</td>\n",
       "    </tr>\n",
       "    <tr>\n",
       "      <th>5</th>\n",
       "      <td>KB-16600</td>\n",
       "      <td>Ken Brennan</td>\n",
       "      <td>CA-2017-158673</td>\n",
       "      <td>2017-12-29</td>\n",
       "      <td>Office Supplies</td>\n",
       "      <td>Xerox 1915</td>\n",
       "      <td>209.700</td>\n",
       "    </tr>\n",
       "    <tr>\n",
       "      <th>6</th>\n",
       "      <td>MC-17845</td>\n",
       "      <td>Michael Chen</td>\n",
       "      <td>US-2017-102638</td>\n",
       "      <td>2017-12-29</td>\n",
       "      <td>Office Supplies</td>\n",
       "      <td>Ideal Clamps</td>\n",
       "      <td>6.030</td>\n",
       "    </tr>\n",
       "    <tr>\n",
       "      <th>7</th>\n",
       "      <td>BS-11755</td>\n",
       "      <td>Bruce Stewart</td>\n",
       "      <td>CA-2017-130631</td>\n",
       "      <td>2017-12-29</td>\n",
       "      <td>Furniture</td>\n",
       "      <td>Hand-Finished Solid Wood Document Frame</td>\n",
       "      <td>68.460</td>\n",
       "    </tr>\n",
       "    <tr>\n",
       "      <th>8</th>\n",
       "      <td>BP-11185</td>\n",
       "      <td>Ben Peterman</td>\n",
       "      <td>CA-2017-146626</td>\n",
       "      <td>2017-12-29</td>\n",
       "      <td>Furniture</td>\n",
       "      <td>Nu-Dell Executive Frame</td>\n",
       "      <td>101.120</td>\n",
       "    </tr>\n",
       "    <tr>\n",
       "      <th>9</th>\n",
       "      <td>KH-16360</td>\n",
       "      <td>Katherine Hughes</td>\n",
       "      <td>US-2017-158526</td>\n",
       "      <td>2017-12-29</td>\n",
       "      <td>Furniture</td>\n",
       "      <td>DMI Arturo Collection Mission-style Design Woo...</td>\n",
       "      <td>1207.840</td>\n",
       "    </tr>\n",
       "  </tbody>\n",
       "</table>\n",
       "</div>"
      ],
      "text/plain": [
       "  Customer ID      Customer Name        Order ID Order Date         Category  \\\n",
       "0    JM-15580      Jill Matthias  CA-2017-156720 2017-12-30  Office Supplies   \n",
       "1    PO-18865  Patrick O'Donnell  CA-2017-143259 2017-12-30        Furniture   \n",
       "2    CC-12430        Chuck Clark  CA-2017-126221 2017-12-30  Office Supplies   \n",
       "3    EB-13975         Erica Bern  CA-2017-115427 2017-12-30  Office Supplies   \n",
       "4    JG-15160       James Galang  CA-2017-118885 2017-12-29        Furniture   \n",
       "5    KB-16600        Ken Brennan  CA-2017-158673 2017-12-29  Office Supplies   \n",
       "6    MC-17845       Michael Chen  US-2017-102638 2017-12-29  Office Supplies   \n",
       "7    BS-11755      Bruce Stewart  CA-2017-130631 2017-12-29        Furniture   \n",
       "8    BP-11185       Ben Peterman  CA-2017-146626 2017-12-29        Furniture   \n",
       "9    KH-16360   Katherine Hughes  US-2017-158526 2017-12-29        Furniture   \n",
       "\n",
       "                                        Product Name     Sales  \n",
       "0                                Bagged Rubber Bands     3.024  \n",
       "1  Bush Westfield Collection Bookcases, Fully Ass...   323.136  \n",
       "2  Eureka The Boss Plus 12-Amp Hard Box Upright V...   209.300  \n",
       "3    Cardinal Slant-D Ring Binder, Heavy Gauge Vinyl    13.904  \n",
       "4          Global High-Back Leather Tilter, Burgundy   393.568  \n",
       "5                                         Xerox 1915   209.700  \n",
       "6                                       Ideal Clamps     6.030  \n",
       "7            Hand-Finished Solid Wood Document Frame    68.460  \n",
       "8                            Nu-Dell Executive Frame   101.120  \n",
       "9  DMI Arturo Collection Mission-style Design Woo...  1207.840  "
      ]
     },
     "execution_count": 23,
     "metadata": {},
     "output_type": "execute_result"
    }
   ],
   "source": [
    "# Now filter to row_num = 1 using a subquery\n",
    "con.execute(\"\"\"\n",
    "    SELECT \n",
    "        \"Customer ID\",\n",
    "        \"Customer Name\",\n",
    "        \"Order ID\",\n",
    "        \"Order Date\",\n",
    "        Category,\n",
    "        \"Product Name\",\n",
    "        Sales\n",
    "    FROM (\n",
    "        SELECT \n",
    "            \"Customer ID\",\n",
    "            \"Customer Name\",\n",
    "            \"Order ID\",\n",
    "            \"Order Date\",\n",
    "            Category,\n",
    "            \"Product Name\",\n",
    "            Sales,\n",
    "            ROW_NUMBER() OVER (\n",
    "                PARTITION BY \"Customer ID\" \n",
    "                ORDER BY \"Order Date\" DESC\n",
    "            ) AS row_num\n",
    "        FROM superstore\n",
    "    )\n",
    "    WHERE row_num = 1\n",
    "    ORDER BY \"Order Date\" DESC\n",
    "    LIMIT 10\n",
    "\"\"\").df()"
   ]
  },
  {
   "cell_type": "markdown",
   "id": "cell-28",
   "metadata": {},
   "source": [
    "**Perfect!** Now we have:\n",
    "- ✅ Latest order per customer\n",
    "- ✅ All order details (Product, Category, Sales, etc.)\n",
    "- ✅ No information lost!\n",
    "\n",
    "**Key pattern:** Window functions add columns, they don't filter. Use a **subquery** to filter on the window result.\n",
    "\n",
    "---"
   ]
  },
  {
   "cell_type": "markdown",
   "id": "cell-29",
   "metadata": {},
   "source": [
    "### ⏸️ Pause and Try!\n",
    "\n",
    "**Your task:** Modify the query above to get the **TOP 3** orders per customer (not just the latest).\n",
    "\n",
    "**Requirements:**\n",
    "1. Use the same ROW_NUMBER pattern\n",
    "2. Change the `WHERE` filter to get top 3 instead of latest (hint: `<= 3`)\n",
    "3. Keep all the same columns in the output\n",
    "4. Order by Customer ID and row_num\n",
    "5. Limit to 15 rows total\n",
    "\n",
    "Replace the placeholder query in the cell below with your complete SQL query."
   ]
  },
  {
   "cell_type": "code",
   "execution_count": 25,
   "id": "cell-30",
   "metadata": {
    "execution": {
     "iopub.execute_input": "2025-10-13T14:25:31.545595Z",
     "iopub.status.busy": "2025-10-13T14:25:31.545536Z",
     "iopub.status.idle": "2025-10-13T14:25:31.547704Z",
     "shell.execute_reply": "2025-10-13T14:25:31.547512Z"
    }
   },
   "outputs": [
    {
     "data": {
      "application/vnd.microsoft.datawrangler.viewer.v0+json": {
       "columns": [
        {
         "name": "index",
         "rawType": "int64",
         "type": "integer"
        },
        {
         "name": "Customer ID",
         "rawType": "object",
         "type": "string"
        },
        {
         "name": "Customer Name",
         "rawType": "object",
         "type": "string"
        },
        {
         "name": "Order ID",
         "rawType": "object",
         "type": "string"
        },
        {
         "name": "Order Date",
         "rawType": "datetime64[ns]",
         "type": "datetime"
        },
        {
         "name": "Category",
         "rawType": "object",
         "type": "string"
        },
        {
         "name": "Product Name",
         "rawType": "object",
         "type": "string"
        },
        {
         "name": "Sales",
         "rawType": "float64",
         "type": "float"
        }
       ],
       "ref": "c1f8dd91-6861-43c7-a2c5-8d772d9b0b10",
       "rows": [
        [
         "0",
         "EB-13975",
         "Erica Bern",
         "CA-2017-115427",
         "2017-12-30 00:00:00",
         "Office Supplies",
         "GBC Binding covers",
         "20.72"
        ],
        [
         "1",
         "CC-12430",
         "Chuck Clark",
         "CA-2017-126221",
         "2017-12-30 00:00:00",
         "Office Supplies",
         "Eureka The Boss Plus 12-Amp Hard Box Upright Vacuum, Red",
         "209.3"
        ],
        [
         "2",
         "EB-13975",
         "Erica Bern",
         "CA-2017-115427",
         "2017-12-30 00:00:00",
         "Office Supplies",
         "Cardinal Slant-D Ring Binder, Heavy Gauge Vinyl",
         "13.904"
        ],
        [
         "3",
         "PO-18865",
         "Patrick O'Donnell",
         "CA-2017-143259",
         "2017-12-30 00:00:00",
         "Office Supplies",
         "Wilson Jones Legal Size Ring Binders",
         "52.776"
        ],
        [
         "4",
         "PO-18865",
         "Patrick O'Donnell",
         "CA-2017-143259",
         "2017-12-30 00:00:00",
         "Furniture",
         "Bush Westfield Collection Bookcases, Fully Assembled",
         "323.136"
        ],
        [
         "5",
         "PO-18865",
         "Patrick O'Donnell",
         "CA-2017-143259",
         "2017-12-30 00:00:00",
         "Technology",
         "Gear Head AU3700S Headset",
         "90.93"
        ],
        [
         "6",
         "JM-15580",
         "Jill Matthias",
         "CA-2017-156720",
         "2017-12-30 00:00:00",
         "Office Supplies",
         "Bagged Rubber Bands",
         "3.024"
        ],
        [
         "7",
         "BS-11755",
         "Bruce Stewart",
         "CA-2017-130631",
         "2017-12-29 00:00:00",
         "Furniture",
         "Hand-Finished Solid Wood Document Frame",
         "68.46"
        ],
        [
         "8",
         "KH-16360",
         "Katherine Hughes",
         "US-2017-158526",
         "2017-12-29 00:00:00",
         "Furniture",
         "DMI Arturo Collection Mission-style Design Wood Chair",
         "1207.84"
        ],
        [
         "9",
         "JG-15160",
         "James Galang",
         "CA-2017-118885",
         "2017-12-29 00:00:00",
         "Furniture",
         "Global High-Back Leather Tilter, Burgundy",
         "393.568"
        ],
        [
         "10",
         "MC-17845",
         "Michael Chen",
         "US-2017-102638",
         "2017-12-29 00:00:00",
         "Office Supplies",
         "Ideal Clamps",
         "6.03"
        ],
        [
         "11",
         "KH-16360",
         "Katherine Hughes",
         "US-2017-158526",
         "2017-12-29 00:00:00",
         "Furniture",
         "Global Leather and Oak Executive Chair, Black",
         "300.98"
        ],
        [
         "12",
         "KH-16360",
         "Katherine Hughes",
         "US-2017-158526",
         "2017-12-29 00:00:00",
         "Furniture",
         "Harbour Creations Steel Folding Chair",
         "258.75"
        ],
        [
         "13",
         "KB-16600",
         "Ken Brennan",
         "CA-2017-158673",
         "2017-12-29 00:00:00",
         "Office Supplies",
         "Xerox 1915",
         "209.7"
        ],
        [
         "14",
         "BS-11755",
         "Bruce Stewart",
         "CA-2017-130631",
         "2017-12-29 00:00:00",
         "Office Supplies",
         "Acco Glide Clips",
         "19.6"
        ]
       ],
       "shape": {
        "columns": 7,
        "rows": 15
       }
      },
      "text/html": [
       "<div>\n",
       "<style scoped>\n",
       "    .dataframe tbody tr th:only-of-type {\n",
       "        vertical-align: middle;\n",
       "    }\n",
       "\n",
       "    .dataframe tbody tr th {\n",
       "        vertical-align: top;\n",
       "    }\n",
       "\n",
       "    .dataframe thead th {\n",
       "        text-align: right;\n",
       "    }\n",
       "</style>\n",
       "<table border=\"1\" class=\"dataframe\">\n",
       "  <thead>\n",
       "    <tr style=\"text-align: right;\">\n",
       "      <th></th>\n",
       "      <th>Customer ID</th>\n",
       "      <th>Customer Name</th>\n",
       "      <th>Order ID</th>\n",
       "      <th>Order Date</th>\n",
       "      <th>Category</th>\n",
       "      <th>Product Name</th>\n",
       "      <th>Sales</th>\n",
       "    </tr>\n",
       "  </thead>\n",
       "  <tbody>\n",
       "    <tr>\n",
       "      <th>0</th>\n",
       "      <td>EB-13975</td>\n",
       "      <td>Erica Bern</td>\n",
       "      <td>CA-2017-115427</td>\n",
       "      <td>2017-12-30</td>\n",
       "      <td>Office Supplies</td>\n",
       "      <td>GBC Binding covers</td>\n",
       "      <td>20.720</td>\n",
       "    </tr>\n",
       "    <tr>\n",
       "      <th>1</th>\n",
       "      <td>CC-12430</td>\n",
       "      <td>Chuck Clark</td>\n",
       "      <td>CA-2017-126221</td>\n",
       "      <td>2017-12-30</td>\n",
       "      <td>Office Supplies</td>\n",
       "      <td>Eureka The Boss Plus 12-Amp Hard Box Upright V...</td>\n",
       "      <td>209.300</td>\n",
       "    </tr>\n",
       "    <tr>\n",
       "      <th>2</th>\n",
       "      <td>EB-13975</td>\n",
       "      <td>Erica Bern</td>\n",
       "      <td>CA-2017-115427</td>\n",
       "      <td>2017-12-30</td>\n",
       "      <td>Office Supplies</td>\n",
       "      <td>Cardinal Slant-D Ring Binder, Heavy Gauge Vinyl</td>\n",
       "      <td>13.904</td>\n",
       "    </tr>\n",
       "    <tr>\n",
       "      <th>3</th>\n",
       "      <td>PO-18865</td>\n",
       "      <td>Patrick O'Donnell</td>\n",
       "      <td>CA-2017-143259</td>\n",
       "      <td>2017-12-30</td>\n",
       "      <td>Office Supplies</td>\n",
       "      <td>Wilson Jones Legal Size Ring Binders</td>\n",
       "      <td>52.776</td>\n",
       "    </tr>\n",
       "    <tr>\n",
       "      <th>4</th>\n",
       "      <td>PO-18865</td>\n",
       "      <td>Patrick O'Donnell</td>\n",
       "      <td>CA-2017-143259</td>\n",
       "      <td>2017-12-30</td>\n",
       "      <td>Furniture</td>\n",
       "      <td>Bush Westfield Collection Bookcases, Fully Ass...</td>\n",
       "      <td>323.136</td>\n",
       "    </tr>\n",
       "    <tr>\n",
       "      <th>5</th>\n",
       "      <td>PO-18865</td>\n",
       "      <td>Patrick O'Donnell</td>\n",
       "      <td>CA-2017-143259</td>\n",
       "      <td>2017-12-30</td>\n",
       "      <td>Technology</td>\n",
       "      <td>Gear Head AU3700S Headset</td>\n",
       "      <td>90.930</td>\n",
       "    </tr>\n",
       "    <tr>\n",
       "      <th>6</th>\n",
       "      <td>JM-15580</td>\n",
       "      <td>Jill Matthias</td>\n",
       "      <td>CA-2017-156720</td>\n",
       "      <td>2017-12-30</td>\n",
       "      <td>Office Supplies</td>\n",
       "      <td>Bagged Rubber Bands</td>\n",
       "      <td>3.024</td>\n",
       "    </tr>\n",
       "    <tr>\n",
       "      <th>7</th>\n",
       "      <td>BS-11755</td>\n",
       "      <td>Bruce Stewart</td>\n",
       "      <td>CA-2017-130631</td>\n",
       "      <td>2017-12-29</td>\n",
       "      <td>Furniture</td>\n",
       "      <td>Hand-Finished Solid Wood Document Frame</td>\n",
       "      <td>68.460</td>\n",
       "    </tr>\n",
       "    <tr>\n",
       "      <th>8</th>\n",
       "      <td>KH-16360</td>\n",
       "      <td>Katherine Hughes</td>\n",
       "      <td>US-2017-158526</td>\n",
       "      <td>2017-12-29</td>\n",
       "      <td>Furniture</td>\n",
       "      <td>DMI Arturo Collection Mission-style Design Woo...</td>\n",
       "      <td>1207.840</td>\n",
       "    </tr>\n",
       "    <tr>\n",
       "      <th>9</th>\n",
       "      <td>JG-15160</td>\n",
       "      <td>James Galang</td>\n",
       "      <td>CA-2017-118885</td>\n",
       "      <td>2017-12-29</td>\n",
       "      <td>Furniture</td>\n",
       "      <td>Global High-Back Leather Tilter, Burgundy</td>\n",
       "      <td>393.568</td>\n",
       "    </tr>\n",
       "    <tr>\n",
       "      <th>10</th>\n",
       "      <td>MC-17845</td>\n",
       "      <td>Michael Chen</td>\n",
       "      <td>US-2017-102638</td>\n",
       "      <td>2017-12-29</td>\n",
       "      <td>Office Supplies</td>\n",
       "      <td>Ideal Clamps</td>\n",
       "      <td>6.030</td>\n",
       "    </tr>\n",
       "    <tr>\n",
       "      <th>11</th>\n",
       "      <td>KH-16360</td>\n",
       "      <td>Katherine Hughes</td>\n",
       "      <td>US-2017-158526</td>\n",
       "      <td>2017-12-29</td>\n",
       "      <td>Furniture</td>\n",
       "      <td>Global Leather and Oak Executive Chair, Black</td>\n",
       "      <td>300.980</td>\n",
       "    </tr>\n",
       "    <tr>\n",
       "      <th>12</th>\n",
       "      <td>KH-16360</td>\n",
       "      <td>Katherine Hughes</td>\n",
       "      <td>US-2017-158526</td>\n",
       "      <td>2017-12-29</td>\n",
       "      <td>Furniture</td>\n",
       "      <td>Harbour Creations Steel Folding Chair</td>\n",
       "      <td>258.750</td>\n",
       "    </tr>\n",
       "    <tr>\n",
       "      <th>13</th>\n",
       "      <td>KB-16600</td>\n",
       "      <td>Ken Brennan</td>\n",
       "      <td>CA-2017-158673</td>\n",
       "      <td>2017-12-29</td>\n",
       "      <td>Office Supplies</td>\n",
       "      <td>Xerox 1915</td>\n",
       "      <td>209.700</td>\n",
       "    </tr>\n",
       "    <tr>\n",
       "      <th>14</th>\n",
       "      <td>BS-11755</td>\n",
       "      <td>Bruce Stewart</td>\n",
       "      <td>CA-2017-130631</td>\n",
       "      <td>2017-12-29</td>\n",
       "      <td>Office Supplies</td>\n",
       "      <td>Acco Glide Clips</td>\n",
       "      <td>19.600</td>\n",
       "    </tr>\n",
       "  </tbody>\n",
       "</table>\n",
       "</div>"
      ],
      "text/plain": [
       "   Customer ID      Customer Name        Order ID Order Date         Category  \\\n",
       "0     EB-13975         Erica Bern  CA-2017-115427 2017-12-30  Office Supplies   \n",
       "1     CC-12430        Chuck Clark  CA-2017-126221 2017-12-30  Office Supplies   \n",
       "2     EB-13975         Erica Bern  CA-2017-115427 2017-12-30  Office Supplies   \n",
       "3     PO-18865  Patrick O'Donnell  CA-2017-143259 2017-12-30  Office Supplies   \n",
       "4     PO-18865  Patrick O'Donnell  CA-2017-143259 2017-12-30        Furniture   \n",
       "5     PO-18865  Patrick O'Donnell  CA-2017-143259 2017-12-30       Technology   \n",
       "6     JM-15580      Jill Matthias  CA-2017-156720 2017-12-30  Office Supplies   \n",
       "7     BS-11755      Bruce Stewart  CA-2017-130631 2017-12-29        Furniture   \n",
       "8     KH-16360   Katherine Hughes  US-2017-158526 2017-12-29        Furniture   \n",
       "9     JG-15160       James Galang  CA-2017-118885 2017-12-29        Furniture   \n",
       "10    MC-17845       Michael Chen  US-2017-102638 2017-12-29  Office Supplies   \n",
       "11    KH-16360   Katherine Hughes  US-2017-158526 2017-12-29        Furniture   \n",
       "12    KH-16360   Katherine Hughes  US-2017-158526 2017-12-29        Furniture   \n",
       "13    KB-16600        Ken Brennan  CA-2017-158673 2017-12-29  Office Supplies   \n",
       "14    BS-11755      Bruce Stewart  CA-2017-130631 2017-12-29  Office Supplies   \n",
       "\n",
       "                                         Product Name     Sales  \n",
       "0                                  GBC Binding covers    20.720  \n",
       "1   Eureka The Boss Plus 12-Amp Hard Box Upright V...   209.300  \n",
       "2     Cardinal Slant-D Ring Binder, Heavy Gauge Vinyl    13.904  \n",
       "3                Wilson Jones Legal Size Ring Binders    52.776  \n",
       "4   Bush Westfield Collection Bookcases, Fully Ass...   323.136  \n",
       "5                           Gear Head AU3700S Headset    90.930  \n",
       "6                                 Bagged Rubber Bands     3.024  \n",
       "7             Hand-Finished Solid Wood Document Frame    68.460  \n",
       "8   DMI Arturo Collection Mission-style Design Woo...  1207.840  \n",
       "9           Global High-Back Leather Tilter, Burgundy   393.568  \n",
       "10                                       Ideal Clamps     6.030  \n",
       "11      Global Leather and Oak Executive Chair, Black   300.980  \n",
       "12              Harbour Creations Steel Folding Chair   258.750  \n",
       "13                                         Xerox 1915   209.700  \n",
       "14                                   Acco Glide Clips    19.600  "
      ]
     },
     "execution_count": 25,
     "metadata": {},
     "output_type": "execute_result"
    }
   ],
   "source": [
    "# Your turn! Write your TOP 3 query here:\n",
    "# Now filter to row_num = 1 using a subquery\n",
    "con.execute(\"\"\"\n",
    "    SELECT \n",
    "        \"Customer ID\",\n",
    "        \"Customer Name\",\n",
    "        \"Order ID\",\n",
    "        \"Order Date\",\n",
    "        Category,\n",
    "        \"Product Name\",\n",
    "        Sales\n",
    "    FROM (\n",
    "        SELECT \n",
    "            \"Customer ID\",\n",
    "            \"Customer Name\",\n",
    "            \"Order ID\",\n",
    "            \"Order Date\",\n",
    "            Category,\n",
    "            \"Product Name\",\n",
    "            Sales,\n",
    "            ROW_NUMBER() OVER (\n",
    "                PARTITION BY \"Customer ID\" \n",
    "                ORDER BY \"Order Date\" DESC\n",
    "            ) AS row_num\n",
    "        FROM superstore\n",
    "    )     \n",
    "    WHERE row_num <= 3\n",
    "    ORDER BY \"Order Date\" DESC\n",
    "    LIMIT 15\n",
    "\"\"\").df()\n",
    "\n"
   ]
  },
  {
   "cell_type": "markdown",
   "id": "cell-31",
   "metadata": {},
   "source": [
    "### Solution: Top 3 Orders Per Customer"
   ]
  },
  {
   "cell_type": "code",
   "execution_count": 26,
   "id": "cell-32",
   "metadata": {
    "execution": {
     "iopub.execute_input": "2025-10-13T14:25:31.548597Z",
     "iopub.status.busy": "2025-10-13T14:25:31.548542Z",
     "iopub.status.idle": "2025-10-13T14:25:31.555905Z",
     "shell.execute_reply": "2025-10-13T14:25:31.555702Z"
    }
   },
   "outputs": [
    {
     "data": {
      "application/vnd.microsoft.datawrangler.viewer.v0+json": {
       "columns": [
        {
         "name": "index",
         "rawType": "int64",
         "type": "integer"
        },
        {
         "name": "Customer ID",
         "rawType": "object",
         "type": "string"
        },
        {
         "name": "Customer Name",
         "rawType": "object",
         "type": "string"
        },
        {
         "name": "Order Date",
         "rawType": "datetime64[ns]",
         "type": "datetime"
        },
        {
         "name": "Sales",
         "rawType": "float64",
         "type": "float"
        },
        {
         "name": "row_num",
         "rawType": "int64",
         "type": "integer"
        }
       ],
       "ref": "e5a1aaf1-2953-4920-bd67-9f9a1d8c3014",
       "rows": [
        [
         "0",
         "AA-10315",
         "Alex Avila",
         "2017-06-29 00:00:00",
         "362.94",
         "1"
        ],
        [
         "1",
         "AA-10315",
         "Alex Avila",
         "2017-06-29 00:00:00",
         "11.54",
         "2"
        ],
        [
         "2",
         "AA-10315",
         "Alex Avila",
         "2016-03-03 00:00:00",
         "3930.072",
         "3"
        ],
        [
         "3",
         "AA-10375",
         "Allen Armold",
         "2017-12-11 00:00:00",
         "14.952",
         "1"
        ],
        [
         "4",
         "AA-10375",
         "Allen Armold",
         "2017-12-11 00:00:00",
         "17.94",
         "2"
        ],
        [
         "5",
         "AA-10375",
         "Allen Armold",
         "2017-12-11 00:00:00",
         "116.98",
         "3"
        ],
        [
         "6",
         "AA-10480",
         "Andrew Allen",
         "2017-04-15 00:00:00",
         "15.552",
         "1"
        ],
        [
         "7",
         "AA-10480",
         "Andrew Allen",
         "2016-08-26 00:00:00",
         "11.56",
         "2"
        ],
        [
         "8",
         "AA-10480",
         "Andrew Allen",
         "2016-08-26 00:00:00",
         "8.64",
         "3"
        ],
        [
         "9",
         "AA-10645",
         "Anna Andreadi",
         "2017-11-05 00:00:00",
         "12.96",
         "1"
        ],
        [
         "10",
         "AA-10645",
         "Anna Andreadi",
         "2016-09-04 00:00:00",
         "129.92",
         "2"
        ],
        [
         "11",
         "AA-10645",
         "Anna Andreadi",
         "2016-09-04 00:00:00",
         "5.28",
         "3"
        ],
        [
         "12",
         "AB-10015",
         "Aaron Bergman",
         "2016-11-10 00:00:00",
         "221.98",
         "1"
        ],
        [
         "13",
         "AB-10015",
         "Aaron Bergman",
         "2016-11-10 00:00:00",
         "341.96",
         "2"
        ],
        [
         "14",
         "AB-10015",
         "Aaron Bergman",
         "2014-03-07 00:00:00",
         "48.712",
         "3"
        ]
       ],
       "shape": {
        "columns": 5,
        "rows": 15
       }
      },
      "text/html": [
       "<div>\n",
       "<style scoped>\n",
       "    .dataframe tbody tr th:only-of-type {\n",
       "        vertical-align: middle;\n",
       "    }\n",
       "\n",
       "    .dataframe tbody tr th {\n",
       "        vertical-align: top;\n",
       "    }\n",
       "\n",
       "    .dataframe thead th {\n",
       "        text-align: right;\n",
       "    }\n",
       "</style>\n",
       "<table border=\"1\" class=\"dataframe\">\n",
       "  <thead>\n",
       "    <tr style=\"text-align: right;\">\n",
       "      <th></th>\n",
       "      <th>Customer ID</th>\n",
       "      <th>Customer Name</th>\n",
       "      <th>Order Date</th>\n",
       "      <th>Sales</th>\n",
       "      <th>row_num</th>\n",
       "    </tr>\n",
       "  </thead>\n",
       "  <tbody>\n",
       "    <tr>\n",
       "      <th>0</th>\n",
       "      <td>AA-10315</td>\n",
       "      <td>Alex Avila</td>\n",
       "      <td>2017-06-29</td>\n",
       "      <td>362.940</td>\n",
       "      <td>1</td>\n",
       "    </tr>\n",
       "    <tr>\n",
       "      <th>1</th>\n",
       "      <td>AA-10315</td>\n",
       "      <td>Alex Avila</td>\n",
       "      <td>2017-06-29</td>\n",
       "      <td>11.540</td>\n",
       "      <td>2</td>\n",
       "    </tr>\n",
       "    <tr>\n",
       "      <th>2</th>\n",
       "      <td>AA-10315</td>\n",
       "      <td>Alex Avila</td>\n",
       "      <td>2016-03-03</td>\n",
       "      <td>3930.072</td>\n",
       "      <td>3</td>\n",
       "    </tr>\n",
       "    <tr>\n",
       "      <th>3</th>\n",
       "      <td>AA-10375</td>\n",
       "      <td>Allen Armold</td>\n",
       "      <td>2017-12-11</td>\n",
       "      <td>14.952</td>\n",
       "      <td>1</td>\n",
       "    </tr>\n",
       "    <tr>\n",
       "      <th>4</th>\n",
       "      <td>AA-10375</td>\n",
       "      <td>Allen Armold</td>\n",
       "      <td>2017-12-11</td>\n",
       "      <td>17.940</td>\n",
       "      <td>2</td>\n",
       "    </tr>\n",
       "    <tr>\n",
       "      <th>5</th>\n",
       "      <td>AA-10375</td>\n",
       "      <td>Allen Armold</td>\n",
       "      <td>2017-12-11</td>\n",
       "      <td>116.980</td>\n",
       "      <td>3</td>\n",
       "    </tr>\n",
       "    <tr>\n",
       "      <th>6</th>\n",
       "      <td>AA-10480</td>\n",
       "      <td>Andrew Allen</td>\n",
       "      <td>2017-04-15</td>\n",
       "      <td>15.552</td>\n",
       "      <td>1</td>\n",
       "    </tr>\n",
       "    <tr>\n",
       "      <th>7</th>\n",
       "      <td>AA-10480</td>\n",
       "      <td>Andrew Allen</td>\n",
       "      <td>2016-08-26</td>\n",
       "      <td>11.560</td>\n",
       "      <td>2</td>\n",
       "    </tr>\n",
       "    <tr>\n",
       "      <th>8</th>\n",
       "      <td>AA-10480</td>\n",
       "      <td>Andrew Allen</td>\n",
       "      <td>2016-08-26</td>\n",
       "      <td>8.640</td>\n",
       "      <td>3</td>\n",
       "    </tr>\n",
       "    <tr>\n",
       "      <th>9</th>\n",
       "      <td>AA-10645</td>\n",
       "      <td>Anna Andreadi</td>\n",
       "      <td>2017-11-05</td>\n",
       "      <td>12.960</td>\n",
       "      <td>1</td>\n",
       "    </tr>\n",
       "    <tr>\n",
       "      <th>10</th>\n",
       "      <td>AA-10645</td>\n",
       "      <td>Anna Andreadi</td>\n",
       "      <td>2016-09-04</td>\n",
       "      <td>129.920</td>\n",
       "      <td>2</td>\n",
       "    </tr>\n",
       "    <tr>\n",
       "      <th>11</th>\n",
       "      <td>AA-10645</td>\n",
       "      <td>Anna Andreadi</td>\n",
       "      <td>2016-09-04</td>\n",
       "      <td>5.280</td>\n",
       "      <td>3</td>\n",
       "    </tr>\n",
       "    <tr>\n",
       "      <th>12</th>\n",
       "      <td>AB-10015</td>\n",
       "      <td>Aaron Bergman</td>\n",
       "      <td>2016-11-10</td>\n",
       "      <td>221.980</td>\n",
       "      <td>1</td>\n",
       "    </tr>\n",
       "    <tr>\n",
       "      <th>13</th>\n",
       "      <td>AB-10015</td>\n",
       "      <td>Aaron Bergman</td>\n",
       "      <td>2016-11-10</td>\n",
       "      <td>341.960</td>\n",
       "      <td>2</td>\n",
       "    </tr>\n",
       "    <tr>\n",
       "      <th>14</th>\n",
       "      <td>AB-10015</td>\n",
       "      <td>Aaron Bergman</td>\n",
       "      <td>2014-03-07</td>\n",
       "      <td>48.712</td>\n",
       "      <td>3</td>\n",
       "    </tr>\n",
       "  </tbody>\n",
       "</table>\n",
       "</div>"
      ],
      "text/plain": [
       "   Customer ID  Customer Name Order Date     Sales  row_num\n",
       "0     AA-10315     Alex Avila 2017-06-29   362.940        1\n",
       "1     AA-10315     Alex Avila 2017-06-29    11.540        2\n",
       "2     AA-10315     Alex Avila 2016-03-03  3930.072        3\n",
       "3     AA-10375   Allen Armold 2017-12-11    14.952        1\n",
       "4     AA-10375   Allen Armold 2017-12-11    17.940        2\n",
       "5     AA-10375   Allen Armold 2017-12-11   116.980        3\n",
       "6     AA-10480   Andrew Allen 2017-04-15    15.552        1\n",
       "7     AA-10480   Andrew Allen 2016-08-26    11.560        2\n",
       "8     AA-10480   Andrew Allen 2016-08-26     8.640        3\n",
       "9     AA-10645  Anna Andreadi 2017-11-05    12.960        1\n",
       "10    AA-10645  Anna Andreadi 2016-09-04   129.920        2\n",
       "11    AA-10645  Anna Andreadi 2016-09-04     5.280        3\n",
       "12    AB-10015  Aaron Bergman 2016-11-10   221.980        1\n",
       "13    AB-10015  Aaron Bergman 2016-11-10   341.960        2\n",
       "14    AB-10015  Aaron Bergman 2014-03-07    48.712        3"
      ]
     },
     "execution_count": 26,
     "metadata": {},
     "output_type": "execute_result"
    }
   ],
   "source": [
    "# Get top 3 most recent orders per customer\n",
    "con.execute(\"\"\"\n",
    "    SELECT \n",
    "        \"Customer ID\",\n",
    "        \"Customer Name\",\n",
    "        \"Order Date\",\n",
    "        Sales,\n",
    "        row_num\n",
    "    FROM (\n",
    "        SELECT \n",
    "            \"Customer ID\",\n",
    "            \"Customer Name\",\n",
    "            \"Order Date\",\n",
    "            Sales,\n",
    "            ROW_NUMBER() OVER (\n",
    "                PARTITION BY \"Customer ID\" \n",
    "                ORDER BY \"Order Date\" DESC\n",
    "            ) AS row_num\n",
    "        FROM superstore\n",
    "    )\n",
    "    WHERE row_num <= 3\n",
    "    ORDER BY \"Customer ID\", row_num\n",
    "    LIMIT 15\n",
    "\"\"\").df()"
   ]
  },
  {
   "cell_type": "markdown",
   "id": "cell-33",
   "metadata": {},
   "source": [
    "**Just change the filter!** `WHERE row_num <= 3` gives top 3 per customer.\n",
    "\n",
    "**This pattern works for:**\n",
    "- Top N products per category\n",
    "- Latest N transactions per account\n",
    "- Most recent N logins per user\n",
    "\n",
    "---"
   ]
  },
  {
   "cell_type": "markdown",
   "id": "cell-34",
   "metadata": {},
   "source": [
    "## 7. Summary: What You Learned\n",
    "\n",
    "### Key Concepts\n",
    "\n",
    "1. ✅ **Windows preserve rows, GROUP BY collapses**\n",
    "   - GROUP BY: 10,000 rows → 3 rows (summary)\n",
    "   - Windows: 10,000 rows → 10,000 rows (detail + calculation)\n",
    "\n",
    "2. ✅ **Use PARTITION BY for groups** (like GROUP BY for windows)\n",
    "   - `PARTITION BY Category` = \"For each category...\"\n",
    "   - But all rows are kept!\n",
    "\n",
    "3. ✅ **Use ORDER BY when order matters**\n",
    "   - Required for ROW_NUMBER() to know what \"first\" means\n",
    "   - `ORDER BY date DESC` = Newest first\n",
    "\n",
    "4. ✅ **ROW_NUMBER() for \"latest/top N per group\"**\n",
    "   - Add row numbers with PARTITION BY + ORDER BY\n",
    "   - Filter with subquery: `WHERE row_num = 1`\n",
    "\n",
    "5. ✅ **Pattern for filtering:** Use subquery\n",
    "   - Window functions ADD columns\n",
    "   - To FILTER on those columns, wrap in subquery\n",
    "\n",
    "### Syntax You Know\n",
    "\n",
    "```sql\n",
    "-- Basic window\n",
    "COUNT(*) OVER (PARTITION BY category)\n",
    "\n",
    "-- ROW_NUMBER for ranking\n",
    "ROW_NUMBER() OVER (PARTITION BY customer_id ORDER BY date DESC)\n",
    "\n",
    "-- Filter pattern (subquery)\n",
    "SELECT * FROM (\n",
    "    SELECT *, ROW_NUMBER() OVER (...) AS row_num\n",
    "    FROM table\n",
    ")\n",
    "WHERE row_num = 1\n",
    "```\n",
    "\n",
    "### Ready for More?\n",
    "\n",
    "This primer covered the essentials. If you want to learn:\n",
    "- **LAG()/LEAD()** for period-over-period comparisons (\"this month vs last month\")\n",
    "- **Moving averages** with ROWS BETWEEN frame specifications\n",
    "- **Advanced patterns** and edge cases\n",
    "\n",
    "→ See the **Window Functions Deep Dive** notebook!\n",
    "\n",
    "### You're Ready for HW1! 🎉\n",
    "\n",
    "You now know:\n",
    "- SELECT, WHERE, ORDER BY\n",
    "- GROUP BY, HAVING\n",
    "- Window functions with ROW_NUMBER()\n",
    "\n",
    "That's everything you need for Homework 1. Practice these patterns - you'll use them constantly in real data work!\n",
    "\n",
    "---"
   ]
  }
 ],
 "metadata": {
  "kernelspec": {
   "display_name": "Python (my_env)",
   "language": "python",
   "name": "my_env"
  },
  "language_info": {
   "codemirror_mode": {
    "name": "ipython",
    "version": 3
   },
   "file_extension": ".py",
   "mimetype": "text/x-python",
   "name": "python",
   "nbconvert_exporter": "python",
   "pygments_lexer": "ipython3",
   "version": "3.13.7"
  }
 },
 "nbformat": 4,
 "nbformat_minor": 5
}
