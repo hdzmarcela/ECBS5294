{
 "cells": [
  {
   "cell_type": "markdown",
   "metadata": {},
   "source": [
    "# Day 1 Setup Check\n",
    "\n",
    "**Run this notebook before class starts to verify your environment is ready!**\n",
    "\n",
    "This notebook checks:\n",
    "1. Python version\n",
    "2. Required packages (pandas, numpy, duckdb)\n",
    "3. Data files are accessible\n",
    "4. Jupyter is working correctly\n",
    "\n",
    "---"
   ]
  },
  {
   "cell_type": "markdown",
   "metadata": {},
   "source": [
    "## Step 1: Check Python Version"
   ]
  },
  {
   "cell_type": "code",
   "execution_count": 1,
   "metadata": {
    "execution": {
     "iopub.execute_input": "2025-10-08T09:12:45.828779Z",
     "iopub.status.busy": "2025-10-08T09:12:45.828423Z",
     "iopub.status.idle": "2025-10-08T09:12:45.835450Z",
     "shell.execute_reply": "2025-10-08T09:12:45.834979Z"
    }
   },
   "outputs": [
    {
     "name": "stdout",
     "output_type": "stream",
     "text": [
      "Python version: 3.13.7 (main, Aug 14 2025, 11:12:11) [Clang 17.0.0 (clang-1700.0.13.3)]\n",
      "Python executable: /Users/amh/.venvs/my_env/bin/python\n",
      "✅ Python 3.13 detected (good!)\n"
     ]
    }
   ],
   "source": [
    "import sys\n",
    "\n",
    "print(f\"Python version: {sys.version}\")\n",
    "print(f\"Python executable: {sys.executable}\")\n",
    "\n",
    "# Check version is 3.8+\n",
    "version_info = sys.version_info\n",
    "if version_info.major == 3 and version_info.minor >= 8:\n",
    "    print(f\"✅ Python {version_info.major}.{version_info.minor} detected (good!)\")\n",
    "else:\n",
    "    print(f\"⚠️  Python {version_info.major}.{version_info.minor} detected\")\n",
    "    print(\"   Recommended: Python 3.8 or higher\")"
   ]
  },
  {
   "cell_type": "markdown",
   "metadata": {},
   "source": [
    "## Step 2: Check Required Packages"
   ]
  },
  {
   "cell_type": "code",
   "execution_count": null,
   "metadata": {
    "execution": {
     "iopub.execute_input": "2025-10-08T09:12:45.862165Z",
     "iopub.status.busy": "2025-10-08T09:12:45.862003Z",
     "iopub.status.idle": "2025-10-08T09:12:46.098779Z",
     "shell.execute_reply": "2025-10-08T09:12:46.098205Z"
    }
   },
   "outputs": [],
   "source": [
    "# Check pandas\n",
    "try:\n",
    "    import pandas as pd\n",
    "    print(f\"✅ pandas {pd.__version__} installed\")\n",
    "except ImportError:\n",
    "    print(\"❌ pandas not installed\")\n",
    "    print(\"   Install with: pip install pandas\")"
   ]
  },
  {
   "cell_type": "code",
   "execution_count": null,
   "metadata": {
    "execution": {
     "iopub.execute_input": "2025-10-08T09:12:46.100894Z",
     "iopub.status.busy": "2025-10-08T09:12:46.100644Z",
     "iopub.status.idle": "2025-10-08T09:12:46.103329Z",
     "shell.execute_reply": "2025-10-08T09:12:46.102913Z"
    }
   },
   "outputs": [],
   "source": [
    "# Check numpy\n",
    "try:\n",
    "    import numpy as np\n",
    "    print(f\"✅ numpy {np.__version__} installed\")\n",
    "except ImportError:\n",
    "    print(\"❌ numpy not installed\")\n",
    "    print(\"   Install with: pip install numpy\")"
   ]
  },
  {
   "cell_type": "code",
   "execution_count": null,
   "metadata": {
    "execution": {
     "iopub.execute_input": "2025-10-08T09:12:46.105276Z",
     "iopub.status.busy": "2025-10-08T09:12:46.105081Z",
     "iopub.status.idle": "2025-10-08T09:12:46.118820Z",
     "shell.execute_reply": "2025-10-08T09:12:46.118342Z"
    }
   },
   "outputs": [],
   "source": [
    "# Check duckdb (we'll use this later today)\n",
    "try:\n",
    "    import duckdb\n",
    "    print(f\"✅ duckdb {duckdb.__version__} installed\")\n",
    "except ImportError:\n",
    "    print(\"⚠️  duckdb not installed (needed for Block B)\")\n",
    "    print(\"   Install with: pip install duckdb\")"
   ]
  },
  {
   "cell_type": "markdown",
   "metadata": {},
   "source": [
    "## Step 3: Test Basic Functionality"
   ]
  },
  {
   "cell_type": "code",
   "execution_count": null,
   "metadata": {
    "execution": {
     "iopub.execute_input": "2025-10-08T09:12:46.121152Z",
     "iopub.status.busy": "2025-10-08T09:12:46.120755Z",
     "iopub.status.idle": "2025-10-08T09:12:46.125217Z",
     "shell.execute_reply": "2025-10-08T09:12:46.124296Z"
    }
   },
   "outputs": [],
   "source": [
    "# Test pandas basic operations\n",
    "try:\n",
    "    test_df = pd.DataFrame({'a': [1, 2, 3], 'b': [4, 5, 6]})\n",
    "    result = test_df['a'].sum()\n",
    "    assert result == 6, \"Calculation error\"\n",
    "    print(\"✅ pandas operations working\")\n",
    "except Exception as e:\n",
    "    print(f\"❌ pandas test failed: {e}\")"
   ]
  },
  {
   "cell_type": "code",
   "execution_count": null,
   "metadata": {
    "execution": {
     "iopub.execute_input": "2025-10-08T09:12:46.126999Z",
     "iopub.status.busy": "2025-10-08T09:12:46.126866Z",
     "iopub.status.idle": "2025-10-08T09:12:46.130336Z",
     "shell.execute_reply": "2025-10-08T09:12:46.129549Z"
    }
   },
   "outputs": [],
   "source": [
    "# Test numpy basic operations\n",
    "try:\n",
    "    test_array = np.array([1, 2, 3])\n",
    "    result = test_array.sum()\n",
    "    assert result == 6, \"Calculation error\"\n",
    "    print(\"✅ numpy operations working\")\n",
    "except Exception as e:\n",
    "    print(f\"❌ numpy test failed: {e}\")"
   ]
  },
  {
   "cell_type": "markdown",
   "metadata": {},
   "source": [
    "## Step 4: Check Data Files"
   ]
  },
  {
   "cell_type": "code",
   "execution_count": null,
   "metadata": {
    "execution": {
     "iopub.execute_input": "2025-10-08T09:12:46.132515Z",
     "iopub.status.busy": "2025-10-08T09:12:46.132283Z",
     "iopub.status.idle": "2025-10-08T09:12:46.136142Z",
     "shell.execute_reply": "2025-10-08T09:12:46.135419Z"
    }
   },
   "outputs": [],
   "source": [
    "import os\n",
    "\n",
    "# Check if data directory exists\n",
    "data_dir = '../../data/day1'\n",
    "if os.path.exists(data_dir):\n",
    "    print(f\"✅ Data directory exists: {data_dir}\")\n",
    "else:\n",
    "    print(f\"❌ Data directory not found: {data_dir}\")\n",
    "    print(\"   Make sure you're running from the notebooks/ directory\")"
   ]
  },
  {
   "cell_type": "code",
   "execution_count": null,
   "metadata": {
    "execution": {
     "iopub.execute_input": "2025-10-08T09:12:46.138257Z",
     "iopub.status.busy": "2025-10-08T09:12:46.138012Z",
     "iopub.status.idle": "2025-10-08T09:12:46.145096Z",
     "shell.execute_reply": "2025-10-08T09:12:46.144861Z"
    }
   },
   "outputs": [],
   "source": [
    "# Check if dataset file exists\n",
    "data_file = '../../data/day1/dirty_cafe_sales.csv'\n",
    "if os.path.exists(data_file):\n",
    "    print(f\"✅ Dataset file exists: {data_file}\")\n",
    "    \n",
    "    # Check file size\n",
    "    file_size = os.path.getsize(data_file)\n",
    "    print(f\"   File size: {file_size:,} bytes ({file_size/1024:.1f} KB)\")\n",
    "    \n",
    "    if file_size > 100000:  # Should be ~500KB\n",
    "        print(\"   ✅ File size looks correct\")\n",
    "    else:\n",
    "        print(\"   ⚠️  File seems small, may be incomplete\")\n",
    "else:\n",
    "    print(f\"❌ Dataset file not found: {data_file}\")\n",
    "    print(\"   Contact instructor for data files\")"
   ]
  },
  {
   "cell_type": "markdown",
   "metadata": {},
   "source": [
    "## Step 5: Test Data Loading"
   ]
  },
  {
   "cell_type": "code",
   "execution_count": null,
   "metadata": {
    "execution": {
     "iopub.execute_input": "2025-10-08T09:12:46.146112Z",
     "iopub.status.busy": "2025-10-08T09:12:46.146042Z",
     "iopub.status.idle": "2025-10-08T09:12:46.154927Z",
     "shell.execute_reply": "2025-10-08T09:12:46.154737Z"
    }
   },
   "outputs": [],
   "source": [
    "# Suppress warnings for cleaner output\n",
    "import warnings\n",
    "warnings.filterwarnings('ignore', category=FutureWarning)\n",
    "\n",
    "# Try to load the dataset\n",
    "try:\n",
    "    df = pd.read_csv('../../data/day1/dirty_cafe_sales.csv')\n",
    "    print(f\"✅ Successfully loaded dataset\")\n",
    "    print(f\"   Shape: {df.shape[0]} rows, {df.shape[1]} columns\")\n",
    "    print(f\"   Columns: {', '.join(df.columns.tolist())}\")\n",
    "    \n",
    "    # Verify expected structure\n",
    "    if df.shape[0] == 10000:\n",
    "        print(\"   ✅ Row count matches expected (10,000)\")\n",
    "    else:\n",
    "        print(f\"   ⚠️  Expected 10,000 rows, found {df.shape[0]}\")\n",
    "    \n",
    "    if df.shape[1] == 8:\n",
    "        print(\"   ✅ Column count matches expected (8)\")\n",
    "    else:\n",
    "        print(f\"   ⚠️  Expected 8 columns, found {df.shape[1]}\")\n",
    "        \n",
    "except FileNotFoundError:\n",
    "    print(\"❌ Could not find data file\")\n",
    "    print(\"   Make sure you're in the notebooks/ directory\")\n",
    "except Exception as e:\n",
    "    print(f\"❌ Error loading data: {e}\")"
   ]
  },
  {
   "cell_type": "markdown",
   "metadata": {},
   "source": [
    "## Step 6: Test Jupyter Display"
   ]
  },
  {
   "cell_type": "code",
   "execution_count": null,
   "metadata": {
    "execution": {
     "iopub.execute_input": "2025-10-08T09:12:46.155820Z",
     "iopub.status.busy": "2025-10-08T09:12:46.155765Z",
     "iopub.status.idle": "2025-10-08T09:12:46.160219Z",
     "shell.execute_reply": "2025-10-08T09:12:46.160054Z"
    }
   },
   "outputs": [],
   "source": [
    "# Test DataFrame display\n",
    "try:\n",
    "    test_df = pd.DataFrame({\n",
    "        'Product': ['Coffee', 'Tea', 'Sandwich'],\n",
    "        'Price': [3.50, 2.50, 6.00],\n",
    "        'Quantity': [10, 5, 8]\n",
    "    })\n",
    "    print(\"Testing DataFrame display:\")\n",
    "    display(test_df)\n",
    "    print(\"✅ DataFrame display working\")\n",
    "except Exception as e:\n",
    "    print(f\"⚠️  Display test: {e}\")\n",
    "    print(\"   This might be okay, display() may not work in all environments\")"
   ]
  },
  {
   "cell_type": "markdown",
   "metadata": {},
   "source": [
    "---\n",
    "\n",
    "## Summary"
   ]
  },
  {
   "cell_type": "code",
   "execution_count": null,
   "metadata": {
    "execution": {
     "iopub.execute_input": "2025-10-08T09:12:46.161116Z",
     "iopub.status.busy": "2025-10-08T09:12:46.161055Z",
     "iopub.status.idle": "2025-10-08T09:12:46.162910Z",
     "shell.execute_reply": "2025-10-08T09:12:46.162742Z"
    }
   },
   "outputs": [],
   "source": [
    "print(\"=\" * 50)\n",
    "print(\"SETUP CHECK SUMMARY\")\n",
    "print(\"=\" * 50)\n",
    "print()\n",
    "print(\"If you see ✅ for all critical items above, you're ready for class!\")\n",
    "print()\n",
    "print(\"Critical items:\")\n",
    "print(\"  • Python 3.8+\")\n",
    "print(\"  • pandas installed\")\n",
    "print(\"  • numpy installed\")\n",
    "print(\"  • Dataset file accessible\")\n",
    "print()\n",
    "print(\"Nice to have:\")\n",
    "print(\"  • duckdb installed (for Block B)\")\n",
    "print()\n",
    "print(\"If you see ❌ for any critical item, please:\")\n",
    "print(\"  1. Install missing packages: pip install pandas numpy\")\n",
    "print(\"  2. Verify you're in the correct directory\")\n",
    "print(\"  3. Contact instructor if problems persist\")\n",
    "print()\n",
    "print(\"See you in class!\")\n",
    "print(\"=\" * 50)"
   ]
  },
  {
   "cell_type": "markdown",
   "metadata": {},
   "source": [
    "---\n",
    "\n",
    "## Quick Installation Commands\n",
    "\n",
    "If you need to install packages, run these commands in your terminal (NOT in Jupyter):\n",
    "\n",
    "```bash\n",
    "# Install all required packages\n",
    "pip install pandas numpy duckdb\n",
    "\n",
    "# Or if using conda\n",
    "conda install pandas numpy\n",
    "pip install duckdb\n",
    "```\n",
    "\n",
    "After installing, restart this notebook kernel: **Kernel → Restart & Run All**"
   ]
  }
 ],
 "metadata": {
  "kernelspec": {
   "display_name": "Python (my_env)",
   "language": "python",
   "name": "my_env"
  },
  "language_info": {
   "codemirror_mode": {
    "name": "ipython",
    "version": 3
   },
   "file_extension": ".py",
   "mimetype": "text/x-python",
   "name": "python",
   "nbconvert_exporter": "python",
   "pygments_lexer": "ipython3",
   "version": "3.13.7"
  }
 },
 "nbformat": 4,
 "nbformat_minor": 4
}
