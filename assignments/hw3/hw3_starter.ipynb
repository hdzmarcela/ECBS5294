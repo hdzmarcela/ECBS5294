{
 "cells": [
  {
   "cell_type": "markdown",
   "id": "50271b24",
   "metadata": {},
   "source": [
    "# Homework 3: Multi-City Data Integration & Pipeline\n",
    "\n",
    "**Course:** ECBS5294 - Introduction to Data Science: Working with Data\n",
    "**Due:** Wednesday, October 29, 23:59\n",
    "**Total Points:** 100\n",
    "\n",
    "---\n",
    "\n",
    "## Student Information\n",
    "\n",
    "**Name:** [Your name here]\n",
    "**Date:** [Today's date]\n",
    "\n",
    "---\n",
    "\n",
    "## Assignment Overview\n",
    "\n",
    "You're a Data Analyst at PolicyMetrics, a consulting firm. Your task: integrate business licensing data from Chicago (CSV) and building permit data from NYC (JSON) into a clean analytical database.\n",
    "\n",
    "**Complete all 6 parts below.**\n",
    "\n",
    "**See full instructions:** `assignments/hw3/README.md`\n",
    "\n",
    "---"
   ]
  },
  {
   "cell_type": "code",
   "execution_count": null,
   "id": "e341f4d0",
   "metadata": {
    "execution": {
     "iopub.execute_input": "2025-10-20T16:45:34.362450Z",
     "iopub.status.busy": "2025-10-20T16:45:34.361984Z",
     "iopub.status.idle": "2025-10-20T16:45:34.624801Z",
     "shell.execute_reply": "2025-10-20T16:45:34.624030Z"
    }
   },
   "outputs": [],
   "source": [
    "# Setup (PROVIDED - don't modify)\n",
    "import pandas as pd\n",
    "import duckdb\n",
    "import json\n",
    "from IPython.display import display\n",
    "import warnings\n",
    "warnings.filterwarnings('ignore')\n",
    "\n",
    "# Create DuckDB connection\n",
    "con = duckdb.connect(':memory:')\n",
    "\n",
    "print(\"✅ Setup complete\")\n",
    "print(f\"\\nPandas version: {pd.__version__}\")\n",
    "print(f\"DuckDB version: {duckdb.__version__}\")"
   ]
  },
  {
   "cell_type": "markdown",
   "id": "c28278f9",
   "metadata": {},
   "source": [
    "---\n",
    "\n",
    "## Part 1: Data Ingestion & Exploration (15 points)\n",
    "\n",
    "**Load both datasets and profile them.**\n",
    "\n",
    "**TODO:**\n",
    "1. Load Chicago business licenses CSV\n",
    "2. Load NYC building permits JSON\n",
    "3. Display first rows of each\n",
    "4. Document row counts, columns, data types\n",
    "5. Note any obvious data quality issues\n",
    "\n",
    "---"
   ]
  },
  {
   "cell_type": "markdown",
   "id": "aaa5fdd5",
   "metadata": {},
   "source": [
    "### 1.1: Load Chicago Business Licenses (CSV)"
   ]
  },
  {
   "cell_type": "code",
   "execution_count": null,
   "id": "6832c58a",
   "metadata": {
    "execution": {
     "iopub.execute_input": "2025-10-20T16:45:34.627220Z",
     "iopub.status.busy": "2025-10-20T16:45:34.627030Z",
     "iopub.status.idle": "2025-10-20T16:45:34.767507Z",
     "shell.execute_reply": "2025-10-20T16:45:34.767285Z"
    }
   },
   "outputs": [],
   "source": [
    "# TODO: Load Chicago CSV\n",
    "\n",
    "# Load the CSV file\n",
    "chicago_df = pd.read_csv('../../data/day3/hw3_data_pack/chicago_business_licenses.csv')\n",
    "\n",
    "# Display basic info\n",
    "print(\"=== Chicago Business Licenses ===\\n\")\n",
    "print(f\"Rows: {len(chicago_df)}\")\n",
    "print(f\"Columns: {len(chicago_df.columns)}\")\n",
    "print(f\"\\nColumn names:\\n{list(chicago_df.columns)}\")\n",
    "\n",
    "# Display first few rows\n",
    "print(\"\\nFirst 5 rows:\")\n",
    "display(chicago_df.head())\n",
    "\n",
    "# Check data types\n",
    "print(\"\\nData types:\")\n",
    "print(chicago_df.dtypes)"
   ]
  },
  {
   "cell_type": "markdown",
   "id": "35819270",
   "metadata": {},
   "source": [
    "### 1.2: Load NYC Building Permits (JSON)"
   ]
  },
  {
   "cell_type": "code",
   "execution_count": null,
   "id": "f95b010e",
   "metadata": {
    "execution": {
     "iopub.execute_input": "2025-10-20T16:45:34.768598Z",
     "iopub.status.busy": "2025-10-20T16:45:34.768537Z",
     "iopub.status.idle": "2025-10-20T16:45:34.861860Z",
     "shell.execute_reply": "2025-10-20T16:45:34.861609Z"
    }
   },
   "outputs": [],
   "source": [
    "# TODO: Load NYC JSON\n",
    "\n",
    "# Load JSON file\n",
    "with open('../../data/day3/hw3_data_pack/nyc_building_permits.json', 'r') as f:\n",
    "    nyc_data = json.load(f)\n",
    "\n",
    "# Convert to DataFrame\n",
    "nyc_df = pd.DataFrame(nyc_data)\n",
    "\n",
    "# Display basic info\n",
    "print(\"=== NYC Building Permits ===\\n\")\n",
    "print(f\"Rows: {len(nyc_df)}\")\n",
    "print(f\"Columns: {len(nyc_df.columns)}\")\n",
    "print(f\"\\nColumn names:\\n{list(nyc_df.columns)}\")\n",
    "\n",
    "# Display first few rows\n",
    "print(\"\\nFirst 5 rows:\")\n",
    "display(nyc_df.head())\n",
    "\n",
    "# Check data types\n",
    "print(\"\\nData types:\")\n",
    "print(nyc_df.dtypes)"
   ]
  },
  {
   "cell_type": "markdown",
   "id": "2a1f623e",
   "metadata": {},
   "source": [
    "### 1.3: Initial Data Quality Observations\n",
    "\n",
    "**TODO:** Document what you notice about the data.\n",
    "\n",
    "(Double-click to edit this markdown cell and add your observations)\n",
    "\n",
    "**Chicago observations:**\n",
    "- [TODO: What do you notice? Missing values? Data types? Anything surprising?]\n",
    "\n",
    "**NYC observations:**\n",
    "- [TODO: What do you notice? Especially check lat/lon data types!]\n",
    "\n",
    "**Cross-dataset observations:**\n",
    "- [TODO: Any challenges you foresee in working with both datasets?]\n",
    "\n",
    "---"
   ]
  },
  {
   "cell_type": "markdown",
   "id": "625b8626",
   "metadata": {},
   "source": [
    "---\n",
    "\n",
    "## Part 2: Bronze Layer (20 points)\n",
    "\n",
    "**Load raw data into bronze tables (preserve as-is).**\n",
    "\n",
    "**TODO:**\n",
    "1. Create `bronze_chicago_licenses` table\n",
    "2. Create `bronze_nyc_permits` table\n",
    "3. Verify row counts match source files\n",
    "\n",
    "---"
   ]
  },
  {
   "cell_type": "code",
   "execution_count": null,
   "id": "8af2be7f",
   "metadata": {
    "execution": {
     "iopub.execute_input": "2025-10-20T16:45:34.863009Z",
     "iopub.status.busy": "2025-10-20T16:45:34.862939Z",
     "iopub.status.idle": "2025-10-20T16:45:34.991290Z",
     "shell.execute_reply": "2025-10-20T16:45:34.991069Z"
    }
   },
   "outputs": [],
   "source": [
    "# TODO: Create bronze tables\n",
    "\n",
    "print(\"=== BRONZE LAYER ===\\n\")\n",
    "\n",
    "# Bronze Chicago\n",
    "con.execute(\"CREATE TABLE bronze_chicago_licenses AS SELECT * FROM chicago_df\")\n",
    "chicago_count = con.execute(\"SELECT COUNT(*) FROM bronze_chicago_licenses\").fetchone()[0]\n",
    "print(f\"✓ Created bronze_chicago_licenses: {chicago_count} rows\")\n",
    "\n",
    "# Bronze NYC\n",
    "con.execute(\"CREATE TABLE bronze_nyc_permits AS SELECT * FROM nyc_df\")\n",
    "nyc_count = con.execute(\"SELECT COUNT(*) FROM bronze_nyc_permits\").fetchone()[0]\n",
    "print(f\"✓ Created bronze_nyc_permits: {nyc_count} rows\")\n",
    "\n",
    "# Verify counts match\n",
    "assert chicago_count == len(chicago_df), \"Chicago row count mismatch!\"\n",
    "assert nyc_count == len(nyc_df), \"NYC row count mismatch!\"\n",
    "\n",
    "print(\"\\n✅ Bronze layer complete: Raw data preserved\")"
   ]
  },
  {
   "cell_type": "markdown",
   "id": "c8d5718f",
   "metadata": {},
   "source": [
    "---\n",
    "\n",
    "## Part 3: Silver Layer - Normalization (25 points)\n",
    "\n",
    "**Transform into analysis-ready format.**\n",
    "\n",
    "**TODO:**\n",
    "1. Create clean silver tables with proper types\n",
    "2. Fix dates (parse to datetime)\n",
    "3. Convert NYC lat/lon from strings to floats\n",
    "4. Handle missing values appropriately\n",
    "5. Remove rows with NULL in critical fields\n",
    "6. Document cleaning decisions\n",
    "\n",
    "---"
   ]
  },
  {
   "cell_type": "markdown",
   "id": "f3d19f5b",
   "metadata": {},
   "source": [
    "### 3.1: Silver - Chicago Licenses"
   ]
  },
  {
   "cell_type": "code",
   "execution_count": null,
   "id": "99d14286",
   "metadata": {
    "execution": {
     "iopub.execute_input": "2025-10-20T16:45:34.992437Z",
     "iopub.status.busy": "2025-10-20T16:45:34.992363Z",
     "iopub.status.idle": "2025-10-20T16:45:35.026086Z",
     "shell.execute_reply": "2025-10-20T16:45:35.025854Z"
    }
   },
   "outputs": [],
   "source": [
    "# TODO: Create silver Chicago table\n",
    "\n",
    "print(\"=== SILVER: Chicago Licenses ===\\n\")\n",
    "\n",
    "con.execute(\"\"\"\n",
    "    CREATE TABLE silver_chicago_licenses AS\n",
    "    SELECT\n",
    "        license_id,\n",
    "        account_number,\n",
    "        legal_name,\n",
    "        doing_business_as_name,\n",
    "        address,\n",
    "        city,\n",
    "        state,\n",
    "        zip_code,\n",
    "        ward,\n",
    "        license_code,\n",
    "        license_description,\n",
    "        business_activity,\n",
    "        application_type,\n",
    "        TRY_CAST(application_created_date AS TIMESTAMP) as application_created_date,\n",
    "        TRY_CAST(license_start_date AS TIMESTAMP) as license_start_date,\n",
    "        TRY_CAST(expiration_date AS TIMESTAMP) as expiration_date,\n",
    "        license_status,\n",
    "        TRY_CAST(latitude AS DOUBLE) as latitude,\n",
    "        TRY_CAST(longitude AS DOUBLE) as longitude\n",
    "    FROM bronze_chicago_licenses\n",
    "    WHERE license_id IS NOT NULL  -- Remove rows without license ID\n",
    "\"\"\")\n",
    "\n",
    "# Check results\n",
    "silver_chicago_count = con.execute(\"SELECT COUNT(*) FROM silver_chicago_licenses\").fetchone()[0]\n",
    "removed_chicago = chicago_count - silver_chicago_count\n",
    "\n",
    "print(f\"Silver Chicago rows: {silver_chicago_count}\")\n",
    "print(f\"Removed {removed_chicago} rows with NULL license_id ({removed_chicago/chicago_count*100:.2f}%)\")\n",
    "\n",
    "# Verify types\n",
    "sample = con.execute(\"SELECT * FROM silver_chicago_licenses LIMIT 1\").df()\n",
    "print(f\"\\nDate type check:\")\n",
    "print(f\"  application_created_date: {sample['application_created_date'].dtype}\")\n",
    "print(f\"  license_start_date: {sample['license_start_date'].dtype}\")\n",
    "\n",
    "print(\"\\n✓ Silver Chicago complete\")"
   ]
  },
  {
   "cell_type": "markdown",
   "id": "a817a1bc",
   "metadata": {},
   "source": [
    "### 3.2: Silver - NYC Permits"
   ]
  },
  {
   "cell_type": "code",
   "execution_count": null,
   "id": "c6541548",
   "metadata": {
    "execution": {
     "iopub.execute_input": "2025-10-20T16:45:35.027309Z",
     "iopub.status.busy": "2025-10-20T16:45:35.027226Z",
     "iopub.status.idle": "2025-10-20T16:45:35.102950Z",
     "shell.execute_reply": "2025-10-20T16:45:35.102715Z"
    }
   },
   "outputs": [],
   "source": [
    "# TODO: Create silver NYC table\n",
    "\n",
    "print(\"=== SILVER: NYC Permits ===\\n\")\n",
    "\n",
    "# Critical: Convert lat/lon from strings to floats BEFORE creating table\n",
    "nyc_clean = nyc_df.copy()\n",
    "nyc_clean['gis_latitude'] = pd.to_numeric(nyc_clean['gis_latitude'], errors='coerce')\n",
    "nyc_clean['gis_longitude'] = pd.to_numeric(nyc_clean['gis_longitude'], errors='coerce')\n",
    "\n",
    "# Update the dataframe in DuckDB's scope\n",
    "con.register('nyc_clean', nyc_clean)\n",
    "\n",
    "con.execute(\"\"\"\n",
    "    CREATE TABLE silver_nyc_permits AS\n",
    "    SELECT\n",
    "        job__ as job_number,\n",
    "        borough,\n",
    "        bin__ as bin,\n",
    "        house__,\n",
    "        street_name,\n",
    "        zip_code,\n",
    "        job_type,\n",
    "        permit_status,\n",
    "        TRY_CAST(filing_date AS TIMESTAMP) as filing_date,\n",
    "        TRY_CAST(issuance_date AS TIMESTAMP) as issuance_date,\n",
    "        TRY_CAST(expiration_date AS TIMESTAMP) as expiration_date,\n",
    "        owner_s_business_name,\n",
    "        owner_s_first_name,\n",
    "        owner_s_last_name,\n",
    "        gis_latitude as latitude,  -- Already converted to float\n",
    "        gis_longitude as longitude  -- Already converted to float\n",
    "    FROM nyc_clean\n",
    "    WHERE job__ IS NOT NULL  -- Remove rows without job number\n",
    "\"\"\")\n",
    "\n",
    "# Check results\n",
    "silver_nyc_count = con.execute(\"SELECT COUNT(*) FROM silver_nyc_permits\").fetchone()[0]\n",
    "removed_nyc = nyc_count - silver_nyc_count\n",
    "\n",
    "print(f\"Silver NYC rows: {silver_nyc_count}\")\n",
    "print(f\"Removed {removed_nyc} rows with NULL job number ({removed_nyc/nyc_count*100:.2f}%)\")\n",
    "\n",
    "# Verify lat/lon are numeric\n",
    "sample_nyc = con.execute(\"SELECT * FROM silver_nyc_permits LIMIT 1\").df()\n",
    "print(f\"\\nLat/lon type check:\")\n",
    "print(f\"  latitude: {sample_nyc['latitude'].dtype}\")\n",
    "print(f\"  longitude: {sample_nyc['longitude'].dtype}\")\n",
    "\n",
    "print(\"\\n✓ Silver NYC complete\")"
   ]
  },
  {
   "cell_type": "markdown",
   "id": "200d6467",
   "metadata": {},
   "source": [
    "### 3.3: Document Cleaning Decisions\n",
    "\n",
    "**TODO:** Document what you did and why.\n",
    "\n",
    "(Double-click to edit)\n",
    "\n",
    "**Chicago cleaning:**\n",
    "- Removed [X] rows with NULL license_id\n",
    "- Parsed dates: application_created_date, license_start_date, expiration_date\n",
    "- Converted lat/lon to DOUBLE\n",
    "- [TODO: Any other decisions?]\n",
    "\n",
    "**NYC cleaning:**\n",
    "- Removed [X] rows with NULL job number\n",
    "- **Critical:** Converted gis_latitude and gis_longitude from STRING to FLOAT\n",
    "- Parsed dates: filing_date, issuance_date, expiration_date\n",
    "- [TODO: Any other decisions?]\n",
    "\n",
    "**Missing values:**\n",
    "- [TODO: How did you handle NULLs in non-critical fields?]\n",
    "\n",
    "---"
   ]
  },
  {
   "cell_type": "markdown",
   "id": "f3c2c048",
   "metadata": {},
   "source": [
    "---\n",
    "\n",
    "## Part 4: Silver Layer - Validations (15 points)\n",
    "\n",
    "**Write at least 3 assertions to validate data quality.**\n",
    "\n",
    "**Requirements:**\n",
    "- At least 3 validations (5 pts each)\n",
    "- Use assertions (raise error if fail)\n",
    "- Include clear error messages\n",
    "- Validate something meaningful\n",
    "\n",
    "**Suggestions:**\n",
    "1. Primary key uniqueness\n",
    "2. Required fields non-null\n",
    "3. Data types correct\n",
    "4. Date ranges reasonable\n",
    "5. Business rules (if applicable)\n",
    "\n",
    "---"
   ]
  },
  {
   "cell_type": "code",
   "execution_count": null,
   "id": "a6852dae",
   "metadata": {
    "execution": {
     "iopub.execute_input": "2025-10-20T16:45:35.104082Z",
     "iopub.status.busy": "2025-10-20T16:45:35.104010Z",
     "iopub.status.idle": "2025-10-20T16:45:35.107354Z",
     "shell.execute_reply": "2025-10-20T16:45:35.107129Z"
    }
   },
   "outputs": [],
   "source": [
    "# TODO: Write validations\n",
    "\n",
    "print(\"=== VALIDATIONS ===\\n\")\n",
    "\n",
    "# Validation 1: TODO - Add your validation\n",
    "# Example: Primary key uniqueness for Chicago\n",
    "chicago_total = con.execute(\"SELECT COUNT(*) FROM silver_chicago_licenses\").fetchone()[0]\n",
    "chicago_unique = con.execute(\"SELECT COUNT(DISTINCT license_id) FROM silver_chicago_licenses\").fetchone()[0]\n",
    "\n",
    "print(f\"✓ Validation 1: Chicago license_id uniqueness\")\n",
    "print(f\"  Total rows: {chicago_total}\")\n",
    "print(f\"  Unique license_ids: {chicago_unique}\")\n",
    "assert chicago_total == chicago_unique, f\"Duplicate license_ids! {chicago_total} rows but {chicago_unique} unique IDs\"\n",
    "print(\"  ✅ PASS\\n\")\n",
    "\n",
    "# Validation 2: TODO - Add your validation\n",
    "# Example: Primary key uniqueness for NYC\n",
    "\n",
    "\n",
    "# Validation 3: TODO - Add your validation\n",
    "# Example: Date types or ranges\n",
    "\n",
    "\n",
    "# Add more validations if desired (up to 5 total)\n",
    "\n",
    "\n",
    "print(\"=\"*60)\n",
    "print(\"✅ ALL VALIDATIONS PASSED\")\n",
    "print(\"=\"*60)"
   ]
  },
  {
   "cell_type": "markdown",
   "id": "fbe893b1",
   "metadata": {},
   "source": [
    "---\n",
    "\n",
    "## Part 5: Gold Layer - Analytics (15 points)\n",
    "\n",
    "**Create 5-7 business KPIs for the steering committee.**\n",
    "\n",
    "**Requirements:**\n",
    "- At least 5 KPIs (max 7)\n",
    "- Clear business context for each\n",
    "- Use appropriate aggregations\n",
    "- Display results clearly\n",
    "\n",
    "**Suggestions:**\n",
    "- Top license types (Chicago)\n",
    "- License status distribution (Chicago)\n",
    "- Permits by borough (NYC)\n",
    "- Time from filing to issuance (NYC)\n",
    "- Geographic analysis\n",
    "- Trend over time\n",
    "- Cross-city comparisons (creative!)\n",
    "\n",
    "---"
   ]
  },
  {
   "cell_type": "markdown",
   "id": "789b7061",
   "metadata": {},
   "source": [
    "### KPI 1: [Your KPI Title]\n",
    "\n",
    "**Business Question:** [Why does this matter?]"
   ]
  },
  {
   "cell_type": "code",
   "execution_count": null,
   "id": "97ee399c",
   "metadata": {
    "execution": {
     "iopub.execute_input": "2025-10-20T16:45:35.108581Z",
     "iopub.status.busy": "2025-10-20T16:45:35.108515Z",
     "iopub.status.idle": "2025-10-20T16:45:35.111375Z",
     "shell.execute_reply": "2025-10-20T16:45:35.111188Z"
    }
   },
   "outputs": [],
   "source": [
    "# TODO: KPI 1\n",
    "\n",
    "print(\"=== KPI 1: [Your Title] ===\\n\")\n",
    "\n",
    "result = con.execute(\"\"\"\n",
    "    -- TODO: Write your query\n",
    "    SELECT\n",
    "        'example' as placeholder,\n",
    "        COUNT(*) as count\n",
    "    FROM silver_chicago_licenses\n",
    "    LIMIT 10\n",
    "\"\"\").df()\n",
    "\n",
    "display(result)\n",
    "\n",
    "print(\"\\nInsight: [TODO: What does this tell us?]\")"
   ]
  },
  {
   "cell_type": "markdown",
   "id": "867cabb8",
   "metadata": {},
   "source": [
    "### KPI 2: [Your KPI Title]\n",
    "\n",
    "**Business Question:** [Why does this matter?]"
   ]
  },
  {
   "cell_type": "code",
   "execution_count": null,
   "id": "5d690082",
   "metadata": {
    "execution": {
     "iopub.execute_input": "2025-10-20T16:45:35.112313Z",
     "iopub.status.busy": "2025-10-20T16:45:35.112265Z",
     "iopub.status.idle": "2025-10-20T16:45:35.181814Z",
     "shell.execute_reply": "2025-10-20T16:45:35.181593Z"
    }
   },
   "outputs": [],
   "source": [
    "# TODO: KPI 2\n",
    "\n",
    "print(\"=== KPI 2: [Your Title] ===\\n\")\n",
    "\n",
    "result = con.execute(\"\"\"\n",
    "    -- TODO: Write your query\n",
    "\"\"\").df()\n",
    "\n",
    "display(result)\n",
    "\n",
    "print(\"\\nInsight: [TODO: What does this tell us?]\")"
   ]
  },
  {
   "cell_type": "markdown",
   "id": "f3f11b2d",
   "metadata": {},
   "source": [
    "### KPI 3: [Your KPI Title]\n",
    "\n",
    "**Business Question:** [Why does this matter?]"
   ]
  },
  {
   "cell_type": "code",
   "execution_count": null,
   "id": "0b9ef1e4",
   "metadata": {
    "execution": {
     "iopub.execute_input": "2025-10-20T16:45:35.183013Z",
     "iopub.status.busy": "2025-10-20T16:45:35.182957Z",
     "iopub.status.idle": "2025-10-20T16:45:35.191278Z",
     "shell.execute_reply": "2025-10-20T16:45:35.191027Z"
    }
   },
   "outputs": [],
   "source": [
    "# TODO: KPI 3\n",
    "\n",
    "print(\"=== KPI 3: [Your Title] ===\\n\")\n",
    "\n",
    "result = con.execute(\"\"\"\n",
    "    -- TODO: Write your query\n",
    "\"\"\").df()\n",
    "\n",
    "display(result)\n",
    "\n",
    "print(\"\\nInsight: [TODO: What does this tell us?]\")"
   ]
  },
  {
   "cell_type": "markdown",
   "id": "69b53072",
   "metadata": {},
   "source": [
    "### KPI 4: [Your KPI Title]\n",
    "\n",
    "**Business Question:** [Why does this matter?]"
   ]
  },
  {
   "cell_type": "code",
   "execution_count": null,
   "id": "1c8ef3b5",
   "metadata": {
    "execution": {
     "iopub.execute_input": "2025-10-20T16:45:35.192354Z",
     "iopub.status.busy": "2025-10-20T16:45:35.192290Z",
     "iopub.status.idle": "2025-10-20T16:45:35.200105Z",
     "shell.execute_reply": "2025-10-20T16:45:35.199909Z"
    }
   },
   "outputs": [],
   "source": [
    "# TODO: KPI 4\n",
    "\n",
    "print(\"=== KPI 4: [Your Title] ===\\n\")\n",
    "\n",
    "result = con.execute(\"\"\"\n",
    "    -- TODO: Write your query\n",
    "\"\"\").df()\n",
    "\n",
    "display(result)\n",
    "\n",
    "print(\"\\nInsight: [TODO: What does this tell us?]\")"
   ]
  },
  {
   "cell_type": "markdown",
   "id": "2de206fc",
   "metadata": {},
   "source": [
    "### KPI 5: [Your KPI Title]\n",
    "\n",
    "**Business Question:** [Why does this matter?]"
   ]
  },
  {
   "cell_type": "code",
   "execution_count": null,
   "id": "8d103b34",
   "metadata": {
    "execution": {
     "iopub.execute_input": "2025-10-20T16:45:35.201110Z",
     "iopub.status.busy": "2025-10-20T16:45:35.201040Z",
     "iopub.status.idle": "2025-10-20T16:45:35.208673Z",
     "shell.execute_reply": "2025-10-20T16:45:35.208476Z"
    }
   },
   "outputs": [],
   "source": [
    "# TODO: KPI 5\n",
    "\n",
    "print(\"=== KPI 5: [Your Title] ===\\n\")\n",
    "\n",
    "result = con.execute(\"\"\"\n",
    "    -- TODO: Write your query\n",
    "\"\"\").df()\n",
    "\n",
    "display(result)\n",
    "\n",
    "print(\"\\nInsight: [TODO: What does this tell us?]\")"
   ]
  },
  {
   "cell_type": "markdown",
   "id": "91b7da1a",
   "metadata": {},
   "source": [
    "### (Optional) KPI 6 & 7\n",
    "\n",
    "Add more KPIs if desired (max 7 total).\n",
    "\n",
    "---"
   ]
  },
  {
   "cell_type": "markdown",
   "id": "ed1cbb0e",
   "metadata": {},
   "source": [
    "---\n",
    "\n",
    "## Part 6: Documentation (10 points)\n",
    "\n",
    "**Two deliverables:**\n",
    "- A. Data Dictionary (5 pts)\n",
    "- B. Stakeholder Note (5 pts)\n",
    "\n",
    "---"
   ]
  },
  {
   "cell_type": "markdown",
   "id": "e80ed994",
   "metadata": {},
   "source": [
    "### A. Data Dictionary\n",
    "\n",
    "**TODO:** Document all tables you created.\n",
    "\n",
    "(Double-click to edit)\n",
    "\n",
    "#### TABLE: bronze_chicago_licenses\n",
    "- **Description:** Raw Chicago business license data as received\n",
    "- **Row count:** [TODO]\n",
    "- **Source:** ../../data/day3/hw3_data_pack/chicago_business_licenses.csv\n",
    "\n",
    "**Key columns:**\n",
    "- license_id (VARCHAR): [TODO: description]\n",
    "- legal_name (VARCHAR): [TODO: description]\n",
    "- ... [TODO: add more]\n",
    "\n",
    "---\n",
    "\n",
    "#### TABLE: bronze_nyc_permits\n",
    "- **Description:** Raw NYC building permit data as received\n",
    "- **Row count:** [TODO]\n",
    "- **Source:** ../../data/day3/hw3_data_pack/nyc_building_permits.json\n",
    "\n",
    "**Key columns:**\n",
    "- job__ (VARCHAR): [TODO: description]\n",
    "- borough (VARCHAR): [TODO: description]\n",
    "- ... [TODO: add more]\n",
    "\n",
    "---\n",
    "\n",
    "#### TABLE: silver_chicago_licenses\n",
    "- **Description:** Cleaned Chicago licenses, analysis-ready\n",
    "- **Row count:** [TODO]\n",
    "- **Source:** bronze_chicago_licenses\n",
    "- **Cleaning:** Removed [X] rows with NULL license_id, parsed dates\n",
    "\n",
    "**Columns:**\n",
    "- license_id (VARCHAR): Unique license identifier [PK]\n",
    "- application_created_date (TIMESTAMP): When application was created\n",
    "- license_start_date (TIMESTAMP): When license became effective\n",
    "- ... [TODO: document all columns]\n",
    "\n",
    "---\n",
    "\n",
    "#### TABLE: silver_nyc_permits\n",
    "- **Description:** Cleaned NYC permits, analysis-ready\n",
    "- **Row count:** [TODO]\n",
    "- **Source:** bronze_nyc_permits\n",
    "- **Cleaning:** Removed [X] rows with NULL job number, converted lat/lon to FLOAT\n",
    "\n",
    "**Columns:**\n",
    "- job_number (VARCHAR): Unique job identifier [PK]\n",
    "- borough (VARCHAR): NYC borough\n",
    "- filing_date (TIMESTAMP): When permit application was filed\n",
    "- latitude (DOUBLE): Latitude coordinate\n",
    "- longitude (DOUBLE): Longitude coordinate\n",
    "- ... [TODO: document all columns]\n",
    "\n",
    "---\n",
    "\n",
    "[TODO: Add any gold tables you created for KPIs]\n",
    "\n",
    "---"
   ]
  },
  {
   "cell_type": "markdown",
   "id": "dff73124",
   "metadata": {},
   "source": [
    "### B. Stakeholder Note\n",
    "\n",
    "**TODO:** Write 8-10 sentences for non-technical executives.\n",
    "\n",
    "**Audience:** City officials who need to make policy decisions (don't know SQL).\n",
    "\n",
    "**Include:**\n",
    "1. What the data shows (high-level findings)\n",
    "2. What assumptions you made\n",
    "3. What limitations exist\n",
    "4. What questions the data CAN'T answer\n",
    "5. Recommendations for next steps\n",
    "\n",
    "(Double-click to edit)\n",
    "\n",
    "---\n",
    "\n",
    "**Executive Summary: Multi-City Business Regulation Analysis**\n",
    "\n",
    "[TODO: Write your 8-10 sentence stakeholder note here]\n",
    "\n",
    "[Start with: \"This analysis integrated X Chicago business licenses and Y NYC building permits...\"]\n",
    "\n",
    "[Mention key findings from your KPIs]\n",
    "\n",
    "[Note assumptions: \"We assumed all licenses in 'AAC' status are currently active...\"]\n",
    "\n",
    "[Note limitations: \"This data cannot answer questions about business closures or economic impact...\"]\n",
    "\n",
    "[Conclude with recommendations: \"We recommend the steering committee focus on...\"]\n",
    "\n",
    "---"
   ]
  },
  {
   "cell_type": "markdown",
   "id": "cde6c885",
   "metadata": {},
   "source": [
    "---\n",
    "\n",
    "## ✅ Submission Checklist\n",
    "\n",
    "Before submitting, verify:\n",
    "\n",
    "- [ ] All 6 parts completed\n",
    "- [ ] Notebook runs end-to-end (Kernel → Restart & Run All)\n",
    "- [ ] All datasets load correctly with **relative paths**\n",
    "- [ ] All assertions pass (validations succeed)\n",
    "- [ ] At least 5 KPIs created and displayed\n",
    "- [ ] Data dictionary complete (all tables documented)\n",
    "- [ ] Stakeholder note written (8-10 sentences)\n",
    "- [ ] Student name filled in at top\n",
    "- [ ] File renamed: `hw3_[your_name].ipynb`\n",
    "\n",
    "**Submit on Moodle by Wednesday, October 29, 23:59**\n",
    "\n",
    "---\n",
    "\n",
    "## 🎉 Congratulations!\n",
    "\n",
    "You've completed the final project for ECBS5294!\n",
    "\n",
    "You've demonstrated:\n",
    "- ✅ Multi-format data ingestion (CSV + JSON)\n",
    "- ✅ Pipeline design (bronze → silver → gold)\n",
    "- ✅ Data validation (assertions)\n",
    "- ✅ SQL analytics (aggregations, KPIs)\n",
    "- ✅ Professional documentation\n",
    "\n",
    "**This is portfolio-worthy work.** You're ready to be a data professional!\n",
    "\n",
    "---"
   ]
  }
 ],
 "metadata": {
  "language_info": {
   "codemirror_mode": {
    "name": "ipython",
    "version": 3
   },
   "file_extension": ".py",
   "mimetype": "text/x-python",
   "name": "python",
   "nbconvert_exporter": "python",
   "pygments_lexer": "ipython3",
   "version": "3.12.9"
  }
 },
 "nbformat": 4,
 "nbformat_minor": 5
}
