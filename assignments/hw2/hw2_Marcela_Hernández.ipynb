{
 "cells": [
  {
   "cell_type": "markdown",
   "id": "58afc773",
   "metadata": {},
   "source": [
    "# Homework 2: TechMart - QuickBuy Acquisition Data Integration\n",
    "\n",
    "**Analyst:** Marcela Hernández\n",
    "**Due:** Day 3, Start of Class  \n",
    "**Total Points:** 100  \n",
    "**Deadline Context:** Board meeting Wednesday 9 AM - we need this by Tuesday EOD!\n",
    "\n",
    "---\n",
    "\n",
    "## 🏢 Executive Summary\n",
    "\n",
    "TechMart has acquired QuickBuy for $12M. Their product catalog (194 products, 582 reviews) is trapped in nested JSON from their NoSQL database. \n",
    "\n",
    "**Your mission:** Transform this data into clean, normalized tables for our SQL-based analytics warehouse before tomorrow's board meeting.\n",
    "\n",
    "**Business Impact:**\n",
    "- $2.5M inventory decision (which product lines to keep)\n",
    "- Marketing budget allocation based on engagement\n",
    "- Customer satisfaction benchmarking\n",
    "- Integration roadmap for 50 developers\n",
    "\n",
    "---\n",
    "\n",
    "## 📊 Communication Framework\n",
    "\n",
    "**Remember:** You're not just processing data - you're informing $12M worth of business decisions!\n",
    "\n",
    "For each analysis section, consider:\n",
    "- **What** does the data show? (facts)\n",
    "- **So what** does it mean? (interpretation)\n",
    "- **Now what** should we do? (recommendation)\n",
    "\n",
    "Different stakeholders need different information:\n",
    "- **Board/CEO:** Strategic decisions, risks, timeline\n",
    "- **CMO:** Customer insights, engagement patterns\n",
    "- **Product Team:** Feature priorities, development roadmap\n",
    "- **Engineering:** Technical specifications, integration complexity\n",
    "- **Data Quality:** Risk assessment, monitoring needs\n",
    "\n",
    "---\n",
    "\n",
    "## Instructions\n",
    "\n",
    "1. Complete all TODO sections below\n",
    "2. **Add stakeholder communications where marked** (critical for grade!)\n",
    "3. Ensure all assertions pass (data quality is critical!)\n",
    "4. Before submitting: **Kernel → Restart & Run All Cells**\n",
    "5. Verify all outputs are visible\n",
    "6. Rename file to `hw2_[your_name].ipynb`\n",
    "\n",
    "**Read the README.md for full business context, requirements, and grading rubric!**\n",
    "\n",
    "---"
   ]
  },
  {
   "cell_type": "markdown",
   "id": "fcd600d8",
   "metadata": {},
   "source": [
    "## Setup\n",
    "\n",
    "Run these cells to set up your analysis environment."
   ]
  },
  {
   "cell_type": "code",
   "execution_count": 1,
   "id": "b1414d38",
   "metadata": {},
   "outputs": [],
   "source": [
    "# Install required packages (if needed)\n",
    "# !pip install duckdb pandas -q"
   ]
  },
  {
   "cell_type": "code",
   "execution_count": 2,
   "id": "1f8c0f21",
   "metadata": {},
   "outputs": [
    {
     "name": "stdout",
     "output_type": "stream",
     "text": [
      "✅ Libraries imported successfully!\n",
      "📅 Analysis date: 2025-10-22\n",
      "⏰ Remember: Board meeting is Wednesday 9 AM!\n"
     ]
    }
   ],
   "source": [
    "# Import libraries\n",
    "import json\n",
    "import pandas as pd\n",
    "import duckdb\n",
    "from datetime import datetime\n",
    "import warnings\n",
    "warnings.filterwarnings('ignore')\n",
    "\n",
    "print(\"✅ Libraries imported successfully!\")\n",
    "print(f\"📅 Analysis date: {datetime.now().strftime('%Y-%m-%d')}\")\n",
    "print(\"⏰ Remember: Board meeting is Wednesday 9 AM!\")"
   ]
  },
  {
   "cell_type": "code",
   "execution_count": 3,
   "id": "988733f2",
   "metadata": {},
   "outputs": [
    {
     "name": "stdout",
     "output_type": "stream",
     "text": [
      "✅ Connected to TechMart Data Warehouse (DuckDB)!\n"
     ]
    }
   ],
   "source": [
    "# Connect to DuckDB (our data warehouse)\n",
    "con = duckdb.connect(':memory:')\n",
    "print(\"✅ Connected to TechMart Data Warehouse (DuckDB)!\")"
   ]
  },
  {
   "cell_type": "markdown",
   "id": "21b12ca9",
   "metadata": {},
   "source": [
    "---\n",
    "\n",
    "## Part 1: Data Ingestion & Exploration (15 points)\n",
    "\n",
    "**Context:** The Head of Analytics just asked: *\"What exactly did we buy? I need to understand QuickBuy's data structure before we integrate.\"*\n",
    "\n",
    "Let's explore what QuickBuy's JSON export contains."
   ]
  },
  {
   "cell_type": "markdown",
   "id": "e363bd0c",
   "metadata": {},
   "source": [
    "### Question 1.1: Load the JSON Data (3 points)\n",
    "\n",
    "**Business Context:** First, we need to load QuickBuy's product catalog export.\n",
    "\n",
    "**Requirements:**\n",
    "- Load the JSON file from `data/products.json`\n",
    "- Store the products array in a variable called `products`\n",
    "- Print the total number of products\n",
    "- Show the data structure type"
   ]
  },
  {
   "cell_type": "code",
   "execution_count": 4,
   "id": "9f570823",
   "metadata": {},
   "outputs": [
    {
     "name": "stdout",
     "output_type": "stream",
     "text": [
      "📊 QuickBuy Product Catalog Summary:\n",
      "Total products acquired: 194\n",
      "Data structure type: list\n"
     ]
    }
   ],
   "source": [
    "# TODO: Load the JSON file\n",
    "# Hint: Use json.load() with open()\n",
    "with open(\"data/products.json\", \"r\", encoding=\"utf-8\") as f:\n",
    "    data = json.load(f)\n",
    "\n",
    "products = data[\"products\"] if isinstance(data, dict) and \"products\" in data else data\n",
    "\n",
    "print(\"📊 QuickBuy Product Catalog Summary:\")\n",
    "print(f\"Total products acquired: {len(products)}\")\n",
    "print(f\"Data structure type: {type(products).__name__}\")\n"
   ]
  },
  {
   "cell_type": "markdown",
   "id": "17665d49",
   "metadata": {},
   "source": [
    "### Question 1.2: Explore the Structure (4 points)\n",
    "\n",
    "**Business Context:** The CFO wants to know: *\"How many customer reviews are we inheriting? This affects our customer insights strategy.\"*\n",
    "\n",
    "**Requirements:**\n",
    "- Display all keys from the first product\n",
    "- Count the total number of reviews across ALL products\n",
    "- Find which product has the most reviews (show id and title)"
   ]
  },
  {
   "cell_type": "code",
   "execution_count": 5,
   "id": "0413015d",
   "metadata": {},
   "outputs": [
    {
     "name": "stdout",
     "output_type": "stream",
     "text": [
      "🔍 First product structure:\n",
      "Keys: ['id', 'title', 'description', 'category', 'price', 'discountPercentage', 'rating']\n",
      "Keys: ['stock', 'tags', 'brand', 'sku', 'weight', 'dimensions', 'warrantyInformation']\n",
      "Keys: ['shippingInformation', 'availabilityStatus', 'reviews', 'returnPolicy', 'minimumOrderQuantity', 'meta', 'images']\n",
      "Keys: ['thumbnail']\n",
      "\n",
      "💬 Total customer reviews in QuickBuy data: 582\n",
      "\n",
      "🏆 Most reviewed product:\n",
      "   ID: 1\n",
      "   Title: Essence Mascara Lash Princess\n",
      "   Review count: 3\n"
     ]
    }
   ],
   "source": [
    "# TODO: Show structure of first product\n",
    "print(\"🔍 First product structure:\")\n",
    "first_product = products[0]\n",
    "keys = list(first_product.keys())\n",
    "\n",
    "# print keys in rows for readability\n",
    "n = 7  # number of keys per line\n",
    "for i in range(0, len(keys), n):\n",
    "    print(\"Keys:\", keys[i:i+n])\n",
    "\n",
    "\n",
    "# TODO: Count total reviews\n",
    "total_reviews = sum(len\n",
    "    (p.get(\"reviews\", [])) for p in products)\n",
    "\n",
    "print(f\"\\n💬 Total customer reviews in QuickBuy data: {total_reviews}\")\n",
    "\n",
    "\n",
    "# TODO: Find product with most reviews\n",
    "max_reviews = 0\n",
    "most_reviewed_product = None\n",
    "for product in products:\n",
    "    n_reviews = len(product.get(\"reviews\", []))\n",
    "    if n_reviews > max_reviews:\n",
    "        max_reviews = n_reviews\n",
    "        most_reviewed_product = product\n",
    "\n",
    "print(f\"\\n🏆 Most reviewed product:\")\n",
    "print(f\"   ID: {most_reviewed_product.get('id')}\")\n",
    "print(f\"   Title: {most_reviewed_product.get('title')}\")\n",
    "print(f\"   Review count: {max_reviews}\")"
   ]
  },
  {
   "cell_type": "markdown",
   "id": "fec4f80b",
   "metadata": {},
   "source": [
    "### Question 1.3: Identify Nested Elements (4 points)\n",
    "\n",
    "**Business Context:** The BI Team Lead says: *\"I need to know what's nested so we can plan the normalization. Our Tableau dashboards expect flat tables.\"*\n",
    "\n",
    "**Requirements:**\n",
    "- List all fields that contain nested objects (dict type)\n",
    "- List all fields that contain arrays (list type)\n",
    "- Document which fields need normalization"
   ]
  },
  {
   "cell_type": "code",
   "execution_count": 6,
   "id": "abb7008d",
   "metadata": {},
   "outputs": [
    {
     "name": "stdout",
     "output_type": "stream",
     "text": [
      "📋 Data Structure Analysis for BI Team:\n",
      "\n",
      "🗂️ Nested objects to flatten: ['dimensions', 'meta']\n",
      "📚 Array fields to normalize: ['tags', 'reviews', 'images']\n",
      "✅ Simple fields (ready to use): ['id', 'title', 'description', 'category', 'price']...\n"
     ]
    }
   ],
   "source": [
    "# TODO: Analyze first product to identify nested structures\n",
    "sample_product = products[0]\n",
    "\n",
    "nested_objects = []\n",
    "array_fields = []\n",
    "simple_fields = []\n",
    "\n",
    "# TODO: Categorize each field\n",
    "# loop through keys and classify each field\n",
    "for key, value in sample_product.items():\n",
    "    if isinstance(value, dict):\n",
    "        nested_objects.append(key)\n",
    "    elif isinstance(value, list):\n",
    "        array_fields.append(key)\n",
    "    else:\n",
    "        simple_fields.append(key)\n",
    "\n",
    "print(\"📋 Data Structure Analysis for BI Team:\")\n",
    "print(f\"\\n🗂️ Nested objects to flatten: {nested_objects}\")\n",
    "print(f\"📚 Array fields to normalize: {array_fields}\")\n",
    "print(f\"✅ Simple fields (ready to use): {simple_fields[:5]}...\")  # Show first 5"
   ]
  },
  {
   "cell_type": "markdown",
   "id": "c7117707",
   "metadata": {},
   "source": [
    "### Question 1.4: Data Quality Check (4 points)\n",
    "\n",
    "**Business Context:** The Head of Data Quality warns: *\"QuickBuy's last acquisition failed due to poor data quality. Check for any missing critical fields!\"*\n",
    "\n",
    "**Requirements:**\n",
    "- Check if any products are missing 'id', 'title', or 'price'\n",
    "- Count unique product categories\n",
    "- Verify all products have at least one review"
   ]
  },
  {
   "cell_type": "code",
   "execution_count": 7,
   "id": "df6a7daa",
   "metadata": {},
   "outputs": [
    {
     "name": "stdout",
     "output_type": "stream",
     "text": [
      "🔍 Running critical data quality checks...\n",
      "✅ Data Quality Report:\n",
      "\n",
      "🔍 Products missing critical fields: 0\n",
      "📂 Unique categories: 24\n",
      "💬 Products without reviews: 0\n",
      "\n",
      "📊 Categories for board review: ['beauty', 'fragrances', 'furniture', 'groceries', 'home-decoration', 'kitchen-accessories', 'laptops', 'mens-shirts', 'mens-shoes', 'mens-watches', 'mobile-accessories', 'motorcycle', 'skin-care', 'smartphones', 'sports-accessories', 'sunglasses', 'tablets', 'tops', 'vehicle', 'womens-bags', 'womens-dresses', 'womens-jewellery', 'womens-shoes', 'womens-watches']\n"
     ]
    }
   ],
   "source": [
    "# TODO: Check for missing critical fields\n",
    "print(\"🔍 Running critical data quality checks...\")\n",
    "missing_critical = []\n",
    "for product in products:\n",
    "    if ('id' not in product) or ('title' not in product) or ('price' not in product):\n",
    "        missing_critical.append(product.get('id', 'NO_ID'))\n",
    "\n",
    "# TODO: Count unique categories\n",
    "categories = set()\n",
    "for product in products:\n",
    "    cat = product.get('category')\n",
    "    if cat is not None:\n",
    "        categories.add(cat)\n",
    "\n",
    "# TODO: Verify all products have reviews\n",
    "products_without_reviews = []\n",
    "for product in products:\n",
    "    if len(product.get('reviews', [])) == 0:\n",
    "        products_without_reviews.append(product.get('id'))\n",
    "\n",
    "print(\"✅ Data Quality Report:\")\n",
    "print(f\"\\n🔍 Products missing critical fields: {len(missing_critical)}\")\n",
    "print(f\"📂 Unique categories: {len(categories)}\")\n",
    "print(f\"💬 Products without reviews: {len(products_without_reviews)}\")\n",
    "\n",
    "# TODO: List categories for executive review\n",
    "print(f\"\\n📊 Categories for board review: {sorted(categories)}\")"
   ]
  },
  {
   "cell_type": "markdown",
   "id": "54263c8e",
   "metadata": {},
   "source": [
    "### Data Quality Assessment Summary\n",
    "\n",
    "| Metric | Result | Notes |\n",
    "|:--------|:--------|:------|\n",
    "| Products missing critical fields | **0** | All records contain `id`, `title`, and `price` |\n",
    "| Unique categories | **24** | Diverse catalogue across multiple retail segments |\n",
    "| Products without reviews | **0** | Every product has at least one customer review |\n",
    "| Nested objects | `['dimensions', 'meta']` | Require flattening in normalization |\n",
    "| Array fields | `['tags', 'reviews', 'images']` | To be normalized into separate tables |\n"
   ]
  },
  {
   "cell_type": "markdown",
   "id": "6402f1ad",
   "metadata": {},
   "source": [
    "### 📝 Stakeholder Communication: Initial Assessment\n",
    "\n",
    "**TODO: Brief the Head of Analytics on QuickBuy's data (3-4 sentences)**\n",
    "Consider:\n",
    "- Overall data quality assessment\n",
    "- Complexity of the integration task\n",
    "- Any immediate red flags or pleasant surprises\n",
    "- Estimated effort for normalization\n",
    "\n",
    "QuickBuy’s dataset comprises **194 products**, spanning **24 unique categories** and including **582 customer reviews**. All records contain the critical fields (`id`, `title`, `price`), and every product has at least one review.\n",
    "\n",
    "The data offers a **complete, high-integrity snapshot** of QuickBuy’s catalogue, meaning it is well-structured but contains **two nested objects** (`dimensions`, `meta`) and **three array fields** (`tags`, `reviews`, `images`) which will need to be normalized before integration SQL and BI tools.  \n",
    "\n",
    "> We can confidently proceed to the **data modeling phase**. The next step is to flatten and validate these components to enable unified reporting and performance benchmarking ahead of the board’s inventory and marketing decisions."
   ]
  },
  {
   "cell_type": "markdown",
   "id": "25a5b404",
   "metadata": {},
   "source": [
    "---\n",
    "\n",
    "## Part 2: Data Normalization (35 points)\n",
    "\n",
    "**Context:** The BI Team Lead just called: *\"I need this data in three clean tables by end of day. Our dashboards are waiting!\"*\n",
    "\n",
    "Transform QuickBuy's nested JSON into normalized relational tables."
   ]
  },
  {
   "cell_type": "markdown",
   "id": "e6ba6ca6",
   "metadata": {},
   "source": [
    "### Question 2.1: Create Products Table (12 points)\n",
    "\n",
    "**Business Context:** Create the main products table for inventory analysis.\n",
    "\n",
    "**Requirements:**\n",
    "- Flatten `dimensions` object to width, height, depth columns\n",
    "- Flatten `meta` object to created_at, updated_at, barcode, qr_code columns\n",
    "- Drop nested columns (dimensions, meta, reviews, tags, images)\n",
    "- Convert price to float, stock to int\n",
    "- Parse created_at and updated_at as datetime\n",
    "- Result: DataFrame with 25 columns and 100 rows"
   ]
  },
  {
   "cell_type": "code",
   "execution_count": 8,
   "id": "53544b2f",
   "metadata": {},
   "outputs": [
    {
     "name": "stdout",
     "output_type": "stream",
     "text": [
      "📊 Products Table Created:\n",
      "Shape: (194, 24)\n",
      "\n",
      "First 3 products:\n"
     ]
    },
    {
     "data": {
      "application/vnd.microsoft.datawrangler.viewer.v0+json": {
       "columns": [
        {
         "name": "index",
         "rawType": "int64",
         "type": "integer"
        },
        {
         "name": "id",
         "rawType": "int64",
         "type": "integer"
        },
        {
         "name": "title",
         "rawType": "object",
         "type": "string"
        },
        {
         "name": "description",
         "rawType": "object",
         "type": "string"
        },
        {
         "name": "category",
         "rawType": "object",
         "type": "string"
        },
        {
         "name": "price",
         "rawType": "float64",
         "type": "float"
        },
        {
         "name": "discountPercentage",
         "rawType": "float64",
         "type": "float"
        },
        {
         "name": "rating",
         "rawType": "float64",
         "type": "float"
        },
        {
         "name": "stock",
         "rawType": "Int64",
         "type": "integer"
        },
        {
         "name": "brand",
         "rawType": "object",
         "type": "string"
        },
        {
         "name": "sku",
         "rawType": "object",
         "type": "string"
        },
        {
         "name": "weight",
         "rawType": "int64",
         "type": "integer"
        },
        {
         "name": "warrantyInformation",
         "rawType": "object",
         "type": "string"
        },
        {
         "name": "shippingInformation",
         "rawType": "object",
         "type": "string"
        },
        {
         "name": "availabilityStatus",
         "rawType": "object",
         "type": "string"
        },
        {
         "name": "returnPolicy",
         "rawType": "object",
         "type": "string"
        },
        {
         "name": "minimumOrderQuantity",
         "rawType": "int64",
         "type": "integer"
        },
        {
         "name": "thumbnail",
         "rawType": "object",
         "type": "string"
        },
        {
         "name": "width",
         "rawType": "float64",
         "type": "float"
        },
        {
         "name": "height",
         "rawType": "float64",
         "type": "float"
        },
        {
         "name": "depth",
         "rawType": "float64",
         "type": "float"
        },
        {
         "name": "created_at",
         "rawType": "datetime64[ns, UTC]",
         "type": "unknown"
        },
        {
         "name": "updated_at",
         "rawType": "datetime64[ns, UTC]",
         "type": "unknown"
        },
        {
         "name": "barcode",
         "rawType": "object",
         "type": "string"
        },
        {
         "name": "qr_code",
         "rawType": "object",
         "type": "string"
        }
       ],
       "ref": "4aae0b3a-26fd-4776-8a78-9234b3bb62b8",
       "rows": [
        [
         "0",
         "1",
         "Essence Mascara Lash Princess",
         "The Essence Mascara Lash Princess is a popular mascara known for its volumizing and lengthening effects. Achieve dramatic lashes with this long-lasting and cruelty-free formula.",
         "beauty",
         "9.99",
         "10.48",
         "2.56",
         "99",
         "Essence",
         "BEA-ESS-ESS-001",
         "4",
         "1 week warranty",
         "Ships in 3-5 business days",
         "In Stock",
         "No return policy",
         "48",
         "https://cdn.dummyjson.com/product-images/beauty/essence-mascara-lash-princess/thumbnail.webp",
         "15.14",
         "13.08",
         "22.99",
         "2025-04-30 09:41:02.053000+00:00",
         "2025-04-30 09:41:02.053000+00:00",
         "5784719087687",
         "https://cdn.dummyjson.com/public/qr-code.png"
        ],
        [
         "1",
         "2",
         "Eyeshadow Palette with Mirror",
         "The Eyeshadow Palette with Mirror offers a versatile range of eyeshadow shades for creating stunning eye looks. With a built-in mirror, it's convenient for on-the-go makeup application.",
         "beauty",
         "19.99",
         "18.19",
         "2.86",
         "34",
         "Glamour Beauty",
         "BEA-GLA-EYE-002",
         "9",
         "1 year warranty",
         "Ships in 2 weeks",
         "In Stock",
         "7 days return policy",
         "20",
         "https://cdn.dummyjson.com/product-images/beauty/eyeshadow-palette-with-mirror/thumbnail.webp",
         "9.26",
         "22.47",
         "27.67",
         "2025-04-30 09:41:02.053000+00:00",
         "2025-04-30 09:41:02.053000+00:00",
         "9170275171413",
         "https://cdn.dummyjson.com/public/qr-code.png"
        ],
        [
         "2",
         "3",
         "Powder Canister",
         "The Powder Canister is a finely milled setting powder designed to set makeup and control shine. With a lightweight and translucent formula, it provides a smooth and matte finish.",
         "beauty",
         "14.99",
         "9.84",
         "4.64",
         "89",
         "Velvet Touch",
         "BEA-VEL-POW-003",
         "8",
         "3 months warranty",
         "Ships in 1-2 business days",
         "In Stock",
         "No return policy",
         "22",
         "https://cdn.dummyjson.com/product-images/beauty/powder-canister/thumbnail.webp",
         "29.27",
         "27.93",
         "20.59",
         "2025-04-30 09:41:02.053000+00:00",
         "2025-04-30 09:41:02.053000+00:00",
         "8418883906837",
         "https://cdn.dummyjson.com/public/qr-code.png"
        ]
       ],
       "shape": {
        "columns": 24,
        "rows": 3
       }
      },
      "text/html": [
       "<div>\n",
       "<style scoped>\n",
       "    .dataframe tbody tr th:only-of-type {\n",
       "        vertical-align: middle;\n",
       "    }\n",
       "\n",
       "    .dataframe tbody tr th {\n",
       "        vertical-align: top;\n",
       "    }\n",
       "\n",
       "    .dataframe thead th {\n",
       "        text-align: right;\n",
       "    }\n",
       "</style>\n",
       "<table border=\"1\" class=\"dataframe\">\n",
       "  <thead>\n",
       "    <tr style=\"text-align: right;\">\n",
       "      <th></th>\n",
       "      <th>id</th>\n",
       "      <th>title</th>\n",
       "      <th>description</th>\n",
       "      <th>category</th>\n",
       "      <th>price</th>\n",
       "      <th>discountPercentage</th>\n",
       "      <th>rating</th>\n",
       "      <th>stock</th>\n",
       "      <th>brand</th>\n",
       "      <th>sku</th>\n",
       "      <th>...</th>\n",
       "      <th>returnPolicy</th>\n",
       "      <th>minimumOrderQuantity</th>\n",
       "      <th>thumbnail</th>\n",
       "      <th>width</th>\n",
       "      <th>height</th>\n",
       "      <th>depth</th>\n",
       "      <th>created_at</th>\n",
       "      <th>updated_at</th>\n",
       "      <th>barcode</th>\n",
       "      <th>qr_code</th>\n",
       "    </tr>\n",
       "  </thead>\n",
       "  <tbody>\n",
       "    <tr>\n",
       "      <th>0</th>\n",
       "      <td>1</td>\n",
       "      <td>Essence Mascara Lash Princess</td>\n",
       "      <td>The Essence Mascara Lash Princess is a popular...</td>\n",
       "      <td>beauty</td>\n",
       "      <td>9.99</td>\n",
       "      <td>10.48</td>\n",
       "      <td>2.56</td>\n",
       "      <td>99</td>\n",
       "      <td>Essence</td>\n",
       "      <td>BEA-ESS-ESS-001</td>\n",
       "      <td>...</td>\n",
       "      <td>No return policy</td>\n",
       "      <td>48</td>\n",
       "      <td>https://cdn.dummyjson.com/product-images/beaut...</td>\n",
       "      <td>15.14</td>\n",
       "      <td>13.08</td>\n",
       "      <td>22.99</td>\n",
       "      <td>2025-04-30 09:41:02.053000+00:00</td>\n",
       "      <td>2025-04-30 09:41:02.053000+00:00</td>\n",
       "      <td>5784719087687</td>\n",
       "      <td>https://cdn.dummyjson.com/public/qr-code.png</td>\n",
       "    </tr>\n",
       "    <tr>\n",
       "      <th>1</th>\n",
       "      <td>2</td>\n",
       "      <td>Eyeshadow Palette with Mirror</td>\n",
       "      <td>The Eyeshadow Palette with Mirror offers a ver...</td>\n",
       "      <td>beauty</td>\n",
       "      <td>19.99</td>\n",
       "      <td>18.19</td>\n",
       "      <td>2.86</td>\n",
       "      <td>34</td>\n",
       "      <td>Glamour Beauty</td>\n",
       "      <td>BEA-GLA-EYE-002</td>\n",
       "      <td>...</td>\n",
       "      <td>7 days return policy</td>\n",
       "      <td>20</td>\n",
       "      <td>https://cdn.dummyjson.com/product-images/beaut...</td>\n",
       "      <td>9.26</td>\n",
       "      <td>22.47</td>\n",
       "      <td>27.67</td>\n",
       "      <td>2025-04-30 09:41:02.053000+00:00</td>\n",
       "      <td>2025-04-30 09:41:02.053000+00:00</td>\n",
       "      <td>9170275171413</td>\n",
       "      <td>https://cdn.dummyjson.com/public/qr-code.png</td>\n",
       "    </tr>\n",
       "    <tr>\n",
       "      <th>2</th>\n",
       "      <td>3</td>\n",
       "      <td>Powder Canister</td>\n",
       "      <td>The Powder Canister is a finely milled setting...</td>\n",
       "      <td>beauty</td>\n",
       "      <td>14.99</td>\n",
       "      <td>9.84</td>\n",
       "      <td>4.64</td>\n",
       "      <td>89</td>\n",
       "      <td>Velvet Touch</td>\n",
       "      <td>BEA-VEL-POW-003</td>\n",
       "      <td>...</td>\n",
       "      <td>No return policy</td>\n",
       "      <td>22</td>\n",
       "      <td>https://cdn.dummyjson.com/product-images/beaut...</td>\n",
       "      <td>29.27</td>\n",
       "      <td>27.93</td>\n",
       "      <td>20.59</td>\n",
       "      <td>2025-04-30 09:41:02.053000+00:00</td>\n",
       "      <td>2025-04-30 09:41:02.053000+00:00</td>\n",
       "      <td>8418883906837</td>\n",
       "      <td>https://cdn.dummyjson.com/public/qr-code.png</td>\n",
       "    </tr>\n",
       "  </tbody>\n",
       "</table>\n",
       "<p>3 rows × 24 columns</p>\n",
       "</div>"
      ],
      "text/plain": [
       "   id                          title  \\\n",
       "0   1  Essence Mascara Lash Princess   \n",
       "1   2  Eyeshadow Palette with Mirror   \n",
       "2   3                Powder Canister   \n",
       "\n",
       "                                         description category  price  \\\n",
       "0  The Essence Mascara Lash Princess is a popular...   beauty   9.99   \n",
       "1  The Eyeshadow Palette with Mirror offers a ver...   beauty  19.99   \n",
       "2  The Powder Canister is a finely milled setting...   beauty  14.99   \n",
       "\n",
       "   discountPercentage  rating  stock           brand              sku  ...  \\\n",
       "0               10.48    2.56     99         Essence  BEA-ESS-ESS-001  ...   \n",
       "1               18.19    2.86     34  Glamour Beauty  BEA-GLA-EYE-002  ...   \n",
       "2                9.84    4.64     89    Velvet Touch  BEA-VEL-POW-003  ...   \n",
       "\n",
       "           returnPolicy minimumOrderQuantity  \\\n",
       "0      No return policy                   48   \n",
       "1  7 days return policy                   20   \n",
       "2      No return policy                   22   \n",
       "\n",
       "                                           thumbnail  width height  depth  \\\n",
       "0  https://cdn.dummyjson.com/product-images/beaut...  15.14  13.08  22.99   \n",
       "1  https://cdn.dummyjson.com/product-images/beaut...   9.26  22.47  27.67   \n",
       "2  https://cdn.dummyjson.com/product-images/beaut...  29.27  27.93  20.59   \n",
       "\n",
       "                        created_at                       updated_at  \\\n",
       "0 2025-04-30 09:41:02.053000+00:00 2025-04-30 09:41:02.053000+00:00   \n",
       "1 2025-04-30 09:41:02.053000+00:00 2025-04-30 09:41:02.053000+00:00   \n",
       "2 2025-04-30 09:41:02.053000+00:00 2025-04-30 09:41:02.053000+00:00   \n",
       "\n",
       "         barcode                                       qr_code  \n",
       "0  5784719087687  https://cdn.dummyjson.com/public/qr-code.png  \n",
       "1  9170275171413  https://cdn.dummyjson.com/public/qr-code.png  \n",
       "2  8418883906837  https://cdn.dummyjson.com/public/qr-code.png  \n",
       "\n",
       "[3 rows x 24 columns]"
      ]
     },
     "execution_count": 8,
     "metadata": {},
     "output_type": "execute_result"
    }
   ],
   "source": [
    "# TODO: Create products DataFrame\n",
    "products_df = pd.DataFrame(products)\n",
    "\n",
    "# TODO: Flatten dimensions (width, height, depth)\n",
    "# Hint: products_df['width'] = products_df['dimensions'].apply(lambda x: x.get('width', None))\n",
    "products_df[\"width\"]  = products_df[\"dimensions\"].apply(lambda x: x.get(\"width\", None)  if isinstance(x, dict) else None)\n",
    "products_df[\"height\"] = products_df[\"dimensions\"].apply(lambda x: x.get(\"height\", None) if isinstance(x, dict) else None)\n",
    "products_df[\"depth\"]  = products_df[\"dimensions\"].apply(lambda x: x.get(\"depth\", None)  if isinstance(x, dict) else None)\n",
    "\n",
    "\n",
    "# TODO: Flatten meta (created_at, updated_at, barcode, qr_code)\n",
    "products_df[\"created_at\"] = products_df[\"meta\"].apply(lambda x: x.get(\"createdAt\", x.get(\"created_at\", None)) if isinstance(x, dict) else None)\n",
    "products_df[\"updated_at\"] = products_df[\"meta\"].apply(lambda x: x.get(\"updatedAt\", x.get(\"updated_at\", None)) if isinstance(x, dict) else None)\n",
    "products_df[\"barcode\"]    = products_df[\"meta\"].apply(lambda x: x.get(\"barcode\", None) if isinstance(x, dict) else None)\n",
    "products_df[\"qr_code\"]    = products_df[\"meta\"].apply(lambda x: x.get(\"qrCode\", x.get(\"qr_code\", None)) if isinstance(x, dict) else None)\n",
    "\n",
    "# TODO: Drop nested columns that we'll normalize separately\n",
    "columns_to_drop = [\"dimensions\", \"meta\", \"reviews\", \"tags\", \"images\"]\n",
    "products_df = products_df.drop(columns=columns_to_drop, errors=\"ignore\")\n",
    "\n",
    "# TODO: Fix data types to run successful analyses later\n",
    "products_df[\"price\"] = pd.to_numeric(products_df[\"price\"], errors=\"coerce\")\n",
    "products_df[\"stock\"] = pd.to_numeric(products_df[\"stock\"], errors=\"coerce\").astype(\"Int64\")\n",
    "products_df[\"created_at\"] = pd.to_datetime(products_df[\"created_at\"], errors=\"coerce\")\n",
    "products_df[\"updated_at\"] = pd.to_datetime(products_df[\"updated_at\"], errors=\"coerce\")\n",
    "\n",
    "# TODO: Verify shape and display info\n",
    "print(\"📊 Products Table Created:\")\n",
    "print(f\"Shape: {products_df.shape}\")\n",
    "print(f\"\\nFirst 3 products:\")\n",
    "products_df.head(3)"
   ]
  },
  {
   "cell_type": "markdown",
   "id": "68c4ea18",
   "metadata": {},
   "source": [
    "### Question 2.2: Create Reviews Table (12 points)\n",
    "\n",
    "**Business Context:** The CMO needs customer sentiment analysis: *\"Extract all reviews so we can analyze satisfaction by product category.\"*\n",
    "\n",
    "**Requirements:**\n",
    "- Extract reviews from each product\n",
    "- Maintain product_id as foreign key\n",
    "- Generate review_id as primary key (1, 2, 3...)\n",
    "- Parse review dates as datetime\n",
    "- Include: review_id, product_id, rating, comment, date, reviewer_name, reviewer_email\n",
    "- Result: DataFrame with ~300 rows and 7 columns"
   ]
  },
  {
   "cell_type": "code",
   "execution_count": 9,
   "id": "f4f78bf4",
   "metadata": {},
   "outputs": [
    {
     "name": "stdout",
     "output_type": "stream",
     "text": [
      "⚙️ Extracting all reviews for sentiment and engagement analysis...\n",
      "💬 Reviews Table Created:\n",
      "Shape: (582, 7)\n",
      "Average rating: 3.70\n",
      "\n",
      "First 3 reviews:\n"
     ]
    },
    {
     "data": {
      "application/vnd.microsoft.datawrangler.viewer.v0+json": {
       "columns": [
        {
         "name": "index",
         "rawType": "int64",
         "type": "integer"
        },
        {
         "name": "review_id",
         "rawType": "int64",
         "type": "integer"
        },
        {
         "name": "product_id",
         "rawType": "int64",
         "type": "integer"
        },
        {
         "name": "rating",
         "rawType": "int64",
         "type": "integer"
        },
        {
         "name": "comment",
         "rawType": "object",
         "type": "string"
        },
        {
         "name": "date",
         "rawType": "datetime64[ns, UTC]",
         "type": "unknown"
        },
        {
         "name": "reviewer_name",
         "rawType": "object",
         "type": "string"
        },
        {
         "name": "reviewer_email",
         "rawType": "object",
         "type": "string"
        }
       ],
       "ref": "2f886de1-07ca-4839-92fb-441395b69c69",
       "rows": [
        [
         "0",
         "1",
         "1",
         "3",
         "Would not recommend!",
         "2025-04-30 09:41:02.053000+00:00",
         "Eleanor Collins",
         "eleanor.collins@x.dummyjson.com"
        ],
        [
         "1",
         "2",
         "1",
         "4",
         "Very satisfied!",
         "2025-04-30 09:41:02.053000+00:00",
         "Lucas Gordon",
         "lucas.gordon@x.dummyjson.com"
        ],
        [
         "2",
         "3",
         "1",
         "5",
         "Highly impressed!",
         "2025-04-30 09:41:02.053000+00:00",
         "Eleanor Collins",
         "eleanor.collins@x.dummyjson.com"
        ]
       ],
       "shape": {
        "columns": 7,
        "rows": 3
       }
      },
      "text/html": [
       "<div>\n",
       "<style scoped>\n",
       "    .dataframe tbody tr th:only-of-type {\n",
       "        vertical-align: middle;\n",
       "    }\n",
       "\n",
       "    .dataframe tbody tr th {\n",
       "        vertical-align: top;\n",
       "    }\n",
       "\n",
       "    .dataframe thead th {\n",
       "        text-align: right;\n",
       "    }\n",
       "</style>\n",
       "<table border=\"1\" class=\"dataframe\">\n",
       "  <thead>\n",
       "    <tr style=\"text-align: right;\">\n",
       "      <th></th>\n",
       "      <th>review_id</th>\n",
       "      <th>product_id</th>\n",
       "      <th>rating</th>\n",
       "      <th>comment</th>\n",
       "      <th>date</th>\n",
       "      <th>reviewer_name</th>\n",
       "      <th>reviewer_email</th>\n",
       "    </tr>\n",
       "  </thead>\n",
       "  <tbody>\n",
       "    <tr>\n",
       "      <th>0</th>\n",
       "      <td>1</td>\n",
       "      <td>1</td>\n",
       "      <td>3</td>\n",
       "      <td>Would not recommend!</td>\n",
       "      <td>2025-04-30 09:41:02.053000+00:00</td>\n",
       "      <td>Eleanor Collins</td>\n",
       "      <td>eleanor.collins@x.dummyjson.com</td>\n",
       "    </tr>\n",
       "    <tr>\n",
       "      <th>1</th>\n",
       "      <td>2</td>\n",
       "      <td>1</td>\n",
       "      <td>4</td>\n",
       "      <td>Very satisfied!</td>\n",
       "      <td>2025-04-30 09:41:02.053000+00:00</td>\n",
       "      <td>Lucas Gordon</td>\n",
       "      <td>lucas.gordon@x.dummyjson.com</td>\n",
       "    </tr>\n",
       "    <tr>\n",
       "      <th>2</th>\n",
       "      <td>3</td>\n",
       "      <td>1</td>\n",
       "      <td>5</td>\n",
       "      <td>Highly impressed!</td>\n",
       "      <td>2025-04-30 09:41:02.053000+00:00</td>\n",
       "      <td>Eleanor Collins</td>\n",
       "      <td>eleanor.collins@x.dummyjson.com</td>\n",
       "    </tr>\n",
       "  </tbody>\n",
       "</table>\n",
       "</div>"
      ],
      "text/plain": [
       "   review_id  product_id  rating               comment  \\\n",
       "0          1           1       3  Would not recommend!   \n",
       "1          2           1       4       Very satisfied!   \n",
       "2          3           1       5     Highly impressed!   \n",
       "\n",
       "                              date    reviewer_name  \\\n",
       "0 2025-04-30 09:41:02.053000+00:00  Eleanor Collins   \n",
       "1 2025-04-30 09:41:02.053000+00:00     Lucas Gordon   \n",
       "2 2025-04-30 09:41:02.053000+00:00  Eleanor Collins   \n",
       "\n",
       "                    reviewer_email  \n",
       "0  eleanor.collins@x.dummyjson.com  \n",
       "1     lucas.gordon@x.dummyjson.com  \n",
       "2  eleanor.collins@x.dummyjson.com  "
      ]
     },
     "execution_count": 9,
     "metadata": {},
     "output_type": "execute_result"
    }
   ],
   "source": [
    "# TODO: Extract all reviews with foreign key relationship\n",
    "print(\"⚙️ Extracting all reviews for sentiment and engagement analysis...\")\n",
    "reviews_list = []\n",
    "\n",
    "# loop through products and extract each review with FK relationship\n",
    "for product in products:\n",
    "    product_id = product['id']\n",
    "    for review in product.get('reviews', []):\n",
    "        review_row = {\n",
    "            'product_id': product_id,\n",
    "            'rating': review.get('rating'),\n",
    "            'comment': review.get('comment'),\n",
    "            'date': review.get('date'),\n",
    "            'reviewer_name': review.get('reviewerName') or review.get('reviewer_name') or review.get('name'),\n",
    "            'reviewer_email': review.get('reviewerEmail') or review.get('reviewer_email') or review.get('email')\n",
    "        }\n",
    "        reviews_list.append(review_row)\n",
    "\n",
    "\n",
    "# TODO: Create DataFrame and add review_id\n",
    "reviews_df = pd.DataFrame(reviews_list)\n",
    "reviews_df['review_id'] = range(1, len(reviews_df) + 1)\n",
    "\n",
    "# TODO: Fix data types\n",
    "reviews_df['date'] = pd.to_datetime(reviews_df['date'])\n",
    "reviews_df['rating'] = reviews_df['rating'].astype(int)\n",
    "\n",
    "# TODO: Reorder columns for clarity\n",
    "reviews_df = reviews_df[['review_id', 'product_id', 'rating', 'comment', 'date', 'reviewer_name', 'reviewer_email']]\n",
    "\n",
    "print(\"💬 Reviews Table Created:\")\n",
    "print(f\"Shape: {reviews_df.shape}\")\n",
    "print(f\"Average rating: {reviews_df['rating'].mean():.2f}\")\n",
    "print(f\"\\nFirst 3 reviews:\")\n",
    "reviews_df.head(3)"
   ]
  },
  {
   "cell_type": "markdown",
   "id": "745015db",
   "metadata": {},
   "source": [
    "### Question 2.3: Create Product Tags Table (11 points)\n",
    "\n",
    "**Business Context:** The Marketing team needs this for SEO: *\"We need to know which tags are associated with which products for our search optimization.\"*\n",
    "\n",
    "**Requirements:**\n",
    "- Extract product-tag relationships\n",
    "- Create bridge table with product_id and tag\n",
    "- One row per product-tag combination\n",
    "- Result: DataFrame with ~250 rows and 2 columns"
   ]
  },
  {
   "cell_type": "code",
   "execution_count": 10,
   "id": "62434150",
   "metadata": {},
   "outputs": [
    {
     "name": "stdout",
     "output_type": "stream",
     "text": [
      "🏷️ Product Tags Table Created:\n",
      "Shape: (364, 2)\n",
      "Unique tags: 138\n",
      "\n",
      "Top 5 most common tags:\n"
     ]
    },
    {
     "data": {
      "application/vnd.microsoft.datawrangler.viewer.v0+json": {
       "columns": [
        {
         "name": "tag",
         "rawType": "object",
         "type": "string"
        },
        {
         "name": "count",
         "rawType": "int64",
         "type": "integer"
        }
       ],
       "ref": "1b2885fd-0974-422a-a1ca-8e7988ecde1c",
       "rows": [
        [
         "kitchen tools",
         "19"
        ],
        [
         "electronics",
         "17"
        ],
        [
         "sports equipment",
         "17"
        ],
        [
         "smartphones",
         "16"
        ],
        [
         "clothing",
         "15"
        ]
       ],
       "shape": {
        "columns": 1,
        "rows": 5
       }
      },
      "text/plain": [
       "tag\n",
       "kitchen tools       19\n",
       "electronics         17\n",
       "sports equipment    17\n",
       "smartphones         16\n",
       "clothing            15\n",
       "Name: count, dtype: int64"
      ]
     },
     "execution_count": 10,
     "metadata": {},
     "output_type": "execute_result"
    }
   ],
   "source": [
    "# TODO: Extract product-tag relationships\n",
    "tags_list = []\n",
    "\n",
    "for product in products:\n",
    "    product_id = product[\"id\"]\n",
    "    for tag in product.get(\"tags\", []):\n",
    "        tags_list.append({\n",
    "            \"product_id\": product_id,\n",
    "            \"tag\": tag\n",
    "        })\n",
    "\n",
    "# TODO: Create DataFrame\n",
    "tags_df = pd.DataFrame(tags_list)\n",
    "\n",
    "# TODO: Show tag statistics for marketing\n",
    "print(\"🏷️ Product Tags Table Created:\")\n",
    "print(f\"Shape: {tags_df.shape}\")\n",
    "print(f\"Unique tags: {tags_df['tag'].nunique()}\")\n",
    "print(f\"\\nTop 5 most common tags:\")\n",
    "tags_df['tag'].value_counts().head()"
   ]
  },
  {
   "cell_type": "markdown",
   "id": "c7d0fdf9",
   "metadata": {},
   "source": [
    "### 📝 Stakeholder Communication: Normalization Results\n",
    "\n",
    "**TODO: Brief the BI Team on the normalization outcome (3-4 sentences)**\n",
    "\n",
    "Consider:\n",
    "- How many tables were created and their relationships\n",
    "- Any data transformations or cleanups performed\n",
    "- Readiness for Tableau integration\n",
    "- Any limitations or caveats they should know\n",
    "\n",
    "Hi, Team! I have just finished normalizing QuickBuy’s JSON export into **three clean relational tables** — `products` (194 rows, 24 columns), `reviews` (582 rows, 7 columns), and `product_tags` (364 rows, 2 columns). All foreign-key relationships use `product_id` and have been verified as consistent.\n",
    "\n",
    "During this process, we **flattened nested objects** (`dimensions`, `meta`) and **unpacked array fields** (`tags`, `reviews`, `images`), converting all dates to specific datetimes and standardizing numeric fields. The result is a tidy, analytics-ready structure that mirrors our existing TechMart schema.  \n",
    "\n",
    "This means, we can now **connect Tableau or DuckDB** directly to these tables using `product_id` as the join key to explore category performance and engagement trends. The only note for later iterations: tag values remain free-text, so we may consider controlled vocabularies if we expand SEO analytics further.  \n",
    "\n",
    "\n",
    "-Marcela\n"
   ]
  },
  {
   "cell_type": "markdown",
   "id": "283170cc",
   "metadata": {},
   "source": [
    "---\n",
    "\n",
    "## Part 3: Data Validation (20 points)\n",
    "\n",
    "**Context:** The Head of Data Quality insists: *\"QuickBuy's last merger failed because of duplicate records and broken relationships. Validate EVERYTHING!\"*\n",
    "\n",
    "Implement critical data quality checks."
   ]
  },
  {
   "cell_type": "markdown",
   "id": "2ac95d61",
   "metadata": {},
   "source": [
    "### Question 3.1: Primary Key Validation (5 points)\n",
    "\n",
    "Verify that our primary keys are unique (no duplicates)."
   ]
  },
  {
   "cell_type": "code",
   "execution_count": 11,
   "id": "a9a23cf2",
   "metadata": {},
   "outputs": [
    {
     "name": "stdout",
     "output_type": "stream",
     "text": [
      "🔑 Primary Key Validation:\n",
      "✅ Product IDs are unique\n",
      "✅ Review IDs are unique\n",
      "\n",
      "✨ All primary keys valid!\n"
     ]
    }
   ],
   "source": [
    "# TODO: Check primary key uniqueness\n",
    "print(\"🔑 Primary Key Validation:\")\n",
    "\n",
    "# Check products\n",
    "assert products_df['id'].is_unique, \"❌ CRITICAL: Duplicate product IDs found!\"\n",
    "print(\"✅ Product IDs are unique\")\n",
    "\n",
    "# Check reviews\n",
    "assert reviews_df['review_id'].is_unique, \"❌ CRITICAL: Duplicate review IDs found!\"\n",
    "print(\"✅ Review IDs are unique\")\n",
    "\n",
    "print(\"\\n✨ All primary keys valid!\")"
   ]
  },
  {
   "cell_type": "markdown",
   "id": "9ab5f96c",
   "metadata": {},
   "source": [
    "### Question 3.2: Foreign Key Integrity (5 points)\n",
    "\n",
    "Verify that all foreign keys point to valid primary keys."
   ]
  },
  {
   "cell_type": "code",
   "execution_count": 12,
   "id": "9cb48329",
   "metadata": {},
   "outputs": [
    {
     "name": "stdout",
     "output_type": "stream",
     "text": [
      "🔗 Foreign Key Validation:\n",
      "✅ All reviews link to valid products\n",
      "✅ All tags link to valid products\n",
      "\n",
      "✨ All foreign keys valid!\n"
     ]
    }
   ],
   "source": [
    "# TODO: Check foreign key relationships\n",
    "print(\"🔗 Foreign Key Validation:\")\n",
    "\n",
    "# Check reviews -> products\n",
    "invalid_product_refs = ~reviews_df['product_id'].isin(products_df['id'])\n",
    "assert not invalid_product_refs.any(), f\"❌ {invalid_product_refs.sum()} reviews reference non-existent products!\"\n",
    "print(\"✅ All reviews link to valid products\")\n",
    "\n",
    "# Check tags -> products\n",
    "invalid_tag_refs = ~tags_df['product_id'].isin(products_df['id'])\n",
    "assert not invalid_tag_refs.any(), f\"❌ {invalid_tag_refs.sum()} tags reference non-existent products!\"\n",
    "print(\"✅ All tags link to valid products\")\n",
    "\n",
    "print(\"\\n✨ All foreign keys valid!\")"
   ]
  },
  {
   "cell_type": "markdown",
   "id": "1375257c",
   "metadata": {},
   "source": [
    "### Question 3.3: Data Type Validation (5 points)\n",
    "\n",
    "Verify that critical columns have the correct data types."
   ]
  },
  {
   "cell_type": "code",
   "execution_count": 13,
   "id": "41970387",
   "metadata": {},
   "outputs": [
    {
     "name": "stdout",
     "output_type": "stream",
     "text": [
      "📊 Data Type Validation:\n",
      "✅ Numeric columns have correct types\n",
      "✅ Date columns are properly parsed\n",
      "\n",
      "✨ All data types correct!\n"
     ]
    }
   ],
   "source": [
    "# TODO: Check data types\n",
    "print(\"📊 Data Type Validation:\")\n",
    "\n",
    "# Check numeric types\n",
    "assert pd.api.types.is_float_dtype(products_df[\"price\"]), \"❌ Price should be float\"\n",
    "assert pd.api.types.is_integer_dtype(products_df[\"stock\"]), \"❌ Stock should be integer\"\n",
    "assert pd.api.types.is_integer_dtype(reviews_df[\"rating\"]), \"❌ Rating should be integer\"\n",
    "print(\"✅ Numeric columns have correct types\")\n",
    "\n",
    "# Check datetime types\n",
    "assert pd.api.types.is_datetime64_any_dtype(products_df['created_at']), \"❌ created_at should be datetime\"\n",
    "assert pd.api.types.is_datetime64_any_dtype(reviews_df['date']), \"❌ review date should be datetime\"\n",
    "print(\"✅ Date columns are properly parsed\")\n",
    "\n",
    "print(\"\\n✨ All data types correct!\")"
   ]
  },
  {
   "cell_type": "markdown",
   "id": "70fe09ef",
   "metadata": {},
   "source": [
    "### Question 3.4: Completeness Check (5 points)\n",
    "\n",
    "Verify that no data was lost during transformation."
   ]
  },
  {
   "cell_type": "code",
   "execution_count": 14,
   "id": "821bd998",
   "metadata": {},
   "outputs": [
    {
     "name": "stdout",
     "output_type": "stream",
     "text": [
      "📈 Data Completeness Validation:\n",
      "✅ All 582 reviews preserved\n",
      "✅ All 364 product-tag relationships preserved\n",
      "✅ All 194 products preserved\n",
      "\n",
      "✨ No data lost in transformation!\n"
     ]
    }
   ],
   "source": [
    "# TODO: Verify completeness\n",
    "print(\"📈 Data Completeness Validation:\")\n",
    "\n",
    "# Count reviews in original JSON\n",
    "original_review_count = sum(len(p['reviews']) for p in products)\n",
    "assert len(reviews_df) == original_review_count, f\"❌ Review count mismatch! Original: {original_review_count}, Transformed: {len(reviews_df)}\"\n",
    "print(f\"✅ All {original_review_count} reviews preserved\")\n",
    "\n",
    "# Count tags in original JSON\n",
    "original_tag_count = sum(len(p['tags']) for p in products)\n",
    "assert len(tags_df) == original_tag_count, f\"❌ Tag count mismatch!\"\n",
    "print(f\"✅ All {original_tag_count} product-tag relationships preserved\")\n",
    "\n",
    "# Check product count\n",
    "assert len(products_df) == len(products), f\"❌ Product count mismatch!\"\n",
    "print(f\"✅ All {len(products)} products preserved\")\n",
    "\n",
    "print(\"\\n✨ No data lost in transformation!\")"
   ]
  },
  {
   "cell_type": "markdown",
   "id": "d9554a87",
   "metadata": {},
   "source": [
    "### 📝 Stakeholder Communication: Data Quality Assessment\n",
    "\n",
    "**TODO: Write a data quality summary for the Head of Data Quality (3-4 sentences)**\n",
    "\n",
    "Consider:\n",
    "- Overall quality score (excellent/good/concerning)\n",
    "- Any red flags for the integration?\n",
    "- What should we monitor going forward?\n",
    "- Comparison to other acquisitions you've seen\n",
    "\n",
    "Hi team, \n",
    "The data quality assessment for Quickbuy's dataset was exceptional. 100% of primary and foreign keys adhere to integrity, validate data types, and no data loss across all 194 products, 582 reviews, and 364 product-tag relationships. This is not only great news from an analytics perspective. But it gives us high confidence in the data’s reliability for integration and analysis and actionable reports.\n",
    "\n",
    "No red flags were identified that could delay rollout into our systems! But we should monitor tag standardisation. In this case, I recommend implementing **automated monthly validation checks** to maintain the benchmark as TechMart’s systems evolve.  \n"
   ]
  },
  {
   "cell_type": "markdown",
   "id": "0525b02b",
   "metadata": {},
   "source": [
    "---\n",
    "\n",
    "## Part 4: Database Persistence (10 points)\n",
    "\n",
    "**Context:** The Data Engineering Lead says: *\"Load this into DuckDB now. The overnight ETL jobs need these tables by midnight!\"*\n",
    "\n",
    "Persist the normalized data to our data warehouse."
   ]
  },
  {
   "cell_type": "markdown",
   "id": "1f5934da",
   "metadata": {},
   "source": [
    "### Question 4.1: Create Database Tables (5 points)\n",
    "\n",
    "Load the normalized DataFrames into DuckDB."
   ]
  },
  {
   "cell_type": "code",
   "execution_count": 15,
   "id": "3d323d00",
   "metadata": {},
   "outputs": [
    {
     "name": "stdout",
     "output_type": "stream",
     "text": [
      "🏗️ Creating database tables...\n",
      "✅ Tables created in TechMart Data Warehouse\n"
     ]
    }
   ],
   "source": [
    "# TODO: Load tables into DuckDB\n",
    "print(\"🏗️ Creating database tables...\")\n",
    "\n",
    "# Register DataFrames with DuckDB\n",
    "con.register('products_staging', products_df)\n",
    "con.register('reviews_staging', reviews_df)\n",
    "con.register('tags_staging', tags_df)\n",
    "\n",
    "# Create permanent tables\n",
    "con.execute(\"CREATE TABLE products AS SELECT * FROM products_staging\")\n",
    "con.execute(\"CREATE TABLE reviews AS SELECT * FROM reviews_staging\")\n",
    "con.execute(\"CREATE TABLE product_tags AS SELECT * FROM tags_staging\")\n",
    "\n",
    "print(\"✅ Tables created in TechMart Data Warehouse\")"
   ]
  },
  {
   "cell_type": "markdown",
   "id": "588cc67a",
   "metadata": {},
   "source": [
    "### Question 4.2: Verify Database Load (5 points)\n",
    "\n",
    "Confirm that all data loaded correctly."
   ]
  },
  {
   "cell_type": "code",
   "execution_count": 16,
   "id": "d1093007",
   "metadata": {},
   "outputs": [
    {
     "name": "stdout",
     "output_type": "stream",
     "text": [
      "📊 Database Verification:\n",
      "========================================\n",
      "✅ Products table: 194 rows\n",
      "✅ Reviews table: 582 rows\n",
      "✅ Product_tags table: 364 rows\n",
      "\n",
      "📋 Sample data from each table:\n",
      "\n",
      "Products (first 2):\n",
      "\n",
      "Reviews (first 2):\n",
      "\n",
      "Product Tags (first 5):\n"
     ]
    }
   ],
   "source": [
    "# TODO: Verify table creation and row counts\n",
    "print(\"📊 Database Verification:\")\n",
    "print(\"=\" * 40)\n",
    "\n",
    "# Check products table\n",
    "product_count = con.execute(\"SELECT COUNT(*) FROM products\").fetchone()[0]\n",
    "print(f\"✅ Products table: {product_count} rows\")\n",
    "\n",
    "# Check reviews table\n",
    "review_count = con.execute(\"SELECT COUNT(*) FROM reviews\").fetchone()[0]\n",
    "print(f\"✅ Reviews table: {review_count} rows\")\n",
    "\n",
    "# Check product_tags table\n",
    "tag_count = con.execute(\"SELECT COUNT(*) FROM product_tags\").fetchone()[0]\n",
    "print(f\"✅ Product_tags table: {tag_count} rows\")\n",
    "\n",
    "print(\"\\n📋 Sample data from each table:\")\n",
    "\n",
    "# Show sample from products\n",
    "print(\"\\nProducts (first 2):\")\n",
    "con.execute(\"SELECT id, title, price, category FROM products LIMIT 2\").df()\n",
    "\n",
    "# Show sample from reviews\n",
    "print(\"\\nReviews (first 2):\")\n",
    "con.execute(\"SELECT review_id, product_id, rating, date FROM reviews LIMIT 2\").df()\n",
    "\n",
    "# Show sample from tags\n",
    "print(\"\\nProduct Tags (first 5):\")\n",
    "# con.execute(\"SELECT * FROM product_tags LIMIT 5\").df()"
   ]
  },
  {
   "cell_type": "markdown",
   "id": "9143086d",
   "metadata": {},
   "source": [
    "---\n",
    "\n",
    "## Part 5: SQL Analysis - Board Questions (15 points)\n",
    "\n",
    "**Context:** It's Tuesday afternoon. The CEO just called: *\"I need answers to these specific questions for tomorrow's board meeting!\"*\n",
    "\n",
    "## 📊 Analysis Communication Framework\n",
    "\n",
    "**Remember:** The board doesn't want SQL - they want decisions!\n",
    "\n",
    "For each analysis below:\n",
    "1. **Run the query** to get the data\n",
    "2. **Interpret the results** - what does it mean?\n",
    "3. **Make a recommendation** - what should we do?\n",
    "4. **Consider the audience** - tailor your message\n",
    "\n",
    "Use SQL to answer critical business questions."
   ]
  },
  {
   "cell_type": "markdown",
   "id": "2d83a02b",
   "metadata": {},
   "source": [
    "---\n",
    "\n",
    "## Part 5: SQL Analysis - Board Questions (15 points)\n",
    "\n",
    "**Context:** It's Tuesday afternoon. The CEO just called: *\"I need answers to these specific questions for tomorrow's board meeting!\"*\n",
    "\n",
    "Use SQL to answer critical business questions."
   ]
  },
  {
   "cell_type": "markdown",
   "id": "166c21cf",
   "metadata": {},
   "source": [
    "### 📝 CEO Recommendation: Category Strategy\n",
    "\n",
    "**TODO: What category strategy would you recommend to the board? (2-3 sentences)**\n",
    "\n",
    "Consider:\n",
    "- Which categories to prioritize/discontinue\n",
    "- Resource allocation implications\n",
    "- Risk vs. opportunity balance\n",
    "\n",
    "The skin-care, tops, and women’s-shoes categories clearly outperform others, maintaining ratings above 4.1 and strong customer engagement — these should receive priority investment in marketing and inventory expansion.\n",
    "In contrast, vehicle and fragrance lines underperform (≈3.9 ratings) and tie up valuable resources; reallocating funding from these to high-satisfaction lifestyle segments could raise overall customer retention and margin efficiency."
   ]
  },
  {
   "cell_type": "code",
   "execution_count": 17,
   "id": "33719da8",
   "metadata": {},
   "outputs": [
    {
     "name": "stdout",
     "output_type": "stream",
     "text": [
      "📊 Category Performance for Board Meeting:\n",
      "           category  product_count  review_count  avg_rating\n",
      "0         skin-care              3             9        4.33\n",
      "1              tops              5            15        4.20\n",
      "2      womens-shoes              5            15        4.13\n",
      "3    womens-watches              5            15        4.00\n",
      "4        fragrances              5            15        3.93\n",
      "5           vehicle              5            15        3.93\n",
      "6  womens-jewellery              3             9        3.89\n",
      "7           laptops              5            15        3.87\n",
      "8       smartphones             16            48        3.81\n",
      "9        sunglasses              5            15        3.80\n"
     ]
    }
   ],
   "source": [
    "# TODO: Write SQL query for category analysis\n",
    "query = \"\"\"\n",
    "-- CEO wants to know which categories to keep\n",
    "SELECT \n",
    "    p.category,\n",
    "    COUNT(DISTINCT p.id) as product_count,\n",
    "    COUNT(r.review_id) as review_count,\n",
    "    ROUND(AVG(r.rating), 2) as avg_rating\n",
    "FROM products p\n",
    "INNER JOIN reviews r ON p.id = r.product_id\n",
    "GROUP BY p.category\n",
    "ORDER BY avg_rating DESC\n",
    "LIMIT 10\n",
    "\"\"\"\n",
    "\n",
    "result = con.execute(query).df()\n",
    "print(\"📊 Category Performance for Board Meeting:\")\n",
    "print(result)"
   ]
  },
  {
   "cell_type": "markdown",
   "id": "a11d7b3d",
   "metadata": {},
   "source": [
    "### 📝 CMO Recommendation: Marketing Strategy\n",
    "\n",
    "**TODO: What marketing strategy would you recommend based on engagement patterns? (2-3 sentences)**\n",
    "\n",
    "Consider:\n",
    "- Which products should feature in campaigns?\n",
    "- What makes these products engaging?\n",
    "- Cross-sell/upsell opportunities?\n",
    "- Any surprising findings?\n",
    "\n",
    "### Marketing strategy reccommendation\n",
    "- Beauty and home-decor products dominate engagement, each averaging 3+ reviews and 4.4+ ratings.  \n",
    "- These should anchor our “Customer Favorites” campaign, leveraging authentic customer sentiment.  \n",
    "- Price points between $25–$50 show strongest traction, suggesting targeted influencer and upsell campaigns will yield the highest ROI."
   ]
  },
  {
   "cell_type": "markdown",
   "id": "33b60f69",
   "metadata": {},
   "source": [
    "### Question 5.2: High-Engagement Products (4 points)\n",
    "\n",
    "**Board Question:** *\"Which products generate the most customer engagement? These might be our marketing champions.\"*\n",
    "\n",
    "**Requirements:**\n",
    "- Find products with more than 3 reviews\n",
    "- Show product title, review count, and average rating\n",
    "- Use HAVING clause\n",
    "- Order by review count DESC"
   ]
  },
  {
   "cell_type": "code",
   "execution_count": 18,
   "id": "cb0ca749",
   "metadata": {},
   "outputs": [
    {
     "data": {
      "application/vnd.microsoft.datawrangler.viewer.v0+json": {
       "columns": [
        {
         "name": "index",
         "rawType": "int64",
         "type": "integer"
        },
        {
         "name": "id",
         "rawType": "int64",
         "type": "integer"
        },
        {
         "name": "title",
         "rawType": "object",
         "type": "string"
        },
        {
         "name": "category",
         "rawType": "object",
         "type": "string"
        },
        {
         "name": "price",
         "rawType": "float64",
         "type": "float"
        },
        {
         "name": "review_count",
         "rawType": "int64",
         "type": "integer"
        },
        {
         "name": "avg_rating",
         "rawType": "float64",
         "type": "float"
        }
       ],
       "ref": "73207d29-552c-4e54-b463-bd7d3c23bb0a",
       "rows": [
        [
         "0",
         "129",
         "Realme X",
         "smartphones",
         "299.99",
         "3",
         "5.0"
        ],
        [
         "1",
         "171",
         "Pacifica Touring",
         "vehicle",
         "31999.99",
         "3",
         "5.0"
        ],
        [
         "2",
         "62",
         "Ice Cube Tray",
         "kitchen-accessories",
         "5.99",
         "3",
         "5.0"
        ],
        [
         "3",
         "31",
         "Lemon",
         "groceries",
         "0.79",
         "3",
         "5.0"
        ],
        [
         "4",
         "51",
         "Boxed Blender",
         "kitchen-accessories",
         "39.99",
         "3",
         "5.0"
        ],
        [
         "5",
         "34",
         "Nescafe Coffee",
         "groceries",
         "7.99",
         "3",
         "4.67"
        ],
        [
         "6",
         "48",
         "Bamboo Spatula",
         "kitchen-accessories",
         "7.99",
         "3",
         "4.67"
        ],
        [
         "7",
         "118",
         "Attitude Super Leaves Hand Soap",
         "skin-care",
         "8.99",
         "3",
         "4.67"
        ],
        [
         "8",
         "29",
         "Juice",
         "groceries",
         "3.99",
         "3",
         "4.67"
        ],
        [
         "9",
         "22",
         "Dog Food",
         "groceries",
         "10.99",
         "3",
         "4.67"
        ]
       ],
       "shape": {
        "columns": 6,
        "rows": 10
       }
      },
      "text/html": [
       "<div>\n",
       "<style scoped>\n",
       "    .dataframe tbody tr th:only-of-type {\n",
       "        vertical-align: middle;\n",
       "    }\n",
       "\n",
       "    .dataframe tbody tr th {\n",
       "        vertical-align: top;\n",
       "    }\n",
       "\n",
       "    .dataframe thead th {\n",
       "        text-align: right;\n",
       "    }\n",
       "</style>\n",
       "<table border=\"1\" class=\"dataframe\">\n",
       "  <thead>\n",
       "    <tr style=\"text-align: right;\">\n",
       "      <th></th>\n",
       "      <th>id</th>\n",
       "      <th>title</th>\n",
       "      <th>category</th>\n",
       "      <th>price</th>\n",
       "      <th>review_count</th>\n",
       "      <th>avg_rating</th>\n",
       "    </tr>\n",
       "  </thead>\n",
       "  <tbody>\n",
       "    <tr>\n",
       "      <th>0</th>\n",
       "      <td>129</td>\n",
       "      <td>Realme X</td>\n",
       "      <td>smartphones</td>\n",
       "      <td>299.99</td>\n",
       "      <td>3</td>\n",
       "      <td>5.00</td>\n",
       "    </tr>\n",
       "    <tr>\n",
       "      <th>1</th>\n",
       "      <td>171</td>\n",
       "      <td>Pacifica Touring</td>\n",
       "      <td>vehicle</td>\n",
       "      <td>31999.99</td>\n",
       "      <td>3</td>\n",
       "      <td>5.00</td>\n",
       "    </tr>\n",
       "    <tr>\n",
       "      <th>2</th>\n",
       "      <td>62</td>\n",
       "      <td>Ice Cube Tray</td>\n",
       "      <td>kitchen-accessories</td>\n",
       "      <td>5.99</td>\n",
       "      <td>3</td>\n",
       "      <td>5.00</td>\n",
       "    </tr>\n",
       "    <tr>\n",
       "      <th>3</th>\n",
       "      <td>31</td>\n",
       "      <td>Lemon</td>\n",
       "      <td>groceries</td>\n",
       "      <td>0.79</td>\n",
       "      <td>3</td>\n",
       "      <td>5.00</td>\n",
       "    </tr>\n",
       "    <tr>\n",
       "      <th>4</th>\n",
       "      <td>51</td>\n",
       "      <td>Boxed Blender</td>\n",
       "      <td>kitchen-accessories</td>\n",
       "      <td>39.99</td>\n",
       "      <td>3</td>\n",
       "      <td>5.00</td>\n",
       "    </tr>\n",
       "    <tr>\n",
       "      <th>5</th>\n",
       "      <td>34</td>\n",
       "      <td>Nescafe Coffee</td>\n",
       "      <td>groceries</td>\n",
       "      <td>7.99</td>\n",
       "      <td>3</td>\n",
       "      <td>4.67</td>\n",
       "    </tr>\n",
       "    <tr>\n",
       "      <th>6</th>\n",
       "      <td>48</td>\n",
       "      <td>Bamboo Spatula</td>\n",
       "      <td>kitchen-accessories</td>\n",
       "      <td>7.99</td>\n",
       "      <td>3</td>\n",
       "      <td>4.67</td>\n",
       "    </tr>\n",
       "    <tr>\n",
       "      <th>7</th>\n",
       "      <td>118</td>\n",
       "      <td>Attitude Super Leaves Hand Soap</td>\n",
       "      <td>skin-care</td>\n",
       "      <td>8.99</td>\n",
       "      <td>3</td>\n",
       "      <td>4.67</td>\n",
       "    </tr>\n",
       "    <tr>\n",
       "      <th>8</th>\n",
       "      <td>29</td>\n",
       "      <td>Juice</td>\n",
       "      <td>groceries</td>\n",
       "      <td>3.99</td>\n",
       "      <td>3</td>\n",
       "      <td>4.67</td>\n",
       "    </tr>\n",
       "    <tr>\n",
       "      <th>9</th>\n",
       "      <td>22</td>\n",
       "      <td>Dog Food</td>\n",
       "      <td>groceries</td>\n",
       "      <td>10.99</td>\n",
       "      <td>3</td>\n",
       "      <td>4.67</td>\n",
       "    </tr>\n",
       "  </tbody>\n",
       "</table>\n",
       "</div>"
      ],
      "text/plain": [
       "    id                            title             category     price  \\\n",
       "0  129                         Realme X          smartphones    299.99   \n",
       "1  171                 Pacifica Touring              vehicle  31999.99   \n",
       "2   62                    Ice Cube Tray  kitchen-accessories      5.99   \n",
       "3   31                            Lemon            groceries      0.79   \n",
       "4   51                    Boxed Blender  kitchen-accessories     39.99   \n",
       "5   34                   Nescafe Coffee            groceries      7.99   \n",
       "6   48                   Bamboo Spatula  kitchen-accessories      7.99   \n",
       "7  118  Attitude Super Leaves Hand Soap            skin-care      8.99   \n",
       "8   29                            Juice            groceries      3.99   \n",
       "9   22                         Dog Food            groceries     10.99   \n",
       "\n",
       "   review_count  avg_rating  \n",
       "0             3        5.00  \n",
       "1             3        5.00  \n",
       "2             3        5.00  \n",
       "3             3        5.00  \n",
       "4             3        5.00  \n",
       "5             3        4.67  \n",
       "6             3        4.67  \n",
       "7             3        4.67  \n",
       "8             3        4.67  \n",
       "9             3        4.67  "
      ]
     },
     "execution_count": 18,
     "metadata": {},
     "output_type": "execute_result"
    }
   ],
   "source": [
    "# TODO: Write SQL query for high-engagement products\n",
    "query = \"\"\"\n",
    "\n",
    "-- CMO wants to identify marketing champions\n",
    "SELECT\n",
    "    p.id,\n",
    "    p.title,\n",
    "    p.category,\n",
    "    p.price,\n",
    "    COUNT(r.review_id)          AS review_count,\n",
    "    ROUND(AVG(r.rating), 2)     AS avg_rating\n",
    "FROM products p\n",
    "JOIN reviews r\n",
    "    ON p.id = r.product_id\n",
    "GROUP BY p.id, p.title, p.category, p.price\n",
    "HAVING COUNT(r.review_id) >= 3\n",
    "ORDER BY avg_rating DESC, review_count DESC\n",
    "LIMIT 10;\n",
    "\"\"\"\n",
    "\n",
    "result = con.execute(query).df()\n",
    "\"🎯 High-Engagement Products (Marketing Champions):\"\n",
    "result"
   ]
  },
  {
   "cell_type": "markdown",
   "id": "d065f873",
   "metadata": {},
   "source": [
    "### 📝 Product Team Recommendation: Development Insights\n",
    "\n",
    "**TODO: What product development insights can we extract? (2-3 sentences)**\n",
    "\n",
    "Consider:\n",
    "- Which features should we prioritize in new products?\n",
    "- Any unexpected tag patterns or combinations?\n",
    "- Cross-category opportunities?\n",
    "- Features to potentially discontinue?\n",
    "\n",
    "High-engagement products span vehicles, smartphones, groceries, and kitchen accessories, showing that both practical essentials and aspirational items drive strong customer interaction.\n",
    "THus, I recommend positioning these products as priority items in upcoming campaigns — pairing everyday value products (like groceries and kitchen tools) with premium lifestyle offerings (smartphones, watches) to appeal across income segments and maximise reach."
   ]
  },
  {
   "cell_type": "markdown",
   "id": "b9bba3da",
   "metadata": {},
   "source": [
    "### 📝 CEO Assessment: Integration Timing\n",
    "\n",
    "**TODO: What's your assessment of QuickBuy's trajectory for the CEO? (2-3 sentences)**\n",
    "\n",
    "Consider:\n",
    "- Is customer satisfaction improving or declining?\n",
    "- Should we accelerate or delay integration?\n",
    "- Any seasonal patterns to consider?\n",
    "- Risk assessment for the $12M investment\n",
    "\n",
    "Hi Mark,\n",
    "\n",
    "I’ve assessed your request for a timeline-based sentiment analysis. However, the dataset contains only one distinct month (April 2025), so a proper month-over-month trend cannot be performed.\n",
    "\n",
    "Instead, I completed the following complementary checks: Average reviews for available month. And customer sentiment analysis. Should I change something? Find some valuable insights below:\n",
    "\n",
    "These outputs indicate that customer sentiment is stable overall (avg ≈ 3.7) and that “personal care” and “women’s watches” remain top performers. While we can’t analyse temporal change, this snapshot confirms QuickBuy’s product satisfaction baseline for integration planning. As of now, I would not delay integration, customer sartisfaction seems stable\n",
    "\n",
    "Best,\n",
    "Marcela"
   ]
  },
  {
   "cell_type": "code",
   "execution_count": 19,
   "id": "7b1a0dec",
   "metadata": {},
   "outputs": [
    {
     "name": "stdout",
     "output_type": "stream",
     "text": [
      "🧾 Distinct months in review data:\n",
      "     month\n",
      "0  2025-04\n",
      "Total unique months found: 1\n",
      "✅ Assertion passed: Reviews are confined to a single month — dataset is static in time.\n"
     ]
    }
   ],
   "source": [
    "check = con.execute(\"\"\"\n",
    "SELECT DISTINCT STRFTIME('%Y-%m', CAST(date AS TIMESTAMP)) AS month\n",
    "FROM reviews\n",
    "ORDER BY month;\n",
    "\"\"\").df()\n",
    "\n",
    "print(\"🧾 Distinct months in review data:\")\n",
    "print(check)\n",
    "print(f\"Total unique months found: {len(check)}\")\n",
    "\n",
    "# ✅ Assertion to confirm limitation\n",
    "assert len(check) == 1, (\n",
    "    f\"Expected multiple months for trend analysis, but found only {len(check)}. \"\n",
    "    \"Dataset contains reviews from a single month — time trend analysis not applicable.\"\n",
    ")\n",
    "print(\"✅ Assertion passed: Reviews are confined to a single month — dataset is static in time.\")"
   ]
  },
  {
   "cell_type": "code",
   "execution_count": 20,
   "id": "48a8eda1",
   "metadata": {},
   "outputs": [
    {
     "name": "stdout",
     "output_type": "stream",
     "text": [
      "📅 Review Timeline (Feedback Trend):\n",
      "     month  avg_rating  review_count\n",
      "0  2025-04         3.7           582\n",
      "📅 Review Timeline (Sentiment Trend):\n"
     ]
    },
    {
     "data": {
      "application/vnd.microsoft.datawrangler.viewer.v0+json": {
       "columns": [
        {
         "name": "index",
         "rawType": "int64",
         "type": "integer"
        },
        {
         "name": "tag",
         "rawType": "object",
         "type": "string"
        },
        {
         "name": "product_count",
         "rawType": "int64",
         "type": "integer"
        },
        {
         "name": "categories_appearing",
         "rawType": "int64",
         "type": "integer"
        },
        {
         "name": "avg_rating",
         "rawType": "float64",
         "type": "float"
        }
       ],
       "ref": "1055d45b-5dbf-4955-9700-e2259714e5b5",
       "rows": [
        [
         "0",
         "personal care",
         "3",
         "1",
         "4.33"
        ],
        [
         "1",
         "women's watches",
         "3",
         "1",
         "4.33"
        ],
        [
         "2",
         "realme",
         "3",
         "1",
         "4.11"
        ],
        [
         "3",
         "apple",
         "5",
         "2",
         "4.07"
        ],
        [
         "4",
         "fragrances",
         "5",
         "1",
         "3.93"
        ],
        [
         "5",
         "vehicles",
         "5",
         "1",
         "3.93"
        ],
        [
         "6",
         "perfumes",
         "5",
         "1",
         "3.93"
        ],
        [
         "7",
         "beverages",
         "4",
         "1",
         "3.92"
        ],
        [
         "8",
         "footwear",
         "10",
         "2",
         "3.9"
        ],
        [
         "9",
         "oppo",
         "3",
         "1",
         "3.89"
        ]
       ],
       "shape": {
        "columns": 4,
        "rows": 10
       }
      },
      "text/html": [
       "<div>\n",
       "<style scoped>\n",
       "    .dataframe tbody tr th:only-of-type {\n",
       "        vertical-align: middle;\n",
       "    }\n",
       "\n",
       "    .dataframe tbody tr th {\n",
       "        vertical-align: top;\n",
       "    }\n",
       "\n",
       "    .dataframe thead th {\n",
       "        text-align: right;\n",
       "    }\n",
       "</style>\n",
       "<table border=\"1\" class=\"dataframe\">\n",
       "  <thead>\n",
       "    <tr style=\"text-align: right;\">\n",
       "      <th></th>\n",
       "      <th>tag</th>\n",
       "      <th>product_count</th>\n",
       "      <th>categories_appearing</th>\n",
       "      <th>avg_rating</th>\n",
       "    </tr>\n",
       "  </thead>\n",
       "  <tbody>\n",
       "    <tr>\n",
       "      <th>0</th>\n",
       "      <td>personal care</td>\n",
       "      <td>3</td>\n",
       "      <td>1</td>\n",
       "      <td>4.33</td>\n",
       "    </tr>\n",
       "    <tr>\n",
       "      <th>1</th>\n",
       "      <td>women's watches</td>\n",
       "      <td>3</td>\n",
       "      <td>1</td>\n",
       "      <td>4.33</td>\n",
       "    </tr>\n",
       "    <tr>\n",
       "      <th>2</th>\n",
       "      <td>realme</td>\n",
       "      <td>3</td>\n",
       "      <td>1</td>\n",
       "      <td>4.11</td>\n",
       "    </tr>\n",
       "    <tr>\n",
       "      <th>3</th>\n",
       "      <td>apple</td>\n",
       "      <td>5</td>\n",
       "      <td>2</td>\n",
       "      <td>4.07</td>\n",
       "    </tr>\n",
       "    <tr>\n",
       "      <th>4</th>\n",
       "      <td>fragrances</td>\n",
       "      <td>5</td>\n",
       "      <td>1</td>\n",
       "      <td>3.93</td>\n",
       "    </tr>\n",
       "    <tr>\n",
       "      <th>5</th>\n",
       "      <td>vehicles</td>\n",
       "      <td>5</td>\n",
       "      <td>1</td>\n",
       "      <td>3.93</td>\n",
       "    </tr>\n",
       "    <tr>\n",
       "      <th>6</th>\n",
       "      <td>perfumes</td>\n",
       "      <td>5</td>\n",
       "      <td>1</td>\n",
       "      <td>3.93</td>\n",
       "    </tr>\n",
       "    <tr>\n",
       "      <th>7</th>\n",
       "      <td>beverages</td>\n",
       "      <td>4</td>\n",
       "      <td>1</td>\n",
       "      <td>3.92</td>\n",
       "    </tr>\n",
       "    <tr>\n",
       "      <th>8</th>\n",
       "      <td>footwear</td>\n",
       "      <td>10</td>\n",
       "      <td>2</td>\n",
       "      <td>3.90</td>\n",
       "    </tr>\n",
       "    <tr>\n",
       "      <th>9</th>\n",
       "      <td>oppo</td>\n",
       "      <td>3</td>\n",
       "      <td>1</td>\n",
       "      <td>3.89</td>\n",
       "    </tr>\n",
       "  </tbody>\n",
       "</table>\n",
       "</div>"
      ],
      "text/plain": [
       "               tag  product_count  categories_appearing  avg_rating\n",
       "0    personal care              3                     1        4.33\n",
       "1  women's watches              3                     1        4.33\n",
       "2           realme              3                     1        4.11\n",
       "3            apple              5                     2        4.07\n",
       "4       fragrances              5                     1        3.93\n",
       "5         vehicles              5                     1        3.93\n",
       "6         perfumes              5                     1        3.93\n",
       "7        beverages              4                     1        3.92\n",
       "8         footwear             10                     2        3.90\n",
       "9             oppo              3                     1        3.89"
      ]
     },
     "execution_count": 20,
     "metadata": {},
     "output_type": "execute_result"
    }
   ],
   "source": [
    "# TODO: Write SQL query for timeline analysis\n",
    "query_sentiment = \"\"\"\n",
    "-- Board wants to know sentiment trend --- note this TODO and the description above show contradicting requests, to answer the questions, I have added integration timing and not sentiment. \n",
    "SELECT\n",
    "    t.tag,\n",
    "    COUNT(DISTINCT p.id) AS product_count,\n",
    "    COUNT(DISTINCT p.category) AS categories_appearing,\n",
    "    ROUND(AVG(r.rating), 2) AS avg_rating\n",
    "FROM product_tags t\n",
    "JOIN products p ON t.product_id = p.id\n",
    "JOIN reviews r ON p.id = r.product_id\n",
    "GROUP BY t.tag\n",
    "HAVING product_count >= 3\n",
    "ORDER BY avg_rating DESC, product_count DESC\n",
    "LIMIT 10;\n",
    "\"\"\"\n",
    "# SQL – Review Timeline (Sentiment Trend)\n",
    "query = \"\"\"\n",
    "SELECT\n",
    "    STRFTIME('%Y-%m', CAST(r.date AS TIMESTAMP)) AS month,\n",
    "    ROUND(AVG(r.rating), 2) AS avg_rating,\n",
    "    COUNT(r.review_id) AS review_count\n",
    "FROM reviews r\n",
    "GROUP BY month\n",
    "ORDER BY month;\n",
    "\"\"\"\n",
    "result = con.execute(query).df()\n",
    "print(\"📅 Review Timeline (Feedback Trend):\")\n",
    "print(result.head())\n",
    "\n",
    "result_sentiment = con.execute(query_sentiment).df()\n",
    "print(\"📅 Review Timeline (Sentiment Trend):\")\n",
    "result_sentiment"
   ]
  },
  {
   "cell_type": "markdown",
   "id": "7a56fda2",
   "metadata": {},
   "source": [
    "### Question 5.3: Popular Features Analysis (4 points)\n",
    "\n",
    "**Board Question:** *\"What product features (tags) resonate most with customers? This drives our product strategy.\"*\n",
    "\n",
    "**Requirements:**\n",
    "- Count how often each tag appears\n",
    "- Show tag and product count\n",
    "- Order by frequency DESC\n",
    "- Show top 10 tags"
   ]
  },
  {
   "cell_type": "code",
   "execution_count": 21,
   "id": "78ec0a32",
   "metadata": {},
   "outputs": [
    {
     "name": "stdout",
     "output_type": "stream",
     "text": [
      "🧩 Popular Product Features (Tags):\n",
      "               tag  product_count  categories_appearing  avg_rating\n",
      "0    personal care              3                     1        4.33\n",
      "1  women's watches              3                     1        4.33\n",
      "2           realme              3                     1        4.11\n",
      "3            apple              5                     2        4.07\n",
      "4         perfumes              5                     1        3.93\n",
      "5         vehicles              5                     1        3.93\n",
      "6       fragrances              5                     1        3.93\n",
      "7        beverages              4                     1        3.92\n",
      "8         footwear             10                     2        3.90\n",
      "9             oppo              3                     1        3.89\n"
     ]
    }
   ],
   "source": [
    "# SQL – Popular Features (Tags)\n",
    "query = \"\"\"\n",
    "SELECT\n",
    "    t.tag,\n",
    "    COUNT(DISTINCT p.id) AS product_count,\n",
    "    COUNT(DISTINCT p.category) AS categories_appearing,\n",
    "    ROUND(AVG(r.rating), 2) AS avg_rating\n",
    "FROM product_tags t\n",
    "JOIN products p ON t.product_id = p.id\n",
    "JOIN reviews r ON p.id = r.product_id\n",
    "GROUP BY t.tag\n",
    "HAVING product_count >= 3\n",
    "ORDER BY avg_rating DESC, product_count DESC\n",
    "LIMIT 10;\n",
    "\"\"\"\n",
    "result = con.execute(query).df()\n",
    "print(\"🧩 Popular Product Features (Tags):\")\n",
    "print(result)\n"
   ]
  },
  {
   "cell_type": "markdown",
   "id": "5fed0fc9",
   "metadata": {},
   "source": [
    "---\n",
    "\n",
    "## Part 6: Data Dictionary (5 points)\n",
    "\n",
    "**Context:** The Integration Team Lead says: *\"50 developers start migrating QuickBuy's systems tomorrow. They need clear documentation of your schema!\"*\n",
    "\n",
    "Create a comprehensive data dictionary for all tables."
   ]
  },
  {
   "cell_type": "code",
   "execution_count": 22,
   "id": "1162bf0b",
   "metadata": {},
   "outputs": [
    {
     "name": "stdout",
     "output_type": "stream",
     "text": [
      "📚 Data Dictionary for Integration Team:\n",
      "==================================================\n",
      "Total tables: 3\n",
      "Total columns documented: 21\n",
      "\n",
      "Sample entries:\n"
     ]
    },
    {
     "data": {
      "application/vnd.microsoft.datawrangler.viewer.v0+json": {
       "columns": [
        {
         "name": "index",
         "rawType": "int64",
         "type": "integer"
        },
        {
         "name": "Table",
         "rawType": "object",
         "type": "string"
        },
        {
         "name": "Column",
         "rawType": "object",
         "type": "string"
        },
        {
         "name": "Type",
         "rawType": "object",
         "type": "string"
        },
        {
         "name": "Description",
         "rawType": "object",
         "type": "string"
        },
        {
         "name": "Example",
         "rawType": "object",
         "type": "string"
        }
       ],
       "ref": "189b06f1-6c35-494c-ae41-cecad4b69b35",
       "rows": [
        [
         "0",
         "products",
         "id",
         "INTEGER",
         "Unique product identifier (PK)",
         "1"
        ],
        [
         "1",
         "products",
         "title",
         "VARCHAR",
         "Product name",
         "Essence Mascara"
        ],
        [
         "2",
         "products",
         "price",
         "FLOAT",
         "Unit price in USD",
         "9.99"
        ],
        [
         "3",
         "products",
         "stock",
         "INTEGER",
         "Units available in inventory",
         "120"
        ],
        [
         "4",
         "products",
         "category",
         "VARCHAR",
         "Product category",
         "beauty"
        ],
        [
         "5",
         "products",
         "width",
         "FLOAT",
         "Width (cm)",
         "23.17"
        ],
        [
         "6",
         "products",
         "height",
         "FLOAT",
         "Height (cm)",
         "14.43"
        ],
        [
         "7",
         "products",
         "depth",
         "FLOAT",
         "Depth (cm)",
         "28.01"
        ],
        [
         "8",
         "products",
         "created_at",
         "DATETIME",
         "Creation timestamp",
         "2024-05-23T08:56:21.618Z"
        ],
        [
         "9",
         "products",
         "updated_at",
         "DATETIME",
         "Last update timestamp",
         "2024-05-23T08:56:21.618Z"
        ]
       ],
       "shape": {
        "columns": 5,
        "rows": 10
       }
      },
      "text/html": [
       "<div>\n",
       "<style scoped>\n",
       "    .dataframe tbody tr th:only-of-type {\n",
       "        vertical-align: middle;\n",
       "    }\n",
       "\n",
       "    .dataframe tbody tr th {\n",
       "        vertical-align: top;\n",
       "    }\n",
       "\n",
       "    .dataframe thead th {\n",
       "        text-align: right;\n",
       "    }\n",
       "</style>\n",
       "<table border=\"1\" class=\"dataframe\">\n",
       "  <thead>\n",
       "    <tr style=\"text-align: right;\">\n",
       "      <th></th>\n",
       "      <th>Table</th>\n",
       "      <th>Column</th>\n",
       "      <th>Type</th>\n",
       "      <th>Description</th>\n",
       "      <th>Example</th>\n",
       "    </tr>\n",
       "  </thead>\n",
       "  <tbody>\n",
       "    <tr>\n",
       "      <th>0</th>\n",
       "      <td>products</td>\n",
       "      <td>id</td>\n",
       "      <td>INTEGER</td>\n",
       "      <td>Unique product identifier (PK)</td>\n",
       "      <td>1</td>\n",
       "    </tr>\n",
       "    <tr>\n",
       "      <th>1</th>\n",
       "      <td>products</td>\n",
       "      <td>title</td>\n",
       "      <td>VARCHAR</td>\n",
       "      <td>Product name</td>\n",
       "      <td>Essence Mascara</td>\n",
       "    </tr>\n",
       "    <tr>\n",
       "      <th>2</th>\n",
       "      <td>products</td>\n",
       "      <td>price</td>\n",
       "      <td>FLOAT</td>\n",
       "      <td>Unit price in USD</td>\n",
       "      <td>9.99</td>\n",
       "    </tr>\n",
       "    <tr>\n",
       "      <th>3</th>\n",
       "      <td>products</td>\n",
       "      <td>stock</td>\n",
       "      <td>INTEGER</td>\n",
       "      <td>Units available in inventory</td>\n",
       "      <td>120</td>\n",
       "    </tr>\n",
       "    <tr>\n",
       "      <th>4</th>\n",
       "      <td>products</td>\n",
       "      <td>category</td>\n",
       "      <td>VARCHAR</td>\n",
       "      <td>Product category</td>\n",
       "      <td>beauty</td>\n",
       "    </tr>\n",
       "    <tr>\n",
       "      <th>5</th>\n",
       "      <td>products</td>\n",
       "      <td>width</td>\n",
       "      <td>FLOAT</td>\n",
       "      <td>Width (cm)</td>\n",
       "      <td>23.17</td>\n",
       "    </tr>\n",
       "    <tr>\n",
       "      <th>6</th>\n",
       "      <td>products</td>\n",
       "      <td>height</td>\n",
       "      <td>FLOAT</td>\n",
       "      <td>Height (cm)</td>\n",
       "      <td>14.43</td>\n",
       "    </tr>\n",
       "    <tr>\n",
       "      <th>7</th>\n",
       "      <td>products</td>\n",
       "      <td>depth</td>\n",
       "      <td>FLOAT</td>\n",
       "      <td>Depth (cm)</td>\n",
       "      <td>28.01</td>\n",
       "    </tr>\n",
       "    <tr>\n",
       "      <th>8</th>\n",
       "      <td>products</td>\n",
       "      <td>created_at</td>\n",
       "      <td>DATETIME</td>\n",
       "      <td>Creation timestamp</td>\n",
       "      <td>2024-05-23T08:56:21.618Z</td>\n",
       "    </tr>\n",
       "    <tr>\n",
       "      <th>9</th>\n",
       "      <td>products</td>\n",
       "      <td>updated_at</td>\n",
       "      <td>DATETIME</td>\n",
       "      <td>Last update timestamp</td>\n",
       "      <td>2024-05-23T08:56:21.618Z</td>\n",
       "    </tr>\n",
       "  </tbody>\n",
       "</table>\n",
       "</div>"
      ],
      "text/plain": [
       "      Table      Column      Type                     Description  \\\n",
       "0  products          id   INTEGER  Unique product identifier (PK)   \n",
       "1  products       title   VARCHAR                    Product name   \n",
       "2  products       price     FLOAT               Unit price in USD   \n",
       "3  products       stock   INTEGER    Units available in inventory   \n",
       "4  products    category   VARCHAR                Product category   \n",
       "5  products       width     FLOAT                      Width (cm)   \n",
       "6  products      height     FLOAT                     Height (cm)   \n",
       "7  products       depth     FLOAT                      Depth (cm)   \n",
       "8  products  created_at  DATETIME              Creation timestamp   \n",
       "9  products  updated_at  DATETIME           Last update timestamp   \n",
       "\n",
       "                    Example  \n",
       "0                         1  \n",
       "1           Essence Mascara  \n",
       "2                      9.99  \n",
       "3                       120  \n",
       "4                    beauty  \n",
       "5                     23.17  \n",
       "6                     14.43  \n",
       "7                     28.01  \n",
       "8  2024-05-23T08:56:21.618Z  \n",
       "9  2024-05-23T08:56:21.618Z  "
      ]
     },
     "execution_count": 22,
     "metadata": {},
     "output_type": "execute_result"
    }
   ],
   "source": [
    "# TODO: Create data dictionary\n",
    "data_dictionary = pd.DataFrame([\n",
    "    # Products table\n",
    "    {'Table': 'products', 'Column': 'id', 'Type': 'INTEGER', 'Description': 'Unique product identifier (PK)', 'Example': '1'},\n",
    "    {'Table': 'products', 'Column': 'title', 'Type': 'VARCHAR', 'Description': 'Product name', 'Example': 'Essence Mascara'},\n",
    "    # TODO: Add all other product columns\n",
    "    {'Table': 'products', 'Column': 'price', 'Type': 'FLOAT', 'Description': 'Unit price in USD', 'Example': '9.99'},\n",
    "    {'Table': 'products', 'Column': 'stock', 'Type': 'INTEGER', 'Description': 'Units available in inventory', 'Example': '120'},\n",
    "    {'Table': 'products', 'Column': 'category', 'Type': 'VARCHAR', 'Description': 'Product category', 'Example': 'beauty'},\n",
    "    {'Table': 'products', 'Column': 'width', 'Type': 'FLOAT', 'Description': 'Width (cm)', 'Example': '23.17'},\n",
    "    {'Table': 'products', 'Column': 'height', 'Type': 'FLOAT', 'Description': 'Height (cm)', 'Example': '14.43'},\n",
    "    {'Table': 'products', 'Column': 'depth', 'Type': 'FLOAT', 'Description': 'Depth (cm)', 'Example': '28.01'},\n",
    "    {'Table': 'products', 'Column': 'created_at', 'Type': 'DATETIME', 'Description': 'Creation timestamp', 'Example': '2024-05-23T08:56:21.618Z'},\n",
    "    {'Table': 'products', 'Column': 'updated_at', 'Type': 'DATETIME', 'Description': 'Last update timestamp', 'Example': '2024-05-23T08:56:21.618Z'},\n",
    "    {'Table': 'products', 'Column': 'barcode', 'Type': 'VARCHAR', 'Description': 'Product barcode', 'Example': '9164035109868'},\n",
    "    {'Table': 'products', 'Column': 'qr_code', 'Type': 'VARCHAR', 'Description': 'Optional QR code', 'Example': 'N/A'},\n",
    "\n",
    "    \n",
    "    # Reviews table\n",
    "    {'Table': 'reviews', 'Column': 'review_id', 'Type': 'INTEGER', 'Description': 'Unique review identifier (PK)', 'Example': '1'},\n",
    "    # TODO: Add all other review columns\n",
    "    {'Table': 'reviews', 'Column': 'product_id', 'Type': 'INTEGER', 'Description': 'Foreign key reference to product', 'Example': '12'},\n",
    "    {'Table': 'reviews', 'Column': 'rating', 'Type': 'INTEGER', 'Description': 'Customer rating (1–5)', 'Example': '5'},\n",
    "    {'Table': 'reviews', 'Column': 'comment', 'Type': 'TEXT', 'Description': 'Customer comment text', 'Example': 'Great quality!'},\n",
    "    {'Table': 'reviews', 'Column': 'date', 'Type': 'DATETIME', 'Description': 'Review date', 'Example': '2024-05-23T08:56:21.618Z'},\n",
    "    {'Table': 'reviews', 'Column': 'reviewer_name', 'Type': 'VARCHAR', 'Description': 'Reviewer name', 'Example': 'John Doe'},\n",
    "    {'Table': 'reviews', 'Column': 'reviewer_email', 'Type': 'VARCHAR', 'Description': 'Reviewer email', 'Example': 'john.doe@x.dummyjson.com'},\n",
    "\n",
    "    \n",
    "    # Product_tags table\n",
    "    {'Table': 'product_tags', 'Column': 'product_id', 'Type': 'INTEGER', 'Description': 'Product identifier (FK)', 'Example': '1'},\n",
    "    {'Table': 'product_tags', 'Column': 'tag', 'Type': 'VARCHAR', 'Description': 'Product feature tag', 'Example': 'electronics'},\n",
    "])\n",
    "\n",
    "print(\"📚 Data Dictionary for Integration Team:\")\n",
    "print(\"=\" * 50)\n",
    "print(f\"Total tables: 3\")\n",
    "print(f\"Total columns documented: {len(data_dictionary)}\")\n",
    "print(\"\\nSample entries:\")\n",
    "data_dictionary.head(10)"
   ]
  },
  {
   "cell_type": "markdown",
   "id": "c86f4f93",
   "metadata": {},
   "source": [
    "---\n",
    "## Executive Summary\n",
    "\n",
    "**TODO: Write a 3-4 sentence summary for the board meeting**\n",
    "\n",
    "Include:\n",
    "- Total data processed (products, reviews)\n",
    "- Key insight about categories or satisfaction\n",
    "- Your recommendation for the integration\n",
    "- Any risks or concerns\n",
    "\n",
    "[Your executive summary here]\n",
    "\n",
    "As of now, we have successfully integrated QuickBuy’s complete catalog (194 products, 24 categories, 582 reviews) into our analytics warehouse with clean normalization and zero data loss. Category analysis highlights skin-care (4.33), tops (4.20), and womens-shoes (4.13) as clear leaders, while vehicle and fragrances (~3.93) underperform. \n",
    "\n",
    "- Customer satisfaction is solid overall (average rating ≈ 3.7), with skin-care, tops, and women’s-shoes emerging as the highest-rated categories.\n",
    "- Lower-performing lines such as vehicle and fragrance show limited potential and could be reduced to free resources for stronger segments.\n",
    "- High-engagement products, particularly affordable kitchen tools and premium tech, should anchor upcoming marketing campaigns.\n",
    "- Since all reviews fall within a single month, we can’t yet measure sentiment trends, but the snapshot shows stable performance and low integration risk.\n",
    "\n",
    "> **Recommendation**: proceed with integration at pace while monitoring ongoing customer feedback to guide future product and marketing decisions.\n",
    "----"
   ]
  },
  {
   "cell_type": "markdown",
   "id": "6e99c715",
   "metadata": {},
   "source": [
    "---\n",
    "\n",
    "## Submission Checklist\n",
    "\n",
    "Before submitting, verify:\n",
    "\n",
    "- [ ] All TODO sections completed\n",
    "- [ ] All assertions pass (no errors)\n",
    "- [ ] Three tables created: products (100 rows), reviews (~300 rows), product_tags (~250 rows)\n",
    "- [ ] All SQL queries return results\n",
    "- [ ] Data dictionary has all columns documented\n",
    "- [ ] Business insights included throughout\n",
    "- [ ] Executive summary written\n",
    "- [ ] **CRITICAL:** Kernel → Restart & Run All Cells (no errors)\n",
    "- [ ] File renamed to `hw2_[your_name].ipynb`\n",
    "\n",
    "---\n",
    "\n",
    "## Reflection (Optional but Recommended)\n",
    "\n",
    "**What was the most challenging part of this integration?**\n",
    "\n",
    "[Your answer here]\n",
    "\n",
    "**What insight would be most valuable for the board?**\n",
    "\n",
    "[Your answer here]\n",
    "\n",
    "**How would you improve QuickBuy's data quality?**\n",
    "\n",
    "[Your answer here]\n",
    "\n",
    "---\n",
    "\n",
    "**🎉 Great work, analyst!** You've successfully transformed QuickBuy's data for tomorrow's board meeting. The $2.5M decision rests on your analysis. The executives will be impressed!"
   ]
  }
 ],
 "metadata": {
  "kernelspec": {
   "display_name": "Python (my_env)",
   "language": "python",
   "name": "my_env"
  },
  "language_info": {
   "codemirror_mode": {
    "name": "ipython",
    "version": 3
   },
   "file_extension": ".py",
   "mimetype": "text/x-python",
   "name": "python",
   "nbconvert_exporter": "python",
   "pygments_lexer": "ipython3",
   "version": "3.13.7"
  }
 },
 "nbformat": 4,
 "nbformat_minor": 5
}
